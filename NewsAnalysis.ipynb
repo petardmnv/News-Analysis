{
 "cells": [
  {
   "cell_type": "markdown",
   "metadata": {},
   "source": [
    "# News Analysis\n",
    "## Natural Language Processing, Data Processing and Web Scraping.\n",
    "Author:[Peter Damyanov](https://github.com/petardmnv)"
   ]
  },
  {
   "cell_type": "markdown",
   "metadata": {},
   "source": [
    "###### Imports"
   ]
  },
  {
   "cell_type": "code",
   "execution_count": 1,
   "metadata": {},
   "outputs": [
    {
     "name": "stdout",
     "output_type": "stream",
     "text": [
      "Requirement already satisfied: sumy in /home/petar/anaconda3/lib/python3.8/site-packages (0.8.1)\n",
      "Requirement already satisfied: breadability>=0.1.20 in /home/petar/anaconda3/lib/python3.8/site-packages (from sumy) (0.1.20)\n",
      "Requirement already satisfied: docopt<0.7,>=0.6.1 in /home/petar/anaconda3/lib/python3.8/site-packages (from sumy) (0.6.2)\n",
      "Requirement already satisfied: nltk>=3.0.2 in /home/petar/anaconda3/lib/python3.8/site-packages (from sumy) (3.5)\n",
      "Requirement already satisfied: pycountry>=18.2.23 in /home/petar/anaconda3/lib/python3.8/site-packages (from sumy) (20.7.3)\n",
      "Requirement already satisfied: requests>=2.7.0 in /home/petar/anaconda3/lib/python3.8/site-packages (from sumy) (2.24.0)\n",
      "Requirement already satisfied: lxml>=2.0 in /home/petar/anaconda3/lib/python3.8/site-packages (from breadability>=0.1.20->sumy) (4.6.1)\n",
      "Requirement already satisfied: chardet in /home/petar/anaconda3/lib/python3.8/site-packages (from breadability>=0.1.20->sumy) (3.0.4)\n",
      "Requirement already satisfied: regex in /home/petar/anaconda3/lib/python3.8/site-packages (from nltk>=3.0.2->sumy) (2020.10.15)\n",
      "Requirement already satisfied: click in /home/petar/anaconda3/lib/python3.8/site-packages (from nltk>=3.0.2->sumy) (7.1.2)\n",
      "Requirement already satisfied: joblib in /home/petar/anaconda3/lib/python3.8/site-packages (from nltk>=3.0.2->sumy) (0.17.0)\n",
      "Requirement already satisfied: tqdm in /home/petar/anaconda3/lib/python3.8/site-packages (from nltk>=3.0.2->sumy) (4.50.2)\n",
      "Requirement already satisfied: urllib3!=1.25.0,!=1.25.1,<1.26,>=1.21.1 in /home/petar/anaconda3/lib/python3.8/site-packages (from requests>=2.7.0->sumy) (1.25.11)\n",
      "Requirement already satisfied: certifi>=2017.4.17 in /home/petar/anaconda3/lib/python3.8/site-packages (from requests>=2.7.0->sumy) (2020.6.20)\n",
      "Requirement already satisfied: idna<3,>=2.5 in /home/petar/anaconda3/lib/python3.8/site-packages (from requests>=2.7.0->sumy) (2.10)\n"
     ]
    }
   ],
   "source": [
    "import numpy as np\n",
    "import pandas as pd\n",
    "import matplotlib.pyplot as plt\n",
    "\n",
    "import requests\n",
    "\n",
    "from bs4 import BeautifulSoup\n",
    "\n",
    "import re\n",
    "import random\n",
    "\n",
    "import nltk\n",
    "from nltk.corpus import stopwords\n",
    "from nltk import word_tokenize\n",
    "from nltk.tokenize import WordPunctTokenizer, sent_tokenize\n",
    "from nltk.stem import PorterStemmer,  WordNetLemmatizer\n",
    "#nltk.download()\n",
    "#from nltk.book import *\n",
    "from datetime import datetime\n",
    "\n",
    "import collections\n",
    "\n",
    "import scipy.stats as sp\n",
    "\n",
    "!pip install sumy\n",
    "from sumy.summarizers.lex_rank import LexRankSummarizer\n",
    "from sumy.parsers.plaintext import PlaintextParser\n",
    "from sumy.nlp.tokenizers import Tokenizer"
   ]
  },
  {
   "cell_type": "markdown",
   "metadata": {},
   "source": [
    "### Research objective"
   ]
  },
  {
   "cell_type": "markdown",
   "metadata": {},
   "source": [
    "There is an enormous amount of textual material, and it is only growing every single day. Think of the internet, comprised of web pages, news articles, status updates, blogs and so much more. The data is unstructured and the best that we can do to navigate it is to use search and skim the results. There is a great need to reduce much of this text data to shorter, focused summaries that capture the salient details, both so we can navigate it more effectively as well as check whether the larger documents contain the information that we are looking for. Today we live in a fast-paced world where every minute counts, and if we can save time from somewhere, why not save time while reading. In Data Science world, specialists are talking more and more about techniques to analyze text, this field, as already mentioned, is called Natural Language Processing. The summarization process, one of the goals that can be achieved, is extremely useful. Automatic text summarization, or just text summarization, is the process of creating a short and coherent version of a longer document. There are many reasons and uses for a summary of a larger document. One example that might come readily to mind is to create a concise summary of a long news article.\n",
    "The research objective is to try to implement an algorithm that summarizes news to save some time while reading news."
   ]
  },
  {
   "cell_type": "markdown",
   "metadata": {},
   "source": [
    "### Abstract"
   ]
  },
  {
   "cell_type": "markdown",
   "metadata": {},
   "source": [
    "Clear the path leading to the goal:\n",
    "\n",
    "    1. Get news data: \n",
    "        To get news data we have to ways to act. First - we can get API from site and extract informatio in jason format. Problem with API's: There are not many choises and if you want to push json request inlimited times a day, you would have to pay for this servise. Most of free API's are not working correctly(content from articles are not full, could be corrupted and so on.). Second - we can web scrape the news from news sites and get information as string. Problems with web scraping: It is tricky to web scrape. You could get lost in the proccess. I choosed web scraping because, before that I was struggling  with API's.\n",
    "        \n",
    "    2. Store news data - After extracting the news data from these two sites [BBC](https://www.bbc.com/news/business) and [CNN](https://edition.cnn.com/business), I thpught that the best way to store the data is to convert everything to dataframe observations with features - date, news_type, headline and content\n",
    "    \n",
    "    3. Text Analysis - After gathering data and storing it in dataframe I had to perform text analysis. Firstable I cleared the text issues. Then removed stopwords from text and performed tokenization on the data into words. To perform summarization I needed to have dictionary with words and their frequencies. I made function that calculates score for every sentence. Score is established by adding every word frequency in the current sentence. Than I compared two different scores by their summarization results. Lastly I compared my summarization with one summarization method from the library sumy and plot results.\n",
    "    \n",
    "    4. Results: For every row in the dataframe you can perform summarization method and if you want you can print most frequent words and summarization performance compared to sumy summarization performance."
   ]
  },
  {
   "cell_type": "markdown",
   "metadata": {},
   "source": [
    "### Implementing methodology"
   ]
  },
  {
   "cell_type": "markdown",
   "metadata": {},
   "source": [
    "##### 1.Web Scraping"
   ]
  },
  {
   "cell_type": "markdown",
   "metadata": {},
   "source": [
    "Get the most popular business news from [CNN](https://edition.cnn.com/business) for the current day.\n",
    "Get the most popular business news from [BBC](https://www.bbc.com/news/business) for the current day.\n",
    "\n",
    "**Warning** Scraping two completely different sites is not easy and most of the code will be different. Ie we will not be able to use the functions we have for both sites, but the logic in functions will be almost the same."
   ]
  },
  {
   "cell_type": "code",
   "execution_count": 2,
   "metadata": {},
   "outputs": [],
   "source": [
    "cnn_link = 'https://edition.cnn.com/business'\n",
    "bbc_link = 'https://www.bbc.com/news/business'    "
   ]
  },
  {
   "cell_type": "code",
   "execution_count": 3,
   "metadata": {},
   "outputs": [],
   "source": [
    "#Get page content\n",
    "def get_page_content(link):\n",
    "    page = requests.get(link)\n",
    "    return page"
   ]
  },
  {
   "cell_type": "markdown",
   "metadata": {},
   "source": [
    "Secondly we are going to scrape this page, so we can access \"top news\" urls. To scrape the page we need BeautifulSoup object. "
   ]
  },
  {
   "cell_type": "code",
   "execution_count": 4,
   "metadata": {},
   "outputs": [],
   "source": [
    "def create_soup(page):\n",
    "    soup = BeautifulSoup(page.text, 'html.parser')\n",
    "    return soup"
   ]
  },
  {
   "cell_type": "markdown",
   "metadata": {},
   "source": [
    "There are duplicating links so we are going to create function which will remove duplicated links. The easiest way of doing that is to cast \"links\" to set, because set items are unordered, unchangeable, and do not allow duplicate values."
   ]
  },
  {
   "cell_type": "code",
   "execution_count": 5,
   "metadata": {},
   "outputs": [],
   "source": [
    "def clear_duplicate_links(links):\n",
    "    return list(set(links))"
   ]
  },
  {
   "cell_type": "markdown",
   "metadata": {},
   "source": [
    "ASDFFGASD"
   ]
  },
  {
   "cell_type": "code",
   "execution_count": 6,
   "metadata": {},
   "outputs": [],
   "source": [
    "def remove_usless_links(pat, links):\n",
    "    correct_links = []\n",
    "    for l in links:\n",
    "        obj = re.findall(pat, l)\n",
    "        if len(obj) > 0:\n",
    "            correct_links.append(obj[0])\n",
    "    return list(set(correct_links))"
   ]
  },
  {
   "cell_type": "markdown",
   "metadata": {},
   "source": [
    "Start with CNN"
   ]
  },
  {
   "cell_type": "markdown",
   "metadata": {},
   "source": [
    "Extact links from scraped data and clear duplicating, if there is such links."
   ]
  },
  {
   "cell_type": "code",
   "execution_count": 7,
   "metadata": {},
   "outputs": [],
   "source": [
    "def extract_cnn_links(link):\n",
    "    page = get_page_content(link)\n",
    "    soup = create_soup(page)\n",
    "    cnn_extracted_links = [l['href'] for l in soup.find('section').find(\"ul\").find_all('a')]\n",
    "    cnn_extracted_links = clear_duplicate_links(cnn_extracted_links)\n",
    "    # Use regex to be sure that there is no wrong link\n",
    "    pat = r\"/\\d{4}/\\d{2}/\\d{2}.*\"\n",
    "    cnn_extracted_links = remove_usless_links(pat, cnn_extracted_links)\n",
    "    return cnn_extracted_links"
   ]
  },
  {
   "cell_type": "markdown",
   "metadata": {},
   "source": [
    "Let's see extracted links from cnn."
   ]
  },
  {
   "cell_type": "code",
   "execution_count": 8,
   "metadata": {},
   "outputs": [
    {
     "data": {
      "text/plain": [
       "['/2021/08/12/tech/facebook-giphy-uk-cma/index.html',\n",
       " '/2021/08/12/business/bill-gates-infrastructure-bill-climate/index.html',\n",
       " '/2021/08/12/media/jeopardy-host-debacle/index.html',\n",
       " '/2021/08/12/tech/facebook-return-to-office-2022/index.html',\n",
       " '/2021/08/12/media/disney-earnings-q3-2021/index.html',\n",
       " '/2021/08/12/economy/july-inflation-producer-prices/index.html',\n",
       " '/2021/08/13/media/afghanistan-taliban-reliable-sources/index.html',\n",
       " '/2021/08/12/investing/premarket-stocks-trading/index.html',\n",
       " '/2021/08/12/business/field-of-dreams-ticket-prices/index.html',\n",
       " '/2021/08/13/mike-lindell-symposium-osullivan-pkg-ac360-vpx.cnn',\n",
       " '/2021/08/12/business/perfect-day-dairy-protein-hnk-intl-spc/index.html',\n",
       " '/2021/08/12/business/usps-increased-holiday-prices/index.html',\n",
       " '/2021/08/12/business/hbcu-recruitment-corporate-america/index.html']"
      ]
     },
     "execution_count": 8,
     "metadata": {},
     "output_type": "execute_result"
    }
   ],
   "source": [
    "extracted_cnn_links = extract_cnn_links(cnn_link)\n",
    "extracted_cnn_links"
   ]
  },
  {
   "cell_type": "markdown",
   "metadata": {},
   "source": [
    "As you can see we can get article type from it's link. So let's create function that gets the article type."
   ]
  },
  {
   "cell_type": "code",
   "execution_count": 9,
   "metadata": {},
   "outputs": [],
   "source": [
    "def get_cnn_news_type_from_link(links):\n",
    "    #link contains date of publishing than article type\n",
    "    #For example /2021/08/06/economy/july-jobs-report/index.html\n",
    "    # So we can remove first 12 characters and than get article type\n",
    "    cnn_news_types = []\n",
    "    for link in links:\n",
    "        link = link[12:]\n",
    "        # To determine the end ot article we will append to our variable character after character until we\n",
    "        # get to '/' \n",
    "        news_type = []\n",
    "        for c in link:\n",
    "            if c == '/':\n",
    "                break\n",
    "            news_type.append(c)\n",
    "        cnn_news_types.append(\"\".join(news_type))\n",
    "    return cnn_news_types"
   ]
  },
  {
   "cell_type": "code",
   "execution_count": 10,
   "metadata": {},
   "outputs": [
    {
     "data": {
      "text/plain": [
       "['tech',\n",
       " 'business',\n",
       " 'media',\n",
       " 'tech',\n",
       " 'media',\n",
       " 'economy',\n",
       " 'media',\n",
       " 'investing',\n",
       " 'business',\n",
       " 'mike-lindell-symposium-osullivan-pkg-ac360-vpx.cnn',\n",
       " 'business',\n",
       " 'business',\n",
       " 'business']"
      ]
     },
     "execution_count": 10,
     "metadata": {},
     "output_type": "execute_result"
    }
   ],
   "source": [
    "cnn_news_types = get_cnn_news_type_from_link(extracted_cnn_links)    \n",
    "cnn_news_types"
   ]
  },
  {
   "cell_type": "markdown",
   "metadata": {},
   "source": [
    "We can plot the results using bar chart to see the type of news that occurs most."
   ]
  },
  {
   "cell_type": "code",
   "execution_count": 11,
   "metadata": {},
   "outputs": [],
   "source": [
    "news_types_frequency = nltk.FreqDist(cnn_news_types)"
   ]
  },
  {
   "cell_type": "code",
   "execution_count": 12,
   "metadata": {},
   "outputs": [],
   "source": [
    "def plot_types_of_news(news_types_frequency):\n",
    "    plt.bar([t for t in news_types_frequency], [news_types_frequency[t] for t in news_types_frequency])\n",
    "\n",
    "    plt.xlabel(\"News Type\")\n",
    "    plt.ylabel(\"Count news\")\n",
    "    plt.xticks(rotation=45)\n",
    "    plt.show()"
   ]
  },
  {
   "cell_type": "code",
   "execution_count": 13,
   "metadata": {},
   "outputs": [
    {
     "data": {
      "image/png": "[encoded data removed]",
      "text/plain": [
       "<Figure size 432x288 with 1 Axes>"
      ]
     },
     "metadata": {
      "needs_background": "light"
     },
     "output_type": "display_data"
    }
   ],
   "source": [
    "plot_types_of_news(news_types_frequency)"
   ]
  },
  {
   "cell_type": "markdown",
   "metadata": {},
   "source": [
    "Then we want to know the date of current article. Again we can get it from article url."
   ]
  },
  {
   "cell_type": "code",
   "execution_count": 14,
   "metadata": {},
   "outputs": [],
   "source": [
    "def get_cnn_news_date(links):\n",
    "    cnn_news_timestamp = []\n",
    "    for link in links:\n",
    "        raw_date = link[1:11]\n",
    "        cnn_news_timestamp.append(raw_date.replace('/', '-'))\n",
    "    return cnn_news_timestamp"
   ]
  },
  {
   "cell_type": "code",
   "execution_count": 15,
   "metadata": {
    "scrolled": false
   },
   "outputs": [
    {
     "data": {
      "text/plain": [
       "['2021-08-12',\n",
       " '2021-08-12',\n",
       " '2021-08-12',\n",
       " '2021-08-12',\n",
       " '2021-08-12',\n",
       " '2021-08-12',\n",
       " '2021-08-13',\n",
       " '2021-08-12',\n",
       " '2021-08-12',\n",
       " '2021-08-13',\n",
       " '2021-08-12',\n",
       " '2021-08-12',\n",
       " '2021-08-12']"
      ]
     },
     "execution_count": 15,
     "metadata": {},
     "output_type": "execute_result"
    }
   ],
   "source": [
    "cnn_news_timestamp = get_cnn_news_date(extracted_cnn_links)\n",
    "cnn_news_timestamp"
   ]
  },
  {
   "cell_type": "markdown",
   "metadata": {},
   "source": [
    "Add domain to our links."
   ]
  },
  {
   "cell_type": "code",
   "execution_count": 16,
   "metadata": {},
   "outputs": [],
   "source": [
    "def cnn_news_add_domain(domain, links):\n",
    "    for i in range(len(links)):\n",
    "        links[i] = domain+links[i]"
   ]
  },
  {
   "cell_type": "code",
   "execution_count": 17,
   "metadata": {
    "scrolled": true
   },
   "outputs": [
    {
     "data": {
      "text/plain": [
       "['https://edition.cnn.com/2021/08/12/tech/facebook-giphy-uk-cma/index.html',\n",
       " 'https://edition.cnn.com/2021/08/12/business/bill-gates-infrastructure-bill-climate/index.html',\n",
       " 'https://edition.cnn.com/2021/08/12/media/jeopardy-host-debacle/index.html',\n",
       " 'https://edition.cnn.com/2021/08/12/tech/facebook-return-to-office-2022/index.html',\n",
       " 'https://edition.cnn.com/2021/08/12/media/disney-earnings-q3-2021/index.html',\n",
       " 'https://edition.cnn.com/2021/08/12/economy/july-inflation-producer-prices/index.html',\n",
       " 'https://edition.cnn.com/2021/08/13/media/afghanistan-taliban-reliable-sources/index.html',\n",
       " 'https://edition.cnn.com/2021/08/12/investing/premarket-stocks-trading/index.html',\n",
       " 'https://edition.cnn.com/2021/08/12/business/field-of-dreams-ticket-prices/index.html',\n",
       " 'https://edition.cnn.com/2021/08/13/mike-lindell-symposium-osullivan-pkg-ac360-vpx.cnn',\n",
       " 'https://edition.cnn.com/2021/08/12/business/perfect-day-dairy-protein-hnk-intl-spc/index.html',\n",
       " 'https://edition.cnn.com/2021/08/12/business/usps-increased-holiday-prices/index.html',\n",
       " 'https://edition.cnn.com/2021/08/12/business/hbcu-recruitment-corporate-america/index.html']"
      ]
     },
     "execution_count": 17,
     "metadata": {},
     "output_type": "execute_result"
    }
   ],
   "source": [
    "domain = 'https://edition.cnn.com'\n",
    "cnn_news_add_domain(domain, extracted_cnn_links)\n",
    "extracted_cnn_links"
   ]
  },
  {
   "cell_type": "markdown",
   "metadata": {},
   "source": [
    "With proper links we can now extract articles headlines."
   ]
  },
  {
   "cell_type": "code",
   "execution_count": 18,
   "metadata": {},
   "outputs": [],
   "source": [
    "def get_cnn_news_headlines(links):\n",
    "    cnn_news_headlines = []\n",
    "    for link in links:\n",
    "        page = get_page_content(link)\n",
    "        soup = create_soup(page)\n",
    "        cnn_news_headlines.append(soup.find('h1').text)\n",
    "    return cnn_news_headlines"
   ]
  },
  {
   "cell_type": "code",
   "execution_count": 19,
   "metadata": {
    "scrolled": false
   },
   "outputs": [
    {
     "data": {
      "text/plain": [
       "['Facebook could be forced to sell off GIF platform Giphy in response to UK regulators',\n",
       " 'Bill Gates pledges $1.5 billion to climate projects in the infrastructure bill',\n",
       " \"How 'Jeopardy!' got the host decision so, so wrong\",\n",
       " 'Facebook pushes its office reopening to 2022',\n",
       " 'Disney earnings exceed expectations as parks reopen and Disney+ grows',\n",
       " 'Key inflation measure hits new record high — yet again',\n",
       " \"Reporters describe 'palpable fear' in Afghanistan as Taliban continues to sweep across the country\",\n",
       " 'Inflation is spreading to more parts of the US economy',\n",
       " \"If you build it, they will pay: 'Field of Dreams' tickets cost $1,400\",\n",
       " 'Uh-oh!',\n",
       " \"This startup is creating 'real' dairy, without cows\",\n",
       " 'USPS wants to charge you peak shipping fees this holiday season',\n",
       " 'Major companies are recruiting more HBCU grads than ever before, administrators say']"
      ]
     },
     "execution_count": 19,
     "metadata": {},
     "output_type": "execute_result"
    }
   ],
   "source": [
    "cnn_news_headlines = get_cnn_news_headlines(extracted_cnn_links)\n",
    "cnn_news_headlines"
   ]
  },
  {
   "cell_type": "markdown",
   "metadata": {},
   "source": [
    "Get articless content scraping."
   ]
  },
  {
   "cell_type": "code",
   "execution_count": 20,
   "metadata": {},
   "outputs": [],
   "source": [
    "def get_cnn_news_articles_content(links):\n",
    "    cnn_news_articles_content = []\n",
    "    for link in links:\n",
    "        page = get_page_content(link)\n",
    "        soup = create_soup(page)\n",
    "        text = \"\".join([l.text for l in soup.findAll('div', {\"class\": \"zn-body__paragraph\"})])\n",
    "        cnn_news_articles_content.append(text)\n",
    "    return cnn_news_articles_content"
   ]
  },
  {
   "cell_type": "code",
   "execution_count": 21,
   "metadata": {
    "scrolled": true
   },
   "outputs": [
    {
     "data": {
      "text/plain": [
       "['Facebook (FB) could soon be required to spin off Giphy in response to concerns by UK regulators, and give up control of that company\\'s massive library of GIFs — the animated images used by millions to express emotions and reactions across the internet. UK antitrust regulators said Thursday that the acquisition, which Facebook announced last year, risks reducing competition in advertising and social media.In a provisional finding, the UK\\'s Competition and Markets Authority (CMA) said Facebook\\'s control over Giphy could allow it to cut off other social media sites\\' access to Giphy\\'s images. Giphy\\'s services currently integrate with services like Twitter, Snapchat, iMessage and Slack. The finding is a blow to Facebook\\'s global aspirations amid intense antitrust scrutiny by governments around the world, and a potential red flag for other Big Tech companies pursuing acquisitions in this regulatory climate.While far from the largest deal Facebook has ever done, the Giphy acquisition — reportedly for $400 million — could be the company\\'s first high-profile deal to be unwound by government officials since Facebook began confronting questions about its powerful position in digital markets several years ago. And it shows how closely officials are watching Facebook\\'s every move.In a statement, a Facebook spokesperson said the company disagrees with the finding and that it lacks evidence. \"This merger is in the best interest of people and businesses in the UK — and around the world — who use Giphy and our services,\" the spokesperson said. \"We will continue to work with the CMA to address the misconception that the deal harms competition.\"In its initial announcement of the deal, Facebook had vowed to grant third parties the same level of access to Giphy\\'s content as before. Less than a month after the acquisition was announced, however, the CMA said it was looking into it. The CMA said Thursday that Giphy had been planning to expand its growing advertising business to the UK before the Facebook acquisition, a move that could have given UK brands a new way to promote themselves and provided a direct challenger to Facebook in the advertising market. \"However, Facebook terminated Giphy\\'s paid advertising partnerships following the deal, meaning an important source of potential competition has been lost,\" the CMA said in a blog post. A related document by the agency said that only a full spin-off of Giphy from Facebook would be enough to correct the harms to competition. \"A full divestiture of Giphy would represent a comprehensive and effective remedy,\" the agency said. \"At this point we have not identified any smaller divestiture package that would be similarly effective.\"The CMA is soliciting public feedback on its investigation and proposed remedy and is expected to issue a final decision by Oct. 6.',\n",
       " 'The $1.2 trillion bipartisan infrastructure bill — which still needs to be passed by the House — has more than $100 billion dedicated to addressing climate change, from sweeping programs that address extreme weather to electric school buses. Part of this is $25 billion in funding to the DOE for demonstration projects via public-private partnerships, which will include Breakthrough Energy Catalyst. The Wall Street Journal first reported the donations.Breakthrough Energy\\'s Catalyst program hopes to accumulate up to $15 billion to fund \"climate smart technologies\" through public and private financing across different industries. Gates has frequently stated the ultimate goal is to reach a net-zero carbon emission economy by 2050. The DOE-sponsored projects that Catalyst will help to fast track include sustainable aviation fuel and green hydrogen, which could provide power without fossil fuels. Other projects direct air capture, which would capture carbon dioxide straight from the atmosphere, and long-duration energy storage. \"Avoiding a climate disaster will require a new industrial revolution. We need to make the technologies and products that don\\'t cause emissions as cheap as those that do, reducing what I call Green Premiums, so the whole world can afford them and reach our climate goals,\" Gates said in a statement, adding that a public-private partnership will speed up the deployment of these technologies.Scott Sklar, the energy director of George Washington University\\'s Environment & Energy Management Institute, said that though public-private partnerships for the climate were ongoing and common, he hasn\\'t seen one of this scale. \"Gates is gambling a little bit,\" Sklar said. \"As many leaders are saying, we need to accelerate technology adoption if we\\'re going to meet some of these climate goals and it\\'s going to take some risks.\"Jonah Goldman, the managing director for Breakthrough Energy, said that the partnership allows flexibility on both sides to scale large, complex solutions to carbon-free emissions. \"There\\'s nothing binary about climate, the solution is completely reinstituting a foundation for our modern lifestyle,\" Goldman said. Gates has collaborated with the public sector before. In June, Breakthrough Energy Catalyst and the European Commission announced a partnership to boost investments in critical climate technologies that will enable a net-zero economy.-- CNN\\'s Katie Lobosco and Tami Luhby contributed to this report.',\n",
       " 'In perhaps the most uninspired choice in game show history, \"Jeopardy!\" announced it is replacing legendary host Alex Trebek with two successors: a guy few people have heard of, and an actress who has expressed some questionable opinions about vaccines.It\\'s hard to imagine a more disappointing outcome for a show that\\'s been a tentpole on the air for the better part of four decades.The genius of \"Jeopardy!\" has always been its relatively low-stakes, politically neutral format that let viewers at home play along — it was a place for Republican dads and their Democratic daughters to have it out over trivia instead of the election. It\\'s fun for the whole family!Even those cringe-y personal anecdotes told between blocks reminded viewers that the people on TV weren\\'t special — they\\'re regular, boring nerds just like you. It had been a bittersweet year for the show and its fans. After Trebek\\'s death late last year, 2021 began with superstar player Ken Jennings as the first in a guest-host merry-go-round. There were plenty of highlights along the way (Anderson Cooper and Aaron Rodgers) and low-lights (Dr. Oz). Millennial fans unequivocally championed LeVar Burton, the man who stoked our intellectual curiosity as children, imploring us that we can be anything — just take a look, it\\'s in a book — on the \"Reading Rainbow.\" At the very least, fans felt they deserved a fair and transparent process. Instead, we got Mike Richards, the executive producer of the show, stepping in for Trebek day-to-day. Mayim Bialik, the second host, will lead a spinoff series and some prime-time specials — a setup that I can\\'t help but see as one in which the woman, the gender diversity hire, is asked to play second fiddle to the leading man.The whole thing feels reminiscent of the 2000 presidential campaign when Dick Cheney, tasked with finding a VP running mate for George W. Bush, announced he\\'d found just the guy: himself. (Richards and the team over at \"Jeopardy!\" maintain that Richards, who fared well in his tryout as host, had no part in the process.)Richards\\' selection is problematic for a few reasons.You\\'d think that, in 2021, the show would carefully vet each candidate and avoid any unsavory scandals. But as soon as Richards\\' name was floated as a frontrunner last week, a backlash ensued. Fans were quick to point out the appearance of a conflict of interest — I\\'m certainly not the first to make the Dick Cheney comparison. And Richards has also faced allegations of discrimination and harassment from a decade ago, when he was the executive producer of \"The Price Is Right.\" A lawsuit, which was filed by a model on the game show in 2010, was settled in 2016.Richards has maintained the choice of successor was never his to make, and he said he was humbled at being considered. He also addressed the reports about his \"Price Is Right\" days: \"These were allegations made in employment disputes against the show... The way in which my comments and actions have been characterized in these complaints does not reflect the reality of who I am...\" Then there\\'s Bialik, the actress and neuroscientist known for her roles in \"Blossom\" and \"The Big Bang Theory.\" Bialik has had her own controversies over the years — she\\'s been accused of being an anti-vaxxer, though she recently sought to clarify past statements, saying she did receive the Covid-19 vaccine. She also apologized in 2017 for an op-ed in the New York Times that suggested conservative clothing and modesty could help prevent women in Hollywood from being sexually assaulted. No one\\'s perfect, certainly, but in the social media age it\\'s confounding that \"Jeopardy!\" seems to have failed to anticipate any of this backlash. Or if they did anticipate it, they didn\\'t care — and I honestly can\\'t decide which is more offensive. There are probably plenty of people out there saying, \"What\\'s the big deal? It\\'s just a game show.\" And that\\'s true. But \"Jeopardy!\" isn\\'t like other game shows, because it was built by Trebek, who imbued it with a nerdy authority. In an era where few public intellectuals ever become household names, Trebek — with his esoteric air, his exacting pronunciation and stringent adherence to the rules — became a pop culture icon.That\\'s why the optics here matter as much as any of the contenders\\' ability to call out category titles and read clues. The daily \"Jeopardy!\" host embodies knowledge itself —\\xa0he (it\\'s always been a he) quite literally has all the answers. The choice of yet another white man, who also happens to be an insider of elite TV media, sends a clear message: The boys are not ready to hand over the keys yet, and no amount of public shaming or appeals to diversity can convince them that they should. ',\n",
       " '\"Data, not dates, is what drives our approach for returning to the office,\" Facebook (FB) spokesperson Chloe Meyere said in a statement. \"Given the recent health data showing rising Covid cases based on the Delta variant, our teams in the US will not be required to go back to the office until January 2022.\"The new reopening date will apply to \"some countries outside of the US, as well,\" Meyere added. Many of the tech industry\\'s biggest companies, which were among the first to shut down their offices at the start of the pandemic last year, had set September as the target to reopen. Now these companies are delaying those plans as concerns about the Delta variant increase and in some cases they\\'re requiring vaccinations for employees who are returning.Facebook\\'s decision comes days after Amazon (AMZN) announced it would not bring its corporate workers back to the office until Jan 3, 2022. Ride-hailing firm Lyft (LYFT) has delayed its reopening even further, until Feb 2. Others including Google (GOOGL), Apple (AAPL), Uber (UBER) and Microsoft (MSFT), have adopted more of a wait-and-see approach, delaying their planned September reopenings until October. ',\n",
       " 'The company brought in $17 billion in sales, up 45% from same period last year. That\\'s a bit higher than Wall Streets\\' expectation of $16.8 billion, and the news sent shares up 4% in after-hours trading.The company reported earnings of $995 million in the third quarter, a significant improvement from the $4.8 billion loss posted this time last year.This was the first quarter that all of Disney\\'s (DIS) global theme parks have been open since the start of the pandemic, allowing the company to resume some semblance of normalcy. The parks, experience and products division brought in $4.3 billion in the third quarter, up from $1.1 billion in the same quarter last year. Disney+, which carried the company through the pandemic as parks remained closed and operated at limited capacities, grew to 116 million subscribers in the most recent quarter, exceeding the 112 million subscribers Wall Street analysts expected. At the end of May, the company reported slower subscriber growth than expected, mostly because of increased vaccination rates and relaxed Covid regulations that got people out of the house again. Since then, the platform released \"Black Widow\" and \"Jungle Cruise\" through its Premier Access Function, which gives subscribers the opportunity to watch movies on Disney+ the day they\\'re released in theaters for an additional charge of $29.99. The movies brought in $60 million and $30 million respectively via Disney+ alone.The company is currently grappling with a lawsuit from Scarlett Johansson, who starred in \"Black Widow.\" In the lawsuit, Johansson alleges that Disney breached her contract by simultaneously releasing the film on Disney+ and in theaters.As Delta variant cases continue to surge, especially in Florida, it\\'s unclear how the company\\'s theme parks will be affected. Disneyland Paris in July began requiring guests to present proof of vaccination, a negative PCR test result or a positive antigen test proving they have already been infected with Covid before they can enter the park. The company remains \"bullish\" about its parks\\' recoveries and continues to see \"really strong demand for our parks,\" Bob Chapek, Disney\\'s CEO, said on a post-earnings call with investors and analysts Thursday.Disney has implemented a reservation system at its parks to manage capacities and improve guest experiences. Reservations have now surpassed third quarter attendance levels, Chapek said.The company anticipates all of its parks will be fully staffed again by the end of 2021.',\n",
       " 'Producer price inflation, which measures the prices US producers receive for their goods and services, rose 7.8% over the 12 months ended in July. That was more than economists had expected and marked a new record high since the Bureau of Labor Statistics first began calculating the index in November 2010.So the supply-demand mismatch in the pandemic economy continues. Yet on Wednesday, another report showed the roaring surge in consumer prices began to subside in July — albeit holding at a 13-year high over the 12-month period.The two apparently contradictory data points are \"a mix that will keep inflation concerns alive even as economists will continue to expect a slowing in monthly price gains into year-end,\" economists from Action Economics wrote in a research note to clients.Overheating concernsThe pandemic-era inflation spike has sparked concerns that an overheating economy could stop Americans from spending, which would be terrible for the recovery. Investors are also worried that higher-than-anticipated inflation could force the Federal Reserve to alter its policies sooner than hoped, though so far the central bank has stuck to the script that higher prices are only temporary.\"Producer price inflation will slow in the next 12 months as supply chain conditions improve and the economy puts to work its large margin of underutilized productive capacity,\" said PNC Senior Economist Bill Adams in emailed comments.In July alone, producer prices rose a seasonally adjusted 1%,  nearly double what analysts had forecast. Most of the jump was because of higher prices for services, and within that higher margins received by wholesalers and retailers, particularly for cars and car parts.Prices for travel services also increased, including airlines and accommodation, hospital outpatient care and machinery wholesaling, among others.But stripping out more volatile components, such as food, energy and trade services, inflation still rose sharply in July. For the 12 months ended in July, prices rose 6.1%, the biggest increase since the BLS first started calculating this data in August 2014. For the month alone, prices rose 0.9%.                     ',\n",
       " 'The US presence in Afghanistan, often lamented as the \"forgotten war,\" is front of mind right now. The lead story on the NYTimes.com home page is \"Afghanistan collapse accelerates as 2 vital cities near fall to Taliban.\" CNN\\'s live updates page is titled \"US to send troops to help evacuate personnel in Afghanistan.\" And the troop deployment was the lead across all the network nightly newscasts on Thursday evening. ABC\\'s David Muir: \"The State Department saying today this is not an evacuation, but at this hour, that\\'s exactly what this looks like.\"On the groundA small number of correspondents for Western news outlets are in Afghanistan and are giving voice to the citizens there. For example, CNN\\'s chief international correspondent Clarissa Ward filed a report from Kandahar last weekend. Flash forward a few days, and she says \"the wedding hall we visited... is now under Taliban control.\"Ward reported from Kabul on Thursday and described pleas for help from Afghans who worked with the US coalition and now fear Taliban retaliation. \"I\\'m getting messages every hour now\" from concerned individuals, she said, with one man even threatening to stand in front of the US Embassy and set himself on fire if he doesn\\'t hear back about his paperwork soon. \"There\\'s absolutely a sense of palpable fear and near-panic in the capital right now,\" Ward said.The CBS and NBC nightly newscasts also carried live reports from Kabul. \"The mood here is grim,\" Roxana Saberi said on CBS. On NBC, Kelly Cobiella interviewed a former interpreter for the US military who fears for his family. \"Thank you and stay safe,\" Lester Holt told Cobiella. What\\'s it like elsewhere in the country? The BBC\\'s Secunder Kermani filed a report about \"life in a town taken by the Taliban in Afghanistan,\" featuring his interviews with Taliban members in Balkh, not far from Mazar-e Sharif. And the WSJ has a story in Friday\\'s print edition titled \"Afghans Tell of Executions, Forced \\'Marriages\\' in Taliban-Held Areas.\"Dreaded imagesMegan Stack, a contributor to The New Yorker, is my guest on this week\\'s \"Reliable\" podcast. As we recorded the episode on Thursday, new headlines kept crossing the wire about the Taliban taking control of Herat, the country\\'s third largest city.In the episode, we discussed Stack\\'s recent article about the Pentagon\\'s \"de-facto press blackout\" during the Afghan withdrawal this summer. Stack also analyzed the Taliban\\'s advances and the fear of a \"Fall of Saigon\" moment. \"It is possible that we will end up seeing people, in fact, getting evacuated by helicopter off the roof of the embassy, which is exactly the image that came out at the end of Vietnam and which has haunted the US through this whole withdrawal process,\" she said.>> Pentagon officials \"know that any photograph that looks sort of unvictorious, that looks like \\'giving up\\' and kind of quitting — which, of course, is in fact what the US is doing — it\\'s also something that might be useful to some foreign adversaries,\" she added. \"It\\'s useful for Taliban propaganda...\">> Stack also reflected on two decades of Afghan war coverage: \"I found it very difficult to reconcile how little the US public does seem to understand or engage with the extent of what\\'s happened and what our government has done. I find that very jarring, especially because I gave so many years of my life and I have friends who died covering those stories, and it\\'s sort of frustrating. I feel like people have done great coverage over the years and it just hasn\\'t quite penetrated.\">> Check out our conversation via Apple Podcasts, Spotify, Stitcher, TuneIn, or your preferred podcasting app...Then versus nowThis is the beginning of Jeanne Bourgault and Ahmed Rashid\\'s guest essay for The New York Times: \"Twenty years ago, Afghanistan was an information desert. Under the Taliban, there were no independent media outlets. There were no female journalists. There was no public debate. The voices of ordinary people were silenced and sidelined. Taliban edicts served as \\'news.\\'\" But \"over the next two decades, that completely changed,\" they wrote. \"Today, vibrant networks of radio, television and online media reach all 34 provinces.\" They described how the international community \"can help Afghans preserve their media.\"Along those same lines, Committee to Protect Journalists exec director Joel Simon penned a Washington Post op-ed urging the US to intervene to save the lives of Afghan journalists. Otherwise, he wrote, \"an entire generation of reporters will be lost.\" It already seems to be happening...Prayers and fears for Afghan journalistsDue to the Taliban\\'s advances, \"over 90 media outlets have closed down and concern for the safety of the country\\'s journalists has increased levels,\" VOA reported on Wednesday.An anonymous female journalist in northern Afghanistan penned this chilling piece for The Guardian after the Taliban took control of her city: \"Last week I was a news journalist. Today I can\\'t write under my own name or say where I am from or where I am. My whole life has been obliterated in just a few days.\"\"All my female colleagues in the media are terrified,\" the anonymous journalist wrote. She said \"all I can do is keep running and hope that a route out of the province opens up soon. Please pray for me.\"',\n",
       " 'A version of this story first appeared in CNN Business\\' Before the Bell newsletter. Not a subscriber? You can sign up right here.What\\'s happening: Consumer price inflation remained elevated in July, according to the Bureau of Labor Statistics. Prices rose 5.4% from a year earlier, flat compared with June when the index hit a 13-year high.On a monthly basis, however, prices rose 0.5% in July, a major slowdown from 0.9% growth in June and the weakest pace since February.But drill down into the data. While some of the major drivers of previous spikes, such as used car prices, eased last month, the cost of other goods, including medical care, housing and food in grocery stores and at restaurants,\\xa0climbed.\"The annual rate of inflation has seemingly peaked, but the details show a broadening out of price pressures,\" chief international economist at ING, James Knightley wrote in a note to clients. \"This indicates inflation is likely to be more persistent and pervasive than predicted by the Federal Reserve.\"For now, investors remain sanguine. The S&P 500 (SPX) and Dow (DJX) notched fresh all-time highs on Wednesday and yields on 10-year US Treasuries fell as traders bet the inflation data will take pressure off the Fed to hike interest rates and rein in asset purchases sooner than expected.Economics 101: The latest inflation reading doesn\\'t change the fact that America\\'s \"stimulus fuelled economy is booming,\" according to Knightley. \"Demand is outpacing the supply capacity of the economy given the scarring that the pandemic has caused as evidenced in production bottlenecks and labour shortages,\" he said.Competition for workers is placing upward pressure on wages, while record low levels of raw materials supply, order backlogs and extended delivery times are adding further stress to supply chains.\"Costs are increasing throughout the economy and the strength of demand means that companies have a sense of more pricing power [than] they have experienced in years,\" Knightley added.See here: Data from the National Federation of Independent Businesses shows that the proportion of companies raising prices and expecting to raise them further in coming months is at a 40-year high. \"As such, imminent major declines in inflation look unlikely,\" Knightley concluded.Even the White House is worried about rising prices. On Wednesday, US National Security Adviser Jake Sullivan called on OPEC+ to increase oil production in order to curb high gasoline costs.\"President Biden has made clear that he wants Americans to have access to affordable and reliable energy, including at the pump,\" Sullivan said in a statement, adding that the US government is \"engaging with relevant OPEC+ members on the importance of competitive markets in setting prices.\"Up Next: With a growing number of senior Fed officials making the case for pulling back bond purchases, all eyes will be on the Economic Policy Symposium in Jackson Hole, Wyoming later this month.Airlines are not out the woods yetAir travel has picked up in the United States and Europe following the rollout of vaccines, but risks remain elevated for battered airlines desperately trying to recover from the pandemic.The latest: Southwest Airlines (LUV) warned Wednesday that the Delta variant of Covid-19 will make it difficult to turn a profit in the third quarter. In a regulatory filing, the carrier said customers have been booking fewer flights in August and cancelling trips they had already booked.The development marks a stark turn of events for Southwest, my CNN Business colleague Jordan Valinsky reports. The company predicted just a few weeks ago that it would be profitable in the third and fourth quarters based on strong bookings for leisure travel.But things can change quickly in the pandemic economy. At the beginning of July, domestic air travel, measured by tickets issued by US travel agencies and online booking companies, stood at just 3% below 2019 levels. A few weeks later on July 23, it was more than a fifth below the same point in 2019, according to the CNN Business Economic Recovery Dashboard.Delta blues: In the latest sign of how the Delta variant is weighing on the recovery, the International Energy Agency on Thursday downgraded its outlook for oil demand for the remainder of the year, in part due to the \"worsening progression of the pandemic.\"After surging in June to a level almost three times the seasonal norm thanks to increased mobility in North America and Europe, global oil demand \"abruptly reversed course\" in July, the Paris-based body said in a report.Art auction will test appetite for alternativesInvestors hunting for more creative places to park their cash than the stock market will soon have an opportunity to deploy some serious dough.Auction alert: Eleven Pablo Picasso artworks with a combined top estimate of over $100 million are hitting the auction block this October, my CNN colleague Jacqui Palumbo reports.Part of MGM Resorts\\' sizable art collection, the pieces have been on display in Las Vegas for over two decades at a Michelin-starred French and Spanish eatery called Picasso in the Bellagio.Sotheby\\'s is organizing the sale, which forms part of MGM\\'s attempts to reposition the gambling mecca as a \"broader art destination,\" according to Brooke Lampley, the auction house\\'s chairperson.Investor insight: Wealthy individuals who\\'ve saved vast sums of money during the pandemic have been stashing their cash in some unusual investments, such as high-end spirits and trading cards. The Picasso auction will provide yet more insight into investor appetite for alternative assets.Up NextEarnings from TUI (TUIFF), Baidu (BIDU), Palantir Technologies and Utz Brands are out before US markets open. Airbnb, DoorDash, Disney (DIS) and Wish report after the close.Also today:US jobless claims.US producer price index for July.',\n",
       " 'Baseball celebrates the myth of its rural roots tonight when the New York Yankees meet the Chicago White Sox in a game adjacent to the field in rural Dyersville, Iowa, population 4,000, where the iconic 1989 movie \"Field of Dreams\" was filmed. Fans are paying record amounts to attend the game, with most who bought tickets on the secondary market spending more than $1,400 to attend.The prices are by far the highest average price ever for a regular season game, and have only been topped by a handful of World Series games, such as Game 4 of the 2016 World Series between two championship-starved teams as the Cleveland Indians met the Chicago Cubs at Wrigley Field in Chicago. The average ticket price on the resale market that night was a record $3,500 on StubHub and $4,200 according to its rival SeatGeek.StubHub says the average for Thursday\\'s game on its site is $1,400, while SeatGeek says the average price of tickets sold on its site is $1,557. Tickets have a face value of either $375 or $425, and were sold to fans in Iowa and White Sox season ticket holders who won lotteries for the right to buy about 8,000 seats at the temporary stadium in Dyersville, Iowa.\"There are several factors, including the tight supply of tickets available on the resale market,\" said Chris Layden, spokesperson for SeatGeek. \"And every seat is about the same. There\\'s no nosebleed seats. Sometimes you\\'ll see the average price be really high but you can still pay a third of that and get in the door for a cheap seat. But that\\'s not the case this time.\"The game was originally planned to be played last year but was canceled because of the shortened, fanless baseball season.The two teams involved are also adding to demand. The White Sox, whose home is a four-hour drive away from Dyersville, are in first place at this time of the season for the first time since 2012.  And their opponent Yankees are one of the best-drawing road teams in baseball year-in and year-out.\"This has a whole life of it\\'s own,\" said Adam Budelli, head of partnerships and business development at StubHub. \"Adding in the fact that it\\'s two marque teams, it\\'s a perfect storm for this event.\"Other baseball ticket prices are up tooBut it\\'s not just this game drawing higher prices and higher demand for tickets. Attendance comparisons to 2019 are difficult because, for much of the season, there have been restrictions on how many seats most stadiums could sell because of Covid. But, as is the case with so many items seeing large price increases this year, limited supply and pent-up demand translated into higher resale prices. SeatGeek says the average price of baseball tickets sold on its site this year has been $81, up 40% from the $58 average in 2019, the last time fans were allowed to attend regular season games. StubHub\\'s figures show a 33% increase for baseball tickets.Fans are hungry for live events in all the sports, as well as for attending concerts and other events said Budelli.\"People want to get out there, whether it\\'s baseball, concerts, or other live events, they\\'re ready to go back with friends and family,\" he said.The movie\\'s celebration of baseballThe site of the movie has attracted a regular but modest stream of fans since the film came out. Attendance is normally free, as fans can play catch or sit in the small wooden bleachers on the original field. Thursday\\'s game is being played on a different field nearby. Given its remote location, the field often has only a handful of fans visiting at any one time, except when buses arrive.The sky-high prices are a stunning contrast to the prices discussed in the movie. The film, based on W. P. Kinsella\\'s 1982 novel \"Shoeless Joe,\" is a mythical tale of a farmer, Ray Kinsella, played by Kevin Costner, who builds a baseball field on his farm. A voice he alone hears tells him \"If you build it, he will come.\" He decides the voice is referring to the ghost of Shoeless Joe Jackson, a White Sox great from a century ago who was banned for life from the game when his teammates threw the 1919 World Series. And once he builds the field the ghost of Jackson and other players do arrive to play baseball on the field.When Costner\\'s character is at risk of losing the farm because of the lost crops he\\'s not growing, his friend and daughter convince him that fans will pay to visit and gain peace from communing with baseball.\"People will come, Ray. They\\'ll come to Iowa for reasons they can\\'t even fathom. They\\'ll arrive at your door as innocent as children, longing for the past,\" predicts his friend played by James Earl Jones. \"Of course, we won\\'t mind if you look around, you\\'ll say. It\\'s only $20 per person. They\\'ll pass over the money without even thinking about it: for it is money they have and peace they lack.\"Jones\\' character\\'s speech that follows is well known to many baseball fans as he explains their love of the game.\"The one constant through all the years, Ray, has been baseball,\" he said. \"America has rolled by like an army of steamrollers. It has been erased like a blackboard, rebuilt and erased again. But baseball has marked the time. This field, this game: it\\'s a part of our past, Ray. It reminds of us of all that once was good and it could be again.\"',\n",
       " '',\n",
       " 'California-based Perfect Day uses fungi to make dairy protein that is \"molecularly identical\" to the protein in cow\\'s milk, says co-founder Ryan Pandya. That means it can be used to make dairy products such as cheese and yogurt.\"We were interested in the question of what is in milk ... that gives it incredible versatility and nutrition that is somehow missing from the plant-based milks,\" says Pandya. Perfect Day has assembled the gene that codes for whey protein in cow\\'s milk, and introduced it into a fungus. When the fungus is grown in fermentation tanks, it produces whey protein, which is then filtered and dried into a powder used in products including cheese and ice cream — which are already on the shelves in the United States and Hong Kong.\"[It\\'s for] people who still love dairy, but want to feel better about it for themselves, for the planet, and for the animal,\" says Pandya.  Fermented fungi Although Perfect Day\\'s protein contains no lactose, hormones or cholesterol, it isn\\'t suitable for people with a dairy allergy. But as the process involves no animals, Pandya describes the product as \"vegan-friendly.\" It\\'s also good for the environment. By removing cows from the equation, the production of milk is \"dramatically more efficient,\" says Pandya, producing up to 97% fewer greenhouse gas emissions than conventional dairy.In 2020, Perfect Day launched Brave Robot ice cream with The Urgent Company, and partnered with ice cream brands N!ck\\'s and Graeter\\'s to make its products available in 5,000 stores across the United States. The company is already reaching an international market, with its protein used in Hong Kong\\'s Ice Age ice creams, which taste similar to regular supermarket brands — and unlike some plant-based dairy alternatives, there\\'s no taste of coconut, banana, or other base flavors. The next product in development is cream cheese, due to be released later in 2021, says Pandya. A rapidly growing marketPerfect Day isn\\'t the only company looking to science for sustainable dairy solutions. California startup New Culture is also developing cheese products without cows through a fermentation process, and TurtleTree Labs is creating milk — including human milk — from cultured cells.  According to figures from the Good Food Institute — a nonprofit that aims to boost innovation in alternative proteins — $590 million was invested in fermented alternative proteins in 2020, and $300 million of that went to Perfect Day. Plant-based milk accounted for 15% of US milk sales in 2020 and is expected to grow, says Mirte Gosker, acting managing director of the Good Food Institute in Asia Pacific.One challenge for companies is getting regulatory approval, and another is the higher price of innovative products, says Gosker. Perfect Day\\'s ice cream retails for about the same as high-end brands like Häagen-Dazs or Ben & Jerry\\'s. Many countries are eager to develop food-tech innovation. Singapore, where Perfect Day recently established a research and development lab with a government-backed agency, is \"leading the way with its regulatory framework,\" Gosker says. Support from \"governments has a big role to play here, to invest in open-access R&D and in infrastructure,\" she adds.Pandya says the startup is also seeking regulatory approval in Canada, India and Europe, as well as looking for partners in the dairy industry. \"We\\'re developing the kinder, greener way to make your favorite foods starting in the dairy aisle, and we can\\'t do that alone,\" says Pandya.',\n",
       " 'The postal service is requesting a temporary price increase on a variety of mail services for the peak holiday season to offset rising delivery costs. The price increases, which range from 25 cents to $5 per package, would go into effect on October 3, 2021 and last through December 26, 2021 for individuals and businesses on mailings including Priority Mail, Priority Mail Express and First-Class Package Service, according to a USPS statement. The Postal Regulatory Commission still has to approve the higher rates. In 2020, USPS implemented a similar temporary rate adjustment during peak holiday season in anticipation of heightened demand and extra shipping costs. However, the postal service still struggled to keep up with holiday demand last year thanks to a historic amount of packages and rising employee Covid-19 cases. In December 2020, packages were \"up to the ceiling\" in Philadelphia, local American Postal Workers Union president Nick Casselli told CNN.\"I\\'ve been in postal for 35 years, I\\'ve never seen what I\\'m seeing,\" he said.Delays in processing lasted through the holiday season, and some customers didn\\'t receive their mail until January and February. In Tulsa, Oklahoma, James Seaman told CNN affiliate KJRH at the end of January that he was still receiving holiday cards that were originally mailed out in December.\"You can\\'t rely on getting things through the mail right now in a timely manner,\" Seaman told KJRH.',\n",
       " 'Public outrage spread globally after the widely viewed video of Floyd\\'s death at the hands of former officers in Minneapolis circulated in May 2020. That motivated many Fortune 500 companies to do more to improve racial equity in the United States, including bolstering the ranks of Black Americans working in Corporate America.Since then, HBCU leaders say they\\'ve been flooded with millions of dollars in donations from major companies as well as billionaire philanthropists like MacKenzie Scott, Michael Bloomberg and the Bill & Melinda Gates Foundation.The schools\\' leaders caution that it\\'s too early to say with certainty how many more Black college graduates are actually getting hired by major companies, but so far they\\'ve seen a substantial rise in the number of internships and job interviews provided by major brands.\"In my 24-year career in higher education, all in career services, I cannot recall a time when recruitment efforts at HBCUs have been this high and have stayed this high,\" said Seana Coulter, director of the center for career development at Morgan State University, an HBCU in Baltimore.She says MSU\\'s online job portal for students saw a 263% increase in employer logins between July 1, 2020, and June 30, 2021, with major companies like Apple (AAPL), Bank of America (BAC) and Estee Lauder reaching out for the first time ever.\"We had a 73% increase in the numbers of events hosted by employers over the same period of time,\" Coulter said. \"We saw a surge in organizations wishing to recruit from Morgan\\'s campus all stating they were diversifying their workforce. The surge has not stopped. It\\'s just been a constant flow ever since it\\'s started. I would say it\\'s been record numbers.\"Coulter also began serving as co-chair of the National Association of Colleges & Employers\\' HBCU affinity group in January of 2020 before stepping down in July. She says most of the group\\'s estimated 130 members, who serve as administrators and career service staffers at a wide swath of the nation\\'s 107 HBCUs, have seen a sharp rise in corporate engagement and outreach over the last year.\"All of us were talking about how we could best handle the volume,\" Coulter said. \"One of the biggest conversations has been how can we connect them better with the academic departments.\"At Howard University, career outreach from major corporations has increased \"100%\" over the last year, according Debbi Jarvis, the school\\'s senior vice president of corporate relations.\"It\\'s doubled,\" Jarvis told CNN Business earlier this month. \"They actually want to engage with students, even virtually, to increase their pipeline and be deliberate about it.\"The median full-time starting salary for Howard grads is now about $72,680, according to the school\\'s latest exit survey for graduating students. Howard says JPMorgan Chase (JPM), Deloitte, Procter & Gamble (PG), Goldman Sachs and McKinsey & Co. rank among the top 25 companies that recruit at the university. That list also includes Accenture (ACN), Microsoft (MSFT), Facebook (FB), Apple and Google (GOOG), which has a tech partnership with the school.The added corporate engagement for Howard has helped it recruit more high school graduates and increase enrollment, according to Howard University provost Anthony Wutoh.\"In my 25-year experience with Howard University, this is the most significant interest that I\\'ve seen corporations demonstrate in Howard students,\" Wutoh told CNN Business on Monday. \"Our efforts to build partnerships and programs that benefit Howard students have led us to this unprecedented time in history where even more corporations are realizing the value of a Howard education.\"Prairie View A&M University, an HBCU in the Houston metro area, saw a 56% rise in the number of companies participating in its spring virtual career fair. The number of companies participating in the school\\'s fall semester career fair jumped from 122 in 2019 to 233 in 2020, according to Munir Quddus, professor of economics and dean of the college of business at the school.Quddus estimates that corporate outreach has increased 20% to 25% over the last year from companies like Charles Schwab (SCHW), TD Ameritrade (AMTD) and IBM (IBM) .The school also has received a major rise in contributions from companies like Chevron and Halliburton.\"We\\'ve definitely seen an uptick,\" Quddus told CNN Business. \"Companies are not just interested in hiring more students, but also in building partnerships and providing internships.\"Graduates from less-prominent HBCUs are also being interviewed more, according to Nicole Tinson, CEO of HBCU 20x20, a nonprofit that connects black college grads with top companies.Tinson says her organization has been more helpful for graduates from less-famous HBCUs, like her Dillard University alma mater in New Orleans. She launched HBCU 20x20 in 2017 to help grads who historically haven\\'t been recruited for jobs at the same level as graduates of traditional colleges and universities, find career opportunities with elite employers.She says at least 250 new companies, including Yahoo, Mattel (MAT), TEG (TGNA) and the NBA, have been added to HBCU 20x20\\'s career services database this year.\"We\\'re just really excited about the direction of the work that we\\'re doing,\" Tinson told CNN Business in July.Tinson said HBCU 20x20 started its journey four years ago by reaching out to major companies to court them to participate in its career fairs, but that dynamic shifted dramatically last year.\"It\\'s very rare that we reach out to companies,\" Tinson added. \"We\\'re at the point now where companies are reaching out to us.\"']"
      ]
     },
     "execution_count": 21,
     "metadata": {},
     "output_type": "execute_result"
    }
   ],
   "source": [
    "cnn_news_articles_content = get_cnn_news_articles_content(extracted_cnn_links)\n",
    "cnn_news_articles_content"
   ]
  },
  {
   "cell_type": "markdown",
   "metadata": {},
   "source": [
    "CNN ends here."
   ]
  },
  {
   "cell_type": "markdown",
   "metadata": {},
   "source": [
    "Start BBC web scraping."
   ]
  },
  {
   "cell_type": "markdown",
   "metadata": {},
   "source": [
    "Extact links from scraped data and clear duplicating, if there is such links."
   ]
  },
  {
   "cell_type": "markdown",
   "metadata": {},
   "source": [
    "After web scraping page we got unusable links like this - **/news/business-58156118/#comp-comments-button**.\n",
    "\n",
    "\n",
    "Here is the part of the result:\n",
    "\n",
    "```'/news/business',```\n",
    "\n",
    " ```'/news/technology-58146039',```\n",
    " \n",
    " ```'/news/technology',```\n",
    " \n",
    " ```'/news/business-58154046',```\n",
    " \n",
    " ```'/news/business-58156118/#comp-comments-button',```\n",
    " \n",
    " ```'/news/technology-58145808',```\n",
    " \n",
    " ```'/news/business-58156118', ....```\n",
    " \n",
    " \n",
    " **I can't print the daily result because I am not sure that in this current day there will be usless links**"
   ]
  },
  {
   "cell_type": "markdown",
   "metadata": {},
   "source": [
    "So we need to create function which removes usless links from our result. Wait but we have already created it for cnn news same purpos."
   ]
  },
  {
   "cell_type": "code",
   "execution_count": 22,
   "metadata": {},
   "outputs": [],
   "source": [
    "def extract_bbc_links(link, domain):\n",
    "    page = get_page_content(link)\n",
    "    soup = create_soup(page)\n",
    "    bbc_extracted_links = [l['href'] for l in soup.find('div', {'class', \"gel-layout gel-layout--equal\"}).find_all('a')]\n",
    "    bbc_extracted_links = clear_duplicate_links(bbc_extracted_links)\n",
    "    pat = r'/news/\\w+[-]\\d+'\n",
    "    bbc_extracted_links = remove_usless_links(pat, bbc_extracted_links)\n",
    "    #Add domain\n",
    "    bbc_extracted_links = [domain+l for l in bbc_extracted_links]\n",
    "    return bbc_extracted_links"
   ]
  },
  {
   "cell_type": "markdown",
   "metadata": {},
   "source": [
    "Result:"
   ]
  },
  {
   "cell_type": "code",
   "execution_count": 23,
   "metadata": {},
   "outputs": [
    {
     "data": {
      "text/plain": [
       "['https://www.bbc.com/news/business-58196477',\n",
       " 'https://www.bbc.com/news/business-58049625',\n",
       " 'https://www.bbc.com/news/business-58196473',\n",
       " 'https://www.bbc.com/news/business-58123729',\n",
       " 'https://www.bbc.com/news/business-58174043',\n",
       " 'https://www.bbc.com/news/business-58167618',\n",
       " 'https://www.bbc.com/news/business-58109993']"
      ]
     },
     "execution_count": 23,
     "metadata": {},
     "output_type": "execute_result"
    }
   ],
   "source": [
    "extracted_bbc_links = extract_bbc_links(bbc_link, domain=\"https://www.bbc.com\")\n",
    "extracted_bbc_links"
   ]
  },
  {
   "cell_type": "code",
   "execution_count": 24,
   "metadata": {},
   "outputs": [],
   "source": [
    "def get_bbc_news_type(links):\n",
    "    news_type = []\n",
    "    for l in links:\n",
    "        page = get_page_content(l)\n",
    "        soup = create_soup(page)\n",
    "        news_type.append(soup.find('span', {'class': \"ssrcss-1gr85n1-LinkTextContainer eis6szr1\"}).text.lower())\n",
    "    return news_type"
   ]
  },
  {
   "cell_type": "code",
   "execution_count": 25,
   "metadata": {},
   "outputs": [
    {
     "data": {
      "text/plain": [
       "['business',\n",
       " 'business',\n",
       " 'business',\n",
       " 'business',\n",
       " 'business',\n",
       " 'business',\n",
       " 'business']"
      ]
     },
     "execution_count": 25,
     "metadata": {},
     "output_type": "execute_result"
    }
   ],
   "source": [
    "bbc_news_types = get_bbc_news_type(extracted_bbc_links)\n",
    "bbc_news_types"
   ]
  },
  {
   "cell_type": "code",
   "execution_count": 26,
   "metadata": {},
   "outputs": [
    {
     "data": {
      "image/png": "[encoded data removed]",
      "text/plain": [
       "<Figure size 432x288 with 1 Axes>"
      ]
     },
     "metadata": {
      "needs_background": "light"
     },
     "output_type": "display_data"
    }
   ],
   "source": [
    "news_types_frequency = nltk.FreqDist(bbc_news_types)\n",
    "plot_types_of_news(news_types_frequency)"
   ]
  },
  {
   "cell_type": "code",
   "execution_count": 27,
   "metadata": {},
   "outputs": [],
   "source": [
    "def get_bbc_news_datetime(links):\n",
    "    times = []\n",
    "    for l in links:\n",
    "        page = get_page_content(l)\n",
    "        soup = create_soup(page)\n",
    "        attributes = str(soup.find('time'))\n",
    "        pat = r'\\d{4}-\\d{2}-\\d{2}'\n",
    "        obj = re.findall(pat, attributes)\n",
    "        times.append(obj[0])\n",
    "    return times"
   ]
  },
  {
   "cell_type": "code",
   "execution_count": 28,
   "metadata": {},
   "outputs": [
    {
     "data": {
      "text/plain": [
       "['2021-08-13',\n",
       " '2021-08-12',\n",
       " '2021-08-13',\n",
       " '2021-08-12',\n",
       " '2021-08-12',\n",
       " '2021-08-13',\n",
       " '2021-08-06']"
      ]
     },
     "execution_count": 28,
     "metadata": {},
     "output_type": "execute_result"
    }
   ],
   "source": [
    "bbc_news_timestamp = get_bbc_news_datetime(extracted_bbc_links)\n",
    "bbc_news_timestamp"
   ]
  },
  {
   "cell_type": "code",
   "execution_count": 29,
   "metadata": {},
   "outputs": [],
   "source": [
    "def get_bbc_news_headlines(links):\n",
    "    headlines = []\n",
    "    for l in links:\n",
    "        page = get_page_content(l)\n",
    "        soup = create_soup(page)\n",
    "        headlines.append(soup.find('h1').text)\n",
    "    return headlines"
   ]
  },
  {
   "cell_type": "code",
   "execution_count": 30,
   "metadata": {},
   "outputs": [
    {
     "data": {
      "text/plain": [
       "['Ningbo: Global supply fears as China partly shuts major port',\n",
       " 'How can new technology protect outdoor workers?',\n",
       " 'Lord of the Rings: Amazon moves show to UK from New Zealand',\n",
       " 'Can Americans pull the plug on petrol-powered cars?',\n",
       " 'The $8bn EV company youâ\\x80\\x99ve probably never heard of',\n",
       " 'Firms want help to measure their carbon footprint',\n",
       " 'South Park creators sign $900m deal to make seasons and movies']"
      ]
     },
     "execution_count": 30,
     "metadata": {},
     "output_type": "execute_result"
    }
   ],
   "source": [
    "bbc_news_headlines = get_bbc_news_headlines(extracted_bbc_links)\n",
    "bbc_news_headlines"
   ]
  },
  {
   "cell_type": "code",
   "execution_count": 31,
   "metadata": {},
   "outputs": [],
   "source": [
    "def get_bbc_news_articles_content(links):\n",
    "    content = []\n",
    "    for l in links:\n",
    "        page = get_page_content(l)\n",
    "        soup = create_soup(page)\n",
    "        content.append(\"\".join([line.text for line in soup.find_all('div', {'data-component':\"text-block\"})]))\n",
    "    return content"
   ]
  },
  {
   "cell_type": "code",
   "execution_count": 32,
   "metadata": {},
   "outputs": [
    {
     "data": {
      "text/plain": [
       "['The partial closure of one of China\\'s biggest cargo ports due to coronavirus has raised fresh concerns about the impact on global trade. Services were shut on Wednesday at a terminal at Ningbo-Zhoushan port after a worker was infected with the Delta variant of Covid-19.Ningbo-Zhoushan in eastern China is the world\\'s third-busiest cargo port.The closure threatens more disruption to supply chains ahead of the key Christmas shopping season.Closing the terminal on Meishan island until further notice will cut the port\\'s capacity for container cargo by about a quarter.It comes as the cost of shipping from China and South East Asia to the East coast of the US has already hit a record high, according to the Freightos Baltic global container freight index.And some UK businesses were already feeling the pressure of much higher shipping costs.Jason Chiang from Ocean Shipping Consultants told the BBC\\'s Asia Business Report that the global shipping industry is likely to feel the impact of the pandemic for several more months.\"We don\\'t expect to see any new shipping capacity until two years down the road. So everything between now and two years will be dependent on how the pandemic plays out,\" he said.Ningbo-Zhoushan is the world\\'s third-biggest cargo port after Shanghai and Singapore.If the terminal remains shut for an extended period it could have an especially large impact on the world economy.In the city of Ningbo, where the port is located, authorities have also suspended inbound and outbound flights to China\\'s capital Beijing.A district close to the port has also been put on partial lockdown as businesses including cinemas, gyms and bars have been shut.The port\\'s closure comes as global trade is usually much heavier in the second half of the year as businesses in Europe and North America prepare for a jump in sales ahead of Christmas and other holidays.This is the second coronavirus-related closure to hit a Chinese port in recent months after Yantian in Shenzhen was partially shut for several weeks from the end of May.Companies were already struggling to source the goods to keep their business going as the pandemic shut down economies around the world.Global supply chains were put under even more strain when a huge container vessel became stuck in the Suez Canal in March.The Ever Given, which carries cargo between Asia and Europe, blocked the major shipping lane in Egypt for almost a week.That caused huge disruptions and delays to the global shipping industry as vessels were forced to wait for the canal to reopen or take the much longer route around the southern tip of Africa.',\n",
       " 'Cesar David Gonzalez does a bit of everything, from house painting to carpentry. The self-employed 56-year-old lives in the San Fernando Valley, one of the hottest parts of Los Angeles. He works six or seven days a week, even when temperatures surpass 40Â°C and when wildfire smoke clogs the air. But it is when he is pouring concrete that he really feels the impact of the heat. Typically, Mr Gonzalez and his crew check the weather before they head out so they can try to plan where they will stand according to the sun\\'s position.In July and August they start work an hour earlier than usual, at 07:00, and shift around so that they\\'re working in the shade where possible. But while laying concrete it is hard to dip into the shade, if it even exists, to take breaks. Occasionally, Mr Gonzalez\\'s co-workers will feel so faint that they have to sit in the car with the air conditioning on, and some even feel the need to leave a job site early.Mr Gonzalez and his hardworking colleagues are not the only outdoor workmen in Los Angeles who are forced to adapt to the scorching heat.  A seller of iced desserts moves his cart around a park so that he can rest in the shade. A recycler sets out with a torch before the sun has fully emerged. A postal delivery worker, who walks over 10 miles a day, gratefully accepts cold drinks from residents. Such adaptations to their work days are not just necessary, however, they can be life saving. Heat can kill. It lowers a worker\\'s ability to concentrate and leads to notable increases in workplace injuries, research suggests. Poor sleep makes heat-related illness more likely; and high temperatures can also make it challenging to sleep. For workers operating heavy machinery, this can be a lethal combination.But rising temperatures, linked to human-caused climate change, damage economies even beyond the immediate health impacts. Above a threshold of 20-25Â°C, each additional degree is associated with around a 2% drop in task productivity. By 2030, the global cost of lower labour productivity due to heat is estimated to reach Â£1.8 trillion per year: West Africa will be especially hard hit.Yet, for reasons including financial need, workplace pressure, and a lack of awareness of the health impacts of high temperatures, many people continue to work past their heat tolerance.Outdoor workers, notably those within the construction and agricultural industry, are the most affected by rising heat.Undocumented farmworkers who are paid per unit may be especially vulnerable, working under gruelling conditions with little shade and little opportunity to complain. The self-employed, informally employed and those on zero-hour contracts may also feel they have no choice but to work at all hours.Even the fittest people in the world are susceptible, like the Olympic athletes collapsing in the baking heat and humidity of Tokyo.Sometimes workers who have managed to climb the career ladder may actually be at greater risk of heat strain. This was one finding of research on outdoor workers by Dr Jennifer Runkle, an environmental epidemiologist at the North Carolina Institute for Climate Studies, and colleagues. \"This is largely due to the fact that workers with more education typically hold managerial positions and spend less of their work week outdoors in the heat,\" Dr Runkle explains. \"As a result, these workers aren\\'t fully acclimated to working outdoors in the heat and are typically only required to do so intermittently, placing this group at higher risk.\"There are some easy wins to reduce heat strain. Optimising work hours to avoid workers being out when the sun is at its hottest may have the greatest effect on employee health. In warm countries like Spain and Greece, there\\'s already a culture of resting during the hottest part of the day. India\\'s National Disaster Management Authority has also advised avoiding strenuous work between 12.00pm and 15.00pm. Individualised, wearable sensors could be a useful tool for determining likely heat strain. Dr Runkle believes that this technology would be especially useful in industries like construction, mining and agriculture. Early adoption of these devices would be a win-win, according to Dr Runkle: boosting productivity and reducing injury \"while ensuring the health and safety of an ageing workforce and eliminating the risk of heat strain\".Wider take-up of wearable heat sensors by employees, employers and healthcare providers would also help overcome gaps in heat awareness. \"One important finding we discovered in our research with outdoor workers is that there was a mismatch between workers\\' perception of heat risk and their actual exposure to extreme heat captured by wearables,\" said Dr Runkle. Another aid could be wearable cooling technology, but such devices are mainly in the research and development phase, or limited in availability. One such device is Sony\\'s Reon Pocket 2, which it launched in April. A wearable cooling or warming device worn inside clothing, it uses electrical conductors that transfer heat when electricity is run through them. While the company is eventually planning to launch the product overseas, it\\'s currently only available in Japan.The first Reon Pocket model sold 10,000 units within two days of its launch. While the new model has a special mode for keeping golf players cool, it\\'s apparently also being used by some outdoor workers.There are promising examples of companies taking more responsibility for protecting workers from oppressive heat, such as managers of bus drivers in Jinan, China. Responsible employers should be providing drinks and shaded rest areas to outdoor workers. Some in Ahmedabad, India have also been supplying ice packs. Regularly scheduled or mandatory rest breaks could help where employees are over-exerting themselves. Of course, not all employers are responsible, which is why many campaigners are calling for enforceable heat standards and stronger workplace protections.More Technology of BusinessIn many countries, occupational heat health is a matter of guidance, rather than requirements to safeguard workers. In the US, a proposed heat health law that has been languishing is the AsunciÃ³n Valdivia Heat Illness and Fatality Prevention Act, named after a 53-year-old farmworker who died in 2004 after picking grapes for 10 hours at over 40C.Clinicians like Cheryl L Holder, who now teaches medicine at Florida International University, are also doing what they can. She recalls a patient who worked in a garden centre, who was overheating in ways that were worsening her diabetes. She wrote a letter to that patient\\'s employer, encouraging them to give her patient time off.\"I don\\'t have any real enforcement other than the goodwill of the employers,\" she acknowledges. \"But oftentimes, I will see some improvement there.\"As doctors witness the mounting toll of heat, and as officials debate policy measures, people like Mr Gonzalez will continue to find ways to keep themselves healthy in an ever-warmer climate. \"This year has become more hot,\" he acknowledges. In the future, even fit and healthy workers like him may reach the limits of their endurance, making larger-scale heat adaptation a searing necessity.Some of Christine Ro\\'s research for this article was supported by the Social Science Research Council and the Japan Foundation Center for Global Partnership, through the Abe Fellowship for Journalists.',\n",
       " 'Technology giant Amazon\\'s TV and film business is moving production of its multi-million dollar Lord of the Rings series to the UK from New Zealand.The as-yet-untitled fantasy epic is set thousands of years before the events in JRR Tolkien\\'s books The Hobbit and The Lord of the Rings.The company said the move was part of a plan to expand its production space and consolidate its footprint in the UK.Amazon Studios spent $465m (Â£336.5m) on the first season of the show.With four more seasons expected to be made, that would make it one of the most expensive series in television history.New Zealand\\'s dramatic landscapes were also home to Oscar-winning director Peter Jackson\\'s The Lord of the Rings and The Hobbit movie trilogies.Amazon said work on season one of the show would be completed in the country before production shifts to Britain.In a statement announcing the decision, Vernon Sanders, vice president and co-head of TV at Amazon Studios thanked \"the people and the government of New Zealand for their hospitality and dedication and for providing The Lord of the Rings series with an incredible place to begin this epic journey.\" New Zealand\\'s economic development minister Stuart Nash said he was disappointed by the decision.\"I am enormously proud of the New Zealand screen sector. The Amazon Studios\\' decision in no way reflects the capabilities of our local film industry or the talents of the people who work in it,\" Mr Nash added.Season one of the show is scheduled to make its worldwide debut on Amazon\\'s Prime Video on 22 September next year.The move is set to be a major boost to the UK\\'s film and television production industry as it brings hundreds of millions of dollars into the country.The UK Culture Secretary Oliver Dowden welcomed the news, telling the BBC: \"Thousands of high quality jobs all across the UK will be created and supported by The Lord of the Rings television series so this is very exciting news.\"',\n",
       " 'US President Joe Biden wants Americans to switch to electric vehicles. Carmakers are on board - but are consumers willing to pull the plug on petrol?Tom Beckett, a former truck and bus driver, says he\\'s driven at least two million miles in his lifetime, and he is all for burning less gasoline to protect the environment. But like many Americans, he is \"just not ready\" to buy a low-emission electric car because of so-called range anxiety - the fear he won\\'t be able to go far enough on a single charge.The 62-year-old lives in rural Arkansas where he regularly has to drive long distances to get around, and electric vehicle (EV) charging points are few and far between.\"Unless the battery capacity and the range doubles, I don\\'t think electric cars will ever become a big deal in states like this,\" he tells the BBC. \"People need the confidence to know their cars won\\'t run out of juice. Otherwise they\\'ll just stick with gas.\"Transport accounted for almost of a third of US emissions in 2019 and the White House has pledged to bring this down. But people like Mr Beckett pose a big challenge to a new administration plan to make zero-emission vehicles account for half of all automobiles sold in the US by 2030.The goal, which is non-binding, has the backing of major automakers Ford, General Motors and Chrysler-owner Stellantis. Mr Biden has also restored tailpipe emissions rules from the Obama era, weakened under Donald Trump, which will put pressure on car companies to make greener vehicles.But none of it will make much difference if consumers don\\'t buy in. Outside of a few major metropolitan areas, EVs still aren\\'t very common in the US and the country accounted for just 2% of new EV sales globally last year, compared to 10% from Europe. Moreover, while just under half of US adults say they would support a proposal to phase out production of gasoline-powered cars and trucks, a similar proportion would oppose it, according to a Pew Center survey published in June. A major concern about low-emission vehicles is price. Even with federal subsidies, EVs and hybrids tend to cost more than pure petrol cars, even though the vehicles are more economical to run. However, the bigger issue - in a country that clocks up more miles per driver than almost anywhere else - is range. Currently there are just 100,000 public charging points for plug-in electric vehicles across the US, a third of which are in California - a state that has its own, tougher transport emissions rules.At the same time, the typical range of a fully electric car before it needs to recharge is 250-300 miles, although it can be as low as 130 miles. \"The US has this love affair with cars and the open road, and there\\'s a great allure in driving long distances,\" says John Heitmann, professor emeritus of history at Dayton University and an expert in US automotive culture.  \"In Europe or Japan you might take the train, but it is very common for Americans drive 1,000 miles or more when they go on vacation or visit the national parks. Electrification has got to fit in around this.\"The Biden administration wants to build 500,000 charging points by 2030, and has put aside $7.5bn to fund it in the new infrastructure bill. But that\\'s half of what the president previously hoped to spend and \"falls far short\", according to 28 Democrat lawmakers, who say more like $85bn is needed to build out an adequate charging network. Yet experts believe the White House\\'s 2030 goal is achievable and that it is only a matter of time before gas-powered vehicles start to be phased out in the US.Dan Neil, an automotive columnist for the Wall Street Journal, says battery technology is improving fast, prices are falling, and consumers will see the benefits.\"EVs soon will be cheaper to buy and cheaper to operate than gasoline-powered cars,\" he says. \"And as global regulations clamp down on tailpipe emissions, old cars will get less and less satisfying to drive.\"He agrees more cash is needed to expand the country\\'s charging infrastructure, but thinks the utilities companies set to profit from electrification will step into the breach. Peer pressure is also likely to play a role.\"People want to buy new models of car and gas powered ones will become unfashionable,\" he says. Inevitably, even the US will be dragged along by what happens in the rest of the world, he adds. \"The US can\\'t be the only industrial economy to hang on to gas-powered transportation - it wouldn\\'t be economic for the country, it won\\'t be economic for the people who will drive the cars.\"Mr Biden has been clear that part of his plan is about ensuring the US car industry does not fall behind in the fast growing global EV market. Stricter rules on tailpipe emissions in the EU are already forcing continental car makers to change their assembly lines, giving them a head start. \"[Joe Biden\\'s plan] is exactly what the whole car industry has been waiting for and now gives them a clear roadmap,\" says Matthias Schmidt, a European automotive market analyst.\"They can now scale their EV operations safe in the knowledge that those investments will go to cover all three major regions - North America, China and Europe - in a technology where standardisation and economies of scale are key.\" Still, Mr Biden could face other obstacles. He hopes to expand subsidies to bring down the costs of EVs for buyers and manufacturers as part of his $3.5 trillion Budget plan, but there\\'s no guarantee it will pass. The shift to electrification is also likely to cost jobs, given the typical EV requires around three times less manpower to produce. Dan Ives, an analyst at Wedbush Securities, expects these roles to be replaced in time, but there could be political backlash in states that are home to supply chain jobs, or those that depend on petroleum production such as Texas and Louisiana.Prof Heitt agrees we could see \"big regional impacts\" from the transition, but thinks ultimately the economics of electric vehicles will prevail.\"There is always going to be a group of Americans that feel strongly against electric cars,\" he says. \"But there were 17 million horses used for transport in the US around the turn of the 20th Century, and by the 1920s-30s the automobile had taken over.\"The question is, are we going to stick with horses or move on to the next technology?\" ',\n",
       " '',\n",
       " 'Many firms are citing a lack of finance as holding them back from the ability to quantify their carbon footprint.In May, the government called on small businesses to lead the charge and pledge to reach net zero by 2050 or sooner. This refers to the total amount of greenhouse gases released into the atmosphere as a result of the activities of a business. It can be reduced by improving the sustainability of a business. Measures such as cutting transport and heating costs or using less packaging can drive down the carbon footprint of a company and help it reach \\'net zero\\' - the balance between the amount of greenhouse gas produced and the amount removed from the atmosphere.Rachel Douglas, who runs The Laundry Lodge in Northumberland, says she \"has no clue\" how to work out her company\\'s carbon footprint and \"wouldn\\'t know where to start\". Only one in 10 of over a thousand firms surveyed by the British Chambers of Commerce (BCC) are measuring their carbon footprint and currently 26% of larger firms with more than 50 employees are measuring theirs.\"It would be useful to have clear information from the government on how to reduce the carbon we use,\" Ms Douglas tells the BBC.  The findings also show that one in five businesses don\\'t fully understand the term \"net zero\", and almost a third have yet to seek advice or information to help them develop a plan to reach net zero or improve their sustainability.  In order to reduce the environmental impact, Ms Douglas uses over 600 metres of washing line to dry 90% of the items she cleans. During high season, her laundry business cleans between 5,000 and 6,000 separate items per month, costing her Â£260 in electricity and a dedicated member of staff working till 10pm each day to peg items to the lines.   For the remaining 10% of items, she uses three higher energy consuming industrial driers, one of which is more eco-friendly but cost her an extra Â£1,000. Additional cleaning costs due to the pandemic have also meant less money is available to invest in sustainability. \"If there was any tax relief to make it easier to buy expensive eco-friendly products, that would be a huge help,\" she explains.Almost two thirds of businesses surveyed said they don\\'t see net zero targets as a high priority in the wake of the pandemic, although nearly half said their customers are worried about the environment. Though the government does publish emission factors which allow firms to work out their carbon footprint based on their activities, Ms Douglas says she has \"had to take a lot of decisions\" herself to make the business better for the environment because she wasn\\'t clear on government advice. John Barrett, a professor of energy and climate policy at the University of Leeds, says this advice is \"not widely known and not easy to find\" and the alternative is to pay consultancies between Â£20,000-30,000 to calculate the carbon footprint. \"If we want [small businesses] to make a meaningful contribution to reaching our net zero targets, we need to provide a free and professional service allowing them to understand their carbon impacts and showing them how they could reduce their impact.\"Historically, the government had a scheme through the Carbon Trust which meant that smaller firms could access advice for free but the scheme was later privatised.Dentist Jason Stokes, who runs the private Cathedral Street Dental practice in Norwich, also says the government carbon calculation spreadsheets aren\\'t \"specific enough\", as they fail to include clinical waste which is particularly damaging for the environment.Clinical waste has to be incinerated at a cost of Â£2,000 per year for his business, he says.\"It makes it more challenging and difficult to prioritise carbon reduction when the government\\'s support is so generic,\" he tells the BBC. Mr Stokes has invested in extra insulation and energy saving light bulbs to make the business better for the environment, but the pandemic has meant higher ventilation costs and more imported single use products - counteracting that carbon saving.   Builder Tom Veale, who owns a construction business based in Newent, also says he has \"no idea\" how to calculate his company\\'s carbon footprint.\"It would be useful to have help on calculating but without tax relief or any incentives what\\'s the point of working our carbon footprint out?\" The business spends over Â£600,000 annually on construction materials such as concrete and timber and as almost all are imported, Mr Veale said it\\'s \"even harder\" to measure their effect on the environment. And Professor Sam Turner from the group of manufacturing research centres High Value Manufacturing Catapult says that that without \"widely adopted standards\" for carbon accounting across supply chains, there is \"no market incentive to make the necessary investments to reduce carbon footprint\".Tina Bowden, owner of the Lavender Bake House in Stroud says she would also welcome government advice on how to improve. \"I don\\'t have the staff to spare to do the paperwork for carbon calculation and there\\'s no financial support to make it viable for us,\" she explains.. The business spends Â£25000 on renewable energy per month and that rather than making a 20% saving on imported produce from wholesalers, she tries to buy local products as much as possible.\"Any recyclable packaging is twice the price so it would help to have some sort of government subsidy so we don\\'t soak the cost up ourselves,\" she says.A spokesperson from the Department for Business, Energy & Industrial Strategy told the BBC: \"We know that some businesses may find this daunting, but our \\'Together for Our Planet\\' campaign is specifically targeted at providing SMEs with the practical tools, resources and advice they need to understand their emissions and develop a plan to tackle them.\"But Mike Cherry, the national chairman of the Federation of Small Businesses (FSB), is concerned that small business owners are strapped for time and money as their focus is squarely on recovery.\"The starting point here should really be concrete measures to empower small firms - which want to do the right thing - to make the transport, energy and logistical changes that will reduce their emissions,\" he added.  ',\n",
       " 'The creators of the South Park cartoons have signed a $900m (Â£646m) deal with US media giant ViacomCBS.The agreement will see Trey Parker and Matt Stone make new South Park episodes for the Comedy Central network.The pair are also set to create more than a dozen spinoff movies for Viacom\\'s Paramount+ streaming service.The first project of the deal will be a South Park film scheduled for release later this year.The agreement, which runs to the end of 2027, includes six seasons of the South Park TV show and 14 movies. \"Matt and Trey are world-class creatives who brilliantly use their outrageous humour to skewer the absurdities of our culture and we are excited to expand and deepen our long relationship with them to help fuel Paramount+ and Comedy Central,\" Chris McCarthy of MTV Entertainment and Paramount+ said in a statement.Parker and Stone even made light of the announcement, suggesting that the deal would last a lot longer than officially agreed: \"Comedy Central has been our home for 25 years and we\\'re really happy that they\\'ve made a commitment to us for the next 75 years.\"South Park debuted in 1997, focussing on the exploits of four boys - Stan Marsh, Kyle Broflovski, Eric Cartman, and Kenny McCormick - in and around the town of South Park in Colorado, USA.It has become infamous for its strong language and often controversial, dark and surreal humour that satirises a broad range of adult issues.The creators have produced more than 300 episodes to date and a movie that was released in 1999.The deal comes as the world\\'s biggest media and technology companies battle for dominance of the global streaming market.In recent months, the entertainment industry has seen billions of dollars-worth of deals to secure popular content.In May, Amazon agreed to buy MGM studios for $8.45bn.  It is one of Hollywood\\'s most famous studios producing classic films such as Some Like It Hot and Singin\\' In The Rain.']"
      ]
     },
     "execution_count": 32,
     "metadata": {},
     "output_type": "execute_result"
    }
   ],
   "source": [
    "bbc_news_articles_content = get_bbc_news_articles_content(extracted_bbc_links)\n",
    "bbc_news_articles_content"
   ]
  },
  {
   "cell_type": "markdown",
   "metadata": {},
   "source": [
    "For more clarity we want to get our data to DataFrame. For now we want to have columns for article headline, context, date and type.\n",
    "\n",
    "For that we need to get content and headline from every article. We already have article type and date."
   ]
  },
  {
   "cell_type": "markdown",
   "metadata": {},
   "source": [
    "###### 2. Data processing"
   ]
  },
  {
   "cell_type": "markdown",
   "metadata": {},
   "source": [
    "But firstly we have saved data from previous days. So let's get DataFrame and than add new data.\n",
    "\n",
    "DF is stored in **data** folder into csv file."
   ]
  },
  {
   "cell_type": "code",
   "execution_count": 33,
   "metadata": {},
   "outputs": [],
   "source": [
    "def get_dataframe_from_csv(path):\n",
    "    df = pd.read_csv(path)\n",
    "    return df"
   ]
  },
  {
   "cell_type": "markdown",
   "metadata": {},
   "source": [
    "One big problem occurs when we run this notebook several times in one day. We will add the same rows. So let's make function that removes diplicating rows."
   ]
  },
  {
   "cell_type": "code",
   "execution_count": 34,
   "metadata": {},
   "outputs": [],
   "source": [
    "def remove_duplicating_rows(dataframe):\n",
    "    duplicated = dataframe[dataframe.duplicated()]\n",
    "    dataframe.drop(duplicated.index, axis=0, inplace=True)\n",
    "    return dataframe.reset_index(drop=True)"
   ]
  },
  {
   "cell_type": "markdown",
   "metadata": {},
   "source": [
    "We want just news about business, investing, tech and economy. Create function remove_usless_news()."
   ]
  },
  {
   "cell_type": "code",
   "execution_count": 35,
   "metadata": {},
   "outputs": [],
   "source": [
    "def remove_usless_news(dataframe):\n",
    "    #Yes it is ugly but it is working\n",
    "    dataframe.drop(dataframe[(dataframe['news_type'] != 'business') &  (dataframe['news_type'] != 'tech') & (dataframe['news_type'] != 'investing') & (dataframe['news_type'] != 'economy')].index, axis=0, inplace=True)\n",
    "    return dataframe.reset_index(drop=True)"
   ]
  },
  {
   "cell_type": "markdown",
   "metadata": {},
   "source": [
    "We have our dates, types, content and headline and now is time to add them to dataframe."
   ]
  },
  {
   "cell_type": "markdown",
   "metadata": {},
   "source": [
    "Add BBC or CNN news to dataframe."
   ]
  },
  {
   "cell_type": "code",
   "execution_count": 36,
   "metadata": {},
   "outputs": [],
   "source": [
    "def add_bbc_or_cnn_news_to_dataframe(dataframe, data, source):\n",
    "    for i in range(0, len(data[0])):\n",
    "        dataframe.loc[len(dataframe)] = [data[0][i], data[1][i], data[2][i], data[3][i], source]\n",
    "    dataframe['date'] = pd.to_datetime(dataframe['date'])"
   ]
  },
  {
   "cell_type": "code",
   "execution_count": 37,
   "metadata": {},
   "outputs": [],
   "source": [
    "filename = 'news'\n",
    "path = 'data/'+filename\n",
    "text_data = get_dataframe_from_csv(path)\n",
    "cnn_data = [cnn_news_headlines, cnn_news_articles_content, cnn_news_timestamp, cnn_news_types]\n",
    "bbc_data = [bbc_news_headlines, bbc_news_articles_content, bbc_news_timestamp, bbc_news_types]\n",
    "add_bbc_or_cnn_news_to_dataframe(text_data, cnn_data, \"CNN\")\n",
    "add_bbc_or_cnn_news_to_dataframe(text_data, bbc_data, \"BBC\")"
   ]
  },
  {
   "cell_type": "code",
   "execution_count": 38,
   "metadata": {},
   "outputs": [],
   "source": [
    "text_data = remove_duplicating_rows(text_data)\n",
    "text_data = remove_usless_news(text_data)"
   ]
  },
  {
   "cell_type": "code",
   "execution_count": 39,
   "metadata": {
    "scrolled": true
   },
   "outputs": [
    {
     "data": {
      "text/html": [
       "<div>\n",
       "<style scoped>\n",
       "    .dataframe tbody tr th:only-of-type {\n",
       "        vertical-align: middle;\n",
       "    }\n",
       "\n",
       "    .dataframe tbody tr th {\n",
       "        vertical-align: top;\n",
       "    }\n",
       "\n",
       "    .dataframe thead th {\n",
       "        text-align: right;\n",
       "    }\n",
       "</style>\n",
       "<table border=\"1\" class=\"dataframe\">\n",
       "  <thead>\n",
       "    <tr style=\"text-align: right;\">\n",
       "      <th></th>\n",
       "      <th>headline</th>\n",
       "      <th>content</th>\n",
       "      <th>date</th>\n",
       "      <th>news_type</th>\n",
       "      <th>source</th>\n",
       "    </tr>\n",
       "  </thead>\n",
       "  <tbody>\n",
       "    <tr>\n",
       "      <th>0</th>\n",
       "      <td>Alibaba fires employee accused of sexual assau...</td>\n",
       "      <td>The company on Monday said it has fired an emp...</td>\n",
       "      <td>2021-08-09</td>\n",
       "      <td>tech</td>\n",
       "      <td>CNN</td>\n",
       "    </tr>\n",
       "    <tr>\n",
       "      <th>1</th>\n",
       "      <td>Twitter suspends Marjorie Taylor Greene's acco...</td>\n",
       "      <td>Greene tweeted on Monday that the Food and Dru...</td>\n",
       "      <td>2021-08-10</td>\n",
       "      <td>tech</td>\n",
       "      <td>CNN</td>\n",
       "    </tr>\n",
       "    <tr>\n",
       "      <th>2</th>\n",
       "      <td>Why Silicon Valley is betting on making this d...</td>\n",
       "      <td>The metaverse was originally conceived as the ...</td>\n",
       "      <td>2021-08-08</td>\n",
       "      <td>tech</td>\n",
       "      <td>CNN</td>\n",
       "    </tr>\n",
       "    <tr>\n",
       "      <th>3</th>\n",
       "      <td>AMC is playing to the Reddit crowd</td>\n",
       "      <td>A version of this story first appeared in CNN ...</td>\n",
       "      <td>2021-08-10</td>\n",
       "      <td>investing</td>\n",
       "      <td>CNN</td>\n",
       "    </tr>\n",
       "    <tr>\n",
       "      <th>4</th>\n",
       "      <td>SoftBank's CEO went big on China. Now he's pul...</td>\n",
       "      <td>The Japanese billionaire said at an earnings p...</td>\n",
       "      <td>2021-08-10</td>\n",
       "      <td>investing</td>\n",
       "      <td>CNN</td>\n",
       "    </tr>\n",
       "    <tr>\n",
       "      <th>...</th>\n",
       "      <td>...</td>\n",
       "      <td>...</td>\n",
       "      <td>...</td>\n",
       "      <td>...</td>\n",
       "      <td>...</td>\n",
       "    </tr>\n",
       "    <tr>\n",
       "      <th>86</th>\n",
       "      <td>Ningbo: Global supply fears as China partly sh...</td>\n",
       "      <td>The partial closure of one of China's biggest ...</td>\n",
       "      <td>2021-08-13</td>\n",
       "      <td>business</td>\n",
       "      <td>BBC</td>\n",
       "    </tr>\n",
       "    <tr>\n",
       "      <th>87</th>\n",
       "      <td>Ningbo: Global supply fears as China partly sh...</td>\n",
       "      <td>The partial closure of one of China's biggest ...</td>\n",
       "      <td>2021-08-13</td>\n",
       "      <td>business</td>\n",
       "      <td>BBC</td>\n",
       "    </tr>\n",
       "    <tr>\n",
       "      <th>88</th>\n",
       "      <td>Lord of the Rings: Amazon moves show to UK fro...</td>\n",
       "      <td>Technology giant Amazon's TV and film business...</td>\n",
       "      <td>2021-08-13</td>\n",
       "      <td>business</td>\n",
       "      <td>BBC</td>\n",
       "    </tr>\n",
       "    <tr>\n",
       "      <th>89</th>\n",
       "      <td>The $8bn EV company youâve probably never he...</td>\n",
       "      <td></td>\n",
       "      <td>2021-08-12</td>\n",
       "      <td>business</td>\n",
       "      <td>BBC</td>\n",
       "    </tr>\n",
       "    <tr>\n",
       "      <th>90</th>\n",
       "      <td>Firms want help to measure their carbon footprint</td>\n",
       "      <td>Many firms are citing a lack of finance as hol...</td>\n",
       "      <td>2021-08-13</td>\n",
       "      <td>business</td>\n",
       "      <td>BBC</td>\n",
       "    </tr>\n",
       "  </tbody>\n",
       "</table>\n",
       "<p>91 rows × 5 columns</p>\n",
       "</div>"
      ],
      "text/plain": [
       "                                             headline  \\\n",
       "0   Alibaba fires employee accused of sexual assau...   \n",
       "1   Twitter suspends Marjorie Taylor Greene's acco...   \n",
       "2   Why Silicon Valley is betting on making this d...   \n",
       "3                  AMC is playing to the Reddit crowd   \n",
       "4   SoftBank's CEO went big on China. Now he's pul...   \n",
       "..                                                ...   \n",
       "86  Ningbo: Global supply fears as China partly sh...   \n",
       "87  Ningbo: Global supply fears as China partly sh...   \n",
       "88  Lord of the Rings: Amazon moves show to UK fro...   \n",
       "89  The $8bn EV company youâve probably never he...   \n",
       "90  Firms want help to measure their carbon footprint   \n",
       "\n",
       "                                              content       date  news_type  \\\n",
       "0   The company on Monday said it has fired an emp... 2021-08-09       tech   \n",
       "1   Greene tweeted on Monday that the Food and Dru... 2021-08-10       tech   \n",
       "2   The metaverse was originally conceived as the ... 2021-08-08       tech   \n",
       "3   A version of this story first appeared in CNN ... 2021-08-10  investing   \n",
       "4   The Japanese billionaire said at an earnings p... 2021-08-10  investing   \n",
       "..                                                ...        ...        ...   \n",
       "86  The partial closure of one of China's biggest ... 2021-08-13   business   \n",
       "87  The partial closure of one of China's biggest ... 2021-08-13   business   \n",
       "88  Technology giant Amazon's TV and film business... 2021-08-13   business   \n",
       "89                                                    2021-08-12   business   \n",
       "90  Many firms are citing a lack of finance as hol... 2021-08-13   business   \n",
       "\n",
       "   source  \n",
       "0     CNN  \n",
       "1     CNN  \n",
       "2     CNN  \n",
       "3     CNN  \n",
       "4     CNN  \n",
       "..    ...  \n",
       "86    BBC  \n",
       "87    BBC  \n",
       "88    BBC  \n",
       "89    BBC  \n",
       "90    BBC  \n",
       "\n",
       "[91 rows x 5 columns]"
      ]
     },
     "execution_count": 39,
     "metadata": {},
     "output_type": "execute_result"
    }
   ],
   "source": [
    "text_data"
   ]
  },
  {
   "cell_type": "markdown",
   "metadata": {},
   "source": [
    "Save changed DF to .csv file"
   ]
  },
  {
   "cell_type": "code",
   "execution_count": 40,
   "metadata": {},
   "outputs": [],
   "source": [
    "def save_dataframe_to_csv(dataframe, filename):\n",
    "    path = \"data/\" + filename\n",
    "    dataframe.to_csv(path, index=False)"
   ]
  },
  {
   "cell_type": "code",
   "execution_count": 41,
   "metadata": {},
   "outputs": [],
   "source": [
    "save_dataframe_to_csv(text_data, 'news')"
   ]
  },
  {
   "cell_type": "markdown",
   "metadata": {},
   "source": [
    "Types of DataFrame are:"
   ]
  },
  {
   "cell_type": "code",
   "execution_count": 42,
   "metadata": {},
   "outputs": [
    {
     "data": {
      "text/plain": [
       "headline             object\n",
       "content              object\n",
       "date         datetime64[ns]\n",
       "news_type            object\n",
       "source               object\n",
       "dtype: object"
      ]
     },
     "execution_count": 42,
     "metadata": {},
     "output_type": "execute_result"
    }
   ],
   "source": [
    "text_data.dtypes"
   ]
  },
  {
   "cell_type": "markdown",
   "metadata": {},
   "source": [
    "Content from first article:"
   ]
  },
  {
   "cell_type": "code",
   "execution_count": 43,
   "metadata": {},
   "outputs": [
    {
     "name": "stdout",
     "output_type": "stream",
     "text": [
      "Alibaba fires employee accused of sexual assault as pressure mounts on Chinese tech\n"
     ]
    }
   ],
   "source": [
    "content = text_data.loc[0]['content']\n",
    "print(text_data.loc[0]['headline'])"
   ]
  },
  {
   "cell_type": "markdown",
   "metadata": {},
   "source": [
    "###### 3.Text Analisys"
   ]
  },
  {
   "cell_type": "markdown",
   "metadata": {},
   "source": [
    "It every text there are stopwords - high-frequency words like the, to, and, also, that. We sometimes want to filter out of a document before further processing. Stopwords usually have little lexical content, and their presence in a text fails to distinguish it from other texts.\n",
    "\n",
    "So we  will remove them from this article."
   ]
  },
  {
   "cell_type": "markdown",
   "metadata": {},
   "source": [
    "Firstly let's see what english stopwords are. NLTK library has a built-in module with stopwords."
   ]
  },
  {
   "cell_type": "code",
   "execution_count": 44,
   "metadata": {},
   "outputs": [
    {
     "data": {
      "text/plain": [
       "['i',\n",
       " 'me',\n",
       " 'my',\n",
       " 'myself',\n",
       " 'we',\n",
       " 'our',\n",
       " 'ours',\n",
       " 'ourselves',\n",
       " 'you',\n",
       " \"you're\",\n",
       " \"you've\",\n",
       " \"you'll\",\n",
       " \"you'd\",\n",
       " 'your',\n",
       " 'yours',\n",
       " 'yourself',\n",
       " 'yourselves',\n",
       " 'he',\n",
       " 'him',\n",
       " 'his',\n",
       " 'himself',\n",
       " 'she',\n",
       " \"she's\",\n",
       " 'her',\n",
       " 'hers',\n",
       " 'herself',\n",
       " 'it',\n",
       " \"it's\",\n",
       " 'its',\n",
       " 'itself',\n",
       " 'they',\n",
       " 'them',\n",
       " 'their',\n",
       " 'theirs',\n",
       " 'themselves',\n",
       " 'what',\n",
       " 'which',\n",
       " 'who',\n",
       " 'whom',\n",
       " 'this',\n",
       " 'that',\n",
       " \"that'll\",\n",
       " 'these',\n",
       " 'those',\n",
       " 'am',\n",
       " 'is',\n",
       " 'are',\n",
       " 'was',\n",
       " 'were',\n",
       " 'be',\n",
       " 'been',\n",
       " 'being',\n",
       " 'have',\n",
       " 'has',\n",
       " 'had',\n",
       " 'having',\n",
       " 'do',\n",
       " 'does',\n",
       " 'did',\n",
       " 'doing',\n",
       " 'a',\n",
       " 'an',\n",
       " 'the',\n",
       " 'and',\n",
       " 'but',\n",
       " 'if',\n",
       " 'or',\n",
       " 'because',\n",
       " 'as',\n",
       " 'until',\n",
       " 'while',\n",
       " 'of',\n",
       " 'at',\n",
       " 'by',\n",
       " 'for',\n",
       " 'with',\n",
       " 'about',\n",
       " 'against',\n",
       " 'between',\n",
       " 'into',\n",
       " 'through',\n",
       " 'during',\n",
       " 'before',\n",
       " 'after',\n",
       " 'above',\n",
       " 'below',\n",
       " 'to',\n",
       " 'from',\n",
       " 'up',\n",
       " 'down',\n",
       " 'in',\n",
       " 'out',\n",
       " 'on',\n",
       " 'off',\n",
       " 'over',\n",
       " 'under',\n",
       " 'again',\n",
       " 'further',\n",
       " 'then',\n",
       " 'once',\n",
       " 'here',\n",
       " 'there',\n",
       " 'when',\n",
       " 'where',\n",
       " 'why',\n",
       " 'how',\n",
       " 'all',\n",
       " 'any',\n",
       " 'both',\n",
       " 'each',\n",
       " 'few',\n",
       " 'more',\n",
       " 'most',\n",
       " 'other',\n",
       " 'some',\n",
       " 'such',\n",
       " 'no',\n",
       " 'nor',\n",
       " 'not',\n",
       " 'only',\n",
       " 'own',\n",
       " 'same',\n",
       " 'so',\n",
       " 'than',\n",
       " 'too',\n",
       " 'very',\n",
       " 's',\n",
       " 't',\n",
       " 'can',\n",
       " 'will',\n",
       " 'just',\n",
       " 'don',\n",
       " \"don't\",\n",
       " 'should',\n",
       " \"should've\",\n",
       " 'now',\n",
       " 'd',\n",
       " 'll',\n",
       " 'm',\n",
       " 'o',\n",
       " 're',\n",
       " 've',\n",
       " 'y',\n",
       " 'ain',\n",
       " 'aren',\n",
       " \"aren't\",\n",
       " 'couldn',\n",
       " \"couldn't\",\n",
       " 'didn',\n",
       " \"didn't\",\n",
       " 'doesn',\n",
       " \"doesn't\",\n",
       " 'hadn',\n",
       " \"hadn't\",\n",
       " 'hasn',\n",
       " \"hasn't\",\n",
       " 'haven',\n",
       " \"haven't\",\n",
       " 'isn',\n",
       " \"isn't\",\n",
       " 'ma',\n",
       " 'mightn',\n",
       " \"mightn't\",\n",
       " 'mustn',\n",
       " \"mustn't\",\n",
       " 'needn',\n",
       " \"needn't\",\n",
       " 'shan',\n",
       " \"shan't\",\n",
       " 'shouldn',\n",
       " \"shouldn't\",\n",
       " 'wasn',\n",
       " \"wasn't\",\n",
       " 'weren',\n",
       " \"weren't\",\n",
       " 'won',\n",
       " \"won't\",\n",
       " 'wouldn',\n",
       " \"wouldn't\"]"
      ]
     },
     "execution_count": 44,
     "metadata": {},
     "output_type": "execute_result"
    }
   ],
   "source": [
    "stopwords.words('english')"
   ]
  },
  {
   "cell_type": "code",
   "execution_count": 45,
   "metadata": {
    "scrolled": false
   },
   "outputs": [
    {
     "data": {
      "text/plain": [
       "'The company on Monday said it has fired an employee after he was accused of sexually assaulting a woman who also works at Alibaba (BABA). The man confessed to actions that Alibaba deemed \"in serious violation of company policy,\" according to a memo sent by Alibaba Group chairman and CEO Daniel Zhang to employees.Two senior employees also resigned after they \"failed to prioritize employee protection,\" according to Zhang\\'s memo.\"Alibaba Group has a zero-tolerance policy against sexual misconduct, and ensuring a safe workplace for all our employees is Alibaba\\'s top priority,\" a company spokesperson said in a statement to CNN Business.The allegations — which were widely circulated on Chinese social media over the weekend — have rocked Alibaba at a time when it and other Chinese tech companies are already facing incredible scrutiny from Chinese regulators over their business. The claims triggered public outcry as many criticized the company for its handling of the situation. The controversy started after a post — allegedly written by the victim, who did not identify herself, and published on an internal Alibaba website — circulated on the Chinese social media website Weibo. According to'"
      ]
     },
     "execution_count": 45,
     "metadata": {},
     "output_type": "execute_result"
    }
   ],
   "source": [
    "content[:1200]"
   ]
  },
  {
   "cell_type": "markdown",
   "metadata": {},
   "source": [
    "if we discover the text more carefully to see that some sentences are merged. There is no space after some of punctuation marks, like: a company spokesperson said in a statement to CNN **Business.The** allegations — which were widely circulated on Chinese social media over the weekend. If we tokenize this sentence we will have ```Business.The``` as token. We do not want that to happen so we will use WordPunktTokenizer."
   ]
  },
  {
   "cell_type": "code",
   "execution_count": 46,
   "metadata": {},
   "outputs": [],
   "source": [
    "def add_whitespace_after_punctuation_mark(text):\n",
    "    for i in range(0,len(text) - 2):\n",
    "        if text[i] in '.?!':\n",
    "            if text[i+1] != ' ' and text[i+1] not in '.?!':\n",
    "                text = text[:i+1] + ' ' + text[i+1:]\n",
    "    return text"
   ]
  },
  {
   "cell_type": "code",
   "execution_count": 47,
   "metadata": {
    "scrolled": true
   },
   "outputs": [
    {
     "data": {
      "text/plain": [
       "'The company on Monday said it has fired an employee after he was accused of sexually assaulting a woman who also works at Alibaba (BABA). The man confessed to actions that Alibaba deemed \"in serious violation of company policy,\" according to a memo sent by Alibaba Group chairman and CEO Daniel Zhang to employees. Two senior employees also resigned after they \"failed to prioritize employee protection,\" according to Zhang\\'s memo. \"Alibaba Group has a zero-tolerance policy against sexual misconduct, and ensuring a safe workplace for all our employees is Alibaba\\'s top priority,\" a company spokesperson said in a statement to CNN Business. The allegations — which were widely circulated on Chinese social media over the weekend — have rocked Alibaba at a time when it and other Chinese tech companies are already facing incredible scrutiny from Chinese regulators over their business. The claims triggered public outcry as many criticized the company for its handling of the situation. The controversy started after a post — allegedly written by the victim, who did not identify herself, and published on an internal Alibaba website — circulated on the Chinese social media website Weibo. According to screenshots of the 8,000-word account, the woman claimed she was assaulted by her supervisor during a business trip to Jinan, a city in eastern China, while she says she was drunk. \"The male leader even entered my hotel room four times that night with condom and assaulted me!!!! When I typed the lines above, I couldn\\'t control myself, and I broke into tears. I never thought that I would have such an experience,\" she wrote. \"When I think about it now, it just feels like a nightmare, one that makes you terrified, scared, helpless, helpless nightmare! \"CNN Business cannot confirm the authenticity of the post. The post has exploded on Chinese social media. Topics related to the incident have been viewed 850 million times on Weibo, generating more than 510,000 discussion posts. Some commenters accused Alibaba of failing to protect the rights of its employees. The woman allegedly claimed that the company brushed off her concerns when she reported them. \"How come there are still female employees who have been pushed and pressured by their leaders to drink and are violated. Is this the Alibaba culture? \" wrote one Weibo user. \"I really hope the results of the investigation can become clear as soon as possible. Such a large company must protect its employees. \"On Sunday, police in Jinan announced on Weibo that they had launched a probe into the case. \"The police are actively investigating the matter and collecting evidence,\" they said in a statement. The accused has not been charged with any crime. In the memo to employees on Monday, Zhang said the employee confessed to \"intimate acts\" with a woman who was inebriated, violating company policy. \"Whether he has committed rape or indecency that violates the law will be determined by law enforcement,\" Zhang added in the memo, which was posted publicly on the company\\'s news website. \"He will be fired and never be rehired,\" Zhang wrote. Two executives, including the president of Alibaba\\'s Neighborhood Retail group, have resigned over the handling of the incident, according to Zhang, who added that the woman reported the incident to the company August 2. \"We believe that the head of the business is both the owner of the business and the team\\'s culture,\" Zhang wrote, adding that when the woman reported \"a horrendous act ... they did not make timely decisions nor took appropriate action. \"\"This incident has caused tremendous harm to her. We will do everything we can to take care of her,\" Zhang wrote. Zhang added that the company\\'s chief people officer has also been reprimanded, and said that the company will establish a dedicated reporting channel for employees, as well as create an \"anti-sexual harassment policy\" that will include input from experts and employees. Zhang also acknowledged that the incident highlights what he called a culture of \"forced drinking,\" referring to alcohol-heavy events that are popular in China to secure business deals or build partnerships.  \"Although the police are still investigating the specific circumstances of the dinner that day, we are staunchly opposed to the ugly forced drinking culture,\" he wrote. \"Regardless of gender, whether it is a request made by a customer or a supervisor, our employees are empowered to reject it. \"The scandal\\'s rapid spread on social media — along with the public outrage that ensued — comes as major firms, including Alibaba, have faced huge regulatory pressure. As President Xi Jinping increasingly emphasizes the ruling Communist Party\\'s dominant role in every aspect of China\\'s economy and society, regulators have targeted tech, education and other businesses with fines and restrictions. Complaints about work culture play into that scrutiny. Pinduoduo, an e-commerce firm and rival to Alibaba, faced intense public backlash earlier this year  over accusations that it overworks its employees after two of its employees died unexpectedly, including a man who died by suicide. Chinese social media users started calling out the deaths as emblematic of a troublesome work culture, and a former software engineer at the company escalated criticisms in several posts where he accused the company of overworking its employees. The company did not respond at the time to questions about the allegations made against its work culture, but did say that it had set up a team to provide psychological counseling following the suicide of a worker.'"
      ]
     },
     "execution_count": 47,
     "metadata": {},
     "output_type": "execute_result"
    }
   ],
   "source": [
    "text = add_whitespace_after_punctuation_mark(content)\n",
    "text"
   ]
  },
  {
   "cell_type": "markdown",
   "metadata": {},
   "source": [
    "Now ```Business. The``` is OK."
   ]
  },
  {
   "cell_type": "markdown",
   "metadata": {},
   "source": [
    "Tokenize our text into words. "
   ]
  },
  {
   "cell_type": "code",
   "execution_count": 48,
   "metadata": {},
   "outputs": [],
   "source": [
    "def tokenize_text(text):\n",
    "    return WordPunctTokenizer().tokenize(text)"
   ]
  },
  {
   "cell_type": "code",
   "execution_count": 49,
   "metadata": {
    "scrolled": true
   },
   "outputs": [
    {
     "data": {
      "text/plain": [
       "['The',\n",
       " 'company',\n",
       " 'on',\n",
       " 'Monday',\n",
       " 'said',\n",
       " 'it',\n",
       " 'has',\n",
       " 'fired',\n",
       " 'an',\n",
       " 'employee',\n",
       " 'after',\n",
       " 'he',\n",
       " 'was',\n",
       " 'accused',\n",
       " 'of',\n",
       " 'sexually',\n",
       " 'assaulting',\n",
       " 'a',\n",
       " 'woman',\n",
       " 'who',\n",
       " 'also',\n",
       " 'works',\n",
       " 'at',\n",
       " 'Alibaba',\n",
       " '(',\n",
       " 'BABA',\n",
       " ').',\n",
       " 'The',\n",
       " 'man',\n",
       " 'confessed',\n",
       " 'to',\n",
       " 'actions',\n",
       " 'that',\n",
       " 'Alibaba',\n",
       " 'deemed',\n",
       " '\"',\n",
       " 'in',\n",
       " 'serious',\n",
       " 'violation',\n",
       " 'of',\n",
       " 'company',\n",
       " 'policy',\n",
       " ',\"',\n",
       " 'according',\n",
       " 'to',\n",
       " 'a',\n",
       " 'memo',\n",
       " 'sent',\n",
       " 'by',\n",
       " 'Alibaba',\n",
       " 'Group',\n",
       " 'chairman',\n",
       " 'and',\n",
       " 'CEO',\n",
       " 'Daniel',\n",
       " 'Zhang',\n",
       " 'to',\n",
       " 'employees',\n",
       " '.',\n",
       " 'Two',\n",
       " 'senior',\n",
       " 'employees',\n",
       " 'also',\n",
       " 'resigned',\n",
       " 'after',\n",
       " 'they',\n",
       " '\"',\n",
       " 'failed',\n",
       " 'to',\n",
       " 'prioritize',\n",
       " 'employee',\n",
       " 'protection',\n",
       " ',\"',\n",
       " 'according',\n",
       " 'to',\n",
       " 'Zhang',\n",
       " \"'\",\n",
       " 's',\n",
       " 'memo',\n",
       " '.',\n",
       " '\"',\n",
       " 'Alibaba',\n",
       " 'Group',\n",
       " 'has',\n",
       " 'a',\n",
       " 'zero',\n",
       " '-',\n",
       " 'tolerance',\n",
       " 'policy',\n",
       " 'against',\n",
       " 'sexual',\n",
       " 'misconduct',\n",
       " ',',\n",
       " 'and',\n",
       " 'ensuring',\n",
       " 'a',\n",
       " 'safe',\n",
       " 'workplace',\n",
       " 'for',\n",
       " 'all',\n",
       " 'our',\n",
       " 'employees',\n",
       " 'is',\n",
       " 'Alibaba',\n",
       " \"'\",\n",
       " 's',\n",
       " 'top',\n",
       " 'priority',\n",
       " ',\"',\n",
       " 'a',\n",
       " 'company',\n",
       " 'spokesperson',\n",
       " 'said',\n",
       " 'in',\n",
       " 'a',\n",
       " 'statement',\n",
       " 'to',\n",
       " 'CNN',\n",
       " 'Business',\n",
       " '.',\n",
       " 'The',\n",
       " 'allegations',\n",
       " '—',\n",
       " 'which',\n",
       " 'were',\n",
       " 'widely',\n",
       " 'circulated',\n",
       " 'on',\n",
       " 'Chinese',\n",
       " 'social',\n",
       " 'media',\n",
       " 'over',\n",
       " 'the',\n",
       " 'weekend',\n",
       " '—',\n",
       " 'have',\n",
       " 'rocked',\n",
       " 'Alibaba',\n",
       " 'at',\n",
       " 'a',\n",
       " 'time',\n",
       " 'when',\n",
       " 'it',\n",
       " 'and',\n",
       " 'other',\n",
       " 'Chinese',\n",
       " 'tech',\n",
       " 'companies',\n",
       " 'are',\n",
       " 'already',\n",
       " 'facing',\n",
       " 'incredible',\n",
       " 'scrutiny',\n",
       " 'from',\n",
       " 'Chinese',\n",
       " 'regulators',\n",
       " 'over',\n",
       " 'their',\n",
       " 'business',\n",
       " '.',\n",
       " 'The',\n",
       " 'claims',\n",
       " 'triggered',\n",
       " 'public',\n",
       " 'outcry',\n",
       " 'as',\n",
       " 'many',\n",
       " 'criticized',\n",
       " 'the',\n",
       " 'company',\n",
       " 'for',\n",
       " 'its',\n",
       " 'handling',\n",
       " 'of',\n",
       " 'the',\n",
       " 'situation',\n",
       " '.',\n",
       " 'The',\n",
       " 'controversy',\n",
       " 'started',\n",
       " 'after',\n",
       " 'a',\n",
       " 'post',\n",
       " '—',\n",
       " 'allegedly',\n",
       " 'written',\n",
       " 'by',\n",
       " 'the',\n",
       " 'victim',\n",
       " ',',\n",
       " 'who',\n",
       " 'did',\n",
       " 'not',\n",
       " 'identify',\n",
       " 'herself',\n",
       " ',',\n",
       " 'and',\n",
       " 'published',\n",
       " 'on',\n",
       " 'an',\n",
       " 'internal',\n",
       " 'Alibaba',\n",
       " 'website',\n",
       " '—',\n",
       " 'circulated',\n",
       " 'on',\n",
       " 'the',\n",
       " 'Chinese',\n",
       " 'social',\n",
       " 'media',\n",
       " 'website',\n",
       " 'Weibo',\n",
       " '.',\n",
       " 'According',\n",
       " 'to',\n",
       " 'screenshots',\n",
       " 'of',\n",
       " 'the',\n",
       " '8',\n",
       " ',',\n",
       " '000',\n",
       " '-',\n",
       " 'word',\n",
       " 'account',\n",
       " ',',\n",
       " 'the',\n",
       " 'woman',\n",
       " 'claimed',\n",
       " 'she',\n",
       " 'was',\n",
       " 'assaulted',\n",
       " 'by',\n",
       " 'her',\n",
       " 'supervisor',\n",
       " 'during',\n",
       " 'a',\n",
       " 'business',\n",
       " 'trip',\n",
       " 'to',\n",
       " 'Jinan',\n",
       " ',',\n",
       " 'a',\n",
       " 'city',\n",
       " 'in',\n",
       " 'eastern',\n",
       " 'China',\n",
       " ',',\n",
       " 'while',\n",
       " 'she',\n",
       " 'says',\n",
       " 'she',\n",
       " 'was',\n",
       " 'drunk',\n",
       " '.',\n",
       " '\"',\n",
       " 'The',\n",
       " 'male',\n",
       " 'leader',\n",
       " 'even',\n",
       " 'entered',\n",
       " 'my',\n",
       " 'hotel',\n",
       " 'room',\n",
       " 'four',\n",
       " 'times',\n",
       " 'that',\n",
       " 'night',\n",
       " 'with',\n",
       " 'condom',\n",
       " 'and',\n",
       " 'assaulted',\n",
       " 'me',\n",
       " '!!!!',\n",
       " 'When',\n",
       " 'I',\n",
       " 'typed',\n",
       " 'the',\n",
       " 'lines',\n",
       " 'above',\n",
       " ',',\n",
       " 'I',\n",
       " 'couldn',\n",
       " \"'\",\n",
       " 't',\n",
       " 'control',\n",
       " 'myself',\n",
       " ',',\n",
       " 'and',\n",
       " 'I',\n",
       " 'broke',\n",
       " 'into',\n",
       " 'tears',\n",
       " '.',\n",
       " 'I',\n",
       " 'never',\n",
       " 'thought',\n",
       " 'that',\n",
       " 'I',\n",
       " 'would',\n",
       " 'have',\n",
       " 'such',\n",
       " 'an',\n",
       " 'experience',\n",
       " ',\"',\n",
       " 'she',\n",
       " 'wrote',\n",
       " '.',\n",
       " '\"',\n",
       " 'When',\n",
       " 'I',\n",
       " 'think',\n",
       " 'about',\n",
       " 'it',\n",
       " 'now',\n",
       " ',',\n",
       " 'it',\n",
       " 'just',\n",
       " 'feels',\n",
       " 'like',\n",
       " 'a',\n",
       " 'nightmare',\n",
       " ',',\n",
       " 'one',\n",
       " 'that',\n",
       " 'makes',\n",
       " 'you',\n",
       " 'terrified',\n",
       " ',',\n",
       " 'scared',\n",
       " ',',\n",
       " 'helpless',\n",
       " ',',\n",
       " 'helpless',\n",
       " 'nightmare',\n",
       " '!',\n",
       " '\"',\n",
       " 'CNN',\n",
       " 'Business',\n",
       " 'cannot',\n",
       " 'confirm',\n",
       " 'the',\n",
       " 'authenticity',\n",
       " 'of',\n",
       " 'the',\n",
       " 'post',\n",
       " '.',\n",
       " 'The',\n",
       " 'post',\n",
       " 'has',\n",
       " 'exploded',\n",
       " 'on',\n",
       " 'Chinese',\n",
       " 'social',\n",
       " 'media',\n",
       " '.',\n",
       " 'Topics',\n",
       " 'related',\n",
       " 'to',\n",
       " 'the',\n",
       " 'incident',\n",
       " 'have',\n",
       " 'been',\n",
       " 'viewed',\n",
       " '850',\n",
       " 'million',\n",
       " 'times',\n",
       " 'on',\n",
       " 'Weibo',\n",
       " ',',\n",
       " 'generating',\n",
       " 'more',\n",
       " 'than',\n",
       " '510',\n",
       " ',',\n",
       " '000',\n",
       " 'discussion',\n",
       " 'posts',\n",
       " '.',\n",
       " 'Some',\n",
       " 'commenters',\n",
       " 'accused',\n",
       " 'Alibaba',\n",
       " 'of',\n",
       " 'failing',\n",
       " 'to',\n",
       " 'protect',\n",
       " 'the',\n",
       " 'rights',\n",
       " 'of',\n",
       " 'its',\n",
       " 'employees',\n",
       " '.',\n",
       " 'The',\n",
       " 'woman',\n",
       " 'allegedly',\n",
       " 'claimed',\n",
       " 'that',\n",
       " 'the',\n",
       " 'company',\n",
       " 'brushed',\n",
       " 'off',\n",
       " 'her',\n",
       " 'concerns',\n",
       " 'when',\n",
       " 'she',\n",
       " 'reported',\n",
       " 'them',\n",
       " '.',\n",
       " '\"',\n",
       " 'How',\n",
       " 'come',\n",
       " 'there',\n",
       " 'are',\n",
       " 'still',\n",
       " 'female',\n",
       " 'employees',\n",
       " 'who',\n",
       " 'have',\n",
       " 'been',\n",
       " 'pushed',\n",
       " 'and',\n",
       " 'pressured',\n",
       " 'by',\n",
       " 'their',\n",
       " 'leaders',\n",
       " 'to',\n",
       " 'drink',\n",
       " 'and',\n",
       " 'are',\n",
       " 'violated',\n",
       " '.',\n",
       " 'Is',\n",
       " 'this',\n",
       " 'the',\n",
       " 'Alibaba',\n",
       " 'culture',\n",
       " '?',\n",
       " '\"',\n",
       " 'wrote',\n",
       " 'one',\n",
       " 'Weibo',\n",
       " 'user',\n",
       " '.',\n",
       " '\"',\n",
       " 'I',\n",
       " 'really',\n",
       " 'hope',\n",
       " 'the',\n",
       " 'results',\n",
       " 'of',\n",
       " 'the',\n",
       " 'investigation',\n",
       " 'can',\n",
       " 'become',\n",
       " 'clear',\n",
       " 'as',\n",
       " 'soon',\n",
       " 'as',\n",
       " 'possible',\n",
       " '.',\n",
       " 'Such',\n",
       " 'a',\n",
       " 'large',\n",
       " 'company',\n",
       " 'must',\n",
       " 'protect',\n",
       " 'its',\n",
       " 'employees',\n",
       " '.',\n",
       " '\"',\n",
       " 'On',\n",
       " 'Sunday',\n",
       " ',',\n",
       " 'police',\n",
       " 'in',\n",
       " 'Jinan',\n",
       " 'announced',\n",
       " 'on',\n",
       " 'Weibo',\n",
       " 'that',\n",
       " 'they',\n",
       " 'had',\n",
       " 'launched',\n",
       " 'a',\n",
       " 'probe',\n",
       " 'into',\n",
       " 'the',\n",
       " 'case',\n",
       " '.',\n",
       " '\"',\n",
       " 'The',\n",
       " 'police',\n",
       " 'are',\n",
       " 'actively',\n",
       " 'investigating',\n",
       " 'the',\n",
       " 'matter',\n",
       " 'and',\n",
       " 'collecting',\n",
       " 'evidence',\n",
       " ',\"',\n",
       " 'they',\n",
       " 'said',\n",
       " 'in',\n",
       " 'a',\n",
       " 'statement',\n",
       " '.',\n",
       " 'The',\n",
       " 'accused',\n",
       " 'has',\n",
       " 'not',\n",
       " 'been',\n",
       " 'charged',\n",
       " 'with',\n",
       " 'any',\n",
       " 'crime',\n",
       " '.',\n",
       " 'In',\n",
       " 'the',\n",
       " 'memo',\n",
       " 'to',\n",
       " 'employees',\n",
       " 'on',\n",
       " 'Monday',\n",
       " ',',\n",
       " 'Zhang',\n",
       " 'said',\n",
       " 'the',\n",
       " 'employee',\n",
       " 'confessed',\n",
       " 'to',\n",
       " '\"',\n",
       " 'intimate',\n",
       " 'acts',\n",
       " '\"',\n",
       " 'with',\n",
       " 'a',\n",
       " 'woman',\n",
       " 'who',\n",
       " 'was',\n",
       " 'inebriated',\n",
       " ',',\n",
       " 'violating',\n",
       " 'company',\n",
       " 'policy',\n",
       " '.',\n",
       " '\"',\n",
       " 'Whether',\n",
       " 'he',\n",
       " 'has',\n",
       " 'committed',\n",
       " 'rape',\n",
       " 'or',\n",
       " 'indecency',\n",
       " 'that',\n",
       " 'violates',\n",
       " 'the',\n",
       " 'law',\n",
       " 'will',\n",
       " 'be',\n",
       " 'determined',\n",
       " 'by',\n",
       " 'law',\n",
       " 'enforcement',\n",
       " ',\"',\n",
       " 'Zhang',\n",
       " 'added',\n",
       " 'in',\n",
       " 'the',\n",
       " 'memo',\n",
       " ',',\n",
       " 'which',\n",
       " 'was',\n",
       " 'posted',\n",
       " 'publicly',\n",
       " 'on',\n",
       " 'the',\n",
       " 'company',\n",
       " \"'\",\n",
       " 's',\n",
       " 'news',\n",
       " 'website',\n",
       " '.',\n",
       " '\"',\n",
       " 'He',\n",
       " 'will',\n",
       " 'be',\n",
       " 'fired',\n",
       " 'and',\n",
       " 'never',\n",
       " 'be',\n",
       " 'rehired',\n",
       " ',\"',\n",
       " 'Zhang',\n",
       " 'wrote',\n",
       " '.',\n",
       " 'Two',\n",
       " 'executives',\n",
       " ',',\n",
       " 'including',\n",
       " 'the',\n",
       " 'president',\n",
       " 'of',\n",
       " 'Alibaba',\n",
       " \"'\",\n",
       " 's',\n",
       " 'Neighborhood',\n",
       " 'Retail',\n",
       " 'group',\n",
       " ',',\n",
       " 'have',\n",
       " 'resigned',\n",
       " 'over',\n",
       " 'the',\n",
       " 'handling',\n",
       " 'of',\n",
       " 'the',\n",
       " 'incident',\n",
       " ',',\n",
       " 'according',\n",
       " 'to',\n",
       " 'Zhang',\n",
       " ',',\n",
       " 'who',\n",
       " 'added',\n",
       " 'that',\n",
       " 'the',\n",
       " 'woman',\n",
       " 'reported',\n",
       " 'the',\n",
       " 'incident',\n",
       " 'to',\n",
       " 'the',\n",
       " 'company',\n",
       " 'August',\n",
       " '2',\n",
       " '.',\n",
       " '\"',\n",
       " 'We',\n",
       " 'believe',\n",
       " 'that',\n",
       " 'the',\n",
       " 'head',\n",
       " 'of',\n",
       " 'the',\n",
       " 'business',\n",
       " 'is',\n",
       " 'both',\n",
       " 'the',\n",
       " 'owner',\n",
       " 'of',\n",
       " 'the',\n",
       " 'business',\n",
       " 'and',\n",
       " 'the',\n",
       " 'team',\n",
       " \"'\",\n",
       " 's',\n",
       " 'culture',\n",
       " ',\"',\n",
       " 'Zhang',\n",
       " 'wrote',\n",
       " ',',\n",
       " 'adding',\n",
       " 'that',\n",
       " 'when',\n",
       " 'the',\n",
       " 'woman',\n",
       " 'reported',\n",
       " '\"',\n",
       " 'a',\n",
       " 'horrendous',\n",
       " 'act',\n",
       " '...',\n",
       " 'they',\n",
       " 'did',\n",
       " 'not',\n",
       " 'make',\n",
       " 'timely',\n",
       " 'decisions',\n",
       " 'nor',\n",
       " 'took',\n",
       " 'appropriate',\n",
       " 'action',\n",
       " '.',\n",
       " '\"\"',\n",
       " 'This',\n",
       " 'incident',\n",
       " 'has',\n",
       " 'caused',\n",
       " 'tremendous',\n",
       " 'harm',\n",
       " 'to',\n",
       " 'her',\n",
       " '.',\n",
       " 'We',\n",
       " 'will',\n",
       " 'do',\n",
       " 'everything',\n",
       " 'we',\n",
       " 'can',\n",
       " 'to',\n",
       " 'take',\n",
       " 'care',\n",
       " 'of',\n",
       " 'her',\n",
       " ',\"',\n",
       " 'Zhang',\n",
       " 'wrote',\n",
       " '.',\n",
       " 'Zhang',\n",
       " 'added',\n",
       " 'that',\n",
       " 'the',\n",
       " 'company',\n",
       " \"'\",\n",
       " 's',\n",
       " 'chief',\n",
       " 'people',\n",
       " 'officer',\n",
       " 'has',\n",
       " 'also',\n",
       " 'been',\n",
       " 'reprimanded',\n",
       " ',',\n",
       " 'and',\n",
       " 'said',\n",
       " 'that',\n",
       " 'the',\n",
       " 'company',\n",
       " 'will',\n",
       " 'establish',\n",
       " 'a',\n",
       " 'dedicated',\n",
       " 'reporting',\n",
       " 'channel',\n",
       " 'for',\n",
       " 'employees',\n",
       " ',',\n",
       " 'as',\n",
       " 'well',\n",
       " 'as',\n",
       " 'create',\n",
       " 'an',\n",
       " '\"',\n",
       " 'anti',\n",
       " '-',\n",
       " 'sexual',\n",
       " 'harassment',\n",
       " 'policy',\n",
       " '\"',\n",
       " 'that',\n",
       " 'will',\n",
       " 'include',\n",
       " 'input',\n",
       " 'from',\n",
       " 'experts',\n",
       " 'and',\n",
       " 'employees',\n",
       " '.',\n",
       " 'Zhang',\n",
       " 'also',\n",
       " 'acknowledged',\n",
       " 'that',\n",
       " 'the',\n",
       " 'incident',\n",
       " 'highlights',\n",
       " 'what',\n",
       " 'he',\n",
       " 'called',\n",
       " 'a',\n",
       " 'culture',\n",
       " 'of',\n",
       " '\"',\n",
       " 'forced',\n",
       " 'drinking',\n",
       " ',\"',\n",
       " 'referring',\n",
       " 'to',\n",
       " 'alcohol',\n",
       " '-',\n",
       " 'heavy',\n",
       " 'events',\n",
       " 'that',\n",
       " 'are',\n",
       " 'popular',\n",
       " 'in',\n",
       " 'China',\n",
       " 'to',\n",
       " 'secure',\n",
       " 'business',\n",
       " 'deals',\n",
       " 'or',\n",
       " 'build',\n",
       " 'partnerships',\n",
       " '.',\n",
       " '\"',\n",
       " 'Although',\n",
       " 'the',\n",
       " 'police',\n",
       " 'are',\n",
       " 'still',\n",
       " 'investigating',\n",
       " 'the',\n",
       " 'specific',\n",
       " 'circumstances',\n",
       " 'of',\n",
       " 'the',\n",
       " 'dinner',\n",
       " 'that',\n",
       " 'day',\n",
       " ',',\n",
       " 'we',\n",
       " 'are',\n",
       " 'staunchly',\n",
       " 'opposed',\n",
       " 'to',\n",
       " 'the',\n",
       " 'ugly',\n",
       " 'forced',\n",
       " 'drinking',\n",
       " 'culture',\n",
       " ',\"',\n",
       " 'he',\n",
       " 'wrote',\n",
       " '.',\n",
       " '\"',\n",
       " 'Regardless',\n",
       " 'of',\n",
       " 'gender',\n",
       " ',',\n",
       " 'whether',\n",
       " 'it',\n",
       " 'is',\n",
       " 'a',\n",
       " 'request',\n",
       " 'made',\n",
       " 'by',\n",
       " 'a',\n",
       " 'customer',\n",
       " 'or',\n",
       " 'a',\n",
       " 'supervisor',\n",
       " ',',\n",
       " 'our',\n",
       " 'employees',\n",
       " 'are',\n",
       " 'empowered',\n",
       " 'to',\n",
       " 'reject',\n",
       " 'it',\n",
       " '.',\n",
       " '\"',\n",
       " 'The',\n",
       " 'scandal',\n",
       " \"'\",\n",
       " 's',\n",
       " 'rapid',\n",
       " 'spread',\n",
       " 'on',\n",
       " 'social',\n",
       " 'media',\n",
       " '—',\n",
       " 'along',\n",
       " 'with',\n",
       " 'the',\n",
       " 'public',\n",
       " 'outrage',\n",
       " 'that',\n",
       " 'ensued',\n",
       " '—',\n",
       " 'comes',\n",
       " 'as',\n",
       " 'major',\n",
       " 'firms',\n",
       " ',',\n",
       " 'including',\n",
       " 'Alibaba',\n",
       " ',',\n",
       " 'have',\n",
       " 'faced',\n",
       " 'huge',\n",
       " 'regulatory',\n",
       " 'pressure',\n",
       " '.',\n",
       " 'As',\n",
       " 'President',\n",
       " 'Xi',\n",
       " 'Jinping',\n",
       " 'increasingly',\n",
       " 'emphasizes',\n",
       " 'the',\n",
       " 'ruling',\n",
       " 'Communist',\n",
       " 'Party',\n",
       " \"'\",\n",
       " 's',\n",
       " 'dominant',\n",
       " 'role',\n",
       " 'in',\n",
       " 'every',\n",
       " 'aspect',\n",
       " 'of',\n",
       " 'China',\n",
       " \"'\",\n",
       " 's',\n",
       " 'economy',\n",
       " 'and',\n",
       " 'society',\n",
       " ',',\n",
       " 'regulators',\n",
       " 'have',\n",
       " 'targeted',\n",
       " 'tech',\n",
       " ',',\n",
       " 'education',\n",
       " 'and',\n",
       " 'other',\n",
       " 'businesses',\n",
       " 'with',\n",
       " 'fines',\n",
       " 'and',\n",
       " 'restrictions',\n",
       " '.',\n",
       " 'Complaints',\n",
       " 'about',\n",
       " 'work',\n",
       " 'culture',\n",
       " 'play',\n",
       " 'into',\n",
       " 'that',\n",
       " 'scrutiny',\n",
       " '.',\n",
       " 'Pinduoduo',\n",
       " ',',\n",
       " 'an',\n",
       " 'e',\n",
       " '-',\n",
       " 'commerce',\n",
       " 'firm',\n",
       " 'and',\n",
       " 'rival',\n",
       " 'to',\n",
       " 'Alibaba',\n",
       " ',',\n",
       " 'faced',\n",
       " 'intense',\n",
       " 'public',\n",
       " 'backlash',\n",
       " 'earlier',\n",
       " 'this',\n",
       " 'year',\n",
       " 'over',\n",
       " 'accusations',\n",
       " 'that',\n",
       " 'it',\n",
       " 'overworks',\n",
       " 'its',\n",
       " 'employees',\n",
       " 'after',\n",
       " 'two',\n",
       " 'of',\n",
       " 'its',\n",
       " 'employees',\n",
       " 'died',\n",
       " 'unexpectedly',\n",
       " ',',\n",
       " 'including',\n",
       " 'a',\n",
       " 'man',\n",
       " 'who',\n",
       " 'died',\n",
       " 'by',\n",
       " 'suicide',\n",
       " '.',\n",
       " 'Chinese',\n",
       " 'social',\n",
       " 'media',\n",
       " 'users',\n",
       " 'started',\n",
       " 'calling',\n",
       " 'out',\n",
       " 'the',\n",
       " 'deaths',\n",
       " 'as',\n",
       " 'emblematic',\n",
       " 'of',\n",
       " 'a',\n",
       " 'troublesome',\n",
       " 'work',\n",
       " 'culture',\n",
       " ',',\n",
       " 'and',\n",
       " 'a',\n",
       " 'former',\n",
       " 'software',\n",
       " 'engineer',\n",
       " 'at',\n",
       " 'the',\n",
       " 'company',\n",
       " ...]"
      ]
     },
     "execution_count": 49,
     "metadata": {},
     "output_type": "execute_result"
    }
   ],
   "source": [
    "tokens = tokenize_text(text)\n",
    "tokens"
   ]
  },
  {
   "cell_type": "markdown",
   "metadata": {},
   "source": [
    "Remove stopwords and non alphabetic words then we will set every word in lower case. There are gonna be two or more occurences for one word - ```like and Like```, if we don't set words to lower case. That is why we want every single word to be in lower case so the analysis will be more accurate."
   ]
  },
  {
   "cell_type": "code",
   "execution_count": 50,
   "metadata": {},
   "outputs": [],
   "source": [
    "def get_meaningful_words(words):\n",
    "    meaningful_words = []\n",
    "    for w in words:\n",
    "        if w.lower() not in stopwords.words('english') and w.lower().isalpha():\n",
    "            meaningful_words.append(w.lower())\n",
    "    return meaningful_words"
   ]
  },
  {
   "cell_type": "code",
   "execution_count": 51,
   "metadata": {},
   "outputs": [
    {
     "data": {
      "text/plain": [
       "['company',\n",
       " 'monday',\n",
       " 'said',\n",
       " 'fired',\n",
       " 'employee',\n",
       " 'accused',\n",
       " 'sexually',\n",
       " 'assaulting',\n",
       " 'woman',\n",
       " 'also',\n",
       " 'works',\n",
       " 'alibaba',\n",
       " 'baba',\n",
       " 'man',\n",
       " 'confessed',\n",
       " 'actions',\n",
       " 'alibaba',\n",
       " 'deemed',\n",
       " 'serious',\n",
       " 'violation',\n",
       " 'company',\n",
       " 'policy',\n",
       " 'according',\n",
       " 'memo',\n",
       " 'sent',\n",
       " 'alibaba',\n",
       " 'group',\n",
       " 'chairman',\n",
       " 'ceo',\n",
       " 'daniel',\n",
       " 'zhang',\n",
       " 'employees',\n",
       " 'two',\n",
       " 'senior',\n",
       " 'employees',\n",
       " 'also',\n",
       " 'resigned',\n",
       " 'failed',\n",
       " 'prioritize',\n",
       " 'employee',\n",
       " 'protection',\n",
       " 'according',\n",
       " 'zhang',\n",
       " 'memo',\n",
       " 'alibaba',\n",
       " 'group',\n",
       " 'zero',\n",
       " 'tolerance',\n",
       " 'policy',\n",
       " 'sexual',\n",
       " 'misconduct',\n",
       " 'ensuring',\n",
       " 'safe',\n",
       " 'workplace',\n",
       " 'employees',\n",
       " 'alibaba',\n",
       " 'top',\n",
       " 'priority',\n",
       " 'company',\n",
       " 'spokesperson',\n",
       " 'said',\n",
       " 'statement',\n",
       " 'cnn',\n",
       " 'business',\n",
       " 'allegations',\n",
       " 'widely',\n",
       " 'circulated',\n",
       " 'chinese',\n",
       " 'social',\n",
       " 'media',\n",
       " 'weekend',\n",
       " 'rocked',\n",
       " 'alibaba',\n",
       " 'time',\n",
       " 'chinese',\n",
       " 'tech',\n",
       " 'companies',\n",
       " 'already',\n",
       " 'facing',\n",
       " 'incredible',\n",
       " 'scrutiny',\n",
       " 'chinese',\n",
       " 'regulators',\n",
       " 'business',\n",
       " 'claims',\n",
       " 'triggered',\n",
       " 'public',\n",
       " 'outcry',\n",
       " 'many',\n",
       " 'criticized',\n",
       " 'company',\n",
       " 'handling',\n",
       " 'situation',\n",
       " 'controversy',\n",
       " 'started',\n",
       " 'post',\n",
       " 'allegedly',\n",
       " 'written',\n",
       " 'victim',\n",
       " 'identify',\n",
       " 'published',\n",
       " 'internal',\n",
       " 'alibaba',\n",
       " 'website',\n",
       " 'circulated',\n",
       " 'chinese',\n",
       " 'social',\n",
       " 'media',\n",
       " 'website',\n",
       " 'weibo',\n",
       " 'according',\n",
       " 'screenshots',\n",
       " 'word',\n",
       " 'account',\n",
       " 'woman',\n",
       " 'claimed',\n",
       " 'assaulted',\n",
       " 'supervisor',\n",
       " 'business',\n",
       " 'trip',\n",
       " 'jinan',\n",
       " 'city',\n",
       " 'eastern',\n",
       " 'china',\n",
       " 'says',\n",
       " 'drunk',\n",
       " 'male',\n",
       " 'leader',\n",
       " 'even',\n",
       " 'entered',\n",
       " 'hotel',\n",
       " 'room',\n",
       " 'four',\n",
       " 'times',\n",
       " 'night',\n",
       " 'condom',\n",
       " 'assaulted',\n",
       " 'typed',\n",
       " 'lines',\n",
       " 'control',\n",
       " 'broke',\n",
       " 'tears',\n",
       " 'never',\n",
       " 'thought',\n",
       " 'would',\n",
       " 'experience',\n",
       " 'wrote',\n",
       " 'think',\n",
       " 'feels',\n",
       " 'like',\n",
       " 'nightmare',\n",
       " 'one',\n",
       " 'makes',\n",
       " 'terrified',\n",
       " 'scared',\n",
       " 'helpless',\n",
       " 'helpless',\n",
       " 'nightmare',\n",
       " 'cnn',\n",
       " 'business',\n",
       " 'cannot',\n",
       " 'confirm',\n",
       " 'authenticity',\n",
       " 'post',\n",
       " 'post',\n",
       " 'exploded',\n",
       " 'chinese',\n",
       " 'social',\n",
       " 'media',\n",
       " 'topics',\n",
       " 'related',\n",
       " 'incident',\n",
       " 'viewed',\n",
       " 'million',\n",
       " 'times',\n",
       " 'weibo',\n",
       " 'generating',\n",
       " 'discussion',\n",
       " 'posts',\n",
       " 'commenters',\n",
       " 'accused',\n",
       " 'alibaba',\n",
       " 'failing',\n",
       " 'protect',\n",
       " 'rights',\n",
       " 'employees',\n",
       " 'woman',\n",
       " 'allegedly',\n",
       " 'claimed',\n",
       " 'company',\n",
       " 'brushed',\n",
       " 'concerns',\n",
       " 'reported',\n",
       " 'come',\n",
       " 'still',\n",
       " 'female',\n",
       " 'employees',\n",
       " 'pushed',\n",
       " 'pressured',\n",
       " 'leaders',\n",
       " 'drink',\n",
       " 'violated',\n",
       " 'alibaba',\n",
       " 'culture',\n",
       " 'wrote',\n",
       " 'one',\n",
       " 'weibo',\n",
       " 'user',\n",
       " 'really',\n",
       " 'hope',\n",
       " 'results',\n",
       " 'investigation',\n",
       " 'become',\n",
       " 'clear',\n",
       " 'soon',\n",
       " 'possible',\n",
       " 'large',\n",
       " 'company',\n",
       " 'must',\n",
       " 'protect',\n",
       " 'employees',\n",
       " 'sunday',\n",
       " 'police',\n",
       " 'jinan',\n",
       " 'announced',\n",
       " 'weibo',\n",
       " 'launched',\n",
       " 'probe',\n",
       " 'case',\n",
       " 'police',\n",
       " 'actively',\n",
       " 'investigating',\n",
       " 'matter',\n",
       " 'collecting',\n",
       " 'evidence',\n",
       " 'said',\n",
       " 'statement',\n",
       " 'accused',\n",
       " 'charged',\n",
       " 'crime',\n",
       " 'memo',\n",
       " 'employees',\n",
       " 'monday',\n",
       " 'zhang',\n",
       " 'said',\n",
       " 'employee',\n",
       " 'confessed',\n",
       " 'intimate',\n",
       " 'acts',\n",
       " 'woman',\n",
       " 'inebriated',\n",
       " 'violating',\n",
       " 'company',\n",
       " 'policy',\n",
       " 'whether',\n",
       " 'committed',\n",
       " 'rape',\n",
       " 'indecency',\n",
       " 'violates',\n",
       " 'law',\n",
       " 'determined',\n",
       " 'law',\n",
       " 'enforcement',\n",
       " 'zhang',\n",
       " 'added',\n",
       " 'memo',\n",
       " 'posted',\n",
       " 'publicly',\n",
       " 'company',\n",
       " 'news',\n",
       " 'website',\n",
       " 'fired',\n",
       " 'never',\n",
       " 'rehired',\n",
       " 'zhang',\n",
       " 'wrote',\n",
       " 'two',\n",
       " 'executives',\n",
       " 'including',\n",
       " 'president',\n",
       " 'alibaba',\n",
       " 'neighborhood',\n",
       " 'retail',\n",
       " 'group',\n",
       " 'resigned',\n",
       " 'handling',\n",
       " 'incident',\n",
       " 'according',\n",
       " 'zhang',\n",
       " 'added',\n",
       " 'woman',\n",
       " 'reported',\n",
       " 'incident',\n",
       " 'company',\n",
       " 'august',\n",
       " 'believe',\n",
       " 'head',\n",
       " 'business',\n",
       " 'owner',\n",
       " 'business',\n",
       " 'team',\n",
       " 'culture',\n",
       " 'zhang',\n",
       " 'wrote',\n",
       " 'adding',\n",
       " 'woman',\n",
       " 'reported',\n",
       " 'horrendous',\n",
       " 'act',\n",
       " 'make',\n",
       " 'timely',\n",
       " 'decisions',\n",
       " 'took',\n",
       " 'appropriate',\n",
       " 'action',\n",
       " 'incident',\n",
       " 'caused',\n",
       " 'tremendous',\n",
       " 'harm',\n",
       " 'everything',\n",
       " 'take',\n",
       " 'care',\n",
       " 'zhang',\n",
       " 'wrote',\n",
       " 'zhang',\n",
       " 'added',\n",
       " 'company',\n",
       " 'chief',\n",
       " 'people',\n",
       " 'officer',\n",
       " 'also',\n",
       " 'reprimanded',\n",
       " 'said',\n",
       " 'company',\n",
       " 'establish',\n",
       " 'dedicated',\n",
       " 'reporting',\n",
       " 'channel',\n",
       " 'employees',\n",
       " 'well',\n",
       " 'create',\n",
       " 'anti',\n",
       " 'sexual',\n",
       " 'harassment',\n",
       " 'policy',\n",
       " 'include',\n",
       " 'input',\n",
       " 'experts',\n",
       " 'employees',\n",
       " 'zhang',\n",
       " 'also',\n",
       " 'acknowledged',\n",
       " 'incident',\n",
       " 'highlights',\n",
       " 'called',\n",
       " 'culture',\n",
       " 'forced',\n",
       " 'drinking',\n",
       " 'referring',\n",
       " 'alcohol',\n",
       " 'heavy',\n",
       " 'events',\n",
       " 'popular',\n",
       " 'china',\n",
       " 'secure',\n",
       " 'business',\n",
       " 'deals',\n",
       " 'build',\n",
       " 'partnerships',\n",
       " 'although',\n",
       " 'police',\n",
       " 'still',\n",
       " 'investigating',\n",
       " 'specific',\n",
       " 'circumstances',\n",
       " 'dinner',\n",
       " 'day',\n",
       " 'staunchly',\n",
       " 'opposed',\n",
       " 'ugly',\n",
       " 'forced',\n",
       " 'drinking',\n",
       " 'culture',\n",
       " 'wrote',\n",
       " 'regardless',\n",
       " 'gender',\n",
       " 'whether',\n",
       " 'request',\n",
       " 'made',\n",
       " 'customer',\n",
       " 'supervisor',\n",
       " 'employees',\n",
       " 'empowered',\n",
       " 'reject',\n",
       " 'scandal',\n",
       " 'rapid',\n",
       " 'spread',\n",
       " 'social',\n",
       " 'media',\n",
       " 'along',\n",
       " 'public',\n",
       " 'outrage',\n",
       " 'ensued',\n",
       " 'comes',\n",
       " 'major',\n",
       " 'firms',\n",
       " 'including',\n",
       " 'alibaba',\n",
       " 'faced',\n",
       " 'huge',\n",
       " 'regulatory',\n",
       " 'pressure',\n",
       " 'president',\n",
       " 'xi',\n",
       " 'jinping',\n",
       " 'increasingly',\n",
       " 'emphasizes',\n",
       " 'ruling',\n",
       " 'communist',\n",
       " 'party',\n",
       " 'dominant',\n",
       " 'role',\n",
       " 'every',\n",
       " 'aspect',\n",
       " 'china',\n",
       " 'economy',\n",
       " 'society',\n",
       " 'regulators',\n",
       " 'targeted',\n",
       " 'tech',\n",
       " 'education',\n",
       " 'businesses',\n",
       " 'fines',\n",
       " 'restrictions',\n",
       " 'complaints',\n",
       " 'work',\n",
       " 'culture',\n",
       " 'play',\n",
       " 'scrutiny',\n",
       " 'pinduoduo',\n",
       " 'e',\n",
       " 'commerce',\n",
       " 'firm',\n",
       " 'rival',\n",
       " 'alibaba',\n",
       " 'faced',\n",
       " 'intense',\n",
       " 'public',\n",
       " 'backlash',\n",
       " 'earlier',\n",
       " 'year',\n",
       " 'accusations',\n",
       " 'overworks',\n",
       " 'employees',\n",
       " 'two',\n",
       " 'employees',\n",
       " 'died',\n",
       " 'unexpectedly',\n",
       " 'including',\n",
       " 'man',\n",
       " 'died',\n",
       " 'suicide',\n",
       " 'chinese',\n",
       " 'social',\n",
       " 'media',\n",
       " 'users',\n",
       " 'started',\n",
       " 'calling',\n",
       " 'deaths',\n",
       " 'emblematic',\n",
       " 'troublesome',\n",
       " 'work',\n",
       " 'culture',\n",
       " 'former',\n",
       " 'software',\n",
       " 'engineer',\n",
       " 'company',\n",
       " 'escalated',\n",
       " 'criticisms',\n",
       " 'several',\n",
       " 'posts',\n",
       " 'accused',\n",
       " 'company',\n",
       " 'overworking',\n",
       " 'employees',\n",
       " 'company',\n",
       " 'respond',\n",
       " 'time',\n",
       " 'questions',\n",
       " 'allegations',\n",
       " 'made',\n",
       " 'work',\n",
       " 'culture',\n",
       " 'say',\n",
       " 'set',\n",
       " 'team',\n",
       " 'provide',\n",
       " 'psychological',\n",
       " 'counseling',\n",
       " 'following',\n",
       " 'suicide',\n",
       " 'worker']"
      ]
     },
     "execution_count": 51,
     "metadata": {},
     "output_type": "execute_result"
    }
   ],
   "source": [
    "meaningful_words = get_meaningful_words(tokens)\n",
    "meaningful_words"
   ]
  },
  {
   "cell_type": "markdown",
   "metadata": {},
   "source": [
    "Ratio of meaningful words compared to all words in text is:"
   ]
  },
  {
   "cell_type": "code",
   "execution_count": 52,
   "metadata": {},
   "outputs": [],
   "source": [
    "def meaningful_to_all_words(meaningful_words, text):\n",
    "    return len(meaningful_words) / len(text.split())"
   ]
  },
  {
   "cell_type": "code",
   "execution_count": 53,
   "metadata": {},
   "outputs": [
    {
     "data": {
      "text/plain": [
       "0.5534729878721059"
      ]
     },
     "execution_count": 53,
     "metadata": {},
     "output_type": "execute_result"
    }
   ],
   "source": [
    "meaningful_to_all_words(meaningful_words, text)"
   ]
  },
  {
   "cell_type": "markdown",
   "metadata": {},
   "source": [
    "This result shows how useful it is tokenize text, remove stop words, punctuation, and change uppercase to lowercase. This way we save time and memory. Mostly time, because if we prepare the data for some kind of modeling we will have less information, but at the expense of more accurate and specific data for the text."
   ]
  },
  {
   "cell_type": "markdown",
   "metadata": {},
   "source": [
    "Create FreqList with cleaned words."
   ]
  },
  {
   "cell_type": "code",
   "execution_count": 54,
   "metadata": {},
   "outputs": [],
   "source": [
    "def get_words_frequency(words):\n",
    "    return nltk.FreqDist(words)"
   ]
  },
  {
   "cell_type": "code",
   "execution_count": 55,
   "metadata": {},
   "outputs": [
    {
     "data": {
      "text/plain": [
       "FreqDist({'company': 14, 'employees': 13, 'alibaba': 12, 'zhang': 10, 'business': 7, 'culture': 7, 'woman': 6, 'chinese': 6, 'wrote': 6, 'said': 5, ...})"
      ]
     },
     "execution_count": 55,
     "metadata": {},
     "output_type": "execute_result"
    }
   ],
   "source": [
    "freq_words = get_words_frequency(meaningful_words)\n",
    "freq_words"
   ]
  },
  {
   "cell_type": "markdown",
   "metadata": {},
   "source": [
    "Let's take a closer look at the dictionary of common words. In fact, let's plot some of them using barchart. Let's look at a small hypothesis. Are there words that are outliers. That is, whether there are several words that are repeated more than other words"
   ]
  },
  {
   "cell_type": "code",
   "execution_count": 56,
   "metadata": {},
   "outputs": [],
   "source": [
    "def plot_most_frequent_words(words_number, freq_words):\n",
    "    most_common_words = freq_words.most_common(words_number)\n",
    "    plt.bar([w[0] for w in most_common_words], [w[1] for w in most_common_words])\n",
    "\n",
    "    plt.title(f\"Top {words_number} most frequent words count\")\n",
    "    plt.xlabel(\"Words\")\n",
    "    plt.ylabel(\"Count\")\n",
    "    plt.xticks(rotation=45)\n",
    "    plt.show()"
   ]
  },
  {
   "cell_type": "code",
   "execution_count": 57,
   "metadata": {},
   "outputs": [
    {
     "data": {
      "image/png": "[encoded data removed]",
      "text/plain": [
       "<Figure size 432x288 with 1 Axes>"
      ]
     },
     "metadata": {
      "needs_background": "light"
     },
     "output_type": "display_data"
    }
   ],
   "source": [
    "freq_words\n",
    "number_words = 15\n",
    "plot_most_frequent_words(number_words, freq_words)"
   ]
  },
  {
   "cell_type": "markdown",
   "metadata": {},
   "source": [
    "After the observation, the hypothesis seems to be true, but let's set the words by their count"
   ]
  },
  {
   "cell_type": "code",
   "execution_count": 58,
   "metadata": {},
   "outputs": [
    {
     "data": {
      "image/png": "[encoded data removed]",
      "text/plain": [
       "<Figure size 432x288 with 1 Axes>"
      ]
     },
     "metadata": {
      "needs_background": "light"
     },
     "output_type": "display_data"
    }
   ],
   "source": [
    "words_freq_count = collections.Counter(freq_words.values())\n",
    "plt.bar(words_freq_count.keys(), words_freq_count.values())\n",
    "\n",
    "plt.title(f\"Words count distribution\")\n",
    "plt.xlabel(\"Word repetition in text\")\n",
    "plt.ylabel(\"Count of words with the same repetition in the text\")\n",
    "plt.show()"
   ]
  },
  {
   "cell_type": "markdown",
   "metadata": {},
   "source": [
    "Yes, we can now conclude that there are several words that are repeated a lot in the text"
   ]
  },
  {
   "cell_type": "code",
   "execution_count": 59,
   "metadata": {},
   "outputs": [],
   "source": [
    "def get_text_sentences(text):\n",
    "    return sent_tokenize(text.replace('\"', '').replace(',', ''))"
   ]
  },
  {
   "cell_type": "code",
   "execution_count": 60,
   "metadata": {
    "scrolled": true
   },
   "outputs": [
    {
     "data": {
      "text/plain": [
       "['The company on Monday said it has fired an employee after he was accused of sexually assaulting a woman who also works at Alibaba (BABA).',\n",
       " 'The man confessed to actions that Alibaba deemed in serious violation of company policy according to a memo sent by Alibaba Group chairman and CEO Daniel Zhang to employees.',\n",
       " \"Two senior employees also resigned after they failed to prioritize employee protection according to Zhang's memo.\",\n",
       " \"Alibaba Group has a zero-tolerance policy against sexual misconduct and ensuring a safe workplace for all our employees is Alibaba's top priority a company spokesperson said in a statement to CNN Business.\",\n",
       " 'The allegations — which were widely circulated on Chinese social media over the weekend — have rocked Alibaba at a time when it and other Chinese tech companies are already facing incredible scrutiny from Chinese regulators over their business.',\n",
       " 'The claims triggered public outcry as many criticized the company for its handling of the situation.',\n",
       " 'The controversy started after a post — allegedly written by the victim who did not identify herself and published on an internal Alibaba website — circulated on the Chinese social media website Weibo.',\n",
       " 'According to screenshots of the 8000-word account the woman claimed she was assaulted by her supervisor during a business trip to Jinan a city in eastern China while she says she was drunk.',\n",
       " 'The male leader even entered my hotel room four times that night with condom and assaulted me!!!!',\n",
       " \"When I typed the lines above I couldn't control myself and I broke into tears.\",\n",
       " 'I never thought that I would have such an experience she wrote.',\n",
       " 'When I think about it now it just feels like a nightmare one that makes you terrified scared helpless helpless nightmare!',\n",
       " 'CNN Business cannot confirm the authenticity of the post.',\n",
       " 'The post has exploded on Chinese social media.',\n",
       " 'Topics related to the incident have been viewed 850 million times on Weibo generating more than 510000 discussion posts.',\n",
       " 'Some commenters accused Alibaba of failing to protect the rights of its employees.',\n",
       " 'The woman allegedly claimed that the company brushed off her concerns when she reported them.',\n",
       " 'How come there are still female employees who have been pushed and pressured by their leaders to drink and are violated.',\n",
       " 'Is this the Alibaba culture?',\n",
       " 'wrote one Weibo user.',\n",
       " 'I really hope the results of the investigation can become clear as soon as possible.',\n",
       " 'Such a large company must protect its employees.',\n",
       " 'On Sunday police in Jinan announced on Weibo that they had launched a probe into the case.',\n",
       " 'The police are actively investigating the matter and collecting evidence they said in a statement.',\n",
       " 'The accused has not been charged with any crime.',\n",
       " 'In the memo to employees on Monday Zhang said the employee confessed to intimate acts with a woman who was inebriated violating company policy.',\n",
       " \"Whether he has committed rape or indecency that violates the law will be determined by law enforcement Zhang added in the memo which was posted publicly on the company's news website.\",\n",
       " 'He will be fired and never be rehired Zhang wrote.',\n",
       " \"Two executives including the president of Alibaba's Neighborhood Retail group have resigned over the handling of the incident according to Zhang who added that the woman reported the incident to the company August 2.\",\n",
       " \"We believe that the head of the business is both the owner of the business and the team's culture Zhang wrote adding that when the woman reported a horrendous act ... they did not make timely decisions nor took appropriate action.\",\n",
       " 'This incident has caused tremendous harm to her.',\n",
       " 'We will do everything we can to take care of her Zhang wrote.',\n",
       " \"Zhang added that the company's chief people officer has also been reprimanded and said that the company will establish a dedicated reporting channel for employees as well as create an anti-sexual harassment policy that will include input from experts and employees.\",\n",
       " 'Zhang also acknowledged that the incident highlights what he called a culture of forced drinking referring to alcohol-heavy events that are popular in China to secure business deals or build partnerships.',\n",
       " 'Although the police are still investigating the specific circumstances of the dinner that day we are staunchly opposed to the ugly forced drinking culture he wrote.',\n",
       " 'Regardless of gender whether it is a request made by a customer or a supervisor our employees are empowered to reject it.',\n",
       " \"The scandal's rapid spread on social media — along with the public outrage that ensued — comes as major firms including Alibaba have faced huge regulatory pressure.\",\n",
       " \"As President Xi Jinping increasingly emphasizes the ruling Communist Party's dominant role in every aspect of China's economy and society regulators have targeted tech education and other businesses with fines and restrictions.\",\n",
       " 'Complaints about work culture play into that scrutiny.',\n",
       " 'Pinduoduo an e-commerce firm and rival to Alibaba faced intense public backlash earlier this year  over accusations that it overworks its employees after two of its employees died unexpectedly including a man who died by suicide.',\n",
       " 'Chinese social media users started calling out the deaths as emblematic of a troublesome work culture and a former software engineer at the company escalated criticisms in several posts where he accused the company of overworking its employees.',\n",
       " 'The company did not respond at the time to questions about the allegations made against its work culture but did say that it had set up a team to provide psychological counseling following the suicide of a worker.']"
      ]
     },
     "execution_count": 60,
     "metadata": {},
     "output_type": "execute_result"
    }
   ],
   "source": [
    "sentences = get_text_sentences(text)\n",
    "sentences"
   ]
  },
  {
   "cell_type": "code",
   "execution_count": 61,
   "metadata": {},
   "outputs": [],
   "source": [
    "def get_sentences_score(sentences, freq_words):\n",
    "    sentence_value = dict()\n",
    "\n",
    "    for sentence in sentences:\n",
    "        sentence_without_end_point = sentence[:-1]\n",
    "        words = sentence_without_end_point.split()\n",
    "        for w in words:\n",
    "            w = w.lower()\n",
    "            if w in freq_words.keys():\n",
    "                if sentence in sentence_value.keys():\n",
    "                    sentence_value[sentence] += freq_words[w]\n",
    "                else:\n",
    "                    sentence_value[sentence] = freq_words[w]\n",
    "    return sentence_value"
   ]
  },
  {
   "cell_type": "code",
   "execution_count": 62,
   "metadata": {},
   "outputs": [
    {
     "data": {
      "text/plain": [
       "dict_values([55, 88, 37, 71, 66, 25, 53, 35, 13, 5, 11, 16, 15, 20, 19, 34, 29, 22, 19, 13, 8, 31, 14, 16, 6, 67, 35, 21, 69, 58, 8, 19, 80, 50, 32, 25, 41, 23, 14, 67, 87, 43])"
      ]
     },
     "execution_count": 62,
     "metadata": {},
     "output_type": "execute_result"
    }
   ],
   "source": [
    "sentences_score = get_sentences_score(sentences, freq_words)\n",
    "sentences_score.values()"
   ]
  },
  {
   "cell_type": "markdown",
   "metadata": {},
   "source": [
    "We want to get words 'values' for count of words in sentence. Because in too long sentence we expect bigger value just because there are more words. To solve this problem we will divide words score in the sentence by meaningful words count in this sentence."
   ]
  },
  {
   "cell_type": "code",
   "execution_count": 63,
   "metadata": {},
   "outputs": [],
   "source": [
    "def get_sentence_score_frequency(sentence_value, meaningful_words):\n",
    "    word_score_frequency = {}\n",
    "    for k, v in sentence_value.items():\n",
    "        meaningful_words_count = 0\n",
    "        for w in k.split():\n",
    "            if w.lower() in meaningful_words:\n",
    "                meaningful_words_count += 1\n",
    "        word_score_frequency[k] = v / meaningful_words_count\n",
    "    return word_score_frequency"
   ]
  },
  {
   "cell_type": "code",
   "execution_count": 64,
   "metadata": {
    "scrolled": true
   },
   "outputs": [
    {
     "data": {
      "text/plain": [
       "dict_values([4.583333333333333, 4.888888888888889, 3.7, 4.4375, 3.473684210526316, 3.125, 3.3125, 2.5, 1.1818181818181819, 1.25, 2.75, 1.6, 3.0, 5.0, 2.111111111111111, 5.666666666666667, 4.142857142857143, 2.75, 19.0, 4.333333333333333, 1.1428571428571428, 7.75, 2.0, 2.2857142857142856, 3.0, 5.153846153846154, 2.3333333333333335, 5.25, 3.8333333333333335, 3.2222222222222223, 2.0, 4.75, 3.8095238095238093, 2.9411764705882355, 2.2857142857142856, 2.5, 2.5625, 1.2105263157894737, 3.5, 3.35, 3.9545454545454546, 2.6875])"
      ]
     },
     "execution_count": 64,
     "metadata": {},
     "output_type": "execute_result"
    }
   ],
   "source": [
    "sentence_score_frequency = get_sentence_score_frequency(sentences_score, meaningful_words)\n",
    "sentence_score_frequency.values()"
   ]
  },
  {
   "cell_type": "markdown",
   "metadata": {},
   "source": [
    "Now the result is a little bit different. Let's plot the two results and see what are the differences between them."
   ]
  },
  {
   "cell_type": "code",
   "execution_count": 65,
   "metadata": {},
   "outputs": [],
   "source": [
    "def hist_plot(score, color, density):\n",
    "    plt.hist(score, color=color, density=density)\n",
    "    \n",
    "    plt.title(f\"Score values\")\n",
    "    plt.xlabel(\"Points for sentence\")\n",
    "    plt.ylabel(\"Sentences count\")\n",
    "    \n",
    "    plt.show()"
   ]
  },
  {
   "cell_type": "code",
   "execution_count": 66,
   "metadata": {},
   "outputs": [
    {
     "data": {
      "image/png": "[encoded data removed]",
      "text/plain": [
       "<Figure size 432x288 with 1 Axes>"
      ]
     },
     "metadata": {
      "needs_background": "light"
     },
     "output_type": "display_data"
    },
    {
     "data": {
      "image/png": "[encoded data removed]",
      "text/plain": [
       "<Figure size 432x288 with 1 Axes>"
      ]
     },
     "metadata": {
      "needs_background": "light"
     },
     "output_type": "display_data"
    }
   ],
   "source": [
    "hist_plot(sentences_score.values(), 'b', True)\n",
    "hist_plot(sentence_score_frequency.values(), 'r', True)"
   ]
  },
  {
   "cell_type": "markdown",
   "metadata": {},
   "source": [
    "We can see that their distributions, peeks and mean value are different. Now let's do another plot.\n"
   ]
  },
  {
   "cell_type": "code",
   "execution_count": 67,
   "metadata": {},
   "outputs": [],
   "source": [
    "def compare_two_score_lists(first_score, transformed_score):\n",
    "    first_score = np.array(list(first_score))\n",
    "    first_score = np.log10(first_score)\n",
    "    \n",
    "    transformed_score = np.array(list(transformed_score))\n",
    "    transformed_score = np.log10(transformed_score)\n",
    "    plt.hist(first_score, alpha=0.7)\n",
    "    plt.hist(transformed_score, color='r', alpha=0.6)\n",
    "    \n",
    "    plt.title(f\"First score values\")\n",
    "    plt.xlabel(\"Sentences count\")\n",
    "    plt.ylabel(\"Points for sentence\")\n",
    "    plt.show()"
   ]
  },
  {
   "cell_type": "code",
   "execution_count": 68,
   "metadata": {},
   "outputs": [
    {
     "data": {
      "image/png": "[encoded data removed]",
      "text/plain": [
       "<Figure size 432x288 with 1 Axes>"
      ]
     },
     "metadata": {
      "needs_background": "light"
     },
     "output_type": "display_data"
    }
   ],
   "source": [
    "compare_two_score_lists(sentences_score.values(), sentence_score_frequency.values())"
   ]
  },
  {
   "cell_type": "code",
   "execution_count": 69,
   "metadata": {},
   "outputs": [
    {
     "data": {
      "text/plain": [
       "array([[1.       , 0.1008634],\n",
       "       [0.1008634, 1.       ]])"
      ]
     },
     "execution_count": 69,
     "metadata": {},
     "output_type": "execute_result"
    }
   ],
   "source": [
    "np.corrcoef(list(sentences_score.values()), list(sentence_score_frequency.values()))"
   ]
  },
  {
   "cell_type": "markdown",
   "metadata": {},
   "source": [
    "I used logaritm to normalize score in range $ [0, 2] $, because our function valuse(scores) are with different ranges - sentence_score $\\in [0, 10] $ and sentence_score_frequency $\\in [0, 90] $ After looking at the plot bar chart it is obvious that their distributions are different. Correlation between them aren'tbig enough to say that if value changes in sentences_score than it will change value from sentence_score_frequency in the same. We could conclude that behaviour of sentences_score is different from sentence_score_frequency's behaviour. So we need to perform summarization with both scores and establish which score is better."
   ]
  },
  {
   "cell_type": "code",
   "execution_count": 70,
   "metadata": {},
   "outputs": [],
   "source": [
    "def perform_summarization(score, sentences=None, words_ratio=None):\n",
    "    \n",
    "    dataframe = pd.DataFrame(list(score.items()), columns=[\"sentence\", \"score\"])\n",
    "    dataframe[\"sorted_score_index\"] = np.zeros(len(dataframe.sentence)).astype(\"int64\")\n",
    "    for i, s in enumerate(dataframe[\"score\"].sort_values(ascending=False)):\n",
    "        dataframe.loc[dataframe[\"score\"] == s, \"sorted_score_index\"] = i\n",
    "    \n",
    "    summarized_sentences_count = 0\n",
    "    \n",
    "    if sentences != None:\n",
    "        sentences_main_text = len(score.keys())\n",
    "        if sentences <= 0  or sentences > sentences_main_text:\n",
    "            print(f\"Sentences can be within 1 and {sentences_main_text}\")\n",
    "\n",
    "        summarized_sentences_count = sentences\n",
    "            \n",
    "    else:\n",
    "        if words_ratio != None:\n",
    "            for s in dataframe[\"sorted_score_index\"].sort_values().index:\n",
    "                sentence_words_count = len(dataframe.loc[s, \"sentence\"].split())\n",
    "                words_ratio -= sentence_words_count\n",
    "                summarized_sentences_count += 1\n",
    "                if words_ratio < 0:\n",
    "                    break\n",
    "                    \n",
    "        else:\n",
    "            print(\"Ratio arguments are none!\")\n",
    "          \n",
    "        \n",
    "    if summarized_sentences_count == 0:\n",
    "        summarized_sentences_count = 1\n",
    "        \n",
    "    summarized_text = []\n",
    "    for index in range(0, len(dataframe)):\n",
    "        if dataframe.loc[index, \"sorted_score_index\"] < summarized_sentences_count:\n",
    "             summarized_text.append(dataframe.loc[index, \"sentence\"])\n",
    "    return \" \".join(summarized_text)"
   ]
  },
  {
   "cell_type": "code",
   "execution_count": 71,
   "metadata": {},
   "outputs": [],
   "source": [
    "def print_lenght_summarized_and_content(summarized_text, content):\n",
    "    print(f\"Lenght of summarized text is {len(summarized_text)}, Count of words = {len(summarized_text.split())}, Sentences count = {len(sent_tokenize(summarized_text))}. Lenght of text is {len(content)}, Count of words {len(content.split())}, Sentences count = {len(sent_tokenize(content))}.\")"
   ]
  },
  {
   "cell_type": "markdown",
   "metadata": {},
   "source": [
    "In this function we will get sentences score and ratio of summarization. Firstly we have to establish sentences count than get summarized text sentences by multiplying sentences count and sentences ratio. After that we will store sencenses and their scores and their sorted score index to dataframe. For every sentence, if sentence's sorted_score_index is in range $\\in [0$, summarized text sentences count $]$, append sentence to summarized text. Important think to add is that we need to start iterating through sentences in acsending order, because if we start with the sentence with the biggest score, we could lose information(context) from sentences above, if any avaliable. Second summarization method is summarizing using word_ratio. We will extract count words in top scored sentences from words ratio. Then fro every extraction we will add one sentence to summarized text, again starting from the begining."
   ]
  },
  {
   "cell_type": "code",
   "execution_count": 72,
   "metadata": {
    "scrolled": true
   },
   "outputs": [
    {
     "data": {
      "text/plain": [
       "\"The man confessed to actions that Alibaba deemed in serious violation of company policy according to a memo sent by Alibaba Group chairman and CEO Daniel Zhang to employees. Zhang added that the company's chief people officer has also been reprimanded and said that the company will establish a dedicated reporting channel for employees as well as create an anti-sexual harassment policy that will include input from experts and employees. Chinese social media users started calling out the deaths as emblematic of a troublesome work culture and a former software engineer at the company escalated criticisms in several posts where he accused the company of overworking its employees.\""
      ]
     },
     "execution_count": 72,
     "metadata": {},
     "output_type": "execute_result"
    }
   ],
   "source": [
    "summarized_text = perform_summarization(sentences_score, words_ratio = 100)\n",
    "summarized_text"
   ]
  },
  {
   "cell_type": "code",
   "execution_count": 73,
   "metadata": {},
   "outputs": [
    {
     "name": "stdout",
     "output_type": "stream",
     "text": [
      "Lenght of summarized text is 684, Count of words = 108, Sentences count = 3. Lenght of text is 5600, Count of words 907, Sentences count = 42.\n"
     ]
    }
   ],
   "source": [
    "print_lenght_summarized_and_content(summarized_text, text)"
   ]
  },
  {
   "cell_type": "markdown",
   "metadata": {},
   "source": [
    "Now let's use sentence_score_frequency as score parameter in perform_summarization function to see the differences between two extracted scores."
   ]
  },
  {
   "cell_type": "code",
   "execution_count": 74,
   "metadata": {},
   "outputs": [
    {
     "data": {
      "text/plain": [
       "'Is this the Alibaba culture? Such a large company must protect its employees.'"
      ]
     },
     "execution_count": 74,
     "metadata": {},
     "output_type": "execute_result"
    }
   ],
   "source": [
    "summarized_text = perform_summarization(sentence_score_frequency, 2)\n",
    "summarized_text"
   ]
  },
  {
   "cell_type": "code",
   "execution_count": 75,
   "metadata": {},
   "outputs": [
    {
     "name": "stdout",
     "output_type": "stream",
     "text": [
      "Lenght of summarized text is 77, Count of words = 13, Sentences count = 2. Lenght of text is 5600, Count of words 907, Sentences count = 42.\n"
     ]
    }
   ],
   "source": [
    "print_lenght_summarized_and_content(summarized_text, text)"
   ]
  },
  {
   "cell_type": "markdown",
   "metadata": {},
   "source": [
    "The problem is text lenghts are different, so we might summarize text using word lenght ratio."
   ]
  },
  {
   "cell_type": "code",
   "execution_count": 76,
   "metadata": {
    "scrolled": true
   },
   "outputs": [
    {
     "data": {
      "text/plain": [
       "\"The company on Monday said it has fired an employee after he was accused of sexually assaulting a woman who also works at Alibaba (BABA). The man confessed to actions that Alibaba deemed in serious violation of company policy according to a memo sent by Alibaba Group chairman and CEO Daniel Zhang to employees. Two senior employees also resigned after they failed to prioritize employee protection according to Zhang's memo. Alibaba Group has a zero-tolerance policy against sexual misconduct and ensuring a safe workplace for all our employees is Alibaba's top priority a company spokesperson said in a statement to CNN Business. The allegations — which were widely circulated on Chinese social media over the weekend — have rocked Alibaba at a time when it and other Chinese tech companies are already facing incredible scrutiny from Chinese regulators over their business. The claims triggered public outcry as many criticized the company for its handling of the situation. The controversy started after a post — allegedly written by the victim who did not identify herself and published on an internal Alibaba website — circulated on the Chinese social media website Weibo. According to screenshots of the 8000-word account the woman claimed she was assaulted by her supervisor during a business trip to Jinan a city in eastern China while she says she was drunk. The male leader even entered my hotel room four times that night with condom and assaulted me!!!! When I typed the lines above I couldn't control myself and I broke into tears. I never thought that I would have such an experience she wrote. When I think about it now it just feels like a nightmare one that makes you terrified scared helpless helpless nightmare! CNN Business cannot confirm the authenticity of the post. The post has exploded on Chinese social media. Topics related to the incident have been viewed 850 million times on Weibo generating more than 510000 discussion posts. Some commenters accused Alibaba of failing to protect the rights of its employees. The woman allegedly claimed that the company brushed off her concerns when she reported them. How come there are still female employees who have been pushed and pressured by their leaders to drink and are violated. Is this the Alibaba culture? wrote one Weibo user. I really hope the results of the investigation can become clear as soon as possible. Such a large company must protect its employees. On Sunday police in Jinan announced on Weibo that they had launched a probe into the case. The police are actively investigating the matter and collecting evidence they said in a statement. The accused has not been charged with any crime. In the memo to employees on Monday Zhang said the employee confessed to intimate acts with a woman who was inebriated violating company policy. Whether he has committed rape or indecency that violates the law will be determined by law enforcement Zhang added in the memo which was posted publicly on the company's news website. He will be fired and never be rehired Zhang wrote. Two executives including the president of Alibaba's Neighborhood Retail group have resigned over the handling of the incident according to Zhang who added that the woman reported the incident to the company August 2. We believe that the head of the business is both the owner of the business and the team's culture Zhang wrote adding that when the woman reported a horrendous act ... they did not make timely decisions nor took appropriate action. This incident has caused tremendous harm to her. We will do everything we can to take care of her Zhang wrote. Zhang added that the company's chief people officer has also been reprimanded and said that the company will establish a dedicated reporting channel for employees as well as create an anti-sexual harassment policy that will include input from experts and employees. Zhang also acknowledged that the incident highlights what he called a culture of forced drinking referring to alcohol-heavy events that are popular in China to secure business deals or build partnerships. Although the police are still investigating the specific circumstances of the dinner that day we are staunchly opposed to the ugly forced drinking culture he wrote. Regardless of gender whether it is a request made by a customer or a supervisor our employees are empowered to reject it. The scandal's rapid spread on social media — along with the public outrage that ensued — comes as major firms including Alibaba have faced huge regulatory pressure. As President Xi Jinping increasingly emphasizes the ruling Communist Party's dominant role in every aspect of China's economy and society regulators have targeted tech education and other businesses with fines and restrictions. Complaints about work culture play into that scrutiny. Pinduoduo an e-commerce firm and rival to Alibaba faced intense public backlash earlier this year  over accusations that it overworks its employees after two of its employees died unexpectedly including a man who died by suicide. Chinese social media users started calling out the deaths as emblematic of a troublesome work culture and a former software engineer at the company escalated criticisms in several posts where he accused the company of overworking its employees. The company did not respond at the time to questions about the allegations made against its work culture but did say that it had set up a team to provide psychological counseling following the suicide of a worker.\""
      ]
     },
     "execution_count": 76,
     "metadata": {},
     "output_type": "execute_result"
    }
   ],
   "source": [
    "summarized_text_words_ratio_normal_score = perform_summarization(sentences_score, 42)\n",
    "summarized_text_words_ratio_normal_score"
   ]
  },
  {
   "cell_type": "code",
   "execution_count": 77,
   "metadata": {},
   "outputs": [
    {
     "name": "stdout",
     "output_type": "stream",
     "text": [
      "Lenght of summarized text is 5512, Count of words = 906, Sentences count = 42. Lenght of text is 5600, Count of words 907, Sentences count = 42.\n"
     ]
    }
   ],
   "source": [
    "print_lenght_summarized_and_content(summarized_text_words_ratio_normal_score, text)"
   ]
  },
  {
   "cell_type": "code",
   "execution_count": 78,
   "metadata": {
    "scrolled": true
   },
   "outputs": [
    {
     "data": {
      "text/plain": [
       "\"The company on Monday said it has fired an employee after he was accused of sexually assaulting a woman who also works at Alibaba (BABA). The man confessed to actions that Alibaba deemed in serious violation of company policy according to a memo sent by Alibaba Group chairman and CEO Daniel Zhang to employees. Two senior employees also resigned after they failed to prioritize employee protection according to Zhang's memo. Alibaba Group has a zero-tolerance policy against sexual misconduct and ensuring a safe workplace for all our employees is Alibaba's top priority a company spokesperson said in a statement to CNN Business. The allegations — which were widely circulated on Chinese social media over the weekend — have rocked Alibaba at a time when it and other Chinese tech companies are already facing incredible scrutiny from Chinese regulators over their business. The claims triggered public outcry as many criticized the company for its handling of the situation. The controversy started after a post — allegedly written by the victim who did not identify herself and published on an internal Alibaba website — circulated on the Chinese social media website Weibo. According to screenshots of the 8000-word account the woman claimed she was assaulted by her supervisor during a business trip to Jinan a city in eastern China while she says she was drunk. The male leader even entered my hotel room four times that night with condom and assaulted me!!!! When I typed the lines above I couldn't control myself and I broke into tears. I never thought that I would have such an experience she wrote. When I think about it now it just feels like a nightmare one that makes you terrified scared helpless helpless nightmare! CNN Business cannot confirm the authenticity of the post. The post has exploded on Chinese social media. Topics related to the incident have been viewed 850 million times on Weibo generating more than 510000 discussion posts. Some commenters accused Alibaba of failing to protect the rights of its employees. The woman allegedly claimed that the company brushed off her concerns when she reported them. How come there are still female employees who have been pushed and pressured by their leaders to drink and are violated. Is this the Alibaba culture? wrote one Weibo user. I really hope the results of the investigation can become clear as soon as possible. Such a large company must protect its employees. On Sunday police in Jinan announced on Weibo that they had launched a probe into the case. The police are actively investigating the matter and collecting evidence they said in a statement. The accused has not been charged with any crime. In the memo to employees on Monday Zhang said the employee confessed to intimate acts with a woman who was inebriated violating company policy. Whether he has committed rape or indecency that violates the law will be determined by law enforcement Zhang added in the memo which was posted publicly on the company's news website. He will be fired and never be rehired Zhang wrote. Two executives including the president of Alibaba's Neighborhood Retail group have resigned over the handling of the incident according to Zhang who added that the woman reported the incident to the company August 2. We believe that the head of the business is both the owner of the business and the team's culture Zhang wrote adding that when the woman reported a horrendous act ... they did not make timely decisions nor took appropriate action. This incident has caused tremendous harm to her. We will do everything we can to take care of her Zhang wrote. Zhang added that the company's chief people officer has also been reprimanded and said that the company will establish a dedicated reporting channel for employees as well as create an anti-sexual harassment policy that will include input from experts and employees. Zhang also acknowledged that the incident highlights what he called a culture of forced drinking referring to alcohol-heavy events that are popular in China to secure business deals or build partnerships. Although the police are still investigating the specific circumstances of the dinner that day we are staunchly opposed to the ugly forced drinking culture he wrote. Regardless of gender whether it is a request made by a customer or a supervisor our employees are empowered to reject it. The scandal's rapid spread on social media — along with the public outrage that ensued — comes as major firms including Alibaba have faced huge regulatory pressure. As President Xi Jinping increasingly emphasizes the ruling Communist Party's dominant role in every aspect of China's economy and society regulators have targeted tech education and other businesses with fines and restrictions. Complaints about work culture play into that scrutiny. Pinduoduo an e-commerce firm and rival to Alibaba faced intense public backlash earlier this year  over accusations that it overworks its employees after two of its employees died unexpectedly including a man who died by suicide. Chinese social media users started calling out the deaths as emblematic of a troublesome work culture and a former software engineer at the company escalated criticisms in several posts where he accused the company of overworking its employees. The company did not respond at the time to questions about the allegations made against its work culture but did say that it had set up a team to provide psychological counseling following the suicide of a worker.\""
      ]
     },
     "execution_count": 78,
     "metadata": {},
     "output_type": "execute_result"
    }
   ],
   "source": [
    "summarized_text_words_ratio_frequency_score = perform_summarization(sentence_score_frequency, 42)\n",
    "summarized_text_words_ratio_frequency_score"
   ]
  },
  {
   "cell_type": "code",
   "execution_count": 79,
   "metadata": {},
   "outputs": [
    {
     "name": "stdout",
     "output_type": "stream",
     "text": [
      "Lenght of summarized text is 5512, Count of words = 906, Sentences count = 42. Lenght of text is 5600, Count of words 907, Sentences count = 42.\n"
     ]
    }
   ],
   "source": [
    "print_lenght_summarized_and_content(summarized_text_words_ratio_frequency_score , text)"
   ]
  },
  {
   "cell_type": "markdown",
   "metadata": {},
   "source": [
    "Summarized texts using words ratio are looking pretty much the same. I campared summarized texts on this site (Text Comparator)(https://copyleaks.com/text-compare). Result was: 60.2% identity. But now  let's make function which compares them and returns the differing sentences and do the job be our own."
   ]
  },
  {
   "cell_type": "code",
   "execution_count": 80,
   "metadata": {},
   "outputs": [],
   "source": [
    "def compare_two_summarized_texts(summarized_text_one, summarized_text_two):\n",
    "    sentences_text_one = sent_tokenize(summarized_text_one)\n",
    "    sentences_text_two = sent_tokenize(summarized_text_two)\n",
    "    return \" \".join(set(sentences_text_one).symmetric_difference(set(sentences_text_two)))"
   ]
  },
  {
   "cell_type": "code",
   "execution_count": 81,
   "metadata": {},
   "outputs": [
    {
     "data": {
      "text/plain": [
       "''"
      ]
     },
     "execution_count": 81,
     "metadata": {},
     "output_type": "execute_result"
    }
   ],
   "source": [
    "different_summarized_text = compare_two_summarized_texts(summarized_text_words_ratio_normal_score, summarized_text_words_ratio_frequency_score)\n",
    "different_summarized_text\n",
    "#print_lenght_summarized_and_content(different_summarized_text, content)"
   ]
  },
  {
   "cell_type": "markdown",
   "metadata": {},
   "source": [
    "We got the differences between two summarizations now let's get identical parts of them."
   ]
  },
  {
   "cell_type": "code",
   "execution_count": 82,
   "metadata": {},
   "outputs": [],
   "source": [
    "def get_identical_sentences_from_two_summarized_texts(summarized_text_one, summarized_text_two):\n",
    "    sentences_text_one = sent_tokenize(summarized_text_one)\n",
    "    sentences_text_two = sent_tokenize(summarized_text_two)\n",
    "    return \" \".join(set(sentences_text_one).intersection(set(sentences_text_two)))"
   ]
  },
  {
   "cell_type": "code",
   "execution_count": 83,
   "metadata": {
    "scrolled": true
   },
   "outputs": [
    {
     "data": {
      "text/plain": [
       "\"I never thought that I would have such an experience she wrote. Chinese social media users started calling out the deaths as emblematic of a troublesome work culture and a former software engineer at the company escalated criticisms in several posts where he accused the company of overworking its employees. In the memo to employees on Monday Zhang said the employee confessed to intimate acts with a woman who was inebriated violating company policy. Whether he has committed rape or indecency that violates the law will be determined by law enforcement Zhang added in the memo which was posted publicly on the company's news website. When I typed the lines above I couldn't control myself and I broke into tears. wrote one Weibo user. Complaints about work culture play into that scrutiny. According to screenshots of the 8000-word account the woman claimed she was assaulted by her supervisor during a business trip to Jinan a city in eastern China while she says she was drunk. Topics related to the incident have been viewed 850 million times on Weibo generating more than 510000 discussion posts. As President Xi Jinping increasingly emphasizes the ruling Communist Party's dominant role in every aspect of China's economy and society regulators have targeted tech education and other businesses with fines and restrictions. Is this the Alibaba culture? Two executives including the president of Alibaba's Neighborhood Retail group have resigned over the handling of the incident according to Zhang who added that the woman reported the incident to the company August 2. This incident has caused tremendous harm to her. The company on Monday said it has fired an employee after he was accused of sexually assaulting a woman who also works at Alibaba (BABA). Zhang added that the company's chief people officer has also been reprimanded and said that the company will establish a dedicated reporting channel for employees as well as create an anti-sexual harassment policy that will include input from experts and employees. On Sunday police in Jinan announced on Weibo that they had launched a probe into the case. Alibaba Group has a zero-tolerance policy against sexual misconduct and ensuring a safe workplace for all our employees is Alibaba's top priority a company spokesperson said in a statement to CNN Business. The male leader even entered my hotel room four times that night with condom and assaulted me!!!! I really hope the results of the investigation can become clear as soon as possible. Such a large company must protect its employees. The allegations — which were widely circulated on Chinese social media over the weekend — have rocked Alibaba at a time when it and other Chinese tech companies are already facing incredible scrutiny from Chinese regulators over their business. Although the police are still investigating the specific circumstances of the dinner that day we are staunchly opposed to the ugly forced drinking culture he wrote. The scandal's rapid spread on social media — along with the public outrage that ensued — comes as major firms including Alibaba have faced huge regulatory pressure. The man confessed to actions that Alibaba deemed in serious violation of company policy according to a memo sent by Alibaba Group chairman and CEO Daniel Zhang to employees. The woman allegedly claimed that the company brushed off her concerns when she reported them. The post has exploded on Chinese social media. He will be fired and never be rehired Zhang wrote. Pinduoduo an e-commerce firm and rival to Alibaba faced intense public backlash earlier this year  over accusations that it overworks its employees after two of its employees died unexpectedly including a man who died by suicide. The company did not respond at the time to questions about the allegations made against its work culture but did say that it had set up a team to provide psychological counseling following the suicide of a worker. The accused has not been charged with any crime. Two senior employees also resigned after they failed to prioritize employee protection according to Zhang's memo. Regardless of gender whether it is a request made by a customer or a supervisor our employees are empowered to reject it. The claims triggered public outcry as many criticized the company for its handling of the situation. The police are actively investigating the matter and collecting evidence they said in a statement. We believe that the head of the business is both the owner of the business and the team's culture Zhang wrote adding that when the woman reported a horrendous act ... they did not make timely decisions nor took appropriate action. CNN Business cannot confirm the authenticity of the post. We will do everything we can to take care of her Zhang wrote. The controversy started after a post — allegedly written by the victim who did not identify herself and published on an internal Alibaba website — circulated on the Chinese social media website Weibo. How come there are still female employees who have been pushed and pressured by their leaders to drink and are violated. When I think about it now it just feels like a nightmare one that makes you terrified scared helpless helpless nightmare! Zhang also acknowledged that the incident highlights what he called a culture of forced drinking referring to alcohol-heavy events that are popular in China to secure business deals or build partnerships. Some commenters accused Alibaba of failing to protect the rights of its employees.\""
      ]
     },
     "execution_count": 83,
     "metadata": {},
     "output_type": "execute_result"
    }
   ],
   "source": [
    "identical_summarized_text = get_identical_sentences_from_two_summarized_texts(summarized_text_words_ratio_normal_score, summarized_text_words_ratio_frequency_score)\n",
    "identical_summarized_text\n",
    "#print_lenght_summarized_and_content(identical_summarized_text, content)"
   ]
  },
  {
   "cell_type": "code",
   "execution_count": 84,
   "metadata": {},
   "outputs": [
    {
     "data": {
      "text/plain": [
       "['']"
      ]
     },
     "execution_count": 84,
     "metadata": {},
     "output_type": "execute_result"
    }
   ],
   "source": [
    "compare_two_summarized_texts(summarized_text_words_ratio_normal_score, identical_summarized_text).split(\". \")"
   ]
  },
  {
   "cell_type": "markdown",
   "metadata": {},
   "source": [
    "Now we have the tools to extract differences and identity, so let's make function that plots the division between identity and differences in each text for every summarization in range for word_ratio $ \\in (0.1, 0.2, 0.3, 0.4, 0.5, 0.6, 0.7, 0.8, 0.9)$.\n",
    "\n",
    "Hypothesis: When the lenght of the summarization text increaces, identity between two summarized texts, established from the two different scores is incresing and the difference between texts is decreacing."
   ]
  },
  {
   "cell_type": "code",
   "execution_count": 85,
   "metadata": {},
   "outputs": [],
   "source": [
    "def view_over_the_different_word_ratios(first_score, second_score, main_text, sentences=False, ratio_range=[0.1, 0.2, 0.3, 0.4, 0.5, 0.6, 0.7, 0.8, 0.9], bar_width=1):\n",
    "    \n",
    "    results_from_word_ratios_one = {}\n",
    "    results_from_word_ratios_two = {}\n",
    "    for r in ratio_range:\n",
    "        word_ratio = int(r * len(main_text.split()))\n",
    "        sentence = None\n",
    "        if sentences == True:\n",
    "            word_ratio = None\n",
    "            sentence = r\n",
    "        #summarize using two scores\n",
    "        summarization_one = perform_summarization(first_score, sentences=sentence, words_ratio=word_ratio)\n",
    "        summarization_two = perform_summarization(second_score, sentences=sentence, words_ratio=word_ratio)\n",
    "        \n",
    "        #Get identical text\n",
    "        identical_summarized_text = get_identical_sentences_from_two_summarized_texts(summarization_one, summarization_two)\n",
    "        \n",
    "        #Get difference from summarized text and identical text \n",
    "        difference_summarization_one = compare_two_summarized_texts(summarization_one, identical_summarized_text)\n",
    "        difference_summarization_two = compare_two_summarized_texts(summarization_two, identical_summarized_text)\n",
    "        \n",
    "        #Count of words in difference from summarized text and identical text \n",
    "        sents_difference_summarization_one = len(difference_summarization_one.split(\". \"))\n",
    "        sents_difference_summarization_two = len(difference_summarization_two.split(\". \"))\n",
    "        sents_in_identical_summarization = len(identical_summarized_text.split(\". \"))\n",
    "        \n",
    "        if sents_in_identical_summarization == 0:\n",
    "            \n",
    "            results_from_word_ratios_one[r] = 0 \n",
    "            results_from_word_ratios_two[r] = 0\n",
    "        elif difference_summarization_one.count('') == 1:\n",
    "            \n",
    "            results_from_word_ratios_one[r] = 0\n",
    "            \n",
    "            if difference_summarization_two.count(''):\n",
    "                results_from_word_ratios_two[r] = 0\n",
    "            else:\n",
    "                results_from_word_ratios_two[r] = sents_difference_summarization_two / sents_in_identical_summarization\n",
    "        else:\n",
    "            # find Identity to difference ratio\n",
    "            results_from_word_ratios_one[r] = sents_difference_summarization_one / sents_in_identical_summarization\n",
    "            results_from_word_ratios_two[r] = sents_difference_summarization_two / sents_in_identical_summarization\n",
    "            \n",
    "            \n",
    "    fig, ax = plt.subplots()   \n",
    "    ax.bar([k for k in results_from_word_ratios_one.keys()], [v for v in results_from_word_ratios_one.values()], alpha=0.5, color='b', width=bar_width)\n",
    "    ax.bar([k for k in results_from_word_ratios_two.keys()], [v for v in results_from_word_ratios_two.values()], alpha=0.7, color='y', width=bar_width)\n",
    "    \n",
    "    plt.legend([\"Summarized text one ratio\", \"Summarized text two ratio\"])\n",
    "    plt.title(f\"Identity ratio in text\")\n",
    "    plt.xlabel(\"Category\")\n",
    "    plt.ylabel(\"Frequency (identity to difference)\")\n",
    "                                                                                                                                                \n",
    "    fig.tight_layout()\n",
    "    plt.show()"
   ]
  },
  {
   "cell_type": "code",
   "execution_count": 86,
   "metadata": {},
   "outputs": [
    {
     "data": {
      "image/png": "[encoded data removed]",
      "text/plain": [
       "<Figure size 432x288 with 1 Axes>"
      ]
     },
     "metadata": {
      "needs_background": "light"
     },
     "output_type": "display_data"
    }
   ],
   "source": [
    "view_over_the_different_word_ratios(sentences_score, sentence_score_frequency, text, ratio_range=[0.1, 0.2, 0.3, 0.4, 0.5, 0.6 ,0.7, 0.8, 0.9, 1], bar_width=0.05)"
   ]
  },
  {
   "cell_type": "code",
   "execution_count": 87,
   "metadata": {},
   "outputs": [
    {
     "data": {
      "image/png": "[encoded data removed]",
      "text/plain": [
       "<Figure size 432x288 with 1 Axes>"
      ]
     },
     "metadata": {
      "needs_background": "light"
     },
     "output_type": "display_data"
    }
   ],
   "source": [
    "view_over_the_different_word_ratios(sentences_score, sentence_score_frequency, content, sentences=True, ratio_range=[x for x in range(1, 43)], bar_width=0.7)"
   ]
  },
  {
   "cell_type": "markdown",
   "metadata": {},
   "source": [
    "From this plot we can prove that as we increace the total lenght of the summarized text the identity between two summarized texts, established from the two different scores is incresing and after a while they become the same This means that the summarized result from both of sentence scores is pretty much the same. I will use sentence score, because it is performing better."
   ]
  },
  {
   "cell_type": "markdown",
   "metadata": {},
   "source": [
    "###### Determine what is the text temper using classification"
   ]
  },
  {
   "cell_type": "markdown",
   "metadata": {},
   "source": [
    "###### Compare my summarization with build in modules from libraries"
   ]
  },
  {
   "cell_type": "markdown",
   "metadata": {},
   "source": [
    "For this purpose i will use summarization tools from sumpy. Sumpy libraray provides you several algorithms to implement Text Summarzation. I am going to use LexRank - A sentence which is similar to many other sentences of the text has a high probability of being important. The approach of LexRank is that a particular sentence is recommended by other similar sentences and hence is ranked higher."
   ]
  },
  {
   "cell_type": "code",
   "execution_count": 88,
   "metadata": {},
   "outputs": [],
   "source": [
    "def summarize_lex_rank(text, sentences):\n",
    "    lex_rank_summarizer = LexRankSummarizer()\n",
    "    my_parser = PlaintextParser.from_string(text,Tokenizer('english'))\n",
    "    lex_rank_summarizer = LexRankSummarizer()\n",
    "    lexrank_summary = lex_rank_summarizer(my_parser.document,sentences_count=sentences)\n",
    "\n",
    "    result = []\n",
    "    for sentence in lexrank_summary:\n",
    "        result.append(str(sentence).replace('\"', '').replace(',', ''))\n",
    "\n",
    "    return \" \".join(result)"
   ]
  },
  {
   "cell_type": "code",
   "execution_count": 89,
   "metadata": {
    "scrolled": true
   },
   "outputs": [
    {
     "data": {
      "text/plain": [
       "\"The company on Monday said it has fired an employee after he was accused of sexually assaulting a woman who also works at Alibaba (BABA). The man confessed to actions that Alibaba deemed in serious violation of company policy according to a memo sent by Alibaba Group chairman and CEO Daniel Zhang to employees. Two senior employees also resigned after they failed to prioritize employee protection according to Zhang's memo. Alibaba Group has a zero-tolerance policy against sexual misconduct and ensuring a safe workplace for all our employees is Alibaba's top priority a company spokesperson said in a statement to CNN Business. The allegations — which were widely circulated on Chinese social media over the weekend — have rocked Alibaba at a time when it and other Chinese tech companies are already facing incredible scrutiny from Chinese regulators over their business. The claims triggered public outcry as many criticized the company for its handling of the situation. The controversy started after a post — allegedly written by the victim who did not identify herself and published on an internal Alibaba website — circulated on the Chinese social media website Weibo. According to screenshots of the 8000-word account the woman claimed she was assaulted by her supervisor during a business trip to Jinan a city in eastern China while she says she was drunk. The male leader even entered my hotel room four times that night with condom and assaulted me!!!! When I typed the lines above I couldn't control myself and I broke into tears. I never thought that I would have such an experience she wrote. When I think about it now it just feels like a nightmare one that makes you terrified scared helpless helpless nightmare! CNN Business cannot confirm the authenticity of the post. The post has exploded on Chinese social media. Topics related to the incident have been viewed 850 million times on Weibo generating more than 510000 discussion posts. Some commenters accused Alibaba of failing to protect the rights of its employees. The woman allegedly claimed that the company brushed off her concerns when she reported them. How come there are still female employees who have been pushed and pressured by their leaders to drink and are violated. Is this the Alibaba culture?  wrote one Weibo user. I really hope the results of the investigation can become clear as soon as possible. Such a large company must protect its employees. On Sunday police in Jinan announced on Weibo that they had launched a probe into the case. The police are actively investigating the matter and collecting evidence they said in a statement. The accused has not been charged with any crime. In the memo to employees on Monday Zhang said the employee confessed to intimate acts with a woman who was inebriated violating company policy. Whether he has committed rape or indecency that violates the law will be determined by law enforcement Zhang added in the memo which was posted publicly on the company's news website. He will be fired and never be rehired Zhang wrote. Two executives including the president of Alibaba's Neighborhood Retail group have resigned over the handling of the incident according to Zhang who added that the woman reported the incident to the company August 2. We believe that the head of the business is both the owner of the business and the team's culture Zhang wrote adding that when the woman reported a horrendous act ... they did not make timely decisions nor took appropriate action. This incident has caused tremendous harm to her. We will do everything we can to take care of her Zhang wrote. Zhang added that the company's chief people officer has also been reprimanded and said that the company will establish a dedicated reporting channel for employees as well as create an anti-sexual harassment policy that will include input from experts and employees. Zhang also acknowledged that the incident highlights what he called a culture of forced drinking referring to alcohol-heavy events that are popular in China to secure business deals or build partnerships. Although the police are still investigating the specific circumstances of the dinner that day we are staunchly opposed to the ugly forced drinking culture he wrote. Regardless of gender whether it is a request made by a customer or a supervisor our employees are empowered to reject it. The scandal's rapid spread on social media — along with the public outrage that ensued — comes as major firms including Alibaba have faced huge regulatory pressure. As President Xi Jinping increasingly emphasizes the ruling Communist Party's dominant role in every aspect of China's economy and society regulators have targeted tech education and other businesses with fines and restrictions. Complaints about work culture play into that scrutiny. Pinduoduo an e-commerce firm and rival to Alibaba faced intense public backlash earlier this year  over accusations that it overworks its employees after two of its employees died unexpectedly including a man who died by suicide. Chinese social media users started calling out the deaths as emblematic of a troublesome work culture and a former software engineer at the company escalated criticisms in several posts where he accused the company of overworking its employees. The company did not respond at the time to questions about the allegations made against its work culture but did say that it had set up a team to provide psychological counseling following the suicide of a worker.\""
      ]
     },
     "execution_count": 89,
     "metadata": {},
     "output_type": "execute_result"
    }
   ],
   "source": [
    "sentences = 42\n",
    "lexrank_summarized_text = summarize_lex_rank(text, sentences)\n",
    "lexrank_summarized_text"
   ]
  },
  {
   "cell_type": "markdown",
   "metadata": {},
   "source": [
    "Let's see my summarization"
   ]
  },
  {
   "cell_type": "code",
   "execution_count": 90,
   "metadata": {
    "scrolled": true
   },
   "outputs": [
    {
     "data": {
      "text/plain": [
       "\"The company on Monday said it has fired an employee after he was accused of sexually assaulting a woman who also works at Alibaba (BABA). The man confessed to actions that Alibaba deemed in serious violation of company policy according to a memo sent by Alibaba Group chairman and CEO Daniel Zhang to employees. Two senior employees also resigned after they failed to prioritize employee protection according to Zhang's memo. Alibaba Group has a zero-tolerance policy against sexual misconduct and ensuring a safe workplace for all our employees is Alibaba's top priority a company spokesperson said in a statement to CNN Business. The allegations — which were widely circulated on Chinese social media over the weekend — have rocked Alibaba at a time when it and other Chinese tech companies are already facing incredible scrutiny from Chinese regulators over their business. The claims triggered public outcry as many criticized the company for its handling of the situation. The controversy started after a post — allegedly written by the victim who did not identify herself and published on an internal Alibaba website — circulated on the Chinese social media website Weibo. According to screenshots of the 8000-word account the woman claimed she was assaulted by her supervisor during a business trip to Jinan a city in eastern China while she says she was drunk. The male leader even entered my hotel room four times that night with condom and assaulted me!!!! When I typed the lines above I couldn't control myself and I broke into tears. I never thought that I would have such an experience she wrote. When I think about it now it just feels like a nightmare one that makes you terrified scared helpless helpless nightmare! CNN Business cannot confirm the authenticity of the post. The post has exploded on Chinese social media. Topics related to the incident have been viewed 850 million times on Weibo generating more than 510000 discussion posts. Some commenters accused Alibaba of failing to protect the rights of its employees. The woman allegedly claimed that the company brushed off her concerns when she reported them. How come there are still female employees who have been pushed and pressured by their leaders to drink and are violated. Is this the Alibaba culture? wrote one Weibo user. I really hope the results of the investigation can become clear as soon as possible. Such a large company must protect its employees. On Sunday police in Jinan announced on Weibo that they had launched a probe into the case. The police are actively investigating the matter and collecting evidence they said in a statement. The accused has not been charged with any crime. In the memo to employees on Monday Zhang said the employee confessed to intimate acts with a woman who was inebriated violating company policy. Whether he has committed rape or indecency that violates the law will be determined by law enforcement Zhang added in the memo which was posted publicly on the company's news website. He will be fired and never be rehired Zhang wrote. Two executives including the president of Alibaba's Neighborhood Retail group have resigned over the handling of the incident according to Zhang who added that the woman reported the incident to the company August 2. We believe that the head of the business is both the owner of the business and the team's culture Zhang wrote adding that when the woman reported a horrendous act ... they did not make timely decisions nor took appropriate action. This incident has caused tremendous harm to her. We will do everything we can to take care of her Zhang wrote. Zhang added that the company's chief people officer has also been reprimanded and said that the company will establish a dedicated reporting channel for employees as well as create an anti-sexual harassment policy that will include input from experts and employees. Zhang also acknowledged that the incident highlights what he called a culture of forced drinking referring to alcohol-heavy events that are popular in China to secure business deals or build partnerships. Although the police are still investigating the specific circumstances of the dinner that day we are staunchly opposed to the ugly forced drinking culture he wrote. Regardless of gender whether it is a request made by a customer or a supervisor our employees are empowered to reject it. The scandal's rapid spread on social media — along with the public outrage that ensued — comes as major firms including Alibaba have faced huge regulatory pressure. As President Xi Jinping increasingly emphasizes the ruling Communist Party's dominant role in every aspect of China's economy and society regulators have targeted tech education and other businesses with fines and restrictions. Complaints about work culture play into that scrutiny. Pinduoduo an e-commerce firm and rival to Alibaba faced intense public backlash earlier this year  over accusations that it overworks its employees after two of its employees died unexpectedly including a man who died by suicide. Chinese social media users started calling out the deaths as emblematic of a troublesome work culture and a former software engineer at the company escalated criticisms in several posts where he accused the company of overworking its employees. The company did not respond at the time to questions about the allegations made against its work culture but did say that it had set up a team to provide psychological counseling following the suicide of a worker.\""
      ]
     },
     "execution_count": 90,
     "metadata": {},
     "output_type": "execute_result"
    }
   ],
   "source": [
    "summarized_text_words_sentence_score = perform_summarization(sentences_score, sentences=sentences)\n",
    "summarized_text_words_sentence_score"
   ]
  },
  {
   "cell_type": "code",
   "execution_count": null,
   "metadata": {},
   "outputs": [],
   "source": []
  },
  {
   "cell_type": "code",
   "execution_count": 91,
   "metadata": {
    "scrolled": true
   },
   "outputs": [],
   "source": [
    "def comparation_with_lexrank(text, sentence_score, sentences):\n",
    "    \n",
    "    identity_sentences_count = []\n",
    "    \n",
    "    for sentence in sentences:\n",
    "        lexrank_summarized_text = summarize_lex_rank(text, sentences=sentence)\n",
    "        summarized_text = perform_summarization(sentence_score, sentences=sentence)\n",
    "        identity = get_identical_sentences_from_two_summarized_texts(lexrank_summarized_text, summarized_text)\n",
    "        identity_sentences_count.append(len(sent_tokenize(identity)))\n",
    "    \n",
    "    \n",
    "    category = [x for x in sentences]  \n",
    "    fig, ax = plt.subplots()\n",
    "    ax.bar(category, [c for c in identity_sentences_count], alpha=0.5, color='b')\n",
    "    ax.plot(category, category, color ='r')\n",
    "    \n",
    "    plt.legend([\"Count of ident sentences\", \"Perfect identity\"])\n",
    "    plt.title(\"Summarization comparision\")\n",
    "    plt.xlabel(\"Sentences count\")\n",
    "    plt.ylabel(\"Identical sentences count\")\n",
    "    fig.tight_layout()\n",
    "    \n",
    "    plt.show()"
   ]
  },
  {
   "cell_type": "code",
   "execution_count": 92,
   "metadata": {},
   "outputs": [
    {
     "data": {
      "image/png": "[encoded data removed]",
      "text/plain": [
       "<Figure size 432x288 with 1 Axes>"
      ]
     },
     "metadata": {
      "needs_background": "light"
     },
     "output_type": "display_data"
    }
   ],
   "source": [
    "comparation_with_lexrank(text, sentences_score, range(1, len(sent_tokenize(text)), 3))"
   ]
  },
  {
   "cell_type": "markdown",
   "metadata": {},
   "source": [
    "We plot this bar to find out if our summarization function output is the same with sumy LexRank summarizator. For every bin the red line represents full identity with LexRank. And our function is performance is great but not perfect. I think it will work for now is time to try text processing to other news."
   ]
  },
  {
   "cell_type": "code",
   "execution_count": 93,
   "metadata": {},
   "outputs": [],
   "source": [
    "def print_news_summary(dataframe, index):\n",
    "    content = dataframe.loc[index, \"content\"]\n",
    "    title = dataframe.loc[index, \"headline\"]\n",
    "    date = dataframe.loc[index, \"date\"]\n",
    "    news_type = dataframe.loc[index, \"news_type\"]\n",
    "    print(f\"Title: {title}\")\n",
    "    print(f\"Date:{date}, type:{news_type}\")\n",
    "\n",
    "    text = add_whitespace_after_punctuation_mark(content)\n",
    "    tokens = tokenize_text(text)\n",
    "    meaningful_words = get_meaningful_words(tokens)\n",
    "    freq_words = get_words_frequency(meaningful_words)\n",
    "    sentences = get_text_sentences(text)\n",
    "    sentences_score = get_sentences_score(sentences, freq_words)\n",
    "    words_ratio, sentences_count = None, int(len(sentences) / 3)\n",
    "\n",
    "    summarized_text = perform_summarization(sentences_score, sentences=sentences_count, words_ratio = words_ratio)\n",
    "    \n",
    "    print(summarized_text)\n",
    "    \n",
    "    print_lenght_summarized_and_content(summarized_text, text)\n",
    "    \n",
    "    plot_most_frequent_words(10, freq_words)\n",
    "    \n",
    "    comparation_with_lexrank(text, sentences_score, range(1, len(sent_tokenize(text)), 3))"
   ]
  },
  {
   "cell_type": "markdown",
   "metadata": {},
   "source": [
    "###### 4. Results"
   ]
  },
  {
   "cell_type": "code",
   "execution_count": 94,
   "metadata": {},
   "outputs": [
    {
     "name": "stdout",
     "output_type": "stream",
     "text": [
      "Title: China sues Tencent over WeChat Youth Mode\n",
      "Date:2021-08-09 00:00:00, type:tech\n",
      "Beijing prosecutors have filed a civil legal action against Tencent over claims its messaging-app WeChat's Youth Mode does not comply with laws protecting minors. Youth Mode prevents younger users from accessing payments playing certain games and finding nearby friends. We will earnestly inspect and check the functions of WeChat Youth Mode accept user suggestions humbly and sincerely respond to civil public-interest litigation the company posted on Weibo. Last week Chinese authorities called for minors to be better protected from online dangers with a state-media article labelling games as spiritual opium.\n",
      "Lenght of summarized text is 613, Count of words = 90, Sentences count = 4. Lenght of text is 1363, Count of words 213, Sentences count = 13.\n"
     ]
    },
    {
     "data": {
      "image/png": "[encoded data removed]",
      "text/plain": [
       "<Figure size 432x288 with 1 Axes>"
      ]
     },
     "metadata": {
      "needs_background": "light"
     },
     "output_type": "display_data"
    },
    {
     "data": {
      "image/png": "[encoded data removed]",
      "text/plain": [
       "<Figure size 432x288 with 1 Axes>"
      ]
     },
     "metadata": {
      "needs_background": "light"
     },
     "output_type": "display_data"
    }
   ],
   "source": [
    "print_news_summary(text_data, 10)"
   ]
  },
  {
   "cell_type": "code",
   "execution_count": 96,
   "metadata": {},
   "outputs": [
    {
     "name": "stdout",
     "output_type": "stream",
     "text": [
      "Title: If you build it, they will pay: 'Field of Dreams' tickets cost $1,400\n",
      "Date:2021-08-12 00:00:00, type:business\n",
      "Baseball celebrates the myth of its rural roots tonight when the New York Yankees meet the Chicago White Sox in a game adjacent to the field in rural Dyersville Iowa population 4000 where the iconic 1989 movie Field of Dreams was filmed. Fans are paying record amounts to attend the game with most who bought tickets on the secondary market spending more than $1400 to attend. The prices are by far the highest average price ever for a regular season game and have only been topped by a handful of World Series games such as Game 4 of the 2016 World Series between two championship-starved teams as the Cleveland Indians met the Chicago Cubs at Wrigley Field in Chicago. StubHub says the average for Thursday's game on its site is $1400 while SeatGeek says the average price of tickets sold on its site is $1557. Tickets have a face value of either $375 or $425 and were sold to fans in Iowa and White Sox season ticket holders who won lotteries for the right to buy about 8000 seats at the temporary stadium in Dyersville Iowa. The game was originally planned to be played last year but was canceled because of the shortened fanless baseball season. The White Sox whose home is a four-hour drive away from Dyersville are in first place at this time of the season for the first time since 2012. Other baseball ticket prices are up tooBut it's not just this game drawing higher prices and higher demand for tickets. SeatGeek says the average price of baseball tickets sold on its site this year has been $81 up 40% from the $58 average in 2019 the last time fans were allowed to attend regular season games. Given its remote location the field often has only a handful of fans visiting at any one time except when buses arrive. The film based on W. P. Kinsella's 1982 novel Shoeless Joe is a mythical tale of a farmer Ray Kinsella played by Kevin Costner who builds a baseball field on his farm. He decides the voice is referring to the ghost of Shoeless Joe Jackson a White Sox great from a century ago who was banned for life from the game when his teammates threw the 1919 World Series. And once he builds the field the ghost of Jackson and other players do arrive to play baseball on the field. When Costner's character is at risk of losing the farm because of the lost crops he's not growing his friend and daughter convince him that fans will pay to visit and gain peace from communing with baseball. Jones' character's speech that follows is well known to many baseball fans as he explains their love of the game.\n",
      "Lenght of summarized text is 2519, Count of words = 459, Sentences count = 15. Lenght of text is 5246, Count of words 933, Sentences count = 47.\n"
     ]
    },
    {
     "data": {
      "image/png": "[encoded data removed]",
      "text/plain": [
       "<Figure size 432x288 with 1 Axes>"
      ]
     },
     "metadata": {
      "needs_background": "light"
     },
     "output_type": "display_data"
    },
    {
     "data": {
      "image/png": "[encoded data removed]",
      "text/plain": [
       "<Figure size 432x288 with 1 Axes>"
      ]
     },
     "metadata": {
      "needs_background": "light"
     },
     "output_type": "display_data"
    }
   ],
   "source": [
    "print_news_summary(text_data, random.randrange(0, len(text_data), 1))"
   ]
  },
  {
   "cell_type": "markdown",
   "metadata": {},
   "source": [
    "Yes, That is it. News  summarization implemented from srcatch."
   ]
  },
  {
   "cell_type": "markdown",
   "metadata": {},
   "source": [
    "### Limitations and Future Work  (Optional)"
   ]
  },
  {
   "cell_type": "markdown",
   "metadata": {},
   "source": [
    "For more clearity I could refeature text_data with tokens, word frequencies, score from every sentence and summarized text. That would be usefull if you want to change this parameters and remake them and results are going to be saved so you don't have to call perform_summarization many times. Other think that is missing is text temper classiffication feature, because it is very useful to know this when you read anything. But i didn't have time."
   ]
  },
  {
   "cell_type": "markdown",
   "metadata": {},
   "source": [
    "### Conclusion"
   ]
  },
  {
   "cell_type": "markdown",
   "metadata": {},
   "source": [
    "I have implemented an algorithm that summarizes news using beautiful soup for web scraping part. Pandas nad numpy were really helpful when working wiit data. For text summarization I used nltk and it's methods and classes: stopwords, word_tokenize, WordPunctTokenizer, sent_tokenize. Performing the easiest summarization algorithm was very useful, because I learned a lot of things about natural language processing and I did something useful for me."
   ]
  },
  {
   "cell_type": "markdown",
   "metadata": {},
   "source": [
    "### References\n",
    "\n",
    "https://ocw.mit.edu/courses/biological-engineering/20-109-laboratory-fundamentals-in-biological-engineering-fall-2007/assignments/sci_writing_guid.pdf\n",
    "\n",
    "https://tjzhifei.github.io/resources/NLTK.pdf\n",
    "\n",
    "https://www.machinelearningplus.com/nlp/text-summarization-approaches-nlp-example/\n",
    "\n",
    "https://www.nltk.org/howto/\n",
    "\n",
    "https://www.geeksforgeeks.org/\n",
    "\n",
    "https://pandas.pydata.org/Pandas_Cheat_Sheet.pdf\n",
    "\n",
    "https://beautiful-soup-4.readthedocs.io/en/latest/\n",
    "\n",
    "https://pandas.pydata.org/pandas-docs/stable/"
   ]
  }
 ],
 "metadata": {
  "kernelspec": {
   "display_name": "Python 3",
   "language": "python",
   "name": "python3"
  },
  "language_info": {
   "codemirror_mode": {
    "name": "ipython",
    "version": 3
   },
   "file_extension": ".py",
   "mimetype": "text/x-python",
   "name": "python",
   "nbconvert_exporter": "python",
   "pygments_lexer": "ipython3",
   "version": "3.8.5"
  }
 },
 "nbformat": 4,
 "nbformat_minor": 4
}
