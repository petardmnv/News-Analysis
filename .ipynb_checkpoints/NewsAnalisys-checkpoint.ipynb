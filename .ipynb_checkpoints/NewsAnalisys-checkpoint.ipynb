{
 "cells": [
  {
   "cell_type": "markdown",
   "metadata": {},
   "source": [
    "# Natural Language Processing: News Analysis\n",
    "[Peter Damyanov](https://github.com/petardmnv)"
   ]
  },
  {
   "cell_type": "markdown",
   "metadata": {},
   "source": [
    "###### Imports"
   ]
  },
  {
   "cell_type": "code",
   "execution_count": 289,
   "metadata": {},
   "outputs": [
    {
     "name": "stdout",
     "output_type": "stream",
     "text": [
      "Requirement already satisfied: sumy in /home/petar/anaconda3/lib/python3.8/site-packages (0.8.1)\n",
      "Requirement already satisfied: nltk>=3.0.2 in /home/petar/anaconda3/lib/python3.8/site-packages (from sumy) (3.5)\n",
      "Requirement already satisfied: docopt<0.7,>=0.6.1 in /home/petar/anaconda3/lib/python3.8/site-packages (from sumy) (0.6.2)\n",
      "Requirement already satisfied: pycountry>=18.2.23 in /home/petar/anaconda3/lib/python3.8/site-packages (from sumy) (20.7.3)\n",
      "Requirement already satisfied: breadability>=0.1.20 in /home/petar/anaconda3/lib/python3.8/site-packages (from sumy) (0.1.20)\n",
      "Requirement already satisfied: requests>=2.7.0 in /home/petar/anaconda3/lib/python3.8/site-packages (from sumy) (2.24.0)\n",
      "Requirement already satisfied: regex in /home/petar/anaconda3/lib/python3.8/site-packages (from nltk>=3.0.2->sumy) (2020.10.15)\n",
      "Requirement already satisfied: click in /home/petar/anaconda3/lib/python3.8/site-packages (from nltk>=3.0.2->sumy) (7.1.2)\n",
      "Requirement already satisfied: joblib in /home/petar/anaconda3/lib/python3.8/site-packages (from nltk>=3.0.2->sumy) (0.17.0)\n",
      "Requirement already satisfied: tqdm in /home/petar/anaconda3/lib/python3.8/site-packages (from nltk>=3.0.2->sumy) (4.50.2)\n",
      "Requirement already satisfied: lxml>=2.0 in /home/petar/anaconda3/lib/python3.8/site-packages (from breadability>=0.1.20->sumy) (4.6.1)\n",
      "Requirement already satisfied: chardet in /home/petar/anaconda3/lib/python3.8/site-packages (from breadability>=0.1.20->sumy) (3.0.4)\n",
      "Requirement already satisfied: idna<3,>=2.5 in /home/petar/anaconda3/lib/python3.8/site-packages (from requests>=2.7.0->sumy) (2.10)\n",
      "Requirement already satisfied: urllib3!=1.25.0,!=1.25.1,<1.26,>=1.21.1 in /home/petar/anaconda3/lib/python3.8/site-packages (from requests>=2.7.0->sumy) (1.25.11)\n",
      "Requirement already satisfied: certifi>=2017.4.17 in /home/petar/anaconda3/lib/python3.8/site-packages (from requests>=2.7.0->sumy) (2020.6.20)\n"
     ]
    }
   ],
   "source": [
    "import numpy as np\n",
    "import pandas as pd\n",
    "import matplotlib.pyplot as plt\n",
    "\n",
    "import requests\n",
    "\n",
    "from bs4 import BeautifulSoup\n",
    "\n",
    "import re\n",
    "\n",
    "import nltk\n",
    "from nltk.corpus import stopwords\n",
    "from nltk import word_tokenize\n",
    "from nltk.tokenize import WordPunctTokenizer, sent_tokenize\n",
    "from nltk.stem import PorterStemmer,  WordNetLemmatizer\n",
    "#nltk.download()\n",
    "#from nltk.book import *\n",
    "from datetime import datetime\n",
    "\n",
    "import collections\n",
    "\n",
    "import scipy.stats as sp\n",
    "\n",
    "!pip install sumy\n",
    "from sumy.summarizers.lex_rank import LexRankSummarizer\n",
    "from sumy.parsers.plaintext import PlaintextParser\n",
    "from sumy.nlp.tokenizers import Tokenizer"
   ]
  },
  {
   "cell_type": "markdown",
   "metadata": {},
   "source": [
    "### Abstract"
   ]
  },
  {
   "cell_type": "markdown",
   "metadata": {},
   "source": [
    "### Research objective"
   ]
  },
  {
   "cell_type": "markdown",
   "metadata": {},
   "source": [
    "### Theoretical background and hypothesis development"
   ]
  },
  {
   "cell_type": "markdown",
   "metadata": {},
   "source": [
    "###  Methodology"
   ]
  },
  {
   "cell_type": "markdown",
   "metadata": {},
   "source": [
    "### Implementing methodology"
   ]
  },
  {
   "cell_type": "markdown",
   "metadata": {},
   "source": [
    "##### 1.Web Scraping"
   ]
  },
  {
   "cell_type": "markdown",
   "metadata": {},
   "source": [
    "Get the most popular business news from [CNN](https://edition.cnn.com/business) for the current day.\n",
    "Get the most popular business news from [BBC](https://www.bbc.com/news/business) for the current day.\n",
    "\n",
    "**Warning** Scraping two completely different sites is not easy and most of the code will be different. Ie we will not be able to use the functions we have for both sites, but the logic in functions will be almost the same."
   ]
  },
  {
   "cell_type": "code",
   "execution_count": 2,
   "metadata": {},
   "outputs": [],
   "source": [
    "cnn_link = 'https://edition.cnn.com/business'\n",
    "bbc_link = 'https://www.bbc.com/news/business'    "
   ]
  },
  {
   "cell_type": "code",
   "execution_count": 3,
   "metadata": {},
   "outputs": [],
   "source": [
    "#Get page content\n",
    "def get_page_content(link):\n",
    "    page = requests.get(link)\n",
    "    return page"
   ]
  },
  {
   "cell_type": "markdown",
   "metadata": {},
   "source": [
    "Secondly we are going to scrape this page, so we can access \"top news\" urls. To scrape the page we need BeautifulSoup object. "
   ]
  },
  {
   "cell_type": "code",
   "execution_count": 4,
   "metadata": {},
   "outputs": [],
   "source": [
    "def create_soup(page):\n",
    "    soup = BeautifulSoup(page.text, 'html.parser')\n",
    "    return soup"
   ]
  },
  {
   "cell_type": "markdown",
   "metadata": {},
   "source": [
    "There are duplicating links so we are going to create function which will remove duplicated links. The easiest way of doing that is to cast \"links\" to set, because set items are unordered, unchangeable, and do not allow duplicate values."
   ]
  },
  {
   "cell_type": "code",
   "execution_count": 5,
   "metadata": {},
   "outputs": [],
   "source": [
    "def clear_duplicate_links(links):\n",
    "    return list(set(links))"
   ]
  },
  {
   "cell_type": "markdown",
   "metadata": {},
   "source": [
    "ASDFFGASD"
   ]
  },
  {
   "cell_type": "code",
   "execution_count": 6,
   "metadata": {},
   "outputs": [],
   "source": [
    "def remove_usless_links(pat, links):\n",
    "    correct_links = []\n",
    "    for l in links:\n",
    "        obj = re.findall(pat, l)\n",
    "        if len(obj) > 0:\n",
    "            correct_links.append(obj[0])\n",
    "    return list(set(correct_links))"
   ]
  },
  {
   "cell_type": "markdown",
   "metadata": {},
   "source": [
    "Start with CNN"
   ]
  },
  {
   "cell_type": "markdown",
   "metadata": {},
   "source": [
    "Extact links from scraped data and clear duplicating, if there is such links."
   ]
  },
  {
   "cell_type": "code",
   "execution_count": 7,
   "metadata": {},
   "outputs": [],
   "source": [
    "def extract_cnn_links(link):\n",
    "    page = get_page_content(link)\n",
    "    soup = create_soup(page)\n",
    "    cnn_extracted_links = [l['href'] for l in soup.find('section').find(\"ul\").find_all('a')]\n",
    "    cnn_extracted_links = clear_duplicate_links(cnn_extracted_links)\n",
    "    # Use regex to be sure that there is no wrong link\n",
    "    pat = r\"/\\d{4}/\\d{2}/\\d{2}.*\"\n",
    "    cnn_extracted_links = remove_usless_links(pat, cnn_extracted_links)\n",
    "    return cnn_extracted_links"
   ]
  },
  {
   "cell_type": "markdown",
   "metadata": {},
   "source": [
    "Let's see extracted links from cnn."
   ]
  },
  {
   "cell_type": "code",
   "execution_count": 8,
   "metadata": {},
   "outputs": [
    {
     "data": {
      "text/plain": [
       "['/2021/08/10/economy/covid-restaurant-economy/index.html',\n",
       " '/2021/08/12/perspectives/climate-carbon-emissions-ceo-pay/index.html',\n",
       " '/2021/08/11/business/wendys-breakfast-earnings/index.html',\n",
       " '/2021/08/09/business/money/early-retirement-fire-feseries/index.html',\n",
       " '/2021/08/12/economy/july-inflation-producer-prices/index.html',\n",
       " '/2021/08/11/economy/july-rising-prices/index.html',\n",
       " '/2021/08/12/tech/twitter-india-congress-party-intl-hnk/index.html',\n",
       " '/2021/08/11/tech/crypto-hack/index.html',\n",
       " '/2021/08/12/business/china-crackdown-five-year-plan-intl-hnk/index.html',\n",
       " '/2021/08/11/perspectives/betterup-leadership-pandemic/index.html',\n",
       " '/2021/08/11/tech/samsung-galaxy-z-fold3-flip3/index.html',\n",
       " '/2021/08/12/investing/premarket-stocks-trading/index.html',\n",
       " '/2021/08/12/business/ihop-alcohol-menu/index.html']"
      ]
     },
     "execution_count": 8,
     "metadata": {},
     "output_type": "execute_result"
    }
   ],
   "source": [
    "extracted_cnn_links = extract_cnn_links(cnn_link)\n",
    "extracted_cnn_links"
   ]
  },
  {
   "cell_type": "markdown",
   "metadata": {},
   "source": [
    "As you can see we can get article type from it's link. So let's create function that gets the article type."
   ]
  },
  {
   "cell_type": "code",
   "execution_count": 9,
   "metadata": {},
   "outputs": [],
   "source": [
    "def get_cnn_news_type_from_link(links):\n",
    "    #link contains date of publishing than article type\n",
    "    #For example /2021/08/06/economy/july-jobs-report/index.html\n",
    "    # So we can remove first 12 characters and than get article type\n",
    "    cnn_news_types = []\n",
    "    for link in links:\n",
    "        link = link[12:]\n",
    "        # To determine the end ot article we will append to our variable character after character until we\n",
    "        # get to '/' \n",
    "        news_type = []\n",
    "        for c in link:\n",
    "            if c == '/':\n",
    "                break\n",
    "            news_type.append(c)\n",
    "        cnn_news_types.append(\"\".join(news_type))\n",
    "    return cnn_news_types"
   ]
  },
  {
   "cell_type": "code",
   "execution_count": 10,
   "metadata": {},
   "outputs": [
    {
     "data": {
      "text/plain": [
       "['economy',\n",
       " 'perspectives',\n",
       " 'business',\n",
       " 'business',\n",
       " 'economy',\n",
       " 'economy',\n",
       " 'tech',\n",
       " 'tech',\n",
       " 'business',\n",
       " 'perspectives',\n",
       " 'tech',\n",
       " 'investing',\n",
       " 'business']"
      ]
     },
     "execution_count": 10,
     "metadata": {},
     "output_type": "execute_result"
    }
   ],
   "source": [
    "cnn_news_types = get_cnn_news_type_from_link(extracted_cnn_links)    \n",
    "cnn_news_types"
   ]
  },
  {
   "cell_type": "markdown",
   "metadata": {},
   "source": [
    "We can plot the results using bar chart to see the type of news that occurs most."
   ]
  },
  {
   "cell_type": "code",
   "execution_count": 11,
   "metadata": {},
   "outputs": [],
   "source": [
    "news_types_frequency = nltk.FreqDist(cnn_news_types)"
   ]
  },
  {
   "cell_type": "code",
   "execution_count": 12,
   "metadata": {},
   "outputs": [],
   "source": [
    "def plot_types_of_news(news_types_frequency):\n",
    "    plt.bar([t for t in news_types_frequency], [news_types_frequency[t] for t in news_types_frequency])\n",
    "\n",
    "    plt.xlabel(\"News Type\")\n",
    "    plt.ylabel(\"Count news\")\n",
    "    plt.xticks(rotation=45)\n",
    "    plt.show()"
   ]
  },
  {
   "cell_type": "code",
   "execution_count": 13,
   "metadata": {},
   "outputs": [
    {
     "data": {
      "image/png": "[encoded data removed]",
      "text/plain": [
       "<Figure size 432x288 with 1 Axes>"
      ]
     },
     "metadata": {
      "needs_background": "light"
     },
     "output_type": "display_data"
    }
   ],
   "source": [
    "plot_types_of_news(news_types_frequency)"
   ]
  },
  {
   "cell_type": "markdown",
   "metadata": {},
   "source": [
    "Then we want to know the date of current article. Again we can get it from article url."
   ]
  },
  {
   "cell_type": "code",
   "execution_count": 14,
   "metadata": {},
   "outputs": [],
   "source": [
    "def get_cnn_news_date(links):\n",
    "    cnn_news_timestamp = []\n",
    "    for link in links:\n",
    "        raw_date = link[1:11]\n",
    "        cnn_news_timestamp.append(raw_date.replace('/', '-'))\n",
    "    return cnn_news_timestamp"
   ]
  },
  {
   "cell_type": "code",
   "execution_count": 15,
   "metadata": {
    "scrolled": false
   },
   "outputs": [
    {
     "data": {
      "text/plain": [
       "['2021-08-10',\n",
       " '2021-08-12',\n",
       " '2021-08-11',\n",
       " '2021-08-09',\n",
       " '2021-08-12',\n",
       " '2021-08-11',\n",
       " '2021-08-12',\n",
       " '2021-08-11',\n",
       " '2021-08-12',\n",
       " '2021-08-11',\n",
       " '2021-08-11',\n",
       " '2021-08-12',\n",
       " '2021-08-12']"
      ]
     },
     "execution_count": 15,
     "metadata": {},
     "output_type": "execute_result"
    }
   ],
   "source": [
    "cnn_news_timestamp = get_cnn_news_date(extracted_cnn_links)\n",
    "cnn_news_timestamp"
   ]
  },
  {
   "cell_type": "markdown",
   "metadata": {},
   "source": [
    "Add domain to our links."
   ]
  },
  {
   "cell_type": "code",
   "execution_count": 16,
   "metadata": {},
   "outputs": [],
   "source": [
    "def cnn_news_add_domain(domain, links):\n",
    "    for i in range(len(links)):\n",
    "        links[i] = domain+links[i]"
   ]
  },
  {
   "cell_type": "code",
   "execution_count": 17,
   "metadata": {
    "scrolled": true
   },
   "outputs": [
    {
     "data": {
      "text/plain": [
       "['https://edition.cnn.com/2021/08/10/economy/covid-restaurant-economy/index.html',\n",
       " 'https://edition.cnn.com/2021/08/12/perspectives/climate-carbon-emissions-ceo-pay/index.html',\n",
       " 'https://edition.cnn.com/2021/08/11/business/wendys-breakfast-earnings/index.html',\n",
       " 'https://edition.cnn.com/2021/08/09/business/money/early-retirement-fire-feseries/index.html',\n",
       " 'https://edition.cnn.com/2021/08/12/economy/july-inflation-producer-prices/index.html',\n",
       " 'https://edition.cnn.com/2021/08/11/economy/july-rising-prices/index.html',\n",
       " 'https://edition.cnn.com/2021/08/12/tech/twitter-india-congress-party-intl-hnk/index.html',\n",
       " 'https://edition.cnn.com/2021/08/11/tech/crypto-hack/index.html',\n",
       " 'https://edition.cnn.com/2021/08/12/business/china-crackdown-five-year-plan-intl-hnk/index.html',\n",
       " 'https://edition.cnn.com/2021/08/11/perspectives/betterup-leadership-pandemic/index.html',\n",
       " 'https://edition.cnn.com/2021/08/11/tech/samsung-galaxy-z-fold3-flip3/index.html',\n",
       " 'https://edition.cnn.com/2021/08/12/investing/premarket-stocks-trading/index.html',\n",
       " 'https://edition.cnn.com/2021/08/12/business/ihop-alcohol-menu/index.html']"
      ]
     },
     "execution_count": 17,
     "metadata": {},
     "output_type": "execute_result"
    }
   ],
   "source": [
    "domain = 'https://edition.cnn.com'\n",
    "cnn_news_add_domain(domain, extracted_cnn_links)\n",
    "extracted_cnn_links"
   ]
  },
  {
   "cell_type": "markdown",
   "metadata": {},
   "source": [
    "With proper links we can now extract articles headlines."
   ]
  },
  {
   "cell_type": "code",
   "execution_count": 18,
   "metadata": {},
   "outputs": [],
   "source": [
    "def get_cnn_news_headlines(links):\n",
    "    cnn_news_headlines = []\n",
    "    for link in links:\n",
    "        page = get_page_content(link)\n",
    "        soup = create_soup(page)\n",
    "        cnn_news_headlines.append(soup.find('h1').text)\n",
    "    return cnn_news_headlines"
   ]
  },
  {
   "cell_type": "code",
   "execution_count": 19,
   "metadata": {
    "scrolled": false
   },
   "outputs": [
    {
     "data": {
      "text/plain": [
       "['Cracks emerge in the restaurant recovery as Delta variant rages',\n",
       " 'Tying CEO pay to carbon emissions works. More companies should try it',\n",
       " \"How Wendy's plans to keep you coming back for breakfast\",\n",
       " \"You might be able to retire earlier than you think. Here's how\",\n",
       " 'Key inflation measure hits new record high — yet again',\n",
       " \"Prices are still rising. Here's what's getting more expensive\",\n",
       " 'Twitter blocks Indian opposition accounts for revealing identity of child allegedly raped and murdered',\n",
       " '$600 million gone: The biggest crypto theft in history ',\n",
       " \"China's get-tough approach to big business will continue for years\",\n",
       " '4 things exhausted employees need from their managers right now',\n",
       " \"Samsung's new foldable phones are cheaper, more durable and have an under-screen camera\",\n",
       " 'Inflation is spreading to more parts of the US economy',\n",
       " 'IHOP is adding booze to the menu at some locations ']"
      ]
     },
     "execution_count": 19,
     "metadata": {},
     "output_type": "execute_result"
    }
   ],
   "source": [
    "cnn_news_headlines = get_cnn_news_headlines(extracted_cnn_links)\n",
    "cnn_news_headlines"
   ]
  },
  {
   "cell_type": "markdown",
   "metadata": {},
   "source": [
    "Get articless content scraping."
   ]
  },
  {
   "cell_type": "code",
   "execution_count": 20,
   "metadata": {},
   "outputs": [],
   "source": [
    "def get_cnn_news_articles_content(links):\n",
    "    cnn_news_articles_content = []\n",
    "    for link in links:\n",
    "        page = get_page_content(link)\n",
    "        soup = create_soup(page)\n",
    "        text = \"\".join([l.text for l in soup.findAll('div', {\"class\": \"zn-body__paragraph\"})])\n",
    "        cnn_news_articles_content.append(text)\n",
    "    return cnn_news_articles_content"
   ]
  },
  {
   "cell_type": "code",
   "execution_count": 21,
   "metadata": {
    "scrolled": true
   },
   "outputs": [
    {
     "data": {
      "text/plain": [
       "['And real-time economic indicators suggest the Delta variant is slowing the recovery in some of the hardest hit sectors, even though the impact is not yet being felt nationally. The findings show how even 18 months after the pandemic erupted, Covid is still calling the shots in today\\'s economy — especially in states with lower vaccination rates. \"The next stage of the recovery requires consumers to leave the home, go on vacation, go to stores, restaurants and malls,\" said Stuart Kaiser, strategist at UBS. \"The fact they are showing less willingness to do that is a negative indicator.\" Restaurants, more than almost any other industry, have already been crushed by the pandemic. A staggering 90,000 US eateries have closed permanently or long-term during the pandemic, according to estimates by the National Restaurant Association.Now the Delta variant is adding challenges to existing headaches caused by a shortage of workers and rising prices.Reservations and foot traffic slowRestaurant reservations slumped last week in states struggling with the latest Covid-19 wave. Last week, Jefferies found, restaurant reservations on OpenTable fell 20% below the same point in 2019 in five high-risk Covid states: Alabama, Idaho, Louisiana, Miss and Wyoming. That\\'s a big reversal from early July when reservations in those states were 10% above 2019 levels. Florida — another state grappling with rising Covid-19 infections — also saw a drop in restaurant reservations.Aneta Markowska, chief economist at Jefferies, called the restaurant trend a \"yellow flag\" for the economic recovery.\"Our high frequency data is suggesting that the rising Covid wave of infections is now impacting economic activities,\" UBS strategist Ajit Agrawal wrote in a note to clients late last week. Foot traffic at quick service restaurants nationally was down about 25% last week from 2019 levels, according to an analysis provided to CNN Business by research firm InMarket. That\\'s a significant shift from the week of July 4, when foot traffic was up 35% compared with the same period in 2019.\\'One step forward and two steps back\\'The worry is that these trends could delay the badly needed recovery of the restaurant industry. There are still 1 million fewer restaurant jobs than before the pandemic, although the sector has added back jobs in each of the last three months. About 40% of small restaurant owners said they couldn\\'t cover their rent in July, according to a survey by Alignable.\"It\\'s like one step forward and two steps back with this pandemic,\" said Carlos Gazitua, president of Sergio Family\\'s Restaurants, which owns 13 locations throughout South Florida. There was a \"little softness\" in restaurant sales last week, he added, especially in communities with older populations. However, he said overall sales haven\\'t taken a hit because delivery and takeout orders are up. Gazitua, who also serves as a director on the executive committee for the Florida Restaurant & Lodging Association, said there has been a welcome uptick in employees who want to get vaccinated. \"If you don\\'t feel safe going to a restaurant, we\\'re not doing our job and we\\'re going to lose sales,\" he said. Warning signs for malls, air travelMalls, another part of the economy still reeling from Covid, are also getting squeezed by the Delta variant.As of last week, national mall foot traffic stood at just 53% of 2019 levels, according to InMarket. That\\'s a sharp reversal from the week of July 4 when mall foot traffic was 4% above the same point of 2019. InMarket found similar declines in customers heading to auto dealers, big-box stores, drug stores, furniture retailers, grocery stores and home improvement retailers. All now stand well below the same point of 2019. Another potential trouble spot: Air travel.As of July 3, domestic air travel, measured by tickets issued by US travel agencies and online booking companies, stood at just 3% below 2019 levels, according to the CNN Business Economic Recovery Dashboard. However, domestic air travel has since slowed and as of July 23 was down 22% compared with the same point in 2019.As of July 23, domestic air travel from Louisiana, a state with one of the lowest vaccination rates, was down 10% compared with two years ago. That number was up 11% compared to 2019 as of July 9. Domestic air travel from Florida experienced a similar slowdown. \"Rising Covid infections seem to be affecting air travel,\" Agrawal wrote in his UBS report. UBS also found \"softness\" in credit card spending for a range of activities, including dining out, home improvement and arts & entertainment.That\\'s why UBS\\'s Big Data Nowcasting model is downgrading its forecasts for job growth, retail sales and industrial production further below consensus estimates. \"We notice economic activities slowing in the latter half of July, from retail sales, to services spending, to industrial activities, coinciding with the new wave of infections,\" Agrawal wrote. The last chapter of the pandemic?The good news is that the slowdown in consumer activities in high-risk Covid states does not appear to be threatening the broader economic recovery. Economists aren\\'t worried about an imminent recession. \"What\\'s encouraging is these impacts are very, very localized. It\\'s really not showing up on the national level,\" said Markowska, the Jefferies economist.That\\'s because the five states with low vaccination rates account for just 3.5% of total US GDP, according to Markowska. Of course, that\\'s little consolation to the local restaurant owners who are struggling to pay the rent. Still, there are hopes on Wall Street that this Delta wave will peak quickly, as it has in other nations, allowing the restaurant recovery to get back on track. \"I feel like this will be relatively short-lived,\" Markowska said. \"Two months from now we will hopefully look back and say this was the last chapter in the pandemic, and now the economy can fully reopen.\"',\n",
       " 'Since 1993, the National Association of Corporate Directors (NACD) has said that CEO pay should be more in line with what other employees receive. Boards, we have said, should not approve pay plan elements that result in unexpectedly high compensation, such as mega stock-option awards, and plans should be expressed simply, so that shareholders know what to expect when targets are met and pay is reported. But despite our admonitions, today\\'s typical CEO pay packages (the ones shareholders vote up or down as they have their \"say on pay\" each spring) are long documents full of initialisms justifying pay that can rise as high as hundreds of millions of dollars per year. The situation is unfortunate, but it tends to be ignored as the world faces other serious problems, including our warming planet and subsequent climate change. Here, too, NACD aims to be part of the solution to promote \"climate governance\" — principles and practices that boards can adopt to respond to climate risk and help their companies transition to a net zero economy. But so far, we are not yet seeing much progress in the form of transformative, climate-oriented board approaches.  We believe that a joint solution to both problems is hiding in plain sight. Instead of following practices known to inflate pay, such as overly generous golden parachutes or \"evergreen\" provisions in contracts that automatically renew certain types of payments without regard to CEO performance, boards can start linking CEO pay to reductions in the carbon emissions that are at the root of climate change. As the saying goes, \"what gets measured, gets managed,\" and this is especially true when it comes to the metrics of pay plans. If CEOs are paid more for decarbonizing their operations, they are more likely to focus on such matters. Besides, climate fluency can be a performance enhancer. Tying executive compensation to reduced carbon emissions could very well boost CEO pay in well-managed firms, while depressing it in firms that ignore climate risk. Decarbonizing companies will also attract more capital than companies that maintain the status quo. A March 2021 study by MSCI showed that while share prices are slow to respond to carbon reduction, they eventually do respond, and the results are positive. Leading firms have already begun building concrete climate performance metrics into their CEO pay design. Shell Oil made a pioneering move when it announced in 2018 that it would establish carbon emissions targets for periods of three to five years, tie executive pay to hitting those targets, and would aim to reduce emissions from customers\\' use of Shell products, as well as the company\\'s own operational emissions. Murphy Oil Corp.\\'s 2021 proxy statement disclosed that the board\\'s compensation committee will be adding a greenhouse gas reduction metric to the safety and spill rate components of the company\\'s annual incentive plan. In a 2020 sustainability report, Valero Energy Corp. said that it had a \"strategic\" element to its bonuses for all employees that included Environmental, Social and Governance (ESG) efforts. The company defines various components of ESG, including renewable fuels, greenhouse gas emissions, energy efficiency and climate risk. These same ESG measures are part of the annual incentive bonus for the CEO, according to its 2021 proxy statement. This can make a difference: The bonus is 18% of the CEO\\'s $16 million total pay target.It\\'s not just energy companies that are doing this. Ralph Lauren has named climate a \"strategic goal modifier\" in its short-term incentive plan for fiscal year 2022. And Clorox has tied executive compensation to the achievement of ESG goals, according to its 2020 integrated annual report.In light of such examples, boards may want to consider including extra rewards for companies that reduce their carbon footprint; for companies that are included on a climate index (such as MSCI indices); for companies that transition to a low-carbon economy — such as phasing out fossil-fuel powered vehicles for electric vehicles in a company fleet; and for companies that report strategic, operational, financial and other metrics tied to climate.We at NACD hope that such practices become universal. Boards can no longer rely on the excuse that climate performance is hard to quantify or that generally accepted metrics are lacking. Climate measures can be bold, with stretch goals similar to financial goals, and they can demonstrate the real impact of doing good (vs. doing no harm). And boards can become more comfortable about penalizing CEOs for underperformance here — not just about being generous on the upside. This is where CEO pay will start to show the force of gravity and align more closely with their employees\\' pay. It can also help align pay with shareholder returns. We call upon our members and our colleagues abroad through our affiliations with the Global Network of Director Institutes and the Climate Governance Initiative to consider strengthening the connection between executive compensation and climate stewardship. ',\n",
       " 'The company announced on Thursday that it will spend an additional $10 million to advertise breakfast this year, bringing its overall spending on breakfast ads to $25 million in 2021.The investment is designed to get more people to try items from the breakfast menu, and convince people that when they go back to work or drop their kids off at school, they should make a pit stop at Wendy\\'s (WEN). \"Whatever that routine is, we need to be part of it,\" said CEO Todd Penegor during a Wednesday analyst call discussing the company\\'s second quarter financial results. \"That\\'s why we\\'re putting [an] additional $10 million of advertising to work, to make sure that that message is loud and clear.\" McDonald\\'s has long led the market in breakfast. But in recent years, competition has been heating up, with more restaurants trying to get a piece of that part of the day. Dunkin\\' has tested out healthier options and launched a plant-based breakfast sandwich, while Taco Bell tries to lure people in with breakfast tacos, burritos, and quesadillas.Wendy\\'s was late to the game. It launched a national breakfast menu in March 2020, just before parts of the United States shut down because of the pandemic.Now, the company sees \"opportunities to have fun, trial-driving events to get our food in our consumers\\' mouths,\" Penegor noted. One example? This weekend, Wendy\\'s is giving away free croissant breakfast sandwiches.Honey butter chicken biscuits and two for $4 dealsWendy\\'s said in late 2019 that it planned to hire 20,000 people as part of the initiative, and invest $20 million in breakfast. At the time, critics were skeptical that the big breakfast bet would pay off. Wendy\\'s had tried to launch breakfast in the past, but those attempts were unsuccessful. Last year, breakfast sales slumped in the industry because of pandemic-driven disruptions to people\\'s morning routines. But Wendy\\'s said last year that breakfast was performing well, a trend that continued into 2021. \"In the second quarter, our breakfast sales accelerated as expected, growing 10% over the first quarter,\" Penegor said. The chain\\'s $1.99 Honey Butter Chicken Biscuit and two for $4 breakfast deal helped drive the growth, he added, saying that \"these promotions have been critical to our success as we continue to see very strong customer repeat and high customer satisfaction after people try our breakfast.\" Wendy\\'s didn\\'t compare breakfast sales in the second quarter to the same period last year. In the second quarter, breakfast sales contributed to a 16% spike in US restaurants open for at least 15 months compared to the same period in 2020. Growth was nearly 12% compared to 2019, before the pandemic.With the additional advertising money, the chain is \"confident\" that it can increase breakfast sales by 30% in 2021, Penegor said. He added that by the end of next year, about 10% of Wendy\\'s sales should come from breakfast. ',\n",
       " 'Financial Independence Retire Early -- or FIRE -- is a method of living below your means to obtain financial independence and security as early as possible.\"The mentality behind the movement is where one strives to live life on their own terms and to get off the proverbial hamster wheel where you are dependent on your employer and have the freedom and security to do so,\" said Danielle R. Harrison, founder and president at Harrison Financial Planning.   That could mean having the financial freedom to change careers, work less or travel the world. So what exactly does the FIRE movement entail? Here\\'s everything you need to know.What is FIRE?The concept of FIRE is based on the notion that retirement is determined by a financial number and not by a person\\'s age. It focuses on keeping expenses low and savings high. That means usually saving anywhere between 50% to 75% of your annual income to retire well before the age of 65 and usually without any debt. \"FIRE involves a shift in perspective regarding money and work, prioritizing what is most important to your work-life balance, and making decisions not dictated by the need to earn money but the ultimate goal of financial freedom,\" said AnnaMarie Mock, a certified financial planner and wealth adviser for Highland Financial Advisors. People looking to pursue FIRE typically start by picking what\\'s called a FIRE number, which is the amount of money you\\'d need to have saved to generate enough income to cover your expenses without having to work.To determine your FIRE number, start off by figuring out your yearly expenses, excluding savings and taxes. From there, calculate how much savings you\\'ll need to generate that much income without having a paycheck. One rule of thumb, known as the 4% rule, says that retirees can safely withdraw about 4% of their savings a year without running out of money. That means saving 25 times your current annual expenses could last indefinitely with regular 4% yearly withdrawals.For example, if your annual expenses are $50,000 per year, you would need at least $1,250,000 ($50,000 x 25) saved when you retire. You can also take a more conservative approach by saving 28 to 33 times your current expenses, and take only 3% to 3.5% withdrawals. From there, try an online calculator to determine how much to save and when you can reach that early nest egg number. Starting as early as possible comes with many advantages. After all, getting a head start on your savings and investments gives your money more time to compound. But even though retiring early requires various sacrifices when it comes to saving and spending, the perks can be rewarding. \"The biggest perk of FIRE is independence,\" said Kevin Chancellor, a certified Social Security claiming strategist and financial adviser. \"If your budget is still sustainable then you have the freedom to travel, be involved in your kid\\'s school activities, start a side business or hobby, and spend more time doing what you want to do rather than what you need to do.\"Reaching the magic numberMany people think they don\\'t earn enough to be able to retire early. But there are several methods of reaching FIRE that could help them retire faster than they think. When making the decision to retire early, you should expect to make some significant lifestyle changes. Those changes could be as big as increasing your streams of income or as small as cutting your own hair. It all comes down to either reducing how much you spend or boosting how much you save -- or both. \"Those looking to retire early need to widen the gap between what they earn and what they spend,\" said Harrison. One way to do that is to drastically slash expenses and live a more frugal and lean lifestyle, which is often the quickest way to FIRE. Known as \"Lean FIRE,\" this typically means having a lower target number for your nest egg and living more modestly in retirement. Those who aren\\'t interested in pinching pennies and have higher-than-average expenses can still retire by increasing their income.Some ways to achieve \"Fat FIRE,\" as it\\'s known, could involve negotiating a higher salary, finding a higher paying job, accumulating sought-after skills, working a side-hustle or owning rental properties. Often, those pursuing Fat FIRE will either choose to work in higher paying professions or take longer to reach their larger savings goal.Some people who want to retire sooner can pursue another method often called \"Barista FIRE.\" In this scenario, you can quit your full-time day job once you\\'ve stashed away enough retirement savings to grow into a nice nest egg in a few more years without having to add funds. But rather than ceasing work altogether, you work a part-time job, pursue a less lucrative dream career or take on freelance projects in order to cover basic living expenses, all the while allowing your long-term retirement savings to grow until a more traditional retirement age. Is FIRE right for me?Another thing to consider is how you\\'ll spend your time without filling your days with a paid job. For example, will you pursue hobbies, volunteer or travel more? Without a plan in place, you might find that FIRE isn\\'t all you\\'d hoped it would be.\"For anyone retiring, it is important to know what you are retiring to. This is even more important for those looking to retire early,\" said Harrison. \"Figure out what is going to give your life meaning and purpose, so your retirement years can bring you joy.\"',\n",
       " 'Producer price inflation, which measures the prices US producers receive for their goods and services, rose 7.8% over the 12 months ended in July. That was more than economists had expected and marked a new record high since the Bureau of Labor Statistics first began calculating the index in November 2010.So the supply-demand mismatch in the pandemic economy continues. Yet on Wednesday, another report showed the roaring surge in consumer prices began to subside in July — albeit holding at a 13-year high over the 12-month period.The two apparently contradictory data points are \"a mix that will keep inflation concerns alive even as economists will continue to expect a slowing in monthly price gains into year-end,\" economists from Action Economics wrote in a research note to clients.Overheating concernsThe pandemic-era inflation spike has sparked concerns that an overheating economy could stop Americans from spending, which would be terrible for the recovery. Investors are also worried that higher-than-anticipated inflation could force the Federal Reserve to alter its policies sooner than hoped, though so far the central bank has stuck to the script that higher prices are only temporary.\"Producer price inflation will slow in the next 12 months as supply chain conditions improve and the economy puts to work its large margin of underutilized productive capacity,\" said PNC Senior Economist Bill Adams in emailed comments.In July alone, producer prices rose a seasonally adjusted 1%,  nearly double what analysts had forecast. Most of the jump was because of higher prices for services, and within that higher margins received by wholesalers and retailers, particularly for cars and car parts.Prices for travel services also increased, including airlines and accommodation, hospital outpatient care and machinery wholesaling, among others.But stripping out more volatile components, such as food, energy and trade services, inflation still rose sharply in July. For the 12 months ended in July, prices rose 6.1%, the biggest increase since the BLS first started calculating this data in August 2014. For the month alone, prices rose 0.9%.                     ',\n",
       " \"Without including the volatile food and energy categories, consumer prices increased 4.3% in the 12-month period ending in July, slightly lower than June's increase. Overall prices rose 5.4%, the same increase seen in June.Looking at just the month of July, consumer prices rose 0.5% on the whole, less than the 0.9% increase for the prior month. Removing food and energy, prices rose 0.3% in the month of July.Here's what you need to know about what got more expensive last month. FoodIt's back to school season, but if you were counting on starting your kids' mornings with a bowl of cereal or packing a sandwich and cookie in their lunchboxes, you might be in for an expensive meal. The price of cereals and bakery products — which declined in June — rose 1.2% in July, marking the largest one-month increase since April 2020. Cookies are 1.9% more expensive. Doughnuts are 2.8% more expensive. And crackers and cracker products are up a whopping 3.7%.As usual, meat, poultry, fish, eggs and dairy got more expensive last month. In past months, one glimmer of hope in these reports has been frankfurters' prices decreasing. We hate to be the bearer of bad news, but with an increase of 4.8%, hot dogs saw the biggest price jump of any meat product in July. Pork roasts, steak and ribs also had  significant increases and are now 4.4% more expensive. Despite the frankfurter news, there are still some prices that decreased this month. If you need meat, maybe opt for ham, which is 1.5% cheaper. Fresh fruits and vegetables also got cheaper in July. Citrus fruits are now 5.4% cheaper, so load up on oranges, lemons and limes. Overall, food prices jumped 0.7% during the month of July and are up 3.4% from this time last year. Although food prices rose last month, it still might be cheaper to head to the grocery store and enjoy a home cooked meal. The price of food in restaurants or for take out rose 0.8% in July, its largest monthly increase since February 1981. Compared to this time last year, that's a 4.6% increase.GasGas prices have been on a steady uptick, recently reaching seven-year highs. Prices rose 2.4% over the month of July. Compared to this time last year, gas is more than 41% more expensive. As of Wednesday morning, the average price per gallon is $3.19, according to AAA.The Biden administration is now calling on the Organization of the Petroleum Exporting Countries and its allies to do more to regulate rising prices as vaccines and the pandemic recovery are spiking demand for gas.ClothingClothing prices had been down since the start of the pandemic, but it seems they are rebounding as the economy continues to reopen — at least before the Delta variant hit.Although clothing prices overall didn't change in July, some categories skyrocketed. Women's dress prices rose 5.5% over the one-month period and are up 18.8% over the last year. Men's suits and sport coats increased 2.9% in July. These prices may be cheaper than before the pandemic, but as return-to-the-office plans are solidified and vaccinations continue, prices could continue to rise.If you're itching to buy something new but don't want to hurt your wallet, women's outerwear prices fell 2.6% last month and men's footwear fell 1.2%. Cars and trucksCar prices are skyrocketing. That's not exactly news — new car inventories have been strained for months because of a global computer chip shortage plus supply-chain disruptions.New vehicles were 1.7% more expensive in July. Although prices are still rising, this is a smaller increase than in June when prices rose 2%. Don't hold your breath, though. New car inventories aren't expected to begin recovering until September -— and will remain well below their pre-pandemic levels through next year, according to a recent Goldman Sachs report. Although new vehicle prices are still rising, the used car frenzy might be coming to an end. Used car prices are still up 41.7% since this time last year, but in the month of July, prices only rose 0.2%, a lot less than the 10.5% rise in June. LodgingAs more Americans have been vaccinated, travel demand has spiked, sending hotel prices through the roof. In July hotel and motel prices jumped 6.8%, a little less than June's 7.9% increase. Over the past year, hotel and motel prices have surged 24.1% thanks to increasing travel demand that has accompanied pandemic recovery. But while lodging prices increase, other travel prices that have been steadily rising dropped or grew at a much slower rate. Rental car prices, which are up a total of 73.5% since last summer, dropped 4.6% in July. And airline fares, up a total of 19% over the past year, fell 0.1% in July. \",\n",
       " 'Twitter\\'s (TWTR) decision followed a call from India\\'s child protection agency to block access to tweets it said identified a 9-year old girl who was killed in Delhi earlier this month. Police are investigating allegations of rape made by the victims\\' family and neighbors. The girl was a member of the Dalit community, the most oppressed group in India\\'s Hindu system of caste hierarchy. Four men have been arrested, though they have not yet been charged. The incident prompted a judicial inquiry and sparked days of protests from outraged villagers and activists who think Prime Minister Narendra Modi\\'s government has not done enough to address longstanding sexual assault problems.Some of Modi\\'s most vocal critics include members of the Congress party, the country\\'s main opposition. Senior Congress leader and MP Rahul Gandhi tweeted August 4 a photo of him with the girl\\'s parents, adding the caption: \"The parents\\' tears say one thing — their daughter, the daughter of the country, deserves justice.\"India\\'s National Commission for Protection of Child Rights, though, asked Twitter last week to take action against Gandhi\\'s Twitter handle for posting that image. The agency said that by tweeting a photo of the girl\\'s parents, Gandhi had revealed the identity of a sexual assault victim in violation of Indian law.Gandhi\\'s Twitter account — which has some 19.5 million followers — was apparently locked over the weekend, according to a tweet from the Congress party\\'s official Twitter account.When asked about Congress party\\'s blocked accounts on Thursday, a Twitter spokesperson told CNN Business that the \"specific content\" flagged by India\\'s child rights body was reviewed and deemed in violation of the company\\'s policies as it may have revealed the identity of the alleged sexual assault victim\\'s parents.\"We have taken proactive action on several hundred Tweets that posted an image that violated our Rules, and may continue to do so in line with our range of enforcement options,\" the spokesperson said. \"Certain types of private information carry higher risks than others, and our aim is always to protect individuals\\' privacy and safety.\"The Congress party fired back against Twitter\\'s decision in a Facebook post Thursday.\"When our leaders were put in jails, we were not scared. So, why should we be afraid of our Twitter accounts being closed?\" the party wrote. \"We are the Congress [party], this is the message of the people, we will fight and will continue to do so.\"Congress spokesperson Rohan Gupta told CNN Business on Thursday that 5,000 of its accounts had been blocked by Twitter after posting Gandhi\\'s picture. He accused the company of \"acting under the pressure of government.\"\"I understand @Twitter\\'s position that it has no choice but block accounts that violate Indian law &Twitter policy. While the law is what it is, policy can be reviewed,\" tweeted senior party leader Shashi Tharoor on Thursday. \"Automatically locking accounts is an extreme step that stifles the freedom of expression of Indian citizens.\"According to Twitter\\'s rules, if a tweet violates its policies and has yet to be deleted by the account holder, the company locks the account and hides the Tweet behind a notice acknowledging the policy violation. The account holder can unlock the account by removing the post or successfully appealing the decision.Twitter has for months been in a tough spot in India. The government introduced new rules in February that, among other things, require social media companies to create new roles in the country to ensure that they follow local laws and address complaints from Indian users. Companies are also required to trace the \"first originator\" of messages if asked by authorities.In May, Twitter expressed concerns about \"core elements of the new IT Rules\" and the \"potential threat to freedom of speech\" in the country. But it later pledged to meet the new requirements.',\n",
       " 'A vulnerability in Poly Network allowed the thief to make off with the funds, the platform said Tuesday, begging the attacker to return the money. \"The amount of money you hacked is the biggest one in the defi history,\" Poly Network wrote in a letter to the attacker it posted to Twitter. \"The money you stole are from tens of thousands of crypto community members... you should talk to us to work out a solution.\"Poly Network urged other members of the cryptocurrency ecosystem to \"blacklist\" the assets coming from addresses used by the attacker to siphon away the funds — which included a mix of various coins including $33 million of Tether, according to Tether\\'s CTO. (In a statement, Tether later said it froze the assets within 20 minutes of learning of the attack.) The cryptocurrency exchange Binance said it was \"coordinating with all our security partners to actively help.\" Poly Network links together the blockchains of multiple virtual currencies to create interoperability among them. Following the hack, Poly Network established several addresses to which it said the attacker could return the money. And it appears the hacker is cooperating: As of 7:47 a.m. ET Wednesday, Poly Network said, it had received about $4.7 million back. It was not immediately clear who was behind the hack.By noon, much more money, about $261 million, had been returned, according to the blockchain forensics firm Chainalysis. In notes appended to some of the transactions, Chainalysis said, the attacker claimed to have hacked Poly Network \"for fun :)\" and that he or she undertook the attack as a challenge. \"I take the responsibility to expose the vulnerability before any insiders hiding and exploiting it!\" the attacker wrote. \"I understood the risk of exposing myself even if I don\\'t do evil. So I used temporary email, IP or _so called_ fingerprint, which were untraceable. I prefer to stay in the dark and save the world.\"Once the hack had gained the world\\'s attention, there was virtually no way for the hacker to safely withdraw the funds, Chainalysis said, because every transaction is recorded and traceable.\"With the inherent transparency of blockchains and the eyes of an entire industry on you, how could any cryptocurrency hacker expect to escape with a large cache of stolen funds?\" the company wrote in its report. \"In most cases, the best they could hope for would be to evade capture as the funds sit frozen in a blacklisted private wallet.\"Regulators have increased their scrutiny of crypto platforms as investors pour billions of dollars into digital currencies. Senator Elizabeth Warren recently asked SEC Chair Gary Gensler to investigate the SEC\\'s ability to oversee trading on crypto platforms.In response, last week, Gensler said: \"Right now, I believe investors using these platforms are not adequately protected.\"',\n",
       " 'Top leaders from the ruling Communist Party on Wednesday laid out a blueprint for how they plan to continue tightening the regulatory screws on companies over the next five years.The country\\'s latest five-year plan includes promises to strengthen rules that would clamp down on monopolistic behavior and regulate technological innovation. Authorities also called on \"law enforcement\" to take action in areas of \"vital interests of people,\" including financial services, education and tutoring.The policy map — jointly released by the Party\\'s central committee and the State Council — was vague on the specific actions that authorities want regulators to take.But it suggests Beijing\\'s unprecedented crackdown on private enterprise, which began late last year, could last for some time. China\\'s five-year plans are the cornerstone of economic and social policy in the country, and the latest plan runs through 2025. \"The people\\'s growing need for a better life has put forward new and higher requirements for the construction of a government under the rule of law,\" officials wrote in the policy paper, stressing the need to regulate parts of the economy necessary for \"social fairness\" or \"public good.\"The directive comes during a time of massive upheaval for Chinese industries ranging from tech and financial services to private tutoring. An onslaught of regulations on private business has rattled global investors and triggered fears about the future of innovation in China, as well as the ability for companies to tap capital markets. The government has cited a need to safeguard national security and protect the interests of its people. Regulators have widely blamed the private sector for creating socioeconomic problems that could potentially destabilize society and affect the Party\\'s grip on power.  Beijing\\'s grievances with each sector vary.Ride-hailing company Didi — which recently went public in New York — has been accused of mishandling sensitive user data. Other US-listed Chinese tech firms have been criticized for endangering national cybersecurity. High-flying Alibaba affiliate Ant Group, which was supposed to go public in the world\\'s largest IPO last year, has been chastised for increasing financial risk. And a slew of private tutoring firms were warned against worsening inequality in access to education during a crackdown last month. The clampdown has wiped out more than $1 trillion in market value for many powerful Chinese companies and even caused some big proponents of Chinese investment to think again. SoftBank (SFTBF) CEO Masayoshi Son — whose company holds stakes in Alibaba (BABA), Didi and TikTok owner ByteDance — said Tuesday that he would take a cautious approach to investing in China until the impact of new regulations are clear.\"Is it six months, 12 months? I don\\'t know yet,\" Son said. \"[But] in one year or two years, under the new rules, and under new orders, I think things will be much clearer ... Once things get clearer, then we are open to resuming active investment.\"Chinese stocks were modestly lower Thursday. Hong Kong\\'s Hang Seng Index (HSI) was down 0.7%, while the Shanghai Composite Index (SHCOMP) dropped 0.2%.The muted reaction hints that investors may be more accepting of the \"new normal\" for Chinese business, \"with China\\'s regulatory crackdown now seemingly set for years ahead,\" wrote Jeffrey Halley, senior market analyst for Asia Pacific at Oanda, in a research note. — Michelle Toh contributed to this report.',\n",
       " 'Today, one of the most common questions I hear from business leaders is: \"What can my organization do to help people through this change?\" We\\'ve all been hit with so much change over the past year and a half that people at all levels have been jolted into rethinking their priorities. We\\'re all asking hard questions about how we spend our time at home and at work. While there is no one-size-fits-all answer, there are ways organizations can be more understanding and foster an environment where their people can thrive.Here\\'s how:Focus on well-beingWe seem to be in a \"great awakening\" when it comes to mental health, but well-being doesn\\'t just mean \"not ill.\" It means feeling confident, optimistic and able to show up fully in your work and life every day. When we\\'re mentally fit, we have the energy, grace and space to grow and reconnect with everything we love about life. Suboptimal mental health, even if it doesn\\'t reach the level of clinical mental illness, can still have far-reaching, disruptive effects. Our research shows that 55% of the workforce is languishing, or feeling stuck. However, when employees who are languishing feel supported, their productivity can improve. As leaders, we can buffer the impact of suffering and prevent burnout before it even gets to that point. Leaders should reframe work to intentionally provide meaning and purpose. When workers feel that their work is highly meaningful, they are less likely to want to leave their jobs. During the early months of the pandemic, BetterUp donated coaching to health care workers. Supporting those on the frontlines deeply impacted our employees, who were personally experiencing stress, anxiety and change. Our team found a renewed sense of purpose and positivity even with this additional workload, and this helped to transform morale and performance internally. Walk the talk One surefire way to disengage employees is if the organization\\'s stated values don\\'t match up with the day-to-day experience of working there. If we as leaders say that we care about managing burnout, fostering inclusivity and investing in people\\'s growth, we need to put policies in place that show those goals are prioritized. A company that says it is focused on productivity shouldn\\'t embrace a culture of meeting-heavy days that don\\'t accommodate for downtime. For example, at BetterUp we\\'re all about prioritizing personal growth, so we have four paid \"Inner Work\" days each year when we all step away to spend the day unplugging in nature, taking a class or spending time with loved ones. Additionally, employees get five paid days a year for volunteering. Giving back to others is sometimes the best way to reconnect with ourselves.Reimagine the role of the middle managerSo much of the conversation has been centered around the hybrid, remote or in-person work model, but the truth is that if you\\'ve been building a company in the last 10 years, this has been something we\\'d all eventually have to face — with or without a pandemic. In a knowledge economy, location doesn\\'t matter as much as having managers who can create a locus of inclusion, culture and performance. With remote work, managers no longer have the ability to use in-person cues like seeing someone at their desk or seeing them working late at the office to be able to tell if they\\'re working hard. So we have to change the role that middle management plays as they wear multiple hats of leader, project manager, coach and, increasingly, even something akin to a \"therapist\" to their teams.Mid-level managers, who typically lead two-thirds of an organization, have a disproportionate influence on the organization\\'s culture. It\\'s crucial to enable middle management to be the catalysts for positive organizational change — whether it\\'s through targeted development programs or through improving lines of communication. We need to equip people managers to be stewards of our values, and empower them to create those boundaries for themselves and their teams.Avoid the echo-chamberIf we learned anything from this last year, it\\'s that you can\\'t just replicate your company\\'s old policies in a new environment. In-person processes don\\'t map directly onto a fully remote world. The most successful organizations created new practices that took advantage of the possibilities afforded by virtual environments.Chevron, for example, offered Coaching Circles, which are group coaching experiences led by a BetterUp coach. With Coaching Circles, Chevron was able to support 7,000 employees from around the world with highly relevant topics — like resilience, peak productivity and finding balance — even during the height of the pandemic. (CNN is also a client of BetterUp.)There obviously won\\'t be one right answer that will please everyone, but by listening to a diversity of perspectives, you can avoid an echo-chamber that will only alienate your workforce. We know that not feeling in control is one of the major causes of burnout. As executives redesign work for a post-pandemic world, one of the most important things they can do is to approach redesigning work in a way that invites their employees to participate, thereby bolstering their sense of agency and control in the work environment. Ultimately, the pandemic reinforced the importance of talking with people — not talking at them. Honoring the humanity of your people and taking their perspectives to heart can make a workplace where people are empowered and have the agency to co-create the organizational culture. If you speak openly about well-being, listen to your team\\'s needs, and then take concrete action to address what they tell you, you\\'ll be well on your way to not just weathering this pandemic but emerging on the other side better and stronger. ',\n",
       " 'At its annual Unpacked event on Wednesday, Samsung will focus on its foldable smartphones instead of its flagship Note devices -- despite lackluster sales for foldable models and a PR crisis in 2019 concerning earlier versions breaking.Samsung (SSNLF) announced two new foldable smartphones coming later this month: the Galaxy Z Fold3 5G, a smartphone that opens outward like a book to form a tablet, and the clamshell-like Galaxy Z Flip3 5G, with a design reminiscent of flip phones from the early 2000s. While the company dropped the prices for its third-generation foldables, these products will still cost buyers at least four figures.Samsung said the Z Fold3 and Flip3 are slimmer, lighter, more durable and water resistant than its previous foldable models. These improvements follow hiccups in earlier versions that couldn\\'t handle drops, dust and water, and presented significant issues with the screen. The devices also feature new ways to multitask, support for the Note\\'s signature S Pen and an under-screen camera -- yes, a camera that lives under the screen that could someday spell the end of the hated notch.Even with those updates, Samsung has a long hill to climb. According to data from market research firm Canalys, Samsung shipped just 257,000 foldable phones in the three months ending in June, compared with nearly 58 million non-foldable phones. The company\\'s offerings make up 66% of the total 3.4 million foldable devices shipped since 2019. As Ben Stanton, research manager at Canalys, puts it: \"It is still niche ... but Samsung envisions this as a new paradigm for the industry -- with itself at the center.\"Samsung also may not have had much of a choice this year. The company has been hit with a reported delay in Note manufacturing due to the global chip shortage./ (A spokesperson told CNN Business the company\\'s decision to focus Unpacked on foldables was unrelated to the shortage.)The Z Fold3Samsung touted the Z Fold3 as more durable and dependable than its predecessors. Its 7.6-inch Infinity Flex display is layered to protect against daily wear and tear and features scratch resistant Gorilla Glass. The outer frame is made of 10% stronger aluminum than previous models, and the infamous hinge, where the smartphone folds, is designed with shorter internal bristles to better repel dust and other particles. Those features could be key to building up trust in what is still a new design. In 2019, some early reviewers of its first foldable phone, the Galaxy Fold, reported flickering and broken displays and a screen bulge. Even after its official launch was delayed for months to address the issues, user reviews were mixed.But at least one big obstacle remains for wider adoption: the price. The new Z Fold3 is $1,799, nearly $200 less than its predecessor but still a staggering sum even compared to other premium devices. For comparison, the Samsung Galaxy S21 5G starts at $799, the Galaxy Note20 starts at $999 and the iPhone 12 Pro starts at $999. To help entice buyers, Samsung is taking a risk by trying something new with this product. In addition to the three cameras on the back (a wide angle, an ultra-wide angle and tele-photo lens), the company teased its first ever under-screen camera. The hidden front-facing camera is built under the display so a notch won\\'t get in the way of what a user sees on screen. Considering the technology is still in its infancy, it\\'s possible issues could surface, but Stanton said the Fold3 is the \"perfect test bed\" for this type of tech because it\\'s more of a prestige device than a mass market product.The Fold3 also supports S Pen functionality, allowing users to make the most of its massive screen. For example, notes can be taken on one side of the device while doing a video call on the other side, or a to-do list can be checked off while reading emails. The Z Fold3 is available in black, green and silver.Z Flip3Foldable displays still lack a solid use case to make them a must-have feature in 2021, but both the Z Fold3 and Z Flip3 have elements that nod to their unique potential.The Z Flip3, which opens and closes vertically like a traditional flip phone, now comes with a thinner hinge and redesigned cover screen that is four times larger, correcting one of the biggest complaints about the Flip2. It\\'s now easier to view notifications, widgets and messages, and users will have the ability to eyeball their schedule, purchase a coffee via Samsung Pay, check the weather and monitor their daily step count without ever opening the phone.  Flex mode lets Z Flip3 users take a photo or video from the cover screen. When kept partially folded, users can move a video to the top half of the screen and allow the bottom area to serve as a remote to control the brightness and volume. Both the Z Fold3 and Z Flip3 include partnerships with Google, Microsoft, and others, so apps better fit the screens. For example, Microsoft Outlook\\'s dual-pane mode for Samsung foldables lets users read a full email while previewing others on the side, similar to a desktop experience. Tuong Nguyen, senior principal analyst at Gartner, said much of the success of these products will depend on the apps that developers create to showcase innovative use cases for the extra real estate a foldable screen provides. But convincing developers to spend time creating apps for foldable devices with low user adoption rates will present a challenge.\"It\\'s a bit of a chicken-egg dilemma,\" he said. The Z Flip3, which comes in cream, green, lavender and black, costs $999 -- or $400 less than last year\\'s model, but nonetheless at the high-end for smartphones.Smartwatches and wireless earbudsIn addition to foldables, Samsung\\'s wearables lines got a refresh on Wednesday. Its new Galaxy Watch4 and Galaxy Watch4 Classic -- the company\\'s first smartwatches to run on the Wear OS co-created with Google -- promise an even deeper look at a user\\'s health profile. The watches are faster, the display\\'s resolution is crisper and the battery charges faster (the company says a 30 minutes boost will get users 10 hours of battery life). But the real innovation is packed into a new chip with three health sensors. Samsung said the sensors can now assess body composition by measuring skeletal muscle, basal metabolic rate, water retention, and body fat percentage. It also comes with advanced sleep tracking features, such as the ability to monitor snoring. The Galaxy Watch4, which features an aluminum frame, a sweat-proof sport band and a digital bezel, is available in two sizes, an assortment of colors and starts at at $249.99 for Bluetooth versions and $299.99 for LTE models. The higher-end Watch4 Classic features luxury materials such as stainless steel, and offers a rotating bezel, two size and color options. It starts at $349.99 for Bluetooth versions and $399.99 for LTE models.Samsung also unveiled its second-generation wireless Galaxy Buds2, its smallest, lightest and most affordable earbuds ($149) to date. Buds2 comes with active noise cancellation, three sizes of soft, flexible tips that users can choose find the most comfortable fit. It\\'s available in graphite, white, olive and lavender. ',\n",
       " 'A version of this story first appeared in CNN Business\\' Before the Bell newsletter. Not a subscriber? You can sign up right here.What\\'s happening: Consumer price inflation remained elevated in July, according to the Bureau of Labor Statistics. Prices rose 5.4% from a year earlier, flat compared with June when the index hit a 13-year high.On a monthly basis, however, prices rose 0.5% in July, a major slowdown from 0.9% growth in June and the weakest pace since February.But drill down into the data. While some of the major drivers of previous spikes, such as used car prices, eased last month, the cost of other goods, including medical care, housing and food in grocery stores and at restaurants,\\xa0climbed.\"The annual rate of inflation has seemingly peaked, but the details show a broadening out of price pressures,\" chief international economist at ING, James Knightley wrote in a note to clients. \"This indicates inflation is likely to be more persistent and pervasive than predicted by the Federal Reserve.\"For now, investors remain sanguine. The S&P 500 (SPX) and Dow (DJX) notched fresh all-time highs on Wednesday and yields on 10-year US Treasuries fell as traders bet the inflation data will take pressure off the Fed to hike interest rates and rein in asset purchases sooner than expected.Economics 101: The latest inflation reading doesn\\'t change the fact that America\\'s \"stimulus fuelled economy is booming,\" according to Knightley. \"Demand is outpacing the supply capacity of the economy given the scarring that the pandemic has caused as evidenced in production bottlenecks and labour shortages,\" he said.Competition for workers is placing upward pressure on wages, while record low levels of raw materials supply, order backlogs and extended delivery times are adding further stress to supply chains.\"Costs are increasing throughout the economy and the strength of demand means that companies have a sense of more pricing power [than] they have experienced in years,\" Knightley added.See here: Data from the National Federation of Independent Businesses shows that the proportion of companies raising prices and expecting to raise them further in coming months is at a 40-year high. \"As such, imminent major declines in inflation look unlikely,\" Knightley concluded.Even the White House is worried about rising prices. On Wednesday, US National Security Adviser Jake Sullivan called on OPEC+ to increase oil production in order to curb high gasoline costs.\"President Biden has made clear that he wants Americans to have access to affordable and reliable energy, including at the pump,\" Sullivan said in a statement, adding that the US government is \"engaging with relevant OPEC+ members on the importance of competitive markets in setting prices.\"Up Next: With a growing number of senior Fed officials making the case for pulling back bond purchases, all eyes will be on the Economic Policy Symposium in Jackson Hole, Wyoming later this month.Airlines are not out the woods yetAir travel has picked up in the United States and Europe following the rollout of vaccines, but risks remain elevated for battered airlines desperately trying to recover from the pandemic.The latest: Southwest Airlines (LUV) warned Wednesday that the Delta variant of Covid-19 will make it difficult to turn a profit in the third quarter. In a regulatory filing, the carrier said customers have been booking fewer flights in August and cancelling trips they had already booked.The development marks a stark turn of events for Southwest, my CNN Business colleague Jordan Valinsky reports. The company predicted just a few weeks ago that it would be profitable in the third and fourth quarters based on strong bookings for leisure travel.But things can change quickly in the pandemic economy. At the beginning of July, domestic air travel, measured by tickets issued by US travel agencies and online booking companies, stood at just 3% below 2019 levels. A few weeks later on July 23, it was more than a fifth below the same point in 2019, according to the CNN Business Economic Recovery Dashboard.Delta blues: In the latest sign of how the Delta variant is weighing on the recovery, the International Energy Agency on Thursday downgraded its outlook for oil demand for the remainder of the year, in part due to the \"worsening progression of the pandemic.\"After surging in June to a level almost three times the seasonal norm thanks to increased mobility in North America and Europe, global oil demand \"abruptly reversed course\" in July, the Paris-based body said in a report.Art auction will test appetite for alternativesInvestors hunting for more creative places to park their cash than the stock market will soon have an opportunity to deploy some serious dough.Auction alert: Eleven Pablo Picasso artworks with a combined top estimate of over $100 million are hitting the auction block this October, my CNN colleague Jacqui Palumbo reports.Part of MGM Resorts\\' sizable art collection, the pieces have been on display in Las Vegas for over two decades at a Michelin-starred French and Spanish eatery called Picasso in the Bellagio.Sotheby\\'s is organizing the sale, which forms part of MGM\\'s attempts to reposition the gambling mecca as a \"broader art destination,\" according to Brooke Lampley, the auction house\\'s chairperson.Investor insight: Wealthy individuals who\\'ve saved vast sums of money during the pandemic have been stashing their cash in some unusual investments, such as high-end spirits and trading cards. The Picasso auction will provide yet more insight into investor appetite for alternative assets.Up NextEarnings from TUI (TUIFF), Baidu (BIDU), Palantir Technologies and Utz Brands are out before US markets open. Airbnb, DoorDash, Disney (DIS) and Wish report after the close.Also today:US jobless claims.US producer price index for July.',\n",
       " 'That\\'s because for the first time, IHOP is offering its franchisees, which run the vast majority of IHOP restaurants, the chance to add an alcohol menu devised by the company.A handful of IHOP franchises have already been selling alcohol. But previously it was on them to select the menu and launch the new offerings. On the company\\'s new menu: Bud Light, Blue Moon and Corona beers, as well as Barefoot Bubbly Brut, Barefoot Bubbly Chardonnay and Barefoot Cabernet Sauvignon. Some locations may have local offerings, as well. Hard liquor is not on the menu to avoid making IHOP, a family restaurant, feel like a bar. Two IHOP locations in New Mexico are offering drinking-aged guests boozy options to complement their meals starting this week, the company announced Thursday. Another one in San Diego will start selling alcohol in September. About nine more restaurants will adopt the boozy menu in markets including New York, Rhode Island, Maryland and Ohio, likely by the end of the year, IHOP president Jay Johns told CNN Business. IHOP hopes its initial slate of restaurants is just the beginning. If things go well, \"we\\'ll hit the gas pedal and we\\'ll go much faster\" after that, Johns said. Convincing franchiseesJohns said he\\'s not sure all locations will end up selling alcohol. But \"we want it to be as broad as possible,\" he said. Eventually, he thinks about 1,000 or so restaurants could offer booze. There are about 1,750 IHOP restaurants in total. But in order for the plan to work, IHOP has to convince its franchise operators that adding the alcohol menu is worth the investment. Franchisees participating in the program have to get a liquor license, train staffers to card customers and become familiar with new menu items. Following a brutal period of declining sales and during a nationwide labor shortage, that may be a big ask. Sales at IHOP restaurants open at least a year were much higher in the second quarter compared to the same period last year, but are still below 2019 second-quarter sales.By adding an alcohol menu, IHOP hopes to attract customers who want a drink with their meal, particularly later in the day. IHOP has long been trying to drum up interest in it\\'s non-breakfast menu items. Back in 2018, it briefly changed its branding to \"IHOb,\" a marketing stunt designed to call attention to its burgers. Alcohol \"is clearly something that\\'s right in our strategy of ... coming up with more ways that people can enjoy us for dinner\" or lunch, said Johns. Cracker Barrel added alcohol to hundreds of its locations last year. The chain also said it was courting people who had been skipping Cracker Barrel in order to visit a place that served alcohol. Other chains, like Taco Bell, have also added alcohol to the menu in recent years. Right now, the rollout is in \"test mode,\" Johns said. The first three restaurants volunteered to be early adopters. \"They feel comfortable that their staffing is fine. And [that] they can execute this,\" he said. There are reasons for franchisees, who operate virtually all IHOP locations, to get excited about the program. Alcohol has higher margins than food items, so selling it could ultimately make franchise operators more profitable, he said. And if people spend more per meal because they\\'re ordering drinks, server tips could go up as well, he added. Johns said that \"we think this will be pretty simple to execute,\" because of the limited menu.Plus, IHOP\\'s culinary team came up with meal pairings for the drinks. You might want to drink a mimosa with your french toast, pair a Chardonnay with a Southwest chicken burrito or order a Corona Extra to complement your poblano omelette, for example. The pairings can help servers upsell the product. ']"
      ]
     },
     "execution_count": 21,
     "metadata": {},
     "output_type": "execute_result"
    }
   ],
   "source": [
    "cnn_news_articles_content = get_cnn_news_articles_content(extracted_cnn_links)\n",
    "cnn_news_articles_content"
   ]
  },
  {
   "cell_type": "markdown",
   "metadata": {},
   "source": [
    "CNN ends here."
   ]
  },
  {
   "cell_type": "markdown",
   "metadata": {},
   "source": [
    "Start BBC web scraping."
   ]
  },
  {
   "cell_type": "markdown",
   "metadata": {},
   "source": [
    "Extact links from scraped data and clear duplicating, if there is such links."
   ]
  },
  {
   "cell_type": "markdown",
   "metadata": {},
   "source": [
    "After web scraping page we got unusable links like this - **/news/business-58156118/#comp-comments-button**.\n",
    "\n",
    "\n",
    "Here is the part of the result:\n",
    "\n",
    "```'/news/business',```\n",
    "\n",
    " ```'/news/technology-58146039',```\n",
    " \n",
    " ```'/news/technology',```\n",
    " \n",
    " ```'/news/business-58154046',```\n",
    " \n",
    " ```'/news/business-58156118/#comp-comments-button',```\n",
    " \n",
    " ```'/news/technology-58145808',```\n",
    " \n",
    " ```'/news/business-58156118', ....```\n",
    " \n",
    " \n",
    " **I can't print the daily result because I am not sure that in this current day there will be usless links**"
   ]
  },
  {
   "cell_type": "markdown",
   "metadata": {},
   "source": [
    "So we need to create function which removes usless links from our result. Wait but we have already created it for cnn news same purpos."
   ]
  },
  {
   "cell_type": "code",
   "execution_count": 22,
   "metadata": {},
   "outputs": [],
   "source": [
    "def extract_bbc_links(link, domain):\n",
    "    page = get_page_content(link)\n",
    "    soup = create_soup(page)\n",
    "    bbc_extracted_links = [l['href'] for l in soup.find('div', {'class', \"gel-layout gel-layout--equal\"}).find_all('a')]\n",
    "    bbc_extracted_links = clear_duplicate_links(bbc_extracted_links)\n",
    "    pat = r'/news/\\w+[-]\\d+'\n",
    "    bbc_extracted_links = remove_usless_links(pat, bbc_extracted_links)\n",
    "    #Add domain\n",
    "    bbc_extracted_links = [domain+l for l in bbc_extracted_links]\n",
    "    return bbc_extracted_links"
   ]
  },
  {
   "cell_type": "markdown",
   "metadata": {},
   "source": [
    "Result:"
   ]
  },
  {
   "cell_type": "code",
   "execution_count": 23,
   "metadata": {},
   "outputs": [
    {
     "data": {
      "text/plain": [
       "['https://www.bbc.com/news/business-58184088',\n",
       " 'https://www.bbc.com/news/business-58182658',\n",
       " 'https://www.bbc.com/news/uk-58183519',\n",
       " 'https://www.bbc.com/news/business-58148044',\n",
       " 'https://www.bbc.com/news/business-58180692',\n",
       " 'https://www.bbc.com/news/business-58186299']"
      ]
     },
     "execution_count": 23,
     "metadata": {},
     "output_type": "execute_result"
    }
   ],
   "source": [
    "extracted_bbc_links = extract_bbc_links(bbc_link, domain=\"https://www.bbc.com\")\n",
    "extracted_bbc_links"
   ]
  },
  {
   "cell_type": "code",
   "execution_count": 24,
   "metadata": {},
   "outputs": [],
   "source": [
    "def get_bbc_news_type(links):\n",
    "    news_type = []\n",
    "    for l in links:\n",
    "        page = get_page_content(l)\n",
    "        soup = create_soup(page)\n",
    "        news_type.append(soup.find('span', {'class': \"ssrcss-1gr85n1-LinkTextContainer eis6szr1\"}).text.lower())\n",
    "    return news_type"
   ]
  },
  {
   "cell_type": "code",
   "execution_count": 25,
   "metadata": {},
   "outputs": [
    {
     "data": {
      "text/plain": [
       "['business', 'business', 'business', 'business', 'business', 'business']"
      ]
     },
     "execution_count": 25,
     "metadata": {},
     "output_type": "execute_result"
    }
   ],
   "source": [
    "bbc_news_types = get_bbc_news_type(extracted_bbc_links)\n",
    "bbc_news_types"
   ]
  },
  {
   "cell_type": "code",
   "execution_count": 26,
   "metadata": {},
   "outputs": [
    {
     "data": {
      "image/png": "[encoded data removed]",
      "text/plain": [
       "<Figure size 432x288 with 1 Axes>"
      ]
     },
     "metadata": {
      "needs_background": "light"
     },
     "output_type": "display_data"
    }
   ],
   "source": [
    "news_types_frequency = nltk.FreqDist(bbc_news_types)\n",
    "plot_types_of_news(news_types_frequency)"
   ]
  },
  {
   "cell_type": "code",
   "execution_count": 27,
   "metadata": {},
   "outputs": [],
   "source": [
    "def get_bbc_news_datetime(links):\n",
    "    times = []\n",
    "    for l in links:\n",
    "        page = get_page_content(l)\n",
    "        soup = create_soup(page)\n",
    "        attributes = str(soup.find('time'))\n",
    "        pat = r'\\d{4}-\\d{2}-\\d{2}'\n",
    "        obj = re.findall(pat, attributes)\n",
    "        times.append(obj[0])\n",
    "    return times"
   ]
  },
  {
   "cell_type": "code",
   "execution_count": 28,
   "metadata": {},
   "outputs": [
    {
     "data": {
      "text/plain": [
       "['2021-08-12',\n",
       " '2021-08-12',\n",
       " '2021-08-12',\n",
       " '2021-08-11',\n",
       " '2021-08-12',\n",
       " '2021-08-12']"
      ]
     },
     "execution_count": 28,
     "metadata": {},
     "output_type": "execute_result"
    }
   ],
   "source": [
    "bbc_news_timestamp = get_bbc_news_datetime(extracted_bbc_links)\n",
    "bbc_news_timestamp"
   ]
  },
  {
   "cell_type": "code",
   "execution_count": 29,
   "metadata": {},
   "outputs": [],
   "source": [
    "def get_bbc_news_headlines(links):\n",
    "    headlines = []\n",
    "    for l in links:\n",
    "        page = get_page_content(l)\n",
    "        soup = create_soup(page)\n",
    "        headlines.append(soup.find('h1').text)\n",
    "    return headlines"
   ]
  },
  {
   "cell_type": "code",
   "execution_count": 30,
   "metadata": {},
   "outputs": [
    {
     "data": {
      "text/plain": [
       "['Tui boss: UK falling behind European travel recovery',\n",
       " 'China says crackdown on business to go on for years',\n",
       " 'UK economy rebounds as Covid restrictions ease',\n",
       " 'How we can all get more high-quality sleep',\n",
       " 'Cryptocurrency heist hacker returns $260m in funds',\n",
       " 'Pret a Manger makes staff pay cuts permanent']"
      ]
     },
     "execution_count": 30,
     "metadata": {},
     "output_type": "execute_result"
    }
   ],
   "source": [
    "bbc_news_headlines = get_bbc_news_headlines(extracted_bbc_links)\n",
    "bbc_news_headlines"
   ]
  },
  {
   "cell_type": "code",
   "execution_count": 31,
   "metadata": {},
   "outputs": [],
   "source": [
    "def get_bbc_news_articles_content(links):\n",
    "    content = []\n",
    "    for l in links:\n",
    "        page = get_page_content(l)\n",
    "        soup = create_soup(page)\n",
    "        content.append(\"\".join([line.text for line in soup.find_all('div', {'data-component':\"text-block\"})]))\n",
    "    return content"
   ]
  },
  {
   "cell_type": "code",
   "execution_count": 32,
   "metadata": {},
   "outputs": [
    {
     "data": {
      "text/plain": [
       "['The UK holiday recovery is lagging behind the rest of Europe, in part due to uncertainty over shifting Covid travel restrictions, Europe\\'s biggest travel firm has said.Tui bookings have jumped by 1.5 million since May, primarily driven by bookings from continental Europe.But the holiday firm said frequent UK rule changes had deterred people.The UK government said that its \"top priority is to protect public health\".Tui chief executive Friedrich Joussen said British holidaymakers had faced more uncertainty than many other Europeans in recent months and had been put off by changing policies from the UK government. He pointed out the UK decision to add Portugal to the list of green travel destinations in mid-May before removing it in early June.\"When you change the programme so often, then people cancel,\" he added.The cost of PCR tests for Covid would also be putting off customers, he said.Since mid-January, on all but a few days, UK travellers cancelled more travel for summer 2021 than they booked, according to Tui data.This is in direct contrast to customers from Germany, Belgium and the Netherlands, where bookings were ahead of cancellations for most of that period.Despite a jump in summer interest, total Tui bookings were still down 68% compared with summer 2019.Tui said that about 4.2 million customers had booked for summer 2021, with an increase of 1.5 million bookings since May.The travel firm said pent-up demand from European holidaymakers was behind the rise.But while UK bookings are picking up, they are still lagging behind other countries.UK customers are normally a major part of Tui\\'s business, but only about 17% of those 4.2 million summer customers were from the UK.In the third quarter, only 50,000 customers departed from Tui\\'s northern region, composed of the UK and Ireland, the Nordic countries, Canada and Russia.This reflected \"limited green list destinations made available by the UK government\" and the \"stop-start nature of permitted destinations under UK travel restrictions\", Tui added.The next UK travel list review is due on or about 25 August.Travel expert Simon Calder said: \"The simple reason bookings are so sluggish in the UK is the unpredictability of government advice.\"He added: \"I am hearing from a lot of prospective travellers that they are not confident enough to book - and from many of those with bookings that they wish they hadn\\'t committed.\"The UK government has a \"traffic light\" system in place for international travels, with green, amber and red list countries.This week, it updated the list, with France moving from \"amber-plus\" status to normal amber country rules.Most countries are on the amber list, with adults that have been fully vaccinated in the UK, US and most European countries not having to self-isolate upon arrival in the UK.The UK government has previously said that while it wants people to be able to travel, the travel lists are updated \"to protect us against new variants\" of Covid.A Department for Transport spokesperson said: \"Our top priority is to protect public health - decisions on our traffic light system are kept under regular review and are informed by the latest risk assessment from the Joint Biosecurity Centre and wider public health factors.\"We recognise the challenging times facing the travel sector, which is why we have committed around Â£7bn of support by September 2021 and continue to work with industry to help them navigate this difficult period.\"Travel continues to be different this year and we encourage people to always check [Foreign Office] travel advice before travelling as any trip carries an increased risk.\"Tui and many other firms in the travel sector have been hit very hard by the effects of coronavirus.The travel firm, which has its headquarters in Hanover, has had a number of bailouts from the German government and loans worth billions of euros.Because of Brexit, its credit line from a British bank could not be extended beyond summer 2022. ',\n",
       " 'The Chinese government has unveiled a five-year plan outlining tighter regulation of much of its economy.It says new rules will be introduced covering areas including national security, technology and monopolies in the world\\'s second largest economy.The plan comes soon after Beijing started targeting the technology and education industries.The document references Chairman Mao as China celebrates the 100th anniversary of the nation\\'s Communist Party.The 10-point plan, which runs to the end of 2025, was released jointly late on Wednesday by China\\'s State Council and the Communist Party\\'s Central Committee.It said laws will be strengthened for \"important fields\" such as science and technological innovation, culture and education.The plan also said the Chinese government aims to tackle monopolies and \"foreign-related rule of law\".Regulations relating to China\\'s digital economy, including \"internet finance, artificial intelligence, big data, cloud computing etc.\" will also be reviewed.The announcement raised fresh concerns that Beijing\\'s crackdown on technology and private education companies is set to continue and expand in years to come.Shares in many Chinese companies listed in the US, Hong Kong and mainland China have fallen sharply this year as investors\\' concerns grow over the crackdown.Beijing has already launched anti-monopoly investigations into some of the country\\'s biggest technology firms and taken action against a wide range of other businesses.In April, technology giant Alibaba accepted a record $2.8bn (Â£2bn) fine after an investigation found that it had abused its dominant market position for years.Last month, Tencent was told to end exclusive music licensing deals with record labels around the world.Also in July, some of the country\\'s biggest online platforms - Kuaishou, Tencent\\'s messaging tool QQ, Alibaba\\'s Taobao and Weibo - were ordered to remove inappropriate child-related content.This week, Chinese authorities said they had increased their scrutiny of after-school tuition services offered by individual teachers.During a recent inspection, one person and six institutions were punished for offering unlicensed after-school tutoring that broke regulations, the Beijing Municipal Education Commission said in a statement Monday.The move came as tutoring firms had changed how they operated after a government crackdown on the industry. Last month, Beijing unveiled a massive overhaul of China\\'s $120bn private tutoring sector, under which all institutions offering tuition on school curricula will be registered as non-profit organisations.The new rules said: \"Curriculum subject-tutoring institutions are not allowed to go public for financing; listed companies should not invest in the institutions, and foreign capital is barred from such institutions.\"Meanwhile, this week China\\'s banking and insurance watchdog stepped up its regulation of online insurance companies, according to the Caixin news agency.The China Banking and Insurance Regulatory Commission ordered the firms to stop improper marketing and pricing or face \"severe punishment.\"',\n",
       " 'The UK economy grew by 4.8% between April and June, according to official figures, as most businesses emerged from lockdown.Data from the Office for National Statistics showed that the expansion in gross domestic product (GDP) was fuelled by retail, restaurants and hotels.Education also boosted the economy as schools reopened in the second quarter.However, the figure was slightly below the 5% the Bank of England expected. The UK economy is now 4.4% smaller than it was before the pandemic. Growth in the second quarter contrasts with the first three months of the year, when the economy shrank by 1.6% while Covid restrictions were still in place. Chancellor Rishi Sunak told the BBC: \"Today\\'s figures show that the economy is recovering very strongly, exceeding many people\\'s expectations.\"But I\\'m not complacent. The economy and our public finances have experienced a significant shock. It is going to take us time to fully recover from that.\"Capital Economics said it expected the economy to return to pre-Covid levels later this year.\"We are comfortable with our view that monthly GDP will return to its February 2020 pre-pandemic size by October and that the economy may yet surprise most forecasters by emerging from the pandemic without much scarring,\" said senior UK economist Ruth Gregory.In April, non-essential retailers reopened, as well as gyms, hairdressers and outdoor dining. In May, pubs, restaurants and cafes were allowed to serve customers indoors, while theatres, galleries and cinemas were allowed to open their doors.The main driver of growth was consumer spending, which rose by 7.3% over the quarter, ahead of expectations.The UK is not just a nation of shopkeepers, but social animals. And it\\'s that large proportion of \"social spending\" - on hotels, restaurants and leisure - that made our economy so vulnerable to lockdowns. The UK was the fastest shrinking of the G7 nations in 2020 and conversely, maybe one of the fastest of the big players to recover in 2021 as restrictions lift. The consumer has led the way, driving output to within 5% of pre-pandemic levels, despite the Delta variant of Covid. It\\'s growth that some feared just months ago would take far longer to materialise. But what happens next is still uncertain. The safety net that has protected livelihoods - the furlough scheme - ends in October. Economists think there will be some job losses, albeit far fewer than assumed a year ago. The biggest risk, however, will come from further variants and a resurgence in infections and restrictions. Policymakers are assuming we\\'re done with the latter. A year ago, they were predicting there\\'d be no more national lockdowns: let\\'s hope they\\'re right this time. If so, the impressive vaccination rate in the UK should stand the economy in good stead - others are not that fortunate. Be it health or wealth, it\\'s access to vaccinations that may increasingly make the difference between the haves and have-nots as we try to escape the grip of this pandemic. At the end of the quarter in June, the monthly growth is estimated at 1%, slightly more than most economists expected. Pantheon Macroeconomics said that nearly half of the economic expansion in June came from activity in the health sector, \"reportedly due primarily to a surge in people visiting their GP\".Hargreaves Lansdowne said: \"Fears that the arrival of the Delta variant and the \\'pingdemic\\' that followed might impact growth have so far not really materialised.\" However, the ONS revised down its figure for May from 0.8% to 0.6% during a month of heavy rainfall. The UK economy has been supported by the government\\'s wage support scheme. But from July, employers have had to make contributions to staff wages and the scheme is set to close by the end of September.The economy is rebounding, but the pandemic is still having an impact on the restaurant trade, according to Asma Khan, founder and owner of Darjeeling Express, a family-owned Indian restaurant in London\\'s Covent Garden.\"It\\'s been very tough,\" she told the BBC. \"The insecurity has been very hard to deal with, the way the lockdown happened in March of last year.\"Mrs Khan said that she was \"grateful\" for the furlough scheme which allowed her to keep her entire staff on.Even so, \"I was still liable for all the rents and all the financial costs mounted up,\" she added.There is, however, \"a lot of optimism\", Mrs Khan said. People are booking months in advance to dine at her restaurant, which recently welcomed comic actors Paul Rudd, of the US, and Canadian Dan Levy.   \"We had, I think, 1,300 bookings in five hours when we started opening all up all the other dates,\" she said.Mrs Khan said the changing nature of the UK\\'s travel restrictions remained a concern. She said businesses like hers in central London were \"completely dependent on tourists\".\"People are worried because this whole insecurity of the red list, the amber list. This fluctuation is basically deterring a lot of people, except the very brave, to want to come in because they don\\'t know whether the status of their country is going to change by the time they\\'re ready to go back.\"Following the release of second-quarter GDP figures, Mr Sunak said the UK had \"the fastest quarterly growth rate among the G7 economies\". But Pantheon Macroeconomics said: \"The UK economy almost certainly was the hardest hit by Covid-19 in the G7.\"While UK GDP is still 4.4% smaller than its pre-pandemic level, the US has seen its economy recover, making it 0.8% larger than before Covid. Pantheon also said France\\'s economy was 3.3% below pre-pandemic levels, Germany was 3.6% below and Italy\\'s GDP was 3.8% lower.Japan and Canada have yet to report up-to-date figures, but Pantheon said: \"Both economies had fared much better than the UK in previous quarters.\"  ',\n",
       " 'Nicole Baker is one of the many people who have struggled with insomnia since the start of the coronavirus pandemic.\"I went from someone who can drop asleep at 9pm every day, to being awake at 3am every night,\" she says. \"It was draining and really worrying, as during the day I would really struggle to stay focused.\"Ms Baker, who works as a facilities coordinator, put her sleep issues down to increased anxiety.\"I felt that the constant worry of Covid-19 death rates, job security, my family, not being able to have the freedom of travelling, and the uncertainty of the future, really put great amounts of stress and anxiety on my mind,\" she says.\"My mind was in absolute overload, constantly running and worrying about life 24/7, making it impossible for me to sleep at night.\"In the UK, the number of people experiencing insomnia rose from one in six before the pandemic, to one in four during it, according to a study last year by the University of Southampton.Meanwhile, the word \"insomnia\" was Googled in the US in 2020 more than ever before.As well as increased general stress and anxiety levels, a rise in sleep problems has been put down to other factors caused by the pandemic - such as the enforced changes to daily routines and social lives. With tired staff less productive, the pandemic has led to a number of companies focusing on helping their employees get a better quantity, and quality, of sleep. Ms Baker\\'s employer, a London-based marketing firm called MVF, is one such business.When the pandemic hit, MVF expanded its wellbeing support for employees, to offer mental health coaching sessions and workshops focused on sleep, along with free subscriptions to the meditation app, Headspace. Ms Baker says the extra support has helped her insomnia. \"[The resources] helped me learn to recognise and manage how the pandemic has affected me and the people around me, and put my mind at ease a little, which is a big relief,\" she says.Katie Fischer, a sleep coach and founder of Circadian Sleep Coaching, works with businesses to provide support to employees. Along with the increase in anxiety, being stuck inside during lockdown has been a contributor to the rise in sleep disruption, she says.\"Many people have been sleeping later [in  the day] because they are getting outside less,\" she says. \"They are less active and finding it really hard to decompress at the end of the day. \"It\\'s hard not having that commute, that demarcation that frames the day, gets you up and out into the daylight.\"Global advertising company GroupM is one of the businesses that Ms Fischer works with, providing one-to-one sleep-coaching sessions for its employees.GroupM had already been running a sleep-coaching service for parents of young children on its staff, but during the pandemic it expanded the service to all employees.In these sessions, Ms Fischer assesses a person\\'s health background, personal circumstances, and the reasons behind their challenges with sleep, to help come up with ways to resolve them.Jennifer Harley, people business partner at GroupM, says that sleep support will continue to be a critical aspect of the company\\'s health and wellbeing programme. \"When we don\\'t have enough sleep, we don\\'t bring our best selves to work, so we need to invest in wellbeing,\" she says. \"Businesses should care about the impact of having people who are happy, healthy and well slept.\"Even before the pandemic, sleep-deprived workers cost the UK economy up to Â£40bn a year, due to tired employees being less productive, or absent from work altogether, according to a 2016 study from research firm Rand Europe.With many companies set to adopt a hybrid-working model as the world slowly returns to normal after the pandemic - allowing their staff to continue to work from home part of the time -  Ms Fischer advises that businesses check in regularly with employees.She says firms should set parameters around work and home life, and encourage people who are not working in the office to have a regular routine.\"Some companies try to preserve that opportunity at the end of the day for employees to wind down and relax, so they can support that ability to fall asleep and start afresh the next day,\" says Ms Fischer.She also advises that people stick to a regular wake-up time in the morning, regardless of whether they are working from home that day, or going into the office, to promote better quality sleep.New Economy is a new series exploring how businesses, trade, economies and working life are changing fast.Max Kirsten, a hypnotherapist and sleep coach, adds that many of the bad habits people have fallen into during the pandemic, such as increased time spent on phones or tablets, are playing havoc with sleep patterns.\"People are going from screens for work, to screens in their spare time, and then screens at bedtime,\" he says. \"This is not helped by side issues like alcohol, or too much caffeine in the afternoon or evening,\" he says.The UK trade body, the Association for Decentralised Energy (ADE), enlisted Mr Kirsten to host a workshop for its employees dealing with sleep problems brought on by the pandemic. Lily Frenchman, head of operations at ADE, says the organisation has also focused on enabling staff to speak up about the challenges they face regarding their mental health. \"If someone was having trouble sleeping I would want to hear, because that\\'s a sign something\\'s not working.\"Whether that\\'s work, or personal, that person needs support,\" she says.For those struggling with insomnia, Mr Kirsten advises getting the conditions right for a good night\\'s sleep, such as ensuring the room you sleep in is dark and cool, disengaging from screen time and work-related thinking before bed, and, crucially, making sleep a priority in your life.\"Sleep should never be [thought of as] an inconvenience, it\\'s the pillar that gives you the performance edge,\" he says. \"It\\'s about creating special time for this incredible process called sleep.\"',\n",
       " 'The hacker behind one of the largest cryptocurrency heists to date has returned almost half of the $600m (Â£433m) stolen assets.On Tuesday, the firm affected, Poly Network wrote a letter on Twitter, asking the individual to get in touch \"to work out a solution\". The hacker then posted messages pledging to return funds, claiming to be \"not very interested in money\".On Wednesday, Poly Network said it had received $260m back.The company, a blockchain platform which lets users swap different types of digital tokens, posted on Twitter that it had been sent back three cryptocurrencies, including $3.3m worth of Ethereum, $256m worth of Binance Coin and $1m worth of Polygon.A total of $269m in Ether tokens and $84m in Polygon tokens has yet to be recovered.  A blockchain is a ledger, or log, of every single transaction made of a cryptocurrency, such as Bitcoin. The ledger is distributed to all the users in the network to verify all new transactions when they occur, instead of being held by any one single authority.The hacker published a three-page-long Q&A session on one of the blockchains essentially in the form of a self-interview, according to Tom Robinson, co-founder of Elliptic, a London-based blockchain analytics and compliance firm.The hacker claimed to have always planned to return the tokens and said the heist was carried out to highlight vulnerabilities in Poly Network software.\"I know it hurts when people are attacked, but shouldn\\'t they learn something from those hacks?\" the hacker wrote in the notes embedded on the Ethereum blockchain.The hacker claimed to have spent all night looking for a vulnerability to exploit. They said they were worried that Poly Network would patch the security flaw quietly without telling anyone, so they decided to take millions of dollars in cryptocurrency tokens to make a point. But they stressed that they did not want to cause a \"real panic [in] the crypto-world\", so they only took \"important coins\", leaving behind Dogecoin, the cryptocurrency that started off as a joke. \"Either they just intended to commit theft and steal the assets, or they were acting like a white hat hacker to expose a bug, to help Poly Network make themselves more strong and secure,\" Mr Robinson, who routinely advises governments and law enforcement agencies about crypto-related crimes, told the BBC.He added that the nature of blockchain technology makes it hard for cyber-criminals to profit from stealing digital currencies, because everyone can see the money being moved across the network into the hackers\\' wallets.\"I wonder whether this hacker stole the funds, realised how much publicity and attention they were getting, realised wherever they moved the funds they would be watched, and decided to give it back,\" said Mr Robinson.\"The blockchain itself has operated here flawlessly, but the problem is on blockchains like Ethereum, you can write your own smart contracts. Various services have started offering this, including Poly Network. \"So whenever a human being writes code, there\\'s a chance they will make a mistake.\"Poly Network\\'s platform works by facilitating movement between several blockchains when people trade one cryptocurrency for another, such as trading Binance Coin for Ether.\"The Poly Network is the thing that facilitates the movement between these chains - ultimately, it\\'s software, it\\'s code, and code always has imperfections and defects in it,\" James Chappell, co-founder of London-based cyber-security firm Digital Shadows, told the BBC.\"And that\\'s true of banks, or any financial system. Unfortunately, what seems to have happened here is a party has spotted a weakness in the implementation and exploited it to fool the network into transferring these tokens incorrectly.\"Similar attacks have happened to several other services in the last 12 months. These include: After a rollercoaster 24 hours for the crypto community, it seems the hacker intends to return all or most of the stolen money.  As the criminal posted online: \"The pain suffered is temporary, but memorable.\"The claim that it was all an elaborate way to force Poly Network to fix security failings is being treated with scepticism.Why the taunting and boasting online if the motive was honourable? There\\'s some suggestion that the net may have been closing in, as one cyber-security company says it was close to working out the identity of a suspect. It might have been the case that the hacker bit off way more than they could chew and got scared, so returned the money.Regardless, the authorities will still no doubt be working hard to find them.But what this story mostly points to is just how powerful hackers can be and how powerless the unregulated, decentralised cryptocurrency world is when someone swipes a large fortune from under its nose.',\n",
       " 'Pret a Manger has told its staff that a temporary pay cut will now be made permanent as trade remains \"significantly below\" pre-Covid levels.The sandwich chain stopped paying workers during their breaks last September in a effort to cut costs.However, it has now told workers that the measure will be kept in place.Pret said: \"This is in no way a reflection of the hard work of our teams and we\\'re incredibly grateful for their dedication and commitment.\"The company also confirmed earlier on Thursdaythat a special bonus for good service, which was paused last year and reinstated in April, will continue at a reduced rate.However, it subsequently reversed that decision and from September the bonus will return to its original level.In an email to staff, Pret\\'s chief executive Pano Christou said: \"The business is still in recovery but it\\'s important that we continue to invest in and support our teams however we can.\"Commenting on the changes to pay, Mr Christou said: \"The most important thing for me throughout the last year has been to protect as many Pret jobs as we can. \"However, we also promised to review these changes when our sales improved. Unfortunately it\\'s taking longer than we had hoped to get sales back to what they were before the pandemic, which is why we\\'ve had to make some difficult decisions about how we reward our hard-working teams.\"The Guardian has reported that staff are considering strike action following the changes. Pret declined to comment on whether staff were planning to walk out.But it said: \"Like others in the hospitality industry, the pandemic had a big impact on our business, so last year we adjusted our business model. The business is still trading significantly below pre-pandemic levels, but we continue to review our benefits.\"A spokesman for Pret said there would be a pay review in April next year.Despite the UK economy reopening in recent months, many people continue to work - and eat their lunch - at home.Pret has tried to counter the drop in trade by introducing new lines of business such as its coffee subscription service, allowing customers up to five cups of coffee a day for a Â£20 monthly fee.It is also trialling cafes within the likes of Tesco to adjust its business \"to a new way of living and working\",Since the beginning of pandemic, Pret has closed 39 shops in the UK, as well as 33 EAT outlets, which it also owns. It also shut 22 Pret sites in the US.It has cut 3,771 jobs in the UK, according to its most recent accounts, as well as 1,292 roles in the US at a cost of Â£15.3m.Pret received a capital injection of Â£185m last year from shareholders and has access to a finance facility of Â£150m which runs until December this year, but can be extended for a further six months.']"
      ]
     },
     "execution_count": 32,
     "metadata": {},
     "output_type": "execute_result"
    }
   ],
   "source": [
    "bbc_news_articles_content = get_bbc_news_articles_content(extracted_bbc_links)\n",
    "bbc_news_articles_content"
   ]
  },
  {
   "cell_type": "markdown",
   "metadata": {},
   "source": [
    "For more clarity we want to get our data to DataFrame. For now we want to have columns for article headline, context, date and type.\n",
    "\n",
    "For that we need to get content and headline from every article. We already have article type and date."
   ]
  },
  {
   "cell_type": "markdown",
   "metadata": {},
   "source": [
    "But firstly we have saved data from previous days. So let's get DataFrame and than add new data.\n",
    "\n",
    "DF is stored in **data** folder into csv file."
   ]
  },
  {
   "cell_type": "code",
   "execution_count": 33,
   "metadata": {},
   "outputs": [],
   "source": [
    "def get_dataframe_from_csv(path):\n",
    "    df = pd.read_csv(path)\n",
    "    return df"
   ]
  },
  {
   "cell_type": "markdown",
   "metadata": {},
   "source": [
    "One big problem occurs when we run this notebook several times in one day. We will add the same rows. So let's make function that removes diplicating rows."
   ]
  },
  {
   "cell_type": "code",
   "execution_count": 34,
   "metadata": {},
   "outputs": [],
   "source": [
    "def remove_duplicating_rows(dataframe):\n",
    "    duplicated = dataframe[dataframe.duplicated()]\n",
    "    dataframe.drop(duplicated.index, axis=0, inplace=True)\n",
    "    return dataframe.reset_index(drop=True)"
   ]
  },
  {
   "cell_type": "markdown",
   "metadata": {},
   "source": [
    "We want just news about business, investing, tech and economy. Create function remove_usless_news()."
   ]
  },
  {
   "cell_type": "code",
   "execution_count": 35,
   "metadata": {},
   "outputs": [],
   "source": [
    "def remove_usless_news(dataframe):\n",
    "    #Yes it is ugly but it is working\n",
    "    dataframe.drop(dataframe[(dataframe['news_type'] != 'business') &  (dataframe['news_type'] != 'tech') & (dataframe['news_type'] != 'investing') & (dataframe['news_type'] != 'economy')].index, axis=0, inplace=True)\n",
    "    return dataframe.reset_index(drop=True)"
   ]
  },
  {
   "cell_type": "markdown",
   "metadata": {},
   "source": [
    "We have our dates, types, content and headline and now is time to add them to dataframe."
   ]
  },
  {
   "cell_type": "markdown",
   "metadata": {},
   "source": [
    "Add BBC or CNN news to dataframe."
   ]
  },
  {
   "cell_type": "code",
   "execution_count": 36,
   "metadata": {},
   "outputs": [],
   "source": [
    "def add_bbc_or_cnn_news_to_dataframe(dataframe, data, source):\n",
    "    for i in range(0, len(data[0])):\n",
    "        dataframe.loc[len(dataframe)] = [data[0][i], data[1][i], data[2][i], data[3][i], source]\n",
    "    dataframe['date'] = pd.to_datetime(dataframe['date'])"
   ]
  },
  {
   "cell_type": "code",
   "execution_count": 37,
   "metadata": {},
   "outputs": [],
   "source": [
    "filename = 'news'\n",
    "path = 'data/'+filename\n",
    "text_data = get_dataframe_from_csv(path)\n",
    "cnn_data = [cnn_news_headlines, cnn_news_articles_content, cnn_news_timestamp, cnn_news_types]\n",
    "bbc_data = [bbc_news_headlines, bbc_news_articles_content, bbc_news_timestamp, bbc_news_types]\n",
    "add_bbc_or_cnn_news_to_dataframe(text_data, cnn_data, \"CNN\")\n",
    "add_bbc_or_cnn_news_to_dataframe(text_data, bbc_data, \"BBC\")"
   ]
  },
  {
   "cell_type": "code",
   "execution_count": 38,
   "metadata": {},
   "outputs": [],
   "source": [
    "text_data = remove_duplicating_rows(text_data)\n",
    "text_data = remove_usless_news(text_data)"
   ]
  },
  {
   "cell_type": "code",
   "execution_count": 39,
   "metadata": {
    "scrolled": true
   },
   "outputs": [
    {
     "data": {
      "text/html": [
       "<div>\n",
       "<style scoped>\n",
       "    .dataframe tbody tr th:only-of-type {\n",
       "        vertical-align: middle;\n",
       "    }\n",
       "\n",
       "    .dataframe tbody tr th {\n",
       "        vertical-align: top;\n",
       "    }\n",
       "\n",
       "    .dataframe thead th {\n",
       "        text-align: right;\n",
       "    }\n",
       "</style>\n",
       "<table border=\"1\" class=\"dataframe\">\n",
       "  <thead>\n",
       "    <tr style=\"text-align: right;\">\n",
       "      <th></th>\n",
       "      <th>headline</th>\n",
       "      <th>content</th>\n",
       "      <th>date</th>\n",
       "      <th>news_type</th>\n",
       "      <th>source</th>\n",
       "    </tr>\n",
       "  </thead>\n",
       "  <tbody>\n",
       "    <tr>\n",
       "      <th>0</th>\n",
       "      <td>Alibaba fires employee accused of sexual assau...</td>\n",
       "      <td>The company on Monday said it has fired an emp...</td>\n",
       "      <td>2021-08-09</td>\n",
       "      <td>tech</td>\n",
       "      <td>CNN</td>\n",
       "    </tr>\n",
       "    <tr>\n",
       "      <th>1</th>\n",
       "      <td>Twitter suspends Marjorie Taylor Greene's acco...</td>\n",
       "      <td>Greene tweeted on Monday that the Food and Dru...</td>\n",
       "      <td>2021-08-10</td>\n",
       "      <td>tech</td>\n",
       "      <td>CNN</td>\n",
       "    </tr>\n",
       "    <tr>\n",
       "      <th>2</th>\n",
       "      <td>Why Silicon Valley is betting on making this d...</td>\n",
       "      <td>The metaverse was originally conceived as the ...</td>\n",
       "      <td>2021-08-08</td>\n",
       "      <td>tech</td>\n",
       "      <td>CNN</td>\n",
       "    </tr>\n",
       "    <tr>\n",
       "      <th>3</th>\n",
       "      <td>AMC is playing to the Reddit crowd</td>\n",
       "      <td>A version of this story first appeared in CNN ...</td>\n",
       "      <td>2021-08-10</td>\n",
       "      <td>investing</td>\n",
       "      <td>CNN</td>\n",
       "    </tr>\n",
       "    <tr>\n",
       "      <th>4</th>\n",
       "      <td>SoftBank's CEO went big on China. Now he's pul...</td>\n",
       "      <td>The Japanese billionaire said at an earnings p...</td>\n",
       "      <td>2021-08-10</td>\n",
       "      <td>investing</td>\n",
       "      <td>CNN</td>\n",
       "    </tr>\n",
       "    <tr>\n",
       "      <th>...</th>\n",
       "      <td>...</td>\n",
       "      <td>...</td>\n",
       "      <td>...</td>\n",
       "      <td>...</td>\n",
       "      <td>...</td>\n",
       "    </tr>\n",
       "    <tr>\n",
       "      <th>62</th>\n",
       "      <td>Pret a Manger makes staff pay cuts permanent</td>\n",
       "      <td>Pret a Manger has told its staff that a tempor...</td>\n",
       "      <td>2021-08-12</td>\n",
       "      <td>business</td>\n",
       "      <td>BBC</td>\n",
       "    </tr>\n",
       "    <tr>\n",
       "      <th>63</th>\n",
       "      <td>Key inflation measure hits new record high — y...</td>\n",
       "      <td>Producer price inflation, which measures the p...</td>\n",
       "      <td>2021-08-12</td>\n",
       "      <td>economy</td>\n",
       "      <td>CNN</td>\n",
       "    </tr>\n",
       "    <tr>\n",
       "      <th>64</th>\n",
       "      <td>UK economy rebounds as Covid restrictions ease</td>\n",
       "      <td>The UK economy grew by 4.8% between April and ...</td>\n",
       "      <td>2021-08-12</td>\n",
       "      <td>business</td>\n",
       "      <td>BBC</td>\n",
       "    </tr>\n",
       "    <tr>\n",
       "      <th>65</th>\n",
       "      <td>Tui boss: UK falling behind European travel re...</td>\n",
       "      <td>The UK holiday recovery is lagging behind the ...</td>\n",
       "      <td>2021-08-12</td>\n",
       "      <td>business</td>\n",
       "      <td>BBC</td>\n",
       "    </tr>\n",
       "    <tr>\n",
       "      <th>66</th>\n",
       "      <td>Pret a Manger makes staff pay cuts permanent</td>\n",
       "      <td>Pret a Manger has told its staff that a tempor...</td>\n",
       "      <td>2021-08-12</td>\n",
       "      <td>business</td>\n",
       "      <td>BBC</td>\n",
       "    </tr>\n",
       "  </tbody>\n",
       "</table>\n",
       "<p>67 rows × 5 columns</p>\n",
       "</div>"
      ],
      "text/plain": [
       "                                             headline  \\\n",
       "0   Alibaba fires employee accused of sexual assau...   \n",
       "1   Twitter suspends Marjorie Taylor Greene's acco...   \n",
       "2   Why Silicon Valley is betting on making this d...   \n",
       "3                  AMC is playing to the Reddit crowd   \n",
       "4   SoftBank's CEO went big on China. Now he's pul...   \n",
       "..                                                ...   \n",
       "62       Pret a Manger makes staff pay cuts permanent   \n",
       "63  Key inflation measure hits new record high — y...   \n",
       "64     UK economy rebounds as Covid restrictions ease   \n",
       "65  Tui boss: UK falling behind European travel re...   \n",
       "66       Pret a Manger makes staff pay cuts permanent   \n",
       "\n",
       "                                              content       date  news_type  \\\n",
       "0   The company on Monday said it has fired an emp... 2021-08-09       tech   \n",
       "1   Greene tweeted on Monday that the Food and Dru... 2021-08-10       tech   \n",
       "2   The metaverse was originally conceived as the ... 2021-08-08       tech   \n",
       "3   A version of this story first appeared in CNN ... 2021-08-10  investing   \n",
       "4   The Japanese billionaire said at an earnings p... 2021-08-10  investing   \n",
       "..                                                ...        ...        ...   \n",
       "62  Pret a Manger has told its staff that a tempor... 2021-08-12   business   \n",
       "63  Producer price inflation, which measures the p... 2021-08-12    economy   \n",
       "64  The UK economy grew by 4.8% between April and ... 2021-08-12   business   \n",
       "65  The UK holiday recovery is lagging behind the ... 2021-08-12   business   \n",
       "66  Pret a Manger has told its staff that a tempor... 2021-08-12   business   \n",
       "\n",
       "   source  \n",
       "0     CNN  \n",
       "1     CNN  \n",
       "2     CNN  \n",
       "3     CNN  \n",
       "4     CNN  \n",
       "..    ...  \n",
       "62    BBC  \n",
       "63    CNN  \n",
       "64    BBC  \n",
       "65    BBC  \n",
       "66    BBC  \n",
       "\n",
       "[67 rows x 5 columns]"
      ]
     },
     "execution_count": 39,
     "metadata": {},
     "output_type": "execute_result"
    }
   ],
   "source": [
    "text_data"
   ]
  },
  {
   "cell_type": "markdown",
   "metadata": {},
   "source": [
    "Save changed DF to .csv file"
   ]
  },
  {
   "cell_type": "code",
   "execution_count": 40,
   "metadata": {},
   "outputs": [],
   "source": [
    "def save_dataframe_to_csv(dataframe, filename):\n",
    "    path = \"data/\" + filename\n",
    "    dataframe.to_csv(path, index=False)"
   ]
  },
  {
   "cell_type": "code",
   "execution_count": 41,
   "metadata": {},
   "outputs": [],
   "source": [
    "save_dataframe_to_csv(text_data, 'news')"
   ]
  },
  {
   "cell_type": "markdown",
   "metadata": {},
   "source": [
    "Types of DataFrame are:"
   ]
  },
  {
   "cell_type": "code",
   "execution_count": 42,
   "metadata": {},
   "outputs": [
    {
     "data": {
      "text/plain": [
       "headline             object\n",
       "content              object\n",
       "date         datetime64[ns]\n",
       "news_type            object\n",
       "source               object\n",
       "dtype: object"
      ]
     },
     "execution_count": 42,
     "metadata": {},
     "output_type": "execute_result"
    }
   ],
   "source": [
    "text_data.dtypes"
   ]
  },
  {
   "cell_type": "markdown",
   "metadata": {},
   "source": [
    "Content from first article:"
   ]
  },
  {
   "cell_type": "code",
   "execution_count": 43,
   "metadata": {},
   "outputs": [
    {
     "name": "stdout",
     "output_type": "stream",
     "text": [
      "Alibaba fires employee accused of sexual assault as pressure mounts on Chinese tech\n"
     ]
    }
   ],
   "source": [
    "content = text_data.loc[0]['content']\n",
    "print(text_data.loc[0]['headline'])"
   ]
  },
  {
   "cell_type": "markdown",
   "metadata": {},
   "source": [
    "###### 2.Text Analisys"
   ]
  },
  {
   "cell_type": "markdown",
   "metadata": {},
   "source": [
    "It every text there are stopwords - high-frequency words like the, to, and, also, that. We sometimes want to filter out of a document before further processing. Stopwords usually have little lexical content, and their presence in a text fails to distinguish it from other texts.\n",
    "\n",
    "So we  will remove them from this article."
   ]
  },
  {
   "cell_type": "markdown",
   "metadata": {},
   "source": [
    "Firstly let's see what english stopwords are. NLTK library has a built-in module with stopwords."
   ]
  },
  {
   "cell_type": "code",
   "execution_count": 44,
   "metadata": {},
   "outputs": [
    {
     "data": {
      "text/plain": [
       "['i',\n",
       " 'me',\n",
       " 'my',\n",
       " 'myself',\n",
       " 'we',\n",
       " 'our',\n",
       " 'ours',\n",
       " 'ourselves',\n",
       " 'you',\n",
       " \"you're\",\n",
       " \"you've\",\n",
       " \"you'll\",\n",
       " \"you'd\",\n",
       " 'your',\n",
       " 'yours',\n",
       " 'yourself',\n",
       " 'yourselves',\n",
       " 'he',\n",
       " 'him',\n",
       " 'his',\n",
       " 'himself',\n",
       " 'she',\n",
       " \"she's\",\n",
       " 'her',\n",
       " 'hers',\n",
       " 'herself',\n",
       " 'it',\n",
       " \"it's\",\n",
       " 'its',\n",
       " 'itself',\n",
       " 'they',\n",
       " 'them',\n",
       " 'their',\n",
       " 'theirs',\n",
       " 'themselves',\n",
       " 'what',\n",
       " 'which',\n",
       " 'who',\n",
       " 'whom',\n",
       " 'this',\n",
       " 'that',\n",
       " \"that'll\",\n",
       " 'these',\n",
       " 'those',\n",
       " 'am',\n",
       " 'is',\n",
       " 'are',\n",
       " 'was',\n",
       " 'were',\n",
       " 'be',\n",
       " 'been',\n",
       " 'being',\n",
       " 'have',\n",
       " 'has',\n",
       " 'had',\n",
       " 'having',\n",
       " 'do',\n",
       " 'does',\n",
       " 'did',\n",
       " 'doing',\n",
       " 'a',\n",
       " 'an',\n",
       " 'the',\n",
       " 'and',\n",
       " 'but',\n",
       " 'if',\n",
       " 'or',\n",
       " 'because',\n",
       " 'as',\n",
       " 'until',\n",
       " 'while',\n",
       " 'of',\n",
       " 'at',\n",
       " 'by',\n",
       " 'for',\n",
       " 'with',\n",
       " 'about',\n",
       " 'against',\n",
       " 'between',\n",
       " 'into',\n",
       " 'through',\n",
       " 'during',\n",
       " 'before',\n",
       " 'after',\n",
       " 'above',\n",
       " 'below',\n",
       " 'to',\n",
       " 'from',\n",
       " 'up',\n",
       " 'down',\n",
       " 'in',\n",
       " 'out',\n",
       " 'on',\n",
       " 'off',\n",
       " 'over',\n",
       " 'under',\n",
       " 'again',\n",
       " 'further',\n",
       " 'then',\n",
       " 'once',\n",
       " 'here',\n",
       " 'there',\n",
       " 'when',\n",
       " 'where',\n",
       " 'why',\n",
       " 'how',\n",
       " 'all',\n",
       " 'any',\n",
       " 'both',\n",
       " 'each',\n",
       " 'few',\n",
       " 'more',\n",
       " 'most',\n",
       " 'other',\n",
       " 'some',\n",
       " 'such',\n",
       " 'no',\n",
       " 'nor',\n",
       " 'not',\n",
       " 'only',\n",
       " 'own',\n",
       " 'same',\n",
       " 'so',\n",
       " 'than',\n",
       " 'too',\n",
       " 'very',\n",
       " 's',\n",
       " 't',\n",
       " 'can',\n",
       " 'will',\n",
       " 'just',\n",
       " 'don',\n",
       " \"don't\",\n",
       " 'should',\n",
       " \"should've\",\n",
       " 'now',\n",
       " 'd',\n",
       " 'll',\n",
       " 'm',\n",
       " 'o',\n",
       " 're',\n",
       " 've',\n",
       " 'y',\n",
       " 'ain',\n",
       " 'aren',\n",
       " \"aren't\",\n",
       " 'couldn',\n",
       " \"couldn't\",\n",
       " 'didn',\n",
       " \"didn't\",\n",
       " 'doesn',\n",
       " \"doesn't\",\n",
       " 'hadn',\n",
       " \"hadn't\",\n",
       " 'hasn',\n",
       " \"hasn't\",\n",
       " 'haven',\n",
       " \"haven't\",\n",
       " 'isn',\n",
       " \"isn't\",\n",
       " 'ma',\n",
       " 'mightn',\n",
       " \"mightn't\",\n",
       " 'mustn',\n",
       " \"mustn't\",\n",
       " 'needn',\n",
       " \"needn't\",\n",
       " 'shan',\n",
       " \"shan't\",\n",
       " 'shouldn',\n",
       " \"shouldn't\",\n",
       " 'wasn',\n",
       " \"wasn't\",\n",
       " 'weren',\n",
       " \"weren't\",\n",
       " 'won',\n",
       " \"won't\",\n",
       " 'wouldn',\n",
       " \"wouldn't\"]"
      ]
     },
     "execution_count": 44,
     "metadata": {},
     "output_type": "execute_result"
    }
   ],
   "source": [
    "stopwords.words('english')"
   ]
  },
  {
   "cell_type": "code",
   "execution_count": 45,
   "metadata": {
    "scrolled": false
   },
   "outputs": [
    {
     "data": {
      "text/plain": [
       "'The company on Monday said it has fired an employee after he was accused of sexually assaulting a woman who also works at Alibaba (BABA). The man confessed to actions that Alibaba deemed \"in serious violation of company policy,\" according to a memo sent by Alibaba Group chairman and CEO Daniel Zhang to employees.Two senior employees also resigned after they \"failed to prioritize employee protection,\" according to Zhang\\'s memo.\"Alibaba Group has a zero-tolerance policy against sexual misconduct, and ensuring a safe workplace for all our employees is Alibaba\\'s top priority,\" a company spokesperson said in a statement to CNN Business.The allegations — which were widely circulated on Chinese social media over the weekend — have rocked Alibaba at a time when it and other Chinese tech companies are already facing incredible scrutiny from Chinese regulators over their business. The claims triggered public outcry as many criticized the company for its handling of the situation. The controversy started after a post — allegedly written by the victim, who did not identify herself, and published on an internal Alibaba website — circulated on the Chinese social media website Weibo. According to'"
      ]
     },
     "execution_count": 45,
     "metadata": {},
     "output_type": "execute_result"
    }
   ],
   "source": [
    "content[:1200]"
   ]
  },
  {
   "cell_type": "markdown",
   "metadata": {},
   "source": [
    "if we discover the text more carefully to see that some sentences are merged. There is no space after some of punctuation marks, like: a company spokesperson said in a statement to CNN **Business.The** allegations — which were widely circulated on Chinese social media over the weekend. If we tokenize this sentence we will have ```Business.The``` as token. We do not want that to happen so we will use WordPunktTokenizer."
   ]
  },
  {
   "cell_type": "code",
   "execution_count": 46,
   "metadata": {},
   "outputs": [],
   "source": [
    "def add_whitespace_after_punctuation_mark(text):\n",
    "    for i in range(0,len(text) - 1):\n",
    "        if text[i] in '.?!':\n",
    "            if text[i+1] != ' ' and text[i+1] not in '.?!':\n",
    "                text = text[:i+1] + ' ' + text[i+1:]\n",
    "    return text"
   ]
  },
  {
   "cell_type": "code",
   "execution_count": 47,
   "metadata": {
    "scrolled": true
   },
   "outputs": [
    {
     "data": {
      "text/plain": [
       "'The company on Monday said it has fired an employee after he was accused of sexually assaulting a woman who also works at Alibaba (BABA). The man confessed to actions that Alibaba deemed \"in serious violation of company policy,\" according to a memo sent by Alibaba Group chairman and CEO Daniel Zhang to employees. Two senior employees also resigned after they \"failed to prioritize employee protection,\" according to Zhang\\'s memo. \"Alibaba Group has a zero-tolerance policy against sexual misconduct, and ensuring a safe workplace for all our employees is Alibaba\\'s top priority,\" a company spokesperson said in a statement to CNN Business. The allegations — which were widely circulated on Chinese social media over the weekend — have rocked Alibaba at a time when it and other Chinese tech companies are already facing incredible scrutiny from Chinese regulators over their business. The claims triggered public outcry as many criticized the company for its handling of the situation. The controversy started after a post — allegedly written by the victim, who did not identify herself, and published on an internal Alibaba website — circulated on the Chinese social media website Weibo. According to screenshots of the 8,000-word account, the woman claimed she was assaulted by her supervisor during a business trip to Jinan, a city in eastern China, while she says she was drunk. \"The male leader even entered my hotel room four times that night with condom and assaulted me!!!! When I typed the lines above, I couldn\\'t control myself, and I broke into tears. I never thought that I would have such an experience,\" she wrote. \"When I think about it now, it just feels like a nightmare, one that makes you terrified, scared, helpless, helpless nightmare! \"CNN Business cannot confirm the authenticity of the post. The post has exploded on Chinese social media. Topics related to the incident have been viewed 850 million times on Weibo, generating more than 510,000 discussion posts. Some commenters accused Alibaba of failing to protect the rights of its employees. The woman allegedly claimed that the company brushed off her concerns when she reported them. \"How come there are still female employees who have been pushed and pressured by their leaders to drink and are violated. Is this the Alibaba culture? \" wrote one Weibo user. \"I really hope the results of the investigation can become clear as soon as possible. Such a large company must protect its employees. \"On Sunday, police in Jinan announced on Weibo that they had launched a probe into the case. \"The police are actively investigating the matter and collecting evidence,\" they said in a statement. The accused has not been charged with any crime. In the memo to employees on Monday, Zhang said the employee confessed to \"intimate acts\" with a woman who was inebriated, violating company policy. \"Whether he has committed rape or indecency that violates the law will be determined by law enforcement,\" Zhang added in the memo, which was posted publicly on the company\\'s news website. \"He will be fired and never be rehired,\" Zhang wrote. Two executives, including the president of Alibaba\\'s Neighborhood Retail group, have resigned over the handling of the incident, according to Zhang, who added that the woman reported the incident to the company August 2. \"We believe that the head of the business is both the owner of the business and the team\\'s culture,\" Zhang wrote, adding that when the woman reported \"a horrendous act ... they did not make timely decisions nor took appropriate action. \"\"This incident has caused tremendous harm to her. We will do everything we can to take care of her,\" Zhang wrote. Zhang added that the company\\'s chief people officer has also been reprimanded, and said that the company will establish a dedicated reporting channel for employees, as well as create an \"anti-sexual harassment policy\" that will include input from experts and employees. Zhang also acknowledged that the incident highlights what he called a culture of \"forced drinking,\" referring to alcohol-heavy events that are popular in China to secure business deals or build partnerships.  \"Although the police are still investigating the specific circumstances of the dinner that day, we are staunchly opposed to the ugly forced drinking culture,\" he wrote. \"Regardless of gender, whether it is a request made by a customer or a supervisor, our employees are empowered to reject it. \"The scandal\\'s rapid spread on social media — along with the public outrage that ensued — comes as major firms, including Alibaba, have faced huge regulatory pressure. As President Xi Jinping increasingly emphasizes the ruling Communist Party\\'s dominant role in every aspect of China\\'s economy and society, regulators have targeted tech, education and other businesses with fines and restrictions. Complaints about work culture play into that scrutiny. Pinduoduo, an e-commerce firm and rival to Alibaba, faced intense public backlash earlier this year  over accusations that it overworks its employees after two of its employees died unexpectedly, including a man who died by suicide. Chinese social media users started calling out the deaths as emblematic of a troublesome work culture, and a former software engineer at the company escalated criticisms in several posts where he accused the company of overworking its employees. The company did not respond at the time to questions about the allegations made against its work culture, but did say that it had set up a team to provide psychological counseling following the suicide of a worker.'"
      ]
     },
     "execution_count": 47,
     "metadata": {},
     "output_type": "execute_result"
    }
   ],
   "source": [
    "text = add_whitespace_after_punctuation_mark(content)\n",
    "text"
   ]
  },
  {
   "cell_type": "markdown",
   "metadata": {},
   "source": [
    "Now ```Business. The``` is OK."
   ]
  },
  {
   "cell_type": "markdown",
   "metadata": {},
   "source": [
    "Tokenize our text into words. "
   ]
  },
  {
   "cell_type": "code",
   "execution_count": 48,
   "metadata": {
    "scrolled": true
   },
   "outputs": [
    {
     "data": {
      "text/plain": [
       "['The',\n",
       " 'company',\n",
       " 'on',\n",
       " 'Monday',\n",
       " 'said',\n",
       " 'it',\n",
       " 'has',\n",
       " 'fired',\n",
       " 'an',\n",
       " 'employee',\n",
       " 'after',\n",
       " 'he',\n",
       " 'was',\n",
       " 'accused',\n",
       " 'of',\n",
       " 'sexually',\n",
       " 'assaulting',\n",
       " 'a',\n",
       " 'woman',\n",
       " 'who',\n",
       " 'also',\n",
       " 'works',\n",
       " 'at',\n",
       " 'Alibaba',\n",
       " '(',\n",
       " 'BABA',\n",
       " ').',\n",
       " 'The',\n",
       " 'man',\n",
       " 'confessed',\n",
       " 'to',\n",
       " 'actions',\n",
       " 'that',\n",
       " 'Alibaba',\n",
       " 'deemed',\n",
       " '\"',\n",
       " 'in',\n",
       " 'serious',\n",
       " 'violation',\n",
       " 'of',\n",
       " 'company',\n",
       " 'policy',\n",
       " ',\"',\n",
       " 'according',\n",
       " 'to',\n",
       " 'a',\n",
       " 'memo',\n",
       " 'sent',\n",
       " 'by',\n",
       " 'Alibaba',\n",
       " 'Group',\n",
       " 'chairman',\n",
       " 'and',\n",
       " 'CEO',\n",
       " 'Daniel',\n",
       " 'Zhang',\n",
       " 'to',\n",
       " 'employees',\n",
       " '.',\n",
       " 'Two',\n",
       " 'senior',\n",
       " 'employees',\n",
       " 'also',\n",
       " 'resigned',\n",
       " 'after',\n",
       " 'they',\n",
       " '\"',\n",
       " 'failed',\n",
       " 'to',\n",
       " 'prioritize',\n",
       " 'employee',\n",
       " 'protection',\n",
       " ',\"',\n",
       " 'according',\n",
       " 'to',\n",
       " 'Zhang',\n",
       " \"'\",\n",
       " 's',\n",
       " 'memo',\n",
       " '.\"',\n",
       " 'Alibaba',\n",
       " 'Group',\n",
       " 'has',\n",
       " 'a',\n",
       " 'zero',\n",
       " '-',\n",
       " 'tolerance',\n",
       " 'policy',\n",
       " 'against',\n",
       " 'sexual',\n",
       " 'misconduct',\n",
       " ',',\n",
       " 'and',\n",
       " 'ensuring',\n",
       " 'a',\n",
       " 'safe',\n",
       " 'workplace',\n",
       " 'for',\n",
       " 'all',\n",
       " 'our',\n",
       " 'employees',\n",
       " 'is',\n",
       " 'Alibaba',\n",
       " \"'\",\n",
       " 's',\n",
       " 'top',\n",
       " 'priority',\n",
       " ',\"',\n",
       " 'a',\n",
       " 'company',\n",
       " 'spokesperson',\n",
       " 'said',\n",
       " 'in',\n",
       " 'a',\n",
       " 'statement',\n",
       " 'to',\n",
       " 'CNN',\n",
       " 'Business',\n",
       " '.',\n",
       " 'The',\n",
       " 'allegations',\n",
       " '—',\n",
       " 'which',\n",
       " 'were',\n",
       " 'widely',\n",
       " 'circulated',\n",
       " 'on',\n",
       " 'Chinese',\n",
       " 'social',\n",
       " 'media',\n",
       " 'over',\n",
       " 'the',\n",
       " 'weekend',\n",
       " '—',\n",
       " 'have',\n",
       " 'rocked',\n",
       " 'Alibaba',\n",
       " 'at',\n",
       " 'a',\n",
       " 'time',\n",
       " 'when',\n",
       " 'it',\n",
       " 'and',\n",
       " 'other',\n",
       " 'Chinese',\n",
       " 'tech',\n",
       " 'companies',\n",
       " 'are',\n",
       " 'already',\n",
       " 'facing',\n",
       " 'incredible',\n",
       " 'scrutiny',\n",
       " 'from',\n",
       " 'Chinese',\n",
       " 'regulators',\n",
       " 'over',\n",
       " 'their',\n",
       " 'business',\n",
       " '.',\n",
       " 'The',\n",
       " 'claims',\n",
       " 'triggered',\n",
       " 'public',\n",
       " 'outcry',\n",
       " 'as',\n",
       " 'many',\n",
       " 'criticized',\n",
       " 'the',\n",
       " 'company',\n",
       " 'for',\n",
       " 'its',\n",
       " 'handling',\n",
       " 'of',\n",
       " 'the',\n",
       " 'situation',\n",
       " '.',\n",
       " 'The',\n",
       " 'controversy',\n",
       " 'started',\n",
       " 'after',\n",
       " 'a',\n",
       " 'post',\n",
       " '—',\n",
       " 'allegedly',\n",
       " 'written',\n",
       " 'by',\n",
       " 'the',\n",
       " 'victim',\n",
       " ',',\n",
       " 'who',\n",
       " 'did',\n",
       " 'not',\n",
       " 'identify',\n",
       " 'herself',\n",
       " ',',\n",
       " 'and',\n",
       " 'published',\n",
       " 'on',\n",
       " 'an',\n",
       " 'internal',\n",
       " 'Alibaba',\n",
       " 'website',\n",
       " '—',\n",
       " 'circulated',\n",
       " 'on',\n",
       " 'the',\n",
       " 'Chinese',\n",
       " 'social',\n",
       " 'media',\n",
       " 'website',\n",
       " 'Weibo',\n",
       " '.',\n",
       " 'According',\n",
       " 'to',\n",
       " 'screenshots',\n",
       " 'of',\n",
       " 'the',\n",
       " '8',\n",
       " ',',\n",
       " '000',\n",
       " '-',\n",
       " 'word',\n",
       " 'account',\n",
       " ',',\n",
       " 'the',\n",
       " 'woman',\n",
       " 'claimed',\n",
       " 'she',\n",
       " 'was',\n",
       " 'assaulted',\n",
       " 'by',\n",
       " 'her',\n",
       " 'supervisor',\n",
       " 'during',\n",
       " 'a',\n",
       " 'business',\n",
       " 'trip',\n",
       " 'to',\n",
       " 'Jinan',\n",
       " ',',\n",
       " 'a',\n",
       " 'city',\n",
       " 'in',\n",
       " 'eastern',\n",
       " 'China',\n",
       " ',',\n",
       " 'while',\n",
       " 'she',\n",
       " 'says',\n",
       " 'she',\n",
       " 'was',\n",
       " 'drunk',\n",
       " '.',\n",
       " '\"',\n",
       " 'The',\n",
       " 'male',\n",
       " 'leader',\n",
       " 'even',\n",
       " 'entered',\n",
       " 'my',\n",
       " 'hotel',\n",
       " 'room',\n",
       " 'four',\n",
       " 'times',\n",
       " 'that',\n",
       " 'night',\n",
       " 'with',\n",
       " 'condom',\n",
       " 'and',\n",
       " 'assaulted',\n",
       " 'me',\n",
       " '!!!!',\n",
       " 'When',\n",
       " 'I',\n",
       " 'typed',\n",
       " 'the',\n",
       " 'lines',\n",
       " 'above',\n",
       " ',',\n",
       " 'I',\n",
       " 'couldn',\n",
       " \"'\",\n",
       " 't',\n",
       " 'control',\n",
       " 'myself',\n",
       " ',',\n",
       " 'and',\n",
       " 'I',\n",
       " 'broke',\n",
       " 'into',\n",
       " 'tears',\n",
       " '.',\n",
       " 'I',\n",
       " 'never',\n",
       " 'thought',\n",
       " 'that',\n",
       " 'I',\n",
       " 'would',\n",
       " 'have',\n",
       " 'such',\n",
       " 'an',\n",
       " 'experience',\n",
       " ',\"',\n",
       " 'she',\n",
       " 'wrote',\n",
       " '.',\n",
       " '\"',\n",
       " 'When',\n",
       " 'I',\n",
       " 'think',\n",
       " 'about',\n",
       " 'it',\n",
       " 'now',\n",
       " ',',\n",
       " 'it',\n",
       " 'just',\n",
       " 'feels',\n",
       " 'like',\n",
       " 'a',\n",
       " 'nightmare',\n",
       " ',',\n",
       " 'one',\n",
       " 'that',\n",
       " 'makes',\n",
       " 'you',\n",
       " 'terrified',\n",
       " ',',\n",
       " 'scared',\n",
       " ',',\n",
       " 'helpless',\n",
       " ',',\n",
       " 'helpless',\n",
       " 'nightmare',\n",
       " '!\"',\n",
       " 'CNN',\n",
       " 'Business',\n",
       " 'cannot',\n",
       " 'confirm',\n",
       " 'the',\n",
       " 'authenticity',\n",
       " 'of',\n",
       " 'the',\n",
       " 'post',\n",
       " '.',\n",
       " 'The',\n",
       " 'post',\n",
       " 'has',\n",
       " 'exploded',\n",
       " 'on',\n",
       " 'Chinese',\n",
       " 'social',\n",
       " 'media',\n",
       " '.',\n",
       " 'Topics',\n",
       " 'related',\n",
       " 'to',\n",
       " 'the',\n",
       " 'incident',\n",
       " 'have',\n",
       " 'been',\n",
       " 'viewed',\n",
       " '850',\n",
       " 'million',\n",
       " 'times',\n",
       " 'on',\n",
       " 'Weibo',\n",
       " ',',\n",
       " 'generating',\n",
       " 'more',\n",
       " 'than',\n",
       " '510',\n",
       " ',',\n",
       " '000',\n",
       " 'discussion',\n",
       " 'posts',\n",
       " '.',\n",
       " 'Some',\n",
       " 'commenters',\n",
       " 'accused',\n",
       " 'Alibaba',\n",
       " 'of',\n",
       " 'failing',\n",
       " 'to',\n",
       " 'protect',\n",
       " 'the',\n",
       " 'rights',\n",
       " 'of',\n",
       " 'its',\n",
       " 'employees',\n",
       " '.',\n",
       " 'The',\n",
       " 'woman',\n",
       " 'allegedly',\n",
       " 'claimed',\n",
       " 'that',\n",
       " 'the',\n",
       " 'company',\n",
       " 'brushed',\n",
       " 'off',\n",
       " 'her',\n",
       " 'concerns',\n",
       " 'when',\n",
       " 'she',\n",
       " 'reported',\n",
       " 'them',\n",
       " '.\"',\n",
       " 'How',\n",
       " 'come',\n",
       " 'there',\n",
       " 'are',\n",
       " 'still',\n",
       " 'female',\n",
       " 'employees',\n",
       " 'who',\n",
       " 'have',\n",
       " 'been',\n",
       " 'pushed',\n",
       " 'and',\n",
       " 'pressured',\n",
       " 'by',\n",
       " 'their',\n",
       " 'leaders',\n",
       " 'to',\n",
       " 'drink',\n",
       " 'and',\n",
       " 'are',\n",
       " 'violated',\n",
       " '.',\n",
       " 'Is',\n",
       " 'this',\n",
       " 'the',\n",
       " 'Alibaba',\n",
       " 'culture',\n",
       " '?\"',\n",
       " 'wrote',\n",
       " 'one',\n",
       " 'Weibo',\n",
       " 'user',\n",
       " '.',\n",
       " '\"',\n",
       " 'I',\n",
       " 'really',\n",
       " 'hope',\n",
       " 'the',\n",
       " 'results',\n",
       " 'of',\n",
       " 'the',\n",
       " 'investigation',\n",
       " 'can',\n",
       " 'become',\n",
       " 'clear',\n",
       " 'as',\n",
       " 'soon',\n",
       " 'as',\n",
       " 'possible',\n",
       " '.',\n",
       " 'Such',\n",
       " 'a',\n",
       " 'large',\n",
       " 'company',\n",
       " 'must',\n",
       " 'protect',\n",
       " 'its',\n",
       " 'employees',\n",
       " '.\"',\n",
       " 'On',\n",
       " 'Sunday',\n",
       " ',',\n",
       " 'police',\n",
       " 'in',\n",
       " 'Jinan',\n",
       " 'announced',\n",
       " 'on',\n",
       " 'Weibo',\n",
       " 'that',\n",
       " 'they',\n",
       " 'had',\n",
       " 'launched',\n",
       " 'a',\n",
       " 'probe',\n",
       " 'into',\n",
       " 'the',\n",
       " 'case',\n",
       " '.\"',\n",
       " 'The',\n",
       " 'police',\n",
       " 'are',\n",
       " 'actively',\n",
       " 'investigating',\n",
       " 'the',\n",
       " 'matter',\n",
       " 'and',\n",
       " 'collecting',\n",
       " 'evidence',\n",
       " ',\"',\n",
       " 'they',\n",
       " 'said',\n",
       " 'in',\n",
       " 'a',\n",
       " 'statement',\n",
       " '.',\n",
       " 'The',\n",
       " 'accused',\n",
       " 'has',\n",
       " 'not',\n",
       " 'been',\n",
       " 'charged',\n",
       " 'with',\n",
       " 'any',\n",
       " 'crime',\n",
       " '.',\n",
       " 'In',\n",
       " 'the',\n",
       " 'memo',\n",
       " 'to',\n",
       " 'employees',\n",
       " 'on',\n",
       " 'Monday',\n",
       " ',',\n",
       " 'Zhang',\n",
       " 'said',\n",
       " 'the',\n",
       " 'employee',\n",
       " 'confessed',\n",
       " 'to',\n",
       " '\"',\n",
       " 'intimate',\n",
       " 'acts',\n",
       " '\"',\n",
       " 'with',\n",
       " 'a',\n",
       " 'woman',\n",
       " 'who',\n",
       " 'was',\n",
       " 'inebriated',\n",
       " ',',\n",
       " 'violating',\n",
       " 'company',\n",
       " 'policy',\n",
       " '.',\n",
       " '\"',\n",
       " 'Whether',\n",
       " 'he',\n",
       " 'has',\n",
       " 'committed',\n",
       " 'rape',\n",
       " 'or',\n",
       " 'indecency',\n",
       " 'that',\n",
       " 'violates',\n",
       " 'the',\n",
       " 'law',\n",
       " 'will',\n",
       " 'be',\n",
       " 'determined',\n",
       " 'by',\n",
       " 'law',\n",
       " 'enforcement',\n",
       " ',\"',\n",
       " 'Zhang',\n",
       " 'added',\n",
       " 'in',\n",
       " 'the',\n",
       " 'memo',\n",
       " ',',\n",
       " 'which',\n",
       " 'was',\n",
       " 'posted',\n",
       " 'publicly',\n",
       " 'on',\n",
       " 'the',\n",
       " 'company',\n",
       " \"'\",\n",
       " 's',\n",
       " 'news',\n",
       " 'website',\n",
       " '.',\n",
       " '\"',\n",
       " 'He',\n",
       " 'will',\n",
       " 'be',\n",
       " 'fired',\n",
       " 'and',\n",
       " 'never',\n",
       " 'be',\n",
       " 'rehired',\n",
       " ',\"',\n",
       " 'Zhang',\n",
       " 'wrote',\n",
       " '.',\n",
       " 'Two',\n",
       " 'executives',\n",
       " ',',\n",
       " 'including',\n",
       " 'the',\n",
       " 'president',\n",
       " 'of',\n",
       " 'Alibaba',\n",
       " \"'\",\n",
       " 's',\n",
       " 'Neighborhood',\n",
       " 'Retail',\n",
       " 'group',\n",
       " ',',\n",
       " 'have',\n",
       " 'resigned',\n",
       " 'over',\n",
       " 'the',\n",
       " 'handling',\n",
       " 'of',\n",
       " 'the',\n",
       " 'incident',\n",
       " ',',\n",
       " 'according',\n",
       " 'to',\n",
       " 'Zhang',\n",
       " ',',\n",
       " 'who',\n",
       " 'added',\n",
       " 'that',\n",
       " 'the',\n",
       " 'woman',\n",
       " 'reported',\n",
       " 'the',\n",
       " 'incident',\n",
       " 'to',\n",
       " 'the',\n",
       " 'company',\n",
       " 'August',\n",
       " '2',\n",
       " '.',\n",
       " '\"',\n",
       " 'We',\n",
       " 'believe',\n",
       " 'that',\n",
       " 'the',\n",
       " 'head',\n",
       " 'of',\n",
       " 'the',\n",
       " 'business',\n",
       " 'is',\n",
       " 'both',\n",
       " 'the',\n",
       " 'owner',\n",
       " 'of',\n",
       " 'the',\n",
       " 'business',\n",
       " 'and',\n",
       " 'the',\n",
       " 'team',\n",
       " \"'\",\n",
       " 's',\n",
       " 'culture',\n",
       " ',\"',\n",
       " 'Zhang',\n",
       " 'wrote',\n",
       " ',',\n",
       " 'adding',\n",
       " 'that',\n",
       " 'when',\n",
       " 'the',\n",
       " 'woman',\n",
       " 'reported',\n",
       " '\"',\n",
       " 'a',\n",
       " 'horrendous',\n",
       " 'act',\n",
       " '...',\n",
       " 'they',\n",
       " 'did',\n",
       " 'not',\n",
       " 'make',\n",
       " 'timely',\n",
       " 'decisions',\n",
       " 'nor',\n",
       " 'took',\n",
       " 'appropriate',\n",
       " 'action',\n",
       " '.\"\"',\n",
       " 'This',\n",
       " 'incident',\n",
       " 'has',\n",
       " 'caused',\n",
       " 'tremendous',\n",
       " 'harm',\n",
       " 'to',\n",
       " 'her',\n",
       " '.',\n",
       " 'We',\n",
       " 'will',\n",
       " 'do',\n",
       " 'everything',\n",
       " 'we',\n",
       " 'can',\n",
       " 'to',\n",
       " 'take',\n",
       " 'care',\n",
       " 'of',\n",
       " 'her',\n",
       " ',\"',\n",
       " 'Zhang',\n",
       " 'wrote',\n",
       " '.',\n",
       " 'Zhang',\n",
       " 'added',\n",
       " 'that',\n",
       " 'the',\n",
       " 'company',\n",
       " \"'\",\n",
       " 's',\n",
       " 'chief',\n",
       " 'people',\n",
       " 'officer',\n",
       " 'has',\n",
       " 'also',\n",
       " 'been',\n",
       " 'reprimanded',\n",
       " ',',\n",
       " 'and',\n",
       " 'said',\n",
       " 'that',\n",
       " 'the',\n",
       " 'company',\n",
       " 'will',\n",
       " 'establish',\n",
       " 'a',\n",
       " 'dedicated',\n",
       " 'reporting',\n",
       " 'channel',\n",
       " 'for',\n",
       " 'employees',\n",
       " ',',\n",
       " 'as',\n",
       " 'well',\n",
       " 'as',\n",
       " 'create',\n",
       " 'an',\n",
       " '\"',\n",
       " 'anti',\n",
       " '-',\n",
       " 'sexual',\n",
       " 'harassment',\n",
       " 'policy',\n",
       " '\"',\n",
       " 'that',\n",
       " 'will',\n",
       " 'include',\n",
       " 'input',\n",
       " 'from',\n",
       " 'experts',\n",
       " 'and',\n",
       " 'employees',\n",
       " '.',\n",
       " 'Zhang',\n",
       " 'also',\n",
       " 'acknowledged',\n",
       " 'that',\n",
       " 'the',\n",
       " 'incident',\n",
       " 'highlights',\n",
       " 'what',\n",
       " 'he',\n",
       " 'called',\n",
       " 'a',\n",
       " 'culture',\n",
       " 'of',\n",
       " '\"',\n",
       " 'forced',\n",
       " 'drinking',\n",
       " ',\"',\n",
       " 'referring',\n",
       " 'to',\n",
       " 'alcohol',\n",
       " '-',\n",
       " 'heavy',\n",
       " 'events',\n",
       " 'that',\n",
       " 'are',\n",
       " 'popular',\n",
       " 'in',\n",
       " 'China',\n",
       " 'to',\n",
       " 'secure',\n",
       " 'business',\n",
       " 'deals',\n",
       " 'or',\n",
       " 'build',\n",
       " 'partnerships',\n",
       " '.',\n",
       " '\"',\n",
       " 'Although',\n",
       " 'the',\n",
       " 'police',\n",
       " 'are',\n",
       " 'still',\n",
       " 'investigating',\n",
       " 'the',\n",
       " 'specific',\n",
       " 'circumstances',\n",
       " 'of',\n",
       " 'the',\n",
       " 'dinner',\n",
       " 'that',\n",
       " 'day',\n",
       " ',',\n",
       " 'we',\n",
       " 'are',\n",
       " 'staunchly',\n",
       " 'opposed',\n",
       " 'to',\n",
       " 'the',\n",
       " 'ugly',\n",
       " 'forced',\n",
       " 'drinking',\n",
       " 'culture',\n",
       " ',\"',\n",
       " 'he',\n",
       " 'wrote',\n",
       " '.',\n",
       " '\"',\n",
       " 'Regardless',\n",
       " 'of',\n",
       " 'gender',\n",
       " ',',\n",
       " 'whether',\n",
       " 'it',\n",
       " 'is',\n",
       " 'a',\n",
       " 'request',\n",
       " 'made',\n",
       " 'by',\n",
       " 'a',\n",
       " 'customer',\n",
       " 'or',\n",
       " 'a',\n",
       " 'supervisor',\n",
       " ',',\n",
       " 'our',\n",
       " 'employees',\n",
       " 'are',\n",
       " 'empowered',\n",
       " 'to',\n",
       " 'reject',\n",
       " 'it',\n",
       " '.\"',\n",
       " 'The',\n",
       " 'scandal',\n",
       " \"'\",\n",
       " 's',\n",
       " 'rapid',\n",
       " 'spread',\n",
       " 'on',\n",
       " 'social',\n",
       " 'media',\n",
       " '—',\n",
       " 'along',\n",
       " 'with',\n",
       " 'the',\n",
       " 'public',\n",
       " 'outrage',\n",
       " 'that',\n",
       " 'ensued',\n",
       " '—',\n",
       " 'comes',\n",
       " 'as',\n",
       " 'major',\n",
       " 'firms',\n",
       " ',',\n",
       " 'including',\n",
       " 'Alibaba',\n",
       " ',',\n",
       " 'have',\n",
       " 'faced',\n",
       " 'huge',\n",
       " 'regulatory',\n",
       " 'pressure',\n",
       " '.',\n",
       " 'As',\n",
       " 'President',\n",
       " 'Xi',\n",
       " 'Jinping',\n",
       " 'increasingly',\n",
       " 'emphasizes',\n",
       " 'the',\n",
       " 'ruling',\n",
       " 'Communist',\n",
       " 'Party',\n",
       " \"'\",\n",
       " 's',\n",
       " 'dominant',\n",
       " 'role',\n",
       " 'in',\n",
       " 'every',\n",
       " 'aspect',\n",
       " 'of',\n",
       " 'China',\n",
       " \"'\",\n",
       " 's',\n",
       " 'economy',\n",
       " 'and',\n",
       " 'society',\n",
       " ',',\n",
       " 'regulators',\n",
       " 'have',\n",
       " 'targeted',\n",
       " 'tech',\n",
       " ',',\n",
       " 'education',\n",
       " 'and',\n",
       " 'other',\n",
       " 'businesses',\n",
       " 'with',\n",
       " 'fines',\n",
       " 'and',\n",
       " 'restrictions',\n",
       " '.',\n",
       " 'Complaints',\n",
       " 'about',\n",
       " 'work',\n",
       " 'culture',\n",
       " 'play',\n",
       " 'into',\n",
       " 'that',\n",
       " 'scrutiny',\n",
       " '.',\n",
       " 'Pinduoduo',\n",
       " ',',\n",
       " 'an',\n",
       " 'e',\n",
       " '-',\n",
       " 'commerce',\n",
       " 'firm',\n",
       " 'and',\n",
       " 'rival',\n",
       " 'to',\n",
       " 'Alibaba',\n",
       " ',',\n",
       " 'faced',\n",
       " 'intense',\n",
       " 'public',\n",
       " 'backlash',\n",
       " 'earlier',\n",
       " 'this',\n",
       " 'year',\n",
       " 'over',\n",
       " 'accusations',\n",
       " 'that',\n",
       " 'it',\n",
       " 'overworks',\n",
       " 'its',\n",
       " 'employees',\n",
       " 'after',\n",
       " 'two',\n",
       " 'of',\n",
       " 'its',\n",
       " 'employees',\n",
       " 'died',\n",
       " 'unexpectedly',\n",
       " ',',\n",
       " 'including',\n",
       " 'a',\n",
       " 'man',\n",
       " 'who',\n",
       " 'died',\n",
       " 'by',\n",
       " 'suicide',\n",
       " '.',\n",
       " 'Chinese',\n",
       " 'social',\n",
       " 'media',\n",
       " 'users',\n",
       " 'started',\n",
       " 'calling',\n",
       " 'out',\n",
       " 'the',\n",
       " 'deaths',\n",
       " 'as',\n",
       " 'emblematic',\n",
       " 'of',\n",
       " 'a',\n",
       " 'troublesome',\n",
       " 'work',\n",
       " 'culture',\n",
       " ',',\n",
       " 'and',\n",
       " 'a',\n",
       " 'former',\n",
       " 'software',\n",
       " 'engineer',\n",
       " 'at',\n",
       " 'the',\n",
       " 'company',\n",
       " 'escalated',\n",
       " 'criticisms',\n",
       " 'in',\n",
       " 'several',\n",
       " 'posts',\n",
       " 'where',\n",
       " 'he',\n",
       " 'accused',\n",
       " ...]"
      ]
     },
     "execution_count": 48,
     "metadata": {},
     "output_type": "execute_result"
    }
   ],
   "source": [
    "tokens = WordPunctTokenizer().tokenize(content)\n",
    "tokens"
   ]
  },
  {
   "cell_type": "markdown",
   "metadata": {},
   "source": [
    "Remove stopwords and non alphabetic words then we will set every word in lower case. There are gonna be two or more occurences for one word - ```like and Like```, if we don't set words to lower case. That is why we want every single word to be in lower case so the analysis will be more accurate."
   ]
  },
  {
   "cell_type": "code",
   "execution_count": 49,
   "metadata": {},
   "outputs": [],
   "source": [
    "def get_meaningful_words(words):\n",
    "    meaningful_words = []\n",
    "    for w in words:\n",
    "        if w.lower() not in stopwords.words('english') and w.lower().isalpha():\n",
    "            meaningful_words.append(w.lower())\n",
    "    return meaningful_words"
   ]
  },
  {
   "cell_type": "code",
   "execution_count": 50,
   "metadata": {},
   "outputs": [
    {
     "data": {
      "text/plain": [
       "['company',\n",
       " 'monday',\n",
       " 'said',\n",
       " 'fired',\n",
       " 'employee',\n",
       " 'accused',\n",
       " 'sexually',\n",
       " 'assaulting',\n",
       " 'woman',\n",
       " 'also',\n",
       " 'works',\n",
       " 'alibaba',\n",
       " 'baba',\n",
       " 'man',\n",
       " 'confessed',\n",
       " 'actions',\n",
       " 'alibaba',\n",
       " 'deemed',\n",
       " 'serious',\n",
       " 'violation',\n",
       " 'company',\n",
       " 'policy',\n",
       " 'according',\n",
       " 'memo',\n",
       " 'sent',\n",
       " 'alibaba',\n",
       " 'group',\n",
       " 'chairman',\n",
       " 'ceo',\n",
       " 'daniel',\n",
       " 'zhang',\n",
       " 'employees',\n",
       " 'two',\n",
       " 'senior',\n",
       " 'employees',\n",
       " 'also',\n",
       " 'resigned',\n",
       " 'failed',\n",
       " 'prioritize',\n",
       " 'employee',\n",
       " 'protection',\n",
       " 'according',\n",
       " 'zhang',\n",
       " 'memo',\n",
       " 'alibaba',\n",
       " 'group',\n",
       " 'zero',\n",
       " 'tolerance',\n",
       " 'policy',\n",
       " 'sexual',\n",
       " 'misconduct',\n",
       " 'ensuring',\n",
       " 'safe',\n",
       " 'workplace',\n",
       " 'employees',\n",
       " 'alibaba',\n",
       " 'top',\n",
       " 'priority',\n",
       " 'company',\n",
       " 'spokesperson',\n",
       " 'said',\n",
       " 'statement',\n",
       " 'cnn',\n",
       " 'business',\n",
       " 'allegations',\n",
       " 'widely',\n",
       " 'circulated',\n",
       " 'chinese',\n",
       " 'social',\n",
       " 'media',\n",
       " 'weekend',\n",
       " 'rocked',\n",
       " 'alibaba',\n",
       " 'time',\n",
       " 'chinese',\n",
       " 'tech',\n",
       " 'companies',\n",
       " 'already',\n",
       " 'facing',\n",
       " 'incredible',\n",
       " 'scrutiny',\n",
       " 'chinese',\n",
       " 'regulators',\n",
       " 'business',\n",
       " 'claims',\n",
       " 'triggered',\n",
       " 'public',\n",
       " 'outcry',\n",
       " 'many',\n",
       " 'criticized',\n",
       " 'company',\n",
       " 'handling',\n",
       " 'situation',\n",
       " 'controversy',\n",
       " 'started',\n",
       " 'post',\n",
       " 'allegedly',\n",
       " 'written',\n",
       " 'victim',\n",
       " 'identify',\n",
       " 'published',\n",
       " 'internal',\n",
       " 'alibaba',\n",
       " 'website',\n",
       " 'circulated',\n",
       " 'chinese',\n",
       " 'social',\n",
       " 'media',\n",
       " 'website',\n",
       " 'weibo',\n",
       " 'according',\n",
       " 'screenshots',\n",
       " 'word',\n",
       " 'account',\n",
       " 'woman',\n",
       " 'claimed',\n",
       " 'assaulted',\n",
       " 'supervisor',\n",
       " 'business',\n",
       " 'trip',\n",
       " 'jinan',\n",
       " 'city',\n",
       " 'eastern',\n",
       " 'china',\n",
       " 'says',\n",
       " 'drunk',\n",
       " 'male',\n",
       " 'leader',\n",
       " 'even',\n",
       " 'entered',\n",
       " 'hotel',\n",
       " 'room',\n",
       " 'four',\n",
       " 'times',\n",
       " 'night',\n",
       " 'condom',\n",
       " 'assaulted',\n",
       " 'typed',\n",
       " 'lines',\n",
       " 'control',\n",
       " 'broke',\n",
       " 'tears',\n",
       " 'never',\n",
       " 'thought',\n",
       " 'would',\n",
       " 'experience',\n",
       " 'wrote',\n",
       " 'think',\n",
       " 'feels',\n",
       " 'like',\n",
       " 'nightmare',\n",
       " 'one',\n",
       " 'makes',\n",
       " 'terrified',\n",
       " 'scared',\n",
       " 'helpless',\n",
       " 'helpless',\n",
       " 'nightmare',\n",
       " 'cnn',\n",
       " 'business',\n",
       " 'cannot',\n",
       " 'confirm',\n",
       " 'authenticity',\n",
       " 'post',\n",
       " 'post',\n",
       " 'exploded',\n",
       " 'chinese',\n",
       " 'social',\n",
       " 'media',\n",
       " 'topics',\n",
       " 'related',\n",
       " 'incident',\n",
       " 'viewed',\n",
       " 'million',\n",
       " 'times',\n",
       " 'weibo',\n",
       " 'generating',\n",
       " 'discussion',\n",
       " 'posts',\n",
       " 'commenters',\n",
       " 'accused',\n",
       " 'alibaba',\n",
       " 'failing',\n",
       " 'protect',\n",
       " 'rights',\n",
       " 'employees',\n",
       " 'woman',\n",
       " 'allegedly',\n",
       " 'claimed',\n",
       " 'company',\n",
       " 'brushed',\n",
       " 'concerns',\n",
       " 'reported',\n",
       " 'come',\n",
       " 'still',\n",
       " 'female',\n",
       " 'employees',\n",
       " 'pushed',\n",
       " 'pressured',\n",
       " 'leaders',\n",
       " 'drink',\n",
       " 'violated',\n",
       " 'alibaba',\n",
       " 'culture',\n",
       " 'wrote',\n",
       " 'one',\n",
       " 'weibo',\n",
       " 'user',\n",
       " 'really',\n",
       " 'hope',\n",
       " 'results',\n",
       " 'investigation',\n",
       " 'become',\n",
       " 'clear',\n",
       " 'soon',\n",
       " 'possible',\n",
       " 'large',\n",
       " 'company',\n",
       " 'must',\n",
       " 'protect',\n",
       " 'employees',\n",
       " 'sunday',\n",
       " 'police',\n",
       " 'jinan',\n",
       " 'announced',\n",
       " 'weibo',\n",
       " 'launched',\n",
       " 'probe',\n",
       " 'case',\n",
       " 'police',\n",
       " 'actively',\n",
       " 'investigating',\n",
       " 'matter',\n",
       " 'collecting',\n",
       " 'evidence',\n",
       " 'said',\n",
       " 'statement',\n",
       " 'accused',\n",
       " 'charged',\n",
       " 'crime',\n",
       " 'memo',\n",
       " 'employees',\n",
       " 'monday',\n",
       " 'zhang',\n",
       " 'said',\n",
       " 'employee',\n",
       " 'confessed',\n",
       " 'intimate',\n",
       " 'acts',\n",
       " 'woman',\n",
       " 'inebriated',\n",
       " 'violating',\n",
       " 'company',\n",
       " 'policy',\n",
       " 'whether',\n",
       " 'committed',\n",
       " 'rape',\n",
       " 'indecency',\n",
       " 'violates',\n",
       " 'law',\n",
       " 'determined',\n",
       " 'law',\n",
       " 'enforcement',\n",
       " 'zhang',\n",
       " 'added',\n",
       " 'memo',\n",
       " 'posted',\n",
       " 'publicly',\n",
       " 'company',\n",
       " 'news',\n",
       " 'website',\n",
       " 'fired',\n",
       " 'never',\n",
       " 'rehired',\n",
       " 'zhang',\n",
       " 'wrote',\n",
       " 'two',\n",
       " 'executives',\n",
       " 'including',\n",
       " 'president',\n",
       " 'alibaba',\n",
       " 'neighborhood',\n",
       " 'retail',\n",
       " 'group',\n",
       " 'resigned',\n",
       " 'handling',\n",
       " 'incident',\n",
       " 'according',\n",
       " 'zhang',\n",
       " 'added',\n",
       " 'woman',\n",
       " 'reported',\n",
       " 'incident',\n",
       " 'company',\n",
       " 'august',\n",
       " 'believe',\n",
       " 'head',\n",
       " 'business',\n",
       " 'owner',\n",
       " 'business',\n",
       " 'team',\n",
       " 'culture',\n",
       " 'zhang',\n",
       " 'wrote',\n",
       " 'adding',\n",
       " 'woman',\n",
       " 'reported',\n",
       " 'horrendous',\n",
       " 'act',\n",
       " 'make',\n",
       " 'timely',\n",
       " 'decisions',\n",
       " 'took',\n",
       " 'appropriate',\n",
       " 'action',\n",
       " 'incident',\n",
       " 'caused',\n",
       " 'tremendous',\n",
       " 'harm',\n",
       " 'everything',\n",
       " 'take',\n",
       " 'care',\n",
       " 'zhang',\n",
       " 'wrote',\n",
       " 'zhang',\n",
       " 'added',\n",
       " 'company',\n",
       " 'chief',\n",
       " 'people',\n",
       " 'officer',\n",
       " 'also',\n",
       " 'reprimanded',\n",
       " 'said',\n",
       " 'company',\n",
       " 'establish',\n",
       " 'dedicated',\n",
       " 'reporting',\n",
       " 'channel',\n",
       " 'employees',\n",
       " 'well',\n",
       " 'create',\n",
       " 'anti',\n",
       " 'sexual',\n",
       " 'harassment',\n",
       " 'policy',\n",
       " 'include',\n",
       " 'input',\n",
       " 'experts',\n",
       " 'employees',\n",
       " 'zhang',\n",
       " 'also',\n",
       " 'acknowledged',\n",
       " 'incident',\n",
       " 'highlights',\n",
       " 'called',\n",
       " 'culture',\n",
       " 'forced',\n",
       " 'drinking',\n",
       " 'referring',\n",
       " 'alcohol',\n",
       " 'heavy',\n",
       " 'events',\n",
       " 'popular',\n",
       " 'china',\n",
       " 'secure',\n",
       " 'business',\n",
       " 'deals',\n",
       " 'build',\n",
       " 'partnerships',\n",
       " 'although',\n",
       " 'police',\n",
       " 'still',\n",
       " 'investigating',\n",
       " 'specific',\n",
       " 'circumstances',\n",
       " 'dinner',\n",
       " 'day',\n",
       " 'staunchly',\n",
       " 'opposed',\n",
       " 'ugly',\n",
       " 'forced',\n",
       " 'drinking',\n",
       " 'culture',\n",
       " 'wrote',\n",
       " 'regardless',\n",
       " 'gender',\n",
       " 'whether',\n",
       " 'request',\n",
       " 'made',\n",
       " 'customer',\n",
       " 'supervisor',\n",
       " 'employees',\n",
       " 'empowered',\n",
       " 'reject',\n",
       " 'scandal',\n",
       " 'rapid',\n",
       " 'spread',\n",
       " 'social',\n",
       " 'media',\n",
       " 'along',\n",
       " 'public',\n",
       " 'outrage',\n",
       " 'ensued',\n",
       " 'comes',\n",
       " 'major',\n",
       " 'firms',\n",
       " 'including',\n",
       " 'alibaba',\n",
       " 'faced',\n",
       " 'huge',\n",
       " 'regulatory',\n",
       " 'pressure',\n",
       " 'president',\n",
       " 'xi',\n",
       " 'jinping',\n",
       " 'increasingly',\n",
       " 'emphasizes',\n",
       " 'ruling',\n",
       " 'communist',\n",
       " 'party',\n",
       " 'dominant',\n",
       " 'role',\n",
       " 'every',\n",
       " 'aspect',\n",
       " 'china',\n",
       " 'economy',\n",
       " 'society',\n",
       " 'regulators',\n",
       " 'targeted',\n",
       " 'tech',\n",
       " 'education',\n",
       " 'businesses',\n",
       " 'fines',\n",
       " 'restrictions',\n",
       " 'complaints',\n",
       " 'work',\n",
       " 'culture',\n",
       " 'play',\n",
       " 'scrutiny',\n",
       " 'pinduoduo',\n",
       " 'e',\n",
       " 'commerce',\n",
       " 'firm',\n",
       " 'rival',\n",
       " 'alibaba',\n",
       " 'faced',\n",
       " 'intense',\n",
       " 'public',\n",
       " 'backlash',\n",
       " 'earlier',\n",
       " 'year',\n",
       " 'accusations',\n",
       " 'overworks',\n",
       " 'employees',\n",
       " 'two',\n",
       " 'employees',\n",
       " 'died',\n",
       " 'unexpectedly',\n",
       " 'including',\n",
       " 'man',\n",
       " 'died',\n",
       " 'suicide',\n",
       " 'chinese',\n",
       " 'social',\n",
       " 'media',\n",
       " 'users',\n",
       " 'started',\n",
       " 'calling',\n",
       " 'deaths',\n",
       " 'emblematic',\n",
       " 'troublesome',\n",
       " 'work',\n",
       " 'culture',\n",
       " 'former',\n",
       " 'software',\n",
       " 'engineer',\n",
       " 'company',\n",
       " 'escalated',\n",
       " 'criticisms',\n",
       " 'several',\n",
       " 'posts',\n",
       " 'accused',\n",
       " 'company',\n",
       " 'overworking',\n",
       " 'employees',\n",
       " 'company',\n",
       " 'respond',\n",
       " 'time',\n",
       " 'questions',\n",
       " 'allegations',\n",
       " 'made',\n",
       " 'work',\n",
       " 'culture',\n",
       " 'say',\n",
       " 'set',\n",
       " 'team',\n",
       " 'provide',\n",
       " 'psychological',\n",
       " 'counseling',\n",
       " 'following',\n",
       " 'suicide',\n",
       " 'worker']"
      ]
     },
     "execution_count": 50,
     "metadata": {},
     "output_type": "execute_result"
    }
   ],
   "source": [
    "meaningful_words = get_meaningful_words(tokens)\n",
    "meaningful_words"
   ]
  },
  {
   "cell_type": "markdown",
   "metadata": {},
   "source": [
    "Ratio of meaningful words compared to all words in text is:"
   ]
  },
  {
   "cell_type": "code",
   "execution_count": 51,
   "metadata": {},
   "outputs": [],
   "source": [
    "def meaningful_to_all_words(meaningful_words, text):\n",
    "    return len(meaningful_words) / len(text.split())"
   ]
  },
  {
   "cell_type": "code",
   "execution_count": 52,
   "metadata": {},
   "outputs": [
    {
     "data": {
      "text/plain": [
       "0.5615212527964206"
      ]
     },
     "execution_count": 52,
     "metadata": {},
     "output_type": "execute_result"
    }
   ],
   "source": [
    "meaningful_to_all_words(meaningful_words, content)"
   ]
  },
  {
   "cell_type": "markdown",
   "metadata": {},
   "source": [
    "This result shows how useful it is tokenize text, remove stop words, punctuation, and change uppercase to lowercase. This way we save time and memory. Mostly time, because if we prepare the data for some kind of modeling we will have less information, but at the expense of more accurate and specific data for the text."
   ]
  },
  {
   "cell_type": "markdown",
   "metadata": {},
   "source": [
    "Create FreqList with cleaned words."
   ]
  },
  {
   "cell_type": "code",
   "execution_count": 53,
   "metadata": {},
   "outputs": [
    {
     "data": {
      "text/plain": [
       "FreqDist({'company': 14, 'employees': 13, 'alibaba': 12, 'zhang': 10, 'business': 7, 'culture': 7, 'woman': 6, 'chinese': 6, 'wrote': 6, 'said': 5, ...})"
      ]
     },
     "execution_count": 53,
     "metadata": {},
     "output_type": "execute_result"
    }
   ],
   "source": [
    "freq_words = nltk.FreqDist(meaningful_words)\n",
    "freq_words"
   ]
  },
  {
   "cell_type": "markdown",
   "metadata": {},
   "source": [
    "Let's take a closer look at the dictionary of common words. In fact, let's plot some of them using barchart. Let's look at a small hypothesis. Are there words that are outliers. That is, whether there are several words that are repeated more than other words"
   ]
  },
  {
   "cell_type": "code",
   "execution_count": 54,
   "metadata": {},
   "outputs": [],
   "source": [
    "def plot_most_frequent_words(words_number, freq_words):\n",
    "    most_common_words = freq_words.most_common(words_number)\n",
    "    plt.bar([w[0] for w in most_common_words], [w[1] for w in most_common_words])\n",
    "\n",
    "    plt.title(f\"Top {words_number} most frequent words count\")\n",
    "    plt.xlabel(\"Words\")\n",
    "    plt.ylabel(\"Count\")\n",
    "    plt.xticks(rotation=45)\n",
    "    plt.show()"
   ]
  },
  {
   "cell_type": "code",
   "execution_count": 55,
   "metadata": {},
   "outputs": [
    {
     "data": {
      "image/png": "[encoded data removed]",
      "text/plain": [
       "<Figure size 432x288 with 1 Axes>"
      ]
     },
     "metadata": {
      "needs_background": "light"
     },
     "output_type": "display_data"
    }
   ],
   "source": [
    "freq_words\n",
    "number_words = 15\n",
    "plot_most_frequent_words(number_words, freq_words)"
   ]
  },
  {
   "cell_type": "markdown",
   "metadata": {},
   "source": [
    "After the observation, the hypothesis seems to be true, but let's set the words by their count"
   ]
  },
  {
   "cell_type": "code",
   "execution_count": 56,
   "metadata": {},
   "outputs": [
    {
     "data": {
      "image/png": "[encoded data removed]",
      "text/plain": [
       "<Figure size 432x288 with 1 Axes>"
      ]
     },
     "metadata": {
      "needs_background": "light"
     },
     "output_type": "display_data"
    }
   ],
   "source": [
    "words_freq_count = collections.Counter(freq_words.values())\n",
    "plt.bar(words_freq_count.keys(), words_freq_count.values())\n",
    "\n",
    "plt.title(f\"Words count distribution\")\n",
    "plt.xlabel(\"Word repetition in text\")\n",
    "plt.ylabel(\"Count of words with the same repetition in the text\")\n",
    "plt.show()"
   ]
  },
  {
   "cell_type": "markdown",
   "metadata": {},
   "source": [
    "Yes, we can now conclude that there are several words that are repeated a lot in the text"
   ]
  },
  {
   "cell_type": "code",
   "execution_count": 57,
   "metadata": {
    "scrolled": true
   },
   "outputs": [
    {
     "data": {
      "text/plain": [
       "['The company on Monday said it has fired an employee after he was accused of sexually assaulting a woman who also works at Alibaba (BABA).',\n",
       " 'The man confessed to actions that Alibaba deemed in serious violation of company policy according to a memo sent by Alibaba Group chairman and CEO Daniel Zhang to employees.',\n",
       " \"Two senior employees also resigned after they failed to prioritize employee protection according to Zhang's memo.\",\n",
       " \"Alibaba Group has a zero-tolerance policy against sexual misconduct and ensuring a safe workplace for all our employees is Alibaba's top priority a company spokesperson said in a statement to CNN Business.\",\n",
       " 'The allegations — which were widely circulated on Chinese social media over the weekend — have rocked Alibaba at a time when it and other Chinese tech companies are already facing incredible scrutiny from Chinese regulators over their business.',\n",
       " 'The claims triggered public outcry as many criticized the company for its handling of the situation.',\n",
       " 'The controversy started after a post — allegedly written by the victim who did not identify herself and published on an internal Alibaba website — circulated on the Chinese social media website Weibo.',\n",
       " 'According to screenshots of the 8000-word account the woman claimed she was assaulted by her supervisor during a business trip to Jinan a city in eastern China while she says she was drunk.',\n",
       " 'The male leader even entered my hotel room four times that night with condom and assaulted me!!!!',\n",
       " \"When I typed the lines above I couldn't control myself and I broke into tears.\",\n",
       " 'I never thought that I would have such an experience she wrote.',\n",
       " 'When I think about it now it just feels like a nightmare one that makes you terrified scared helpless helpless nightmare!',\n",
       " 'CNN Business cannot confirm the authenticity of the post.',\n",
       " 'The post has exploded on Chinese social media.',\n",
       " 'Topics related to the incident have been viewed 850 million times on Weibo generating more than 510000 discussion posts.',\n",
       " 'Some commenters accused Alibaba of failing to protect the rights of its employees.',\n",
       " 'The woman allegedly claimed that the company brushed off her concerns when she reported them.',\n",
       " 'How come there are still female employees who have been pushed and pressured by their leaders to drink and are violated.',\n",
       " 'Is this the Alibaba culture?',\n",
       " 'wrote one Weibo user.',\n",
       " 'I really hope the results of the investigation can become clear as soon as possible.',\n",
       " 'Such a large company must protect its employees.',\n",
       " 'On Sunday police in Jinan announced on Weibo that they had launched a probe into the case.',\n",
       " 'The police are actively investigating the matter and collecting evidence they said in a statement.',\n",
       " 'The accused has not been charged with any crime.',\n",
       " 'In the memo to employees on Monday Zhang said the employee confessed to intimate acts with a woman who was inebriated violating company policy.',\n",
       " \"Whether he has committed rape or indecency that violates the law will be determined by law enforcement Zhang added in the memo which was posted publicly on the company's news website.\",\n",
       " 'He will be fired and never be rehired Zhang wrote.',\n",
       " \"Two executives including the president of Alibaba's Neighborhood Retail group have resigned over the handling of the incident according to Zhang who added that the woman reported the incident to the company August 2.\",\n",
       " \"We believe that the head of the business is both the owner of the business and the team's culture Zhang wrote adding that when the woman reported a horrendous act ... they did not make timely decisions nor took appropriate action.\",\n",
       " 'This incident has caused tremendous harm to her.',\n",
       " 'We will do everything we can to take care of her Zhang wrote.',\n",
       " \"Zhang added that the company's chief people officer has also been reprimanded and said that the company will establish a dedicated reporting channel for employees as well as create an anti-sexual harassment policy that will include input from experts and employees.\",\n",
       " 'Zhang also acknowledged that the incident highlights what he called a culture of forced drinking referring to alcohol-heavy events that are popular in China to secure business deals or build partnerships.',\n",
       " 'Although the police are still investigating the specific circumstances of the dinner that day we are staunchly opposed to the ugly forced drinking culture he wrote.',\n",
       " 'Regardless of gender whether it is a request made by a customer or a supervisor our employees are empowered to reject it.',\n",
       " \"The scandal's rapid spread on social media — along with the public outrage that ensued — comes as major firms including Alibaba have faced huge regulatory pressure.\",\n",
       " \"As President Xi Jinping increasingly emphasizes the ruling Communist Party's dominant role in every aspect of China's economy and society regulators have targeted tech education and other businesses with fines and restrictions.\",\n",
       " 'Complaints about work culture play into that scrutiny.',\n",
       " 'Pinduoduo an e-commerce firm and rival to Alibaba faced intense public backlash earlier this year  over accusations that it overworks its employees after two of its employees died unexpectedly including a man who died by suicide.',\n",
       " 'Chinese social media users started calling out the deaths as emblematic of a troublesome work culture and a former software engineer at the company escalated criticisms in several posts where he accused the company of overworking its employees.',\n",
       " 'The company did not respond at the time to questions about the allegations made against its work culture but did say that it had set up a team to provide psychological counseling following the suicide of a worker.']"
      ]
     },
     "execution_count": 57,
     "metadata": {},
     "output_type": "execute_result"
    }
   ],
   "source": [
    "sentences = sent_tokenize(text.replace('\"', '').replace(',', ''))\n",
    "sentences"
   ]
  },
  {
   "cell_type": "code",
   "execution_count": 58,
   "metadata": {},
   "outputs": [],
   "source": [
    "def get_sentences_score(sentences, freq_words):\n",
    "    sentence_value = dict()\n",
    "\n",
    "    for sentence in sentences:\n",
    "        sentence = sentence[:-1]\n",
    "        words = sentence.split()\n",
    "        for w in words:\n",
    "            w = w.lower()\n",
    "            if w in freq_words.keys():\n",
    "                if sentence in sentence_value.keys():\n",
    "                    sentence_value[sentence] += freq_words[w]\n",
    "                else:\n",
    "                    sentence_value[sentence] = freq_words[w]\n",
    "    return sentence_value"
   ]
  },
  {
   "cell_type": "code",
   "execution_count": 59,
   "metadata": {},
   "outputs": [
    {
     "data": {
      "text/plain": [
       "dict_values([55, 88, 37, 71, 66, 25, 53, 35, 13, 5, 11, 16, 15, 20, 19, 34, 29, 22, 19, 13, 8, 31, 14, 16, 6, 67, 35, 21, 69, 58, 8, 19, 80, 50, 32, 25, 41, 23, 14, 67, 87, 43])"
      ]
     },
     "execution_count": 59,
     "metadata": {},
     "output_type": "execute_result"
    }
   ],
   "source": [
    "sentences_score = get_sentences_score(sentences, freq_words)\n",
    "sentences_score.values()"
   ]
  },
  {
   "cell_type": "markdown",
   "metadata": {},
   "source": [
    "We want to get words 'values' for count of words in sentence. Because in too long sentence we expect bigger value just because there are more words. To solve this problem we will divide words score in the sentence by meaningful words count in this sentence."
   ]
  },
  {
   "cell_type": "code",
   "execution_count": 60,
   "metadata": {},
   "outputs": [],
   "source": [
    "def get_sentence_score_frequency(sentence_value, meaningful_words):\n",
    "    word_score_frequency = {}\n",
    "    for k, v in sentence_value.items():\n",
    "        meaningful_words_count = 0\n",
    "        for w in k.split():\n",
    "            if w.lower() in meaningful_words:\n",
    "                meaningful_words_count += 1\n",
    "        word_score_frequency[k] = v / meaningful_words_count\n",
    "    return word_score_frequency"
   ]
  },
  {
   "cell_type": "code",
   "execution_count": 61,
   "metadata": {
    "scrolled": true
   },
   "outputs": [
    {
     "name": "stdout",
     "output_type": "stream",
     "text": [
      "{'The company on Monday said it has fired an employee after he was accused of sexually assaulting a woman who also works at Alibaba (BABA)': 4.583333333333333, 'The man confessed to actions that Alibaba deemed in serious violation of company policy according to a memo sent by Alibaba Group chairman and CEO Daniel Zhang to employees': 4.631578947368421, \"Two senior employees also resigned after they failed to prioritize employee protection according to Zhang's memo\": 3.3636363636363638, \"Alibaba Group has a zero-tolerance policy against sexual misconduct and ensuring a safe workplace for all our employees is Alibaba's top priority a company spokesperson said in a statement to CNN Business\": 4.176470588235294, 'The allegations — which were widely circulated on Chinese social media over the weekend — have rocked Alibaba at a time when it and other Chinese tech companies are already facing incredible scrutiny from Chinese regulators over their business': 3.3, 'The claims triggered public outcry as many criticized the company for its handling of the situation': 2.7777777777777777, 'The controversy started after a post — allegedly written by the victim who did not identify herself and published on an internal Alibaba website — circulated on the Chinese social media website Weibo': 3.1176470588235294, 'According to screenshots of the 8000-word account the woman claimed she was assaulted by her supervisor during a business trip to Jinan a city in eastern China while she says she was drunk': 2.3333333333333335, 'The male leader even entered my hotel room four times that night with condom and assaulted me!!!': 1.1818181818181819, \"When I typed the lines above I couldn't control myself and I broke into tears\": 1.0, 'I never thought that I would have such an experience she wrote': 2.2, 'When I think about it now it just feels like a nightmare one that makes you terrified scared helpless helpless nightmare': 1.4545454545454546, 'CNN Business cannot confirm the authenticity of the post': 2.5, 'The post has exploded on Chinese social media': 4.0, 'Topics related to the incident have been viewed 850 million times on Weibo generating more than 510000 discussion posts': 1.9, 'Some commenters accused Alibaba of failing to protect the rights of its employees': 4.857142857142857, 'The woman allegedly claimed that the company brushed off her concerns when she reported them': 4.142857142857143, 'How come there are still female employees who have been pushed and pressured by their leaders to drink and are violated': 2.4444444444444446, 'Is this the Alibaba culture': 9.5, 'wrote one Weibo user': 3.25, 'I really hope the results of the investigation can become clear as soon as possible': 1.0, 'Such a large company must protect its employees': 6.2, 'On Sunday police in Jinan announced on Weibo that they had launched a probe into the case': 1.75, 'The police are actively investigating the matter and collecting evidence they said in a statement': 2.0, 'The accused has not been charged with any crime': 2.0, 'In the memo to employees on Monday Zhang said the employee confessed to intimate acts with a woman who was inebriated violating company policy': 4.785714285714286, \"Whether he has committed rape or indecency that violates the law will be determined by law enforcement Zhang added in the memo which was posted publicly on the company's news website\": 2.1875, 'He will be fired and never be rehired Zhang wrote': 4.2, \"Two executives including the president of Alibaba's Neighborhood Retail group have resigned over the handling of the incident according to Zhang who added that the woman reported the incident to the company August 2\": 3.8333333333333335, \"We believe that the head of the business is both the owner of the business and the team's culture Zhang wrote adding that when the woman reported a horrendous act ... they did not make timely decisions nor took appropriate action\": 3.0526315789473686, 'This incident has caused tremendous harm to her': 2.0, 'We will do everything we can to take care of her Zhang wrote': 3.8, \"Zhang added that the company's chief people officer has also been reprimanded and said that the company will establish a dedicated reporting channel for employees as well as create an anti-sexual harassment policy that will include input from experts and employees\": 3.6363636363636362, 'Zhang also acknowledged that the incident highlights what he called a culture of forced drinking referring to alcohol-heavy events that are popular in China to secure business deals or build partnerships': 2.7777777777777777, 'Although the police are still investigating the specific circumstances of the dinner that day we are staunchly opposed to the ugly forced drinking culture he wrote': 2.1333333333333333, 'Regardless of gender whether it is a request made by a customer or a supervisor our employees are empowered to reject it': 2.5, \"The scandal's rapid spread on social media — along with the public outrage that ensued — comes as major firms including Alibaba have faced huge regulatory pressure\": 2.411764705882353, \"As President Xi Jinping increasingly emphasizes the ruling Communist Party's dominant role in every aspect of China's economy and society regulators have targeted tech education and other businesses with fines and restrictions\": 1.15, 'Complaints about work culture play into that scrutiny': 2.8, 'Pinduoduo an e-commerce firm and rival to Alibaba faced intense public backlash earlier this year  over accusations that it overworks its employees after two of its employees died unexpectedly including a man who died by suicide': 3.1904761904761907, 'Chinese social media users started calling out the deaths as emblematic of a troublesome work culture and a former software engineer at the company escalated criticisms in several posts where he accused the company of overworking its employees': 3.782608695652174, 'The company did not respond at the time to questions about the allegations made against its work culture but did say that it had set up a team to provide psychological counseling following the suicide of a worker': 2.5294117647058822}\n"
     ]
    }
   ],
   "source": [
    "sentence_score_frequency = get_sentence_score_frequency(sentences_score, meaningful_words)\n",
    "print(sentence_score_frequency)"
   ]
  },
  {
   "cell_type": "markdown",
   "metadata": {},
   "source": [
    "Now the result is a little bit different. Let's plot the two results and see what are the differences between them."
   ]
  },
  {
   "cell_type": "code",
   "execution_count": 62,
   "metadata": {},
   "outputs": [],
   "source": [
    "def hist_plot(score, color, density):\n",
    "    plt.hist(score, color=color, density=density)\n",
    "    \n",
    "    plt.title(f\"Score values\")\n",
    "    plt.xlabel(\"Points for sentence\")\n",
    "    plt.ylabel(\"Sentences count\")\n",
    "    \n",
    "    plt.show()"
   ]
  },
  {
   "cell_type": "code",
   "execution_count": 63,
   "metadata": {},
   "outputs": [
    {
     "data": {
      "image/png": "[encoded data removed]",
      "text/plain": [
       "<Figure size 432x288 with 1 Axes>"
      ]
     },
     "metadata": {
      "needs_background": "light"
     },
     "output_type": "display_data"
    },
    {
     "data": {
      "image/png": "[encoded data removed]",
      "text/plain": [
       "<Figure size 432x288 with 1 Axes>"
      ]
     },
     "metadata": {
      "needs_background": "light"
     },
     "output_type": "display_data"
    }
   ],
   "source": [
    "hist_plot(sentences_score.values(), 'b', True)\n",
    "hist_plot(sentence_score_frequency.values(), 'r', True)"
   ]
  },
  {
   "cell_type": "markdown",
   "metadata": {},
   "source": [
    "We can see that their distributions, peeks and mean value are different. Now let's do another plot.\n"
   ]
  },
  {
   "cell_type": "code",
   "execution_count": 191,
   "metadata": {},
   "outputs": [],
   "source": [
    "def compare_two_score_lists(first_score, transformed_score):\n",
    "    first_score = np.array(list(first_score))\n",
    "    first_score = np.log10(first_score)\n",
    "    \n",
    "    transformed_score = np.array(list(transformed_score))\n",
    "    transformed_score = np.log10(transformed_score)\n",
    "    plt.hist(first_score, alpha=0.7)\n",
    "    plt.hist(transformed_score, color='r', alpha=0.6)\n",
    "    \n",
    "    plt.title(f\"First score values\")\n",
    "    plt.xlabel(\"Sentences count\")\n",
    "    plt.ylabel(\"Points for sentence\")\n",
    "    plt.show()"
   ]
  },
  {
   "cell_type": "code",
   "execution_count": 192,
   "metadata": {},
   "outputs": [
    {
     "data": {
      "image/png": "[encoded data removed]",
      "text/plain": [
       "<Figure size 432x288 with 1 Axes>"
      ]
     },
     "metadata": {
      "needs_background": "light"
     },
     "output_type": "display_data"
    }
   ],
   "source": [
    "compare_two_score_lists(sentences_score.values(), sentence_score_frequency.values())"
   ]
  },
  {
   "cell_type": "code",
   "execution_count": 66,
   "metadata": {},
   "outputs": [
    {
     "data": {
      "text/plain": [
       "array([[1.       , 0.3476571],\n",
       "       [0.3476571, 1.       ]])"
      ]
     },
     "execution_count": 66,
     "metadata": {},
     "output_type": "execute_result"
    }
   ],
   "source": [
    "np.corrcoef(list(sentences_score.values()), list(sentence_score_frequency.values()))"
   ]
  },
  {
   "cell_type": "markdown",
   "metadata": {},
   "source": [
    "I used logaritm to normalize score in range $ [0, 2] $, because our function valuse(scores) are with different ranges - sentence_score $\\in [0, 10] $ and sentence_score_frequency $\\in [0, 90] $ After looking at the plot bar chart it is obvious that their distributions are different. Correlation between them aren'tbig enough to say that if value changes in sentences_score than it will change value from sentence_score_frequency in the same. We could conclude that behaviour of sentences_score is different from sentence_score_frequency's behaviour. So we need to perform summarization with both scores and establish which score is better."
   ]
  },
  {
   "cell_type": "code",
   "execution_count": 297,
   "metadata": {},
   "outputs": [],
   "source": [
    "def perform_summarization(score, sentences=None, words_ratio=None):\n",
    "    \n",
    "    dataframe = pd.DataFrame(list(score.items()), columns=[\"sentence\", \"score\"])\n",
    "    dataframe[\"sorted_score_index\"] = np.zeros(len(dataframe.sentence)).astype(\"int64\")\n",
    "    for i, s in enumerate(dataframe[\"score\"].sort_values(ascending=False)):\n",
    "        dataframe.loc[dataframe[\"score\"] == s, \"sorted_score_index\"] = i\n",
    "    \n",
    "    summarized_sentences_count = 0\n",
    "    \n",
    "    if sentences != None:\n",
    "        sentences_main_text = len(score.keys())\n",
    "        if sentences <= 0  or sentences > sentences_main_text:\n",
    "            print(f\"Sentences can be within 1 and {sentences_main_text}\")\n",
    "\n",
    "        summarized_sentences_count = sentences\n",
    "            \n",
    "    else:\n",
    "        if words_ratio != None:\n",
    "            for s in dataframe[\"sorted_score_index\"].sort_values().index:\n",
    "                sentence_words_count = len(dataframe.loc[s, \"sentence\"].split())\n",
    "                words_ratio -= sentence_words_count\n",
    "                summarized_sentences_count += 1\n",
    "                if words_ratio < 0:\n",
    "                    break\n",
    "                    \n",
    "        else:\n",
    "            print(\"Ratio arguments are none!\")\n",
    "          \n",
    "        \n",
    "    if summarized_sentences_count == 0:\n",
    "        summarized_sentences_count = 1\n",
    "        \n",
    "    summarized_text = []\n",
    "    for index in range(0, len(dataframe)):\n",
    "        if dataframe.loc[index, \"sorted_score_index\"] < summarized_sentences_count:\n",
    "             summarized_text.append(dataframe.loc[index, \"sentence\"])\n",
    "                  \n",
    "    return \". \".join(summarized_text) + \".\""
   ]
  },
  {
   "cell_type": "code",
   "execution_count": 69,
   "metadata": {},
   "outputs": [],
   "source": [
    "def print_lenght_summarized_and_content(summarized_text, content):\n",
    "    print(f\"Lenght of summarized text is {len(summarized_text)}, Count of words = {len(summarized_text.split())}. Lenght of text is {len(content)}, Count of words {len(content.split())}\")"
   ]
  },
  {
   "cell_type": "markdown",
   "metadata": {},
   "source": [
    "In this function we will get sentences score and ratio of summarization. Firstly we have to establish sentences count than get summarized text sentences by multiplying sentences count and sentences ratio. After that we will store sencenses and their scores and their sorted score index to dataframe. For every sentence, if sentence's sorted_score_index is in range $\\in [0$, summarized text sentences count $]$, append sentence to summarized text. Important think to add is that we need to start iterating through sentences in acsending order, because if we start with the sentence with the biggest score, we could lose information(context) from sentences above, if any avaliable. Second summarization method is summarizing using word_ratio. We will extract count words in top scored sentences from words ratio. Then fro every extraction we will add one sentence to summarized text, again starting from the begining."
   ]
  },
  {
   "cell_type": "code",
   "execution_count": 68,
   "metadata": {},
   "outputs": [
    {
     "data": {
      "text/plain": [
       "\"The man confessed to actions that Alibaba deemed in serious violation of company policy according to a memo sent by Alibaba Group chairman and CEO Daniel Zhang to employees. Alibaba Group has a zero-tolerance policy against sexual misconduct and ensuring a safe workplace for all our employees is Alibaba's top priority a company spokesperson said in a statement to CNN Business. The allegations — which were widely circulated on Chinese social media over the weekend — have rocked Alibaba at a time when it and other Chinese tech companies are already facing incredible scrutiny from Chinese regulators over their business. In the memo to employees on Monday Zhang said the employee confessed to intimate acts with a woman who was inebriated violating company policy. Two executives including the president of Alibaba's Neighborhood Retail group have resigned over the handling of the incident according to Zhang who added that the woman reported the incident to the company August 2. Zhang added that the company's chief people officer has also been reprimanded and said that the company will establish a dedicated reporting channel for employees as well as create an anti-sexual harassment policy that will include input from experts and employees. Pinduoduo an e-commerce firm and rival to Alibaba faced intense public backlash earlier this year  over accusations that it overworks its employees after two of its employees died unexpectedly including a man who died by suicide. Chinese social media users started calling out the deaths as emblematic of a troublesome work culture and a former software engineer at the company escalated criticisms in several posts where he accused the company of overworking its employees.\""
      ]
     },
     "execution_count": 68,
     "metadata": {},
     "output_type": "execute_result"
    }
   ],
   "source": [
    "summarized_text = perform_summarization(sentences_score, 0.2)\n",
    "summarized_text"
   ]
  },
  {
   "cell_type": "code",
   "execution_count": 70,
   "metadata": {},
   "outputs": [
    {
     "name": "stdout",
     "output_type": "stream",
     "text": [
      "Lenght of summarized text is 1726, Count of words = 273. Lenght of text is 5587, Count of words 894\n"
     ]
    }
   ],
   "source": [
    "print_lenght_summarized_and_content(summarized_text, content)"
   ]
  },
  {
   "cell_type": "markdown",
   "metadata": {},
   "source": [
    "Now let's use sentence_score_frequency as score parameter in perform_summarization function to see the differences between two extracted scores."
   ]
  },
  {
   "cell_type": "code",
   "execution_count": 71,
   "metadata": {},
   "outputs": [
    {
     "data": {
      "text/plain": [
       "\"The company on Monday said it has fired an employee after he was accused of sexually assaulting a woman who also works at Alibaba (BABA). The man confessed to actions that Alibaba deemed in serious violation of company policy according to a memo sent by Alibaba Group chairman and CEO Daniel Zhang to employees. Alibaba Group has a zero-tolerance policy against sexual misconduct and ensuring a safe workplace for all our employees is Alibaba's top priority a company spokesperson said in a statement to CNN Business. Some commenters accused Alibaba of failing to protect the rights of its employees. Is this the Alibaba culture. Such a large company must protect its employees. In the memo to employees on Monday Zhang said the employee confessed to intimate acts with a woman who was inebriated violating company policy. He will be fired and never be rehired Zhang wrote.\""
      ]
     },
     "execution_count": 71,
     "metadata": {},
     "output_type": "execute_result"
    }
   ],
   "source": [
    "summarized_text = perform_summarization(sentence_score_frequency, 0.2)\n",
    "summarized_text"
   ]
  },
  {
   "cell_type": "code",
   "execution_count": 72,
   "metadata": {},
   "outputs": [
    {
     "name": "stdout",
     "output_type": "stream",
     "text": [
      "Lenght of summarized text is 873, Count of words = 146. Lenght of text is 5587, Count of words 894\n"
     ]
    }
   ],
   "source": [
    "print_lenght_summarized_and_content(summarized_text, content)"
   ]
  },
  {
   "cell_type": "markdown",
   "metadata": {},
   "source": [
    "The problem is text lenghts are different, so we might summarize text using word lenght ratio."
   ]
  },
  {
   "cell_type": "code",
   "execution_count": 165,
   "metadata": {},
   "outputs": [
    {
     "data": {
      "text/plain": [
       "\"The man confessed to actions that Alibaba deemed in serious violation of company policy according to a memo sent by Alibaba Group chairman and CEO Daniel Zhang to employees. Alibaba Group has a zero-tolerance policy against sexual misconduct and ensuring a safe workplace for all our employees is Alibaba's top priority a company spokesperson said in a statement to CNN Business. The allegations — which were widely circulated on Chinese social media over the weekend — have rocked Alibaba at a time when it and other Chinese tech companies are already facing incredible scrutiny from Chinese regulators over their business. In the memo to employees on Monday Zhang said the employee confessed to intimate acts with a woman who was inebriated violating company policy. Two executives including the president of Alibaba's Neighborhood Retail group have resigned over the handling of the incident according to Zhang who added that the woman reported the incident to the company August 2. We believe that the head of the business is both the owner of the business and the team's culture Zhang wrote adding that when the woman reported a horrendous act ... they did not make timely decisions nor took appropriate action. Zhang added that the company's chief people officer has also been reprimanded and said that the company will establish a dedicated reporting channel for employees as well as create an anti-sexual harassment policy that will include input from experts and employees. Pinduoduo an e-commerce firm and rival to Alibaba faced intense public backlash earlier this year  over accusations that it overworks its employees after two of its employees died unexpectedly including a man who died by suicide. Chinese social media users started calling out the deaths as emblematic of a troublesome work culture and a former software engineer at the company escalated criticisms in several posts where he accused the company of overworking its employees.\""
      ]
     },
     "execution_count": 165,
     "metadata": {},
     "output_type": "execute_result"
    }
   ],
   "source": [
    "summarized_text_words_ratio_normal_score = perform_summarization(sentences_score, words_ratio=300)\n",
    "summarized_text_words_ratio_normal_score"
   ]
  },
  {
   "cell_type": "code",
   "execution_count": 166,
   "metadata": {},
   "outputs": [
    {
     "name": "stdout",
     "output_type": "stream",
     "text": [
      "Lenght of summarized text is 1957, Count of words = 314. Lenght of text is 5587, Count of words 894\n"
     ]
    }
   ],
   "source": [
    "print_lenght_summarized_and_content(summarized_text_words_ratio_normal_score, content)"
   ]
  },
  {
   "cell_type": "code",
   "execution_count": 167,
   "metadata": {},
   "outputs": [
    {
     "data": {
      "text/plain": [
       "\"The company on Monday said it has fired an employee after he was accused of sexually assaulting a woman who also works at Alibaba (BABA). The man confessed to actions that Alibaba deemed in serious violation of company policy according to a memo sent by Alibaba Group chairman and CEO Daniel Zhang to employees. Two senior employees also resigned after they failed to prioritize employee protection according to Zhang's memo. Alibaba Group has a zero-tolerance policy against sexual misconduct and ensuring a safe workplace for all our employees is Alibaba's top priority a company spokesperson said in a statement to CNN Business. The post has exploded on Chinese social media. Some commenters accused Alibaba of failing to protect the rights of its employees. The woman allegedly claimed that the company brushed off her concerns when she reported them. Is this the Alibaba culture. Such a large company must protect its employees. In the memo to employees on Monday Zhang said the employee confessed to intimate acts with a woman who was inebriated violating company policy. He will be fired and never be rehired Zhang wrote. Two executives including the president of Alibaba's Neighborhood Retail group have resigned over the handling of the incident according to Zhang who added that the woman reported the incident to the company August 2. We will do everything we can to take care of her Zhang wrote. Zhang added that the company's chief people officer has also been reprimanded and said that the company will establish a dedicated reporting channel for employees as well as create an anti-sexual harassment policy that will include input from experts and employees. Chinese social media users started calling out the deaths as emblematic of a troublesome work culture and a former software engineer at the company escalated criticisms in several posts where he accused the company of overworking its employees.\""
      ]
     },
     "execution_count": 167,
     "metadata": {},
     "output_type": "execute_result"
    }
   ],
   "source": [
    "summarized_text_words_ratio_frequency_score = perform_summarization(sentence_score_frequency, words_ratio=300)\n",
    "summarized_text_words_ratio_frequency_scorewords_in_main_text"
   ]
  },
  {
   "cell_type": "code",
   "execution_count": 168,
   "metadata": {},
   "outputs": [
    {
     "name": "stdout",
     "output_type": "stream",
     "text": [
      "Lenght of summarized text is 1918, Count of words = 311. Lenght of text is 5587, Count of words 894\n"
     ]
    }
   ],
   "source": [
    "print_lenght_summarized_and_content(summarized_text_words_ratio_frequency_score , content)"
   ]
  },
  {
   "cell_type": "markdown",
   "metadata": {},
   "source": [
    "Summarized texts using words ratio are looking pretty much the same. I campared summarized texts on this site (Text Comparator)[https://copyleaks.com/text-compare]. Result was 60.2% identity. But now  let's make function which compares them and returns the differing sentences and do the job be our own."
   ]
  },
  {
   "cell_type": "code",
   "execution_count": 205,
   "metadata": {},
   "outputs": [],
   "source": [
    "def compare_two_summarized_texts(summarized_text_one, summarized_text_two):\n",
    "    sentences_text_one = sent_tokenize(summarized_text_one)\n",
    "    sentences_text_two = sent_tokenize(summarized_text_two)\n",
    "    return \" \".join(set(sentences_text_one).symmetric_difference(set(sentences_text_two)))"
   ]
  },
  {
   "cell_type": "code",
   "execution_count": 207,
   "metadata": {},
   "outputs": [
    {
     "name": "stdout",
     "output_type": "stream",
     "text": [
      "Lenght of summarized text is 1372, Count of words = 229. Lenght of text is 5587, Count of words 894\n"
     ]
    }
   ],
   "source": [
    "different_summarized_text = compare_two_summarized_texts(summarized_text_words_ratio_normal_score, summarized_text_words_ratio_frequency_score)\n",
    "different_summarized_text\n",
    "print_lenght_summarized_and_content(different_summarized_text, content)"
   ]
  },
  {
   "cell_type": "markdown",
   "metadata": {},
   "source": [
    "We got the differences between two summarizations now let's get identical parts of them."
   ]
  },
  {
   "cell_type": "code",
   "execution_count": 175,
   "metadata": {},
   "outputs": [],
   "source": [
    "def get_identical_sentences_from_two_summarized_texts(summarized_text_one, summarized_text_two):\n",
    "    sentences_text_one = sent_tokenize(summarized_text_one)\n",
    "    sentences_text_two = sent_tokenize(summarized_text_two)\n",
    "    return \" \".join(set(sentences_text_one).intersection(set(sentences_text_two)))"
   ]
  },
  {
   "cell_type": "code",
   "execution_count": 200,
   "metadata": {},
   "outputs": [
    {
     "name": "stdout",
     "output_type": "stream",
     "text": [
      "Lenght of summarized text is 1251, Count of words = 198. Lenght of text is 5587, Count of words 894\n"
     ]
    }
   ],
   "source": [
    "identical_summarized_text = get_equal_sentences_from_two_summarized_texts(summarized_text_words_ratio_normal_score, summarized_text_words_ratio_frequency_score)\n",
    "identical_summarized_text\n",
    "print_lenght_summarized_and_content(identical_summarized_text, content)"
   ]
  },
  {
   "cell_type": "markdown",
   "metadata": {},
   "source": [
    "Now we have the tools to extract differences and identity, so let's make function that plots the division between identity and differences in each text for every summarization in range for word_ratio $ \\in (0.1, 0.2, 0.3, 0.4, 0.5, 0.6, 0.7, 0.8, 0.9)$.\n",
    "\n",
    "Hypothesis: When the lenght of the summarization text increaces, identity between two summarized texts, established from the two different scores is incresing and the difference between texts is decreacing."
   ]
  },
  {
   "cell_type": "code",
   "execution_count": 277,
   "metadata": {},
   "outputs": [],
   "source": [
    "def view_over_the_different_word_ratios(first_score, second_score, main_text, sentences=False, ratio_range=[0.1, 0.2, 0.3, 0.4, 0.5, 0.6, 0.7, 0.8, 0.9]):\n",
    "    \n",
    "    results_from_word_ratios_one = {}\n",
    "    results_from_word_ratios_two = {}\n",
    "    if sentences =\n",
    "    for r in ratio_range:\n",
    "        word_ratio = int(r * len(main_text))\n",
    "        sentence = None\n",
    "        if sentences == True:\n",
    "            word_ratio = None\n",
    "            sentence = r\n",
    "        #summarize using two scores\n",
    "        summarization_one = perform_summarization(first_score, sentences=sentence, words_ratio=word_ratio)\n",
    "        summarization_two = perform_summarization(second_score, sentences=sentence, words_ratio=word_ratio)\n",
    "        \n",
    "        #Get identical text\n",
    "        identical_summarized_text = get_identical_sentences_from_two_summarized_texts(summarization_one, summarization_two)\n",
    "        \n",
    "        #Get difference from summarized text and identical text \n",
    "        difference_summarization_one = compare_two_summarized_texts(summarization_one, identical_summarized_text)\n",
    "        difference_summarization_two = compare_two_summarized_texts(summarization_two, identical_summarized_text)\n",
    "        \n",
    "        #Count of words in difference from summarized text and identical text \n",
    "        words_difference_summarization_one = len(difference_summarization_one.split())\n",
    "        words_difference_summarization_two = len(difference_summarization_two.split())\n",
    "        words_in_identical_summarization = len(identical_summarized_text.split())\n",
    "        \n",
    "        if words_in_identical_summarization == 0:\n",
    "            results_from_word_ratios_one[r] = 0 \n",
    "            results_from_word_ratios_two[r] = 0\n",
    "        else:\n",
    "            results_from_word_ratios_one[r] = words_difference_summarization_one / words_in_identical_summarization\n",
    "            results_from_word_ratios_two[r] = words_difference_summarization_two / words_in_identical_summarization\n",
    "    fig, ax = plt.subplots()   \n",
    "    ax.bar([k for k in results_from_word_ratios_one.keys()], [v for v in results_from_word_ratios_one.values()], alpha=0.5, color='b', width=0.001)\n",
    "    ax.bar([k for k in results_from_word_ratios_two.keys()], [v for v in results_from_word_ratios_two.values()], alpha=0.7, color='y', width=0.001)\n",
    "    \n",
    "    plt.legend([\"Summarized text one ratio\", \"Summarized text two ratio\"])\n",
    "    plt.title(f\"Identity ratio in text\")\n",
    "    plt.xlabel(\"Category\")\n",
    "    plt.ylabel(\"Frequency (identity to difference)\")\n",
    "    fig.tight_layout()\n",
    "    plt.show()"
   ]
  },
  {
   "cell_type": "code",
   "execution_count": 279,
   "metadata": {},
   "outputs": [
    {
     "data": {
      "image/png": "[encoded data removed]",
      "text/plain": [
       "<Figure size 432x288 with 1 Axes>"
      ]
     },
     "metadata": {
      "needs_background": "light"
     },
     "output_type": "display_data"
    }
   ],
   "source": [
    "view_over_the_different_word_ratios(sentences_score, sentence_score_frequency, content, ratio_range=[0.02, 0.025, 0.03, 0.04, 0.05, 0.06, 0.07, 0.08, 0.09, 0.1, 0.2])"
   ]
  },
  {
   "cell_type": "markdown",
   "metadata": {},
   "source": [
    "From this plot we can prove that as we increace the total lenght of the summarized text the identity between two summarized texts, established from the two different scores is incresing and after a while they become the same This means that the summarized result from both of sentence scores is pretty much the same. I will use sentence frequency score."
   ]
  },
  {
   "cell_type": "markdown",
   "metadata": {},
   "source": [
    "###### Determine what is the text temper using classification"
   ]
  },
  {
   "cell_type": "markdown",
   "metadata": {},
   "source": [
    "###### Compare my summarization with build in modules from libraries"
   ]
  },
  {
   "cell_type": "markdown",
   "metadata": {},
   "source": [
    "For this purpose i will use summarization tools from sumpy. Sumpy libraray provides you several algorithms to implement Text Summarzation. I am going to use LexRank - A sentence which is similar to many other sentences of the text has a high probability of being important. The approach of LexRank is that a particular sentence is recommended by other similar sentences and hence is ranked higher."
   ]
  },
  {
   "cell_type": "code",
   "execution_count": 325,
   "metadata": {},
   "outputs": [
    {
     "data": {
      "text/plain": [
       "\"The company on Monday said it has fired an employee after he was accused of sexually assaulting a woman who also works at Alibaba (BABA). The allegations  which were widely circulated on Chinese social media over the weekend  have rocked Alibaba at a time when it and other Chinese tech companies are already facing incredible scrutiny from Chinese regulators over their business. Is this the Alibaba culture?  Two executives including the president of Alibaba's Neighborhood Retail group have resigned over the handling of the incident according to Zhang who added that the woman reported the incident to the company August 2. Although the police are still investigating the specific circumstances of the dinner that day we are staunchly opposed to the ugly forced drinking culture he wrote. Pinduoduo an e-commerce firm and rival to Alibaba faced intense public backlash earlier this year  over accusations that it overworks its employees after two of its employees died unexpectedly including a man who died by suicide.\""
      ]
     },
     "execution_count": 325,
     "metadata": {},
     "output_type": "execute_result"
    }
   ],
   "source": [
    "lex_rank_summarizer = LexRankSummarizer()\n",
    "my_parser = PlaintextParser.from_string(text,Tokenizer('english'))\n",
    "lex_rank_summarizer = LexRankSummarizer()\n",
    "lexrank_summary = lex_rank_summarizer(my_parser.document,sentences_count=6)\n",
    "\n",
    "result = []\n",
    "for sentence in lexrank_summary:\n",
    "    result.append(str(sentence).replace('\"', '').replace(',', '').replace('—', ''))\n",
    "    \n",
    "lexrank_summarized_text = \" \".join(result)\n",
    "lexrank_summarized_text"
   ]
  },
  {
   "cell_type": "markdown",
   "metadata": {},
   "source": [
    "Let's see my summarization"
   ]
  },
  {
   "cell_type": "code",
   "execution_count": 326,
   "metadata": {},
   "outputs": [
    {
     "data": {
      "text/plain": [
       "'The company on Monday said it has fired an employee after he was accused of sexually assaulting a woman who also works at Alibaba (BABA). The man confessed to actions that Alibaba deemed in serious violation of company policy according to a memo sent by Alibaba Group chairman and CEO Daniel Zhang to employees. Some commenters accused Alibaba of failing to protect the rights of its employees. Is this the Alibaba culture. Such a large company must protect its employees. In the memo to employees on Monday Zhang said the employee confessed to intimate acts with a woman who was inebriated violating company policy.'"
      ]
     },
     "execution_count": 326,
     "metadata": {},
     "output_type": "execute_result"
    }
   ],
   "source": [
    "summarized_text_words_ratio_frequency_score = perform_summarization(sentence_score_frequency, sentences=6)\n",
    "summarized_text_words_ratio_frequency_score"
   ]
  },
  {
   "cell_type": "code",
   "execution_count": null,
   "metadata": {},
   "outputs": [],
   "source": []
  },
  {
   "cell_type": "markdown",
   "metadata": {},
   "source": [
    "###  Results"
   ]
  },
  {
   "cell_type": "markdown",
   "metadata": {},
   "source": [
    "### Limitations and Future Work  (Optional)"
   ]
  },
  {
   "cell_type": "markdown",
   "metadata": {},
   "source": [
    "### Conclusion"
   ]
  },
  {
   "cell_type": "markdown",
   "metadata": {},
   "source": [
    "### References\n",
    "\n",
    "https://arxiv.org/pdf/2107.14681.pdf\n",
    "\n",
    "\n",
    "https://ocw.mit.edu/courses/biological-engineering/20-109-laboratory-fundamentals-in-biological-engineering-fall-2007/assignments/sci_writing_guid.pdf\n",
    "\n",
    "https://tjzhifei.github.io/resources/NLTK.pdf"
   ]
  }
 ],
 "metadata": {
  "kernelspec": {
   "display_name": "Python 3",
   "language": "python",
   "name": "python3"
  },
  "language_info": {
   "codemirror_mode": {
    "name": "ipython",
    "version": 3
   },
   "file_extension": ".py",
   "mimetype": "text/x-python",
   "name": "python",
   "nbconvert_exporter": "python",
   "pygments_lexer": "ipython3",
   "version": "3.8.5"
  }
 },
 "nbformat": 4,
 "nbformat_minor": 4
}
