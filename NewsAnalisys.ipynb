{
 "cells": [
  {
   "cell_type": "markdown",
   "metadata": {},
   "source": [
    "# Natural Language Processing: News Analysis\n",
    "[Peter Damyanov](https://github.com/petardmnv)"
   ]
  },
  {
   "cell_type": "markdown",
   "metadata": {},
   "source": [
    "###### Imports"
   ]
  },
  {
   "cell_type": "code",
   "execution_count": 1,
   "metadata": {},
   "outputs": [],
   "source": [
    "import numpy as np\n",
    "import pandas as pd\n",
    "import matplotlib.pyplot as plt\n",
    "\n",
    "import nltk\n",
    "from nltk.corpus import stopwords\n",
    "from nltk import word_tokenize, sent_tokenize\n",
    "#nltk.download()\n",
    "#from nltk.book import *\n",
    "\n",
    "import requests\n",
    "\n",
    "from datetime import datetime\n",
    "\n",
    "from bs4 import BeautifulSoup\n",
    "\n",
    "import re"
   ]
  },
  {
   "cell_type": "markdown",
   "metadata": {},
   "source": [
    "### Abstract"
   ]
  },
  {
   "cell_type": "markdown",
   "metadata": {},
   "source": [
    "### Research objective"
   ]
  },
  {
   "cell_type": "markdown",
   "metadata": {},
   "source": [
    "### Theoretical background and hypothesis development"
   ]
  },
  {
   "cell_type": "markdown",
   "metadata": {},
   "source": [
    "###  Methodology"
   ]
  },
  {
   "cell_type": "markdown",
   "metadata": {},
   "source": [
    "### Implementing methodology"
   ]
  },
  {
   "cell_type": "markdown",
   "metadata": {},
   "source": [
    "###### 1.Web Scraping"
   ]
  },
  {
   "cell_type": "markdown",
   "metadata": {},
   "source": [
    "Get the most popular business news from [CNN](https://edition.cnn.com/business) for the current day.\n",
    "Get the most popular business news from [BBC](https://www.bbc.com/news/business) for the current day.\n",
    "\n",
    "**Warning** Scraping two completely different sites is not easy and most of the code will be different. Ie we will not be able to use the functions we have for both sites, so there will be similar functions in logic."
   ]
  },
  {
   "cell_type": "code",
   "execution_count": 2,
   "metadata": {},
   "outputs": [],
   "source": [
    "cnn_link = 'https://edition.cnn.com/business'\n",
    "bbc_link = 'https://www.bbc.com/news/business'    "
   ]
  },
  {
   "cell_type": "code",
   "execution_count": 3,
   "metadata": {},
   "outputs": [],
   "source": [
    "#Get page content\n",
    "def get_page_content(link):\n",
    "    page = requests.get(link)\n",
    "    return page"
   ]
  },
  {
   "cell_type": "markdown",
   "metadata": {},
   "source": [
    "Secondly we are going to scrape this page, so we can access \"top news\" urls. To scrape the page we need BeautifulSoup object. "
   ]
  },
  {
   "cell_type": "code",
   "execution_count": 4,
   "metadata": {},
   "outputs": [],
   "source": [
    "def create_soup(page):\n",
    "    soup = BeautifulSoup(page.text, 'html.parser')\n",
    "    return soup"
   ]
  },
  {
   "cell_type": "markdown",
   "metadata": {},
   "source": [
    "There are duplicating links so we are going to create function which will remove duplicated links. The easiest way of doing that is to cast \"links\" to set, because set items are unordered, unchangeable, and do not allow duplicate values."
   ]
  },
  {
   "cell_type": "code",
   "execution_count": 5,
   "metadata": {},
   "outputs": [],
   "source": [
    "def clear_duplicate_links(links):\n",
    "    return list(set(links))"
   ]
  },
  {
   "cell_type": "markdown",
   "metadata": {},
   "source": [
    "Start with CNN"
   ]
  },
  {
   "cell_type": "markdown",
   "metadata": {},
   "source": [
    "Extact links from scraped data and clear duplicating, if there is such links."
   ]
  },
  {
   "cell_type": "code",
   "execution_count": 6,
   "metadata": {},
   "outputs": [],
   "source": [
    "def extract_cnn_links(link):\n",
    "    page = get_page_content(link)\n",
    "    soup = create_soup(page)\n",
    "    cnn_extracted_links = [l['href'] for l in soup.find('section').find(\"ul\").find_all('a')]\n",
    "    cnn_extracted_links = clear_duplicate_links(cnn_extracted_links)\n",
    "    return cnn_extracted_links"
   ]
  },
  {
   "cell_type": "markdown",
   "metadata": {},
   "source": [
    "Let's see extracted links from cnn."
   ]
  },
  {
   "cell_type": "code",
   "execution_count": 7,
   "metadata": {},
   "outputs": [
    {
     "data": {
      "text/plain": [
       "['/2021/08/09/business/vaccine-mandates-retail-customers/index.html',\n",
       " '/2021/08/10/investing/premarket-stocks-trading/index.html',\n",
       " '/2021/08/10/business/raises-inflation-wages/index.html',\n",
       " '/2021/08/10/media/covid-19-vaccine-rejection-news-coverage-reliable-sources/index.html',\n",
       " '/2021/08/09/business/money/early-retirement-fire-feseries/index.html',\n",
       " '/2021/08/09/politics/cryptocurrency-infrastructure-deal-lummis-toomey/index.html',\n",
       " '/2021/08/08/tech/metaverse-explainer/index.html',\n",
       " '/2021/08/09/business/philip-morris-vectura/index.html',\n",
       " '/2021/08/10/tech/twitter-marjorie-taylor-greene/index.html',\n",
       " '/2021/08/10/investing/softbank-vision-fund-china-tech-intl-hnk/index.html',\n",
       " '/2021/08/10/energy/cambo-oilfield-shell-siccar-point/index.html',\n",
       " '/2021/08/09/investing/warren-buffett-berkshire-hathaway-earnings/index.html']"
      ]
     },
     "execution_count": 7,
     "metadata": {},
     "output_type": "execute_result"
    }
   ],
   "source": [
    "cnn_extracted_links = extract_cnn_links(cnn_link)\n",
    "cnn_extracted_links"
   ]
  },
  {
   "cell_type": "markdown",
   "metadata": {},
   "source": [
    "As you can see we can get article type from it's link. So let's create function that gets the article type."
   ]
  },
  {
   "cell_type": "code",
   "execution_count": 8,
   "metadata": {},
   "outputs": [],
   "source": [
    "def get_cnn_news_type_from_link(link):\n",
    "    #link contains date of publishing than article type\n",
    "    #For example /2021/08/06/economy/july-jobs-report/index.html\n",
    "    # So we can remove first 12 characters and than get article type\n",
    "    link = link[12:]\n",
    "    # To determine the end ot article we will append to our variable character after character until we\n",
    "    # get to '/' \n",
    "    news_type = []\n",
    "    for c in link:\n",
    "        if c == '/':\n",
    "            break\n",
    "        news_type.append(c)\n",
    "    return \"\".join(news_type)"
   ]
  },
  {
   "cell_type": "markdown",
   "metadata": {},
   "source": [
    "Result:"
   ]
  },
  {
   "cell_type": "code",
   "execution_count": 9,
   "metadata": {},
   "outputs": [
    {
     "data": {
      "text/plain": [
       "['business',\n",
       " 'investing',\n",
       " 'business',\n",
       " 'media',\n",
       " 'business',\n",
       " 'politics',\n",
       " 'tech',\n",
       " 'business',\n",
       " 'tech',\n",
       " 'investing',\n",
       " 'energy',\n",
       " 'investing']"
      ]
     },
     "execution_count": 9,
     "metadata": {},
     "output_type": "execute_result"
    }
   ],
   "source": [
    "cnn_news_types = []\n",
    "for l in cnn_extracted_links:\n",
    "    cnn_news_types.append(get_cnn_news_type_from_link(l))\n",
    "    \n",
    "cnn_news_types"
   ]
  },
  {
   "cell_type": "markdown",
   "metadata": {},
   "source": [
    "We can plot the results using bar chart to see the type of news that occurs most."
   ]
  },
  {
   "cell_type": "code",
   "execution_count": 10,
   "metadata": {},
   "outputs": [],
   "source": [
    "news_types_frequency = nltk.FreqDist(cnn_news_types)"
   ]
  },
  {
   "cell_type": "code",
   "execution_count": 11,
   "metadata": {},
   "outputs": [],
   "source": [
    "def plot_types_of_news(news_types_frequency):\n",
    "    plt.bar([t for t in news_types_frequency], [news_types_frequency[t] for t in news_types_frequency])\n",
    "\n",
    "    plt.xlabel(\"News Type\")\n",
    "    plt.ylabel(\"Count news\")\n",
    "    plt.show()"
   ]
  },
  {
   "cell_type": "code",
   "execution_count": 12,
   "metadata": {},
   "outputs": [
    {
     "data": {
      "image/png": "[encoded data removed]",
      "text/plain": [
       "<Figure size 432x288 with 1 Axes>"
      ]
     },
     "metadata": {
      "needs_background": "light"
     },
     "output_type": "display_data"
    }
   ],
   "source": [
    "plot_types_of_news(news_types_frequency)"
   ]
  },
  {
   "cell_type": "markdown",
   "metadata": {},
   "source": [
    "We want just news about business, investing, tech and economy. Create function remove_usless_news()."
   ]
  },
  {
   "cell_type": "code",
   "execution_count": 13,
   "metadata": {},
   "outputs": [],
   "source": [
    "def remove_usless_news(dataframe):\n",
    "    #Yes it is ugly but it is working\n",
    "    dataframe.drop(dataframe[(dataframe['news_type'] != 'business') &  (dataframe['news_type'] != 'tech') & (dataframe['news_type'] != 'investing') & (dataframe['news_type'] != 'economy')].index, axis=0, inplace=True)\n",
    "    return dataframe.reset_index(drop=True)"
   ]
  },
  {
   "cell_type": "markdown",
   "metadata": {},
   "source": [
    "Then we want to know the date of current article. Again we can get it from article url."
   ]
  },
  {
   "cell_type": "code",
   "execution_count": 14,
   "metadata": {},
   "outputs": [],
   "source": [
    "def get_cnn_news_date_from_link(link):\n",
    "    raw_date = link[1:11]\n",
    "    date = raw_date.replace('/', '-')\n",
    "    return date"
   ]
  },
  {
   "cell_type": "markdown",
   "metadata": {},
   "source": [
    "Result:"
   ]
  },
  {
   "cell_type": "code",
   "execution_count": 15,
   "metadata": {},
   "outputs": [
    {
     "name": "stdout",
     "output_type": "stream",
     "text": [
      "2021-08-09\n",
      "2021-08-10\n",
      "2021-08-10\n",
      "2021-08-10\n",
      "2021-08-09\n",
      "2021-08-09\n",
      "2021-08-08\n",
      "2021-08-09\n",
      "2021-08-10\n",
      "2021-08-10\n",
      "2021-08-10\n",
      "2021-08-09\n"
     ]
    }
   ],
   "source": [
    "for l in cnn_extracted_links:\n",
    "    print(get_cnn_news_date_from_link(l))"
   ]
  },
  {
   "cell_type": "markdown",
   "metadata": {},
   "source": [
    "CNN ends here."
   ]
  },
  {
   "cell_type": "markdown",
   "metadata": {},
   "source": [
    "Start BBC web scraping."
   ]
  },
  {
   "cell_type": "markdown",
   "metadata": {},
   "source": [
    "Extact links from scraped data and clear duplicating, if there is such links."
   ]
  },
  {
   "cell_type": "markdown",
   "metadata": {},
   "source": [
    "After web scraping page we got unusable links like this - **/news/business-58156118/#comp-comments-button**.\n",
    "\n",
    "\n",
    "Here is the part of the result:\n",
    "\n",
    "'/news/business',\n",
    "\n",
    " '/news/technology-58146039',\n",
    " \n",
    " '/news/technology',\n",
    " \n",
    " '/news/business-58154046',\n",
    " \n",
    " '/news/business-58156118/#comp-comments-button',\n",
    " \n",
    " '/news/technology-58145808',\n",
    " \n",
    " '/news/business-58156118',\n",
    " .....\n",
    " \n",
    "\n",
    "So we need to create function 'remove usless links' which removes usless links from our result."
   ]
  },
  {
   "cell_type": "code",
   "execution_count": 16,
   "metadata": {},
   "outputs": [],
   "source": [
    "def remove_usless_links(links):\n",
    "    pat = r'/news/\\w+[-]\\d+'\n",
    "    correct_links = []\n",
    "    for l in links:\n",
    "        obj = re.findall(pat, l)\n",
    "        if len(obj) > 0:\n",
    "            correct_links.append(obj[0])\n",
    "    return list(set(correct_links))"
   ]
  },
  {
   "cell_type": "markdown",
   "metadata": {},
   "source": [
    "Result from this function is:\n",
    "\n",
    "'/news/technology-58146039',\n",
    "\n",
    " '/news/business-58154046',\n",
    " \n",
    " '/news/business-58156118',\n",
    " \n",
    " '/news/technology-58145808',\n",
    " \n",
    " '/news/business-58156118',\n",
    " \n",
    " '/news/business-58155103',\n",
    " \n",
    " '/news/business-58095639',\n",
    " \n",
    " '/news/business-57981598',\n",
    " \n",
    " '/news/technology-58145943',\n",
    " \n",
    " '/news/technology-58146039'\n",
    " \n",
    " \n",
    " Clean links :)\n",
    " \n",
    "This is working properly so let's add it to main bbc function"
   ]
  },
  {
   "cell_type": "code",
   "execution_count": 17,
   "metadata": {},
   "outputs": [],
   "source": [
    "def extract_bbc_links(link, domain):\n",
    "    page = get_page_content(link)\n",
    "    soup = create_soup(page)\n",
    "    bbc_extracted_links = [l['href'] for l in soup.find('div', {'class', \"gel-layout gel-layout--equal\"}).find_all('a')]\n",
    "    bbc_extracted_links = clear_duplicate_links(bbc_extracted_links)\n",
    "    bbc_extracted_links = remove_usless_links(bbc_extracted_links)\n",
    "    #Add domain\n",
    "    bbc_extracted_links = [domain+l for l in bbc_extracted_links]\n",
    "    return bbc_extracted_links"
   ]
  },
  {
   "cell_type": "markdown",
   "metadata": {},
   "source": [
    "Result:"
   ]
  },
  {
   "cell_type": "code",
   "execution_count": 18,
   "metadata": {},
   "outputs": [
    {
     "data": {
      "text/plain": [
       "['https://www.bbc.com/news/technology-58145943',\n",
       " 'https://www.bbc.com/news/newsbeat-56997362',\n",
       " 'https://www.bbc.com/news/business-58156118',\n",
       " 'https://www.bbc.com/news/business-57981598',\n",
       " 'https://www.bbc.com/news/technology-58145808',\n",
       " 'https://www.bbc.com/news/business-58155103',\n",
       " 'https://www.bbc.com/news/business-58154046',\n",
       " 'https://www.bbc.com/news/business-58156250']"
      ]
     },
     "execution_count": 18,
     "metadata": {},
     "output_type": "execute_result"
    }
   ],
   "source": [
    "extracted_bbc_links = extract_bbc_links(bbc_link, domain=\"https://www.bbc.com\")\n",
    "extracted_bbc_links"
   ]
  },
  {
   "cell_type": "markdown",
   "metadata": {},
   "source": []
  },
  {
   "cell_type": "code",
   "execution_count": 19,
   "metadata": {},
   "outputs": [],
   "source": [
    "def get_bbc_news_type(links):\n",
    "    news_type = []\n",
    "    for l in links:\n",
    "        page = get_page_content(l)\n",
    "        soup = create_soup(page)\n",
    "        news_type.append(soup.find('span', {'class': \"ssrcss-1gr85n1-LinkTextContainer eis6szr1\"}).text.lower())\n",
    "    return news_type"
   ]
  },
  {
   "cell_type": "code",
   "execution_count": 20,
   "metadata": {},
   "outputs": [
    {
     "data": {
      "text/plain": [
       "['tech',\n",
       " 'newsbeat',\n",
       " 'business',\n",
       " 'business',\n",
       " 'tech',\n",
       " 'business',\n",
       " 'business',\n",
       " 'business']"
      ]
     },
     "execution_count": 20,
     "metadata": {},
     "output_type": "execute_result"
    }
   ],
   "source": [
    "bbc_news_types = get_bbc_news_type(extracted_bbc_links)\n",
    "bbc_news_types"
   ]
  },
  {
   "cell_type": "code",
   "execution_count": 21,
   "metadata": {},
   "outputs": [
    {
     "data": {
      "image/png": "[encoded data removed]",
      "text/plain": [
       "<Figure size 432x288 with 1 Axes>"
      ]
     },
     "metadata": {
      "needs_background": "light"
     },
     "output_type": "display_data"
    }
   ],
   "source": [
    "news_types_frequency = nltk.FreqDist(bbc_news_types)\n",
    "plot_types_of_news(news_types_frequency)"
   ]
  },
  {
   "cell_type": "code",
   "execution_count": 22,
   "metadata": {},
   "outputs": [],
   "source": [
    "def get_bbc_news_datetime(links):\n",
    "    times = []\n",
    "    for l in links:\n",
    "        page = get_page_content(l)\n",
    "        soup = create_soup(page)\n",
    "        attributes = str(soup.find('time'))\n",
    "        pat = r'\\d{4}-\\d{2}-\\d{2}'\n",
    "        obj = re.findall(pat, attributes)\n",
    "        times.append(obj[0])\n",
    "    return times"
   ]
  },
  {
   "cell_type": "code",
   "execution_count": 23,
   "metadata": {},
   "outputs": [
    {
     "data": {
      "text/plain": [
       "['2021-08-09',\n",
       " '2021-05-07',\n",
       " '2021-08-10',\n",
       " '2021-08-09',\n",
       " '2021-08-09',\n",
       " '2021-08-10',\n",
       " '2021-08-09',\n",
       " '2021-08-10']"
      ]
     },
     "execution_count": 23,
     "metadata": {},
     "output_type": "execute_result"
    }
   ],
   "source": [
    "bbc_news_timestamp = get_bbc_news_datetime(extracted_bbc_links)\n",
    "bbc_news_timestamp"
   ]
  },
  {
   "cell_type": "code",
   "execution_count": 24,
   "metadata": {},
   "outputs": [],
   "source": [
    "def get_bbc_news_headlines(links):\n",
    "    headlines = []\n",
    "    for l in links:\n",
    "        page = get_page_content(l)\n",
    "        soup = create_soup(page)\n",
    "        headlines.append(soup.find('h1').text)\n",
    "    return headlines"
   ]
  },
  {
   "cell_type": "code",
   "execution_count": 25,
   "metadata": {},
   "outputs": [
    {
     "data": {
      "text/plain": [
       "['Apple defends new photo scanning child protection tech',\n",
       " \"Online gambling: 'I stole Â£70,000 to feed my addiction'\",\n",
       " 'JetBlue to launch NY-UK flights despite pandemic',\n",
       " 'Sharing apps are booming but will the kindness continue?',\n",
       " 'China sues Tencent over WeChat Youth Mode',\n",
       " 'TikTok named as the most downloaded app of 2020',\n",
       " 'US job vacancies hit a record 10.1 million',\n",
       " 'Paddy Power owner betting shop revenue rebounds']"
      ]
     },
     "execution_count": 25,
     "metadata": {},
     "output_type": "execute_result"
    }
   ],
   "source": [
    "bbc_news_headlines = get_bbc_news_headlines(extracted_bbc_links)\n",
    "bbc_news_headlines"
   ]
  },
  {
   "cell_type": "code",
   "execution_count": 26,
   "metadata": {},
   "outputs": [],
   "source": [
    "def get_bbc_news_articles_content(links):\n",
    "    content = []\n",
    "    for l in links:\n",
    "        page = get_page_content(l)\n",
    "        soup = create_soup(page)\n",
    "        content.append(\"\".join([line.text for line in soup.find_all('div', {'data-component':\"text-block\"})]))\n",
    "    return content"
   ]
  },
  {
   "cell_type": "code",
   "execution_count": 27,
   "metadata": {},
   "outputs": [],
   "source": [
    "bbc_news_articles_content = get_bbc_news_articles_content(extracted_bbc_links)\n",
    "#bbc_news_articles_content"
   ]
  },
  {
   "cell_type": "markdown",
   "metadata": {},
   "source": [
    "Get all data from bbc into one variable."
   ]
  },
  {
   "cell_type": "code",
   "execution_count": 28,
   "metadata": {},
   "outputs": [],
   "source": [
    "data = [bbc_news_headlines, bbc_news_articles_content, bbc_news_timestamp, bbc_news_types]"
   ]
  },
  {
   "cell_type": "markdown",
   "metadata": {},
   "source": [
    "For more clarity we want to get our data to DataFrame. For now we want to have columns for article headline, context, date and type.\n",
    "\n",
    "For that we need to get content and headline from every article. We already have article type and date."
   ]
  },
  {
   "cell_type": "markdown",
   "metadata": {},
   "source": [
    "But firstly we have saved data from previous days. So let's get DataFrame and than add new data.\n",
    "\n",
    "DF is stored in **data** folder into csv file."
   ]
  },
  {
   "cell_type": "code",
   "execution_count": 29,
   "metadata": {},
   "outputs": [],
   "source": [
    "def get_dataframe_from_csv(path):\n",
    "    df = pd.read_csv(path)\n",
    "    return df"
   ]
  },
  {
   "cell_type": "markdown",
   "metadata": {},
   "source": [
    "One big problem occurs when we run this notebook several times in one day. We will add the same rows. So let's make function that removes diplicating rows."
   ]
  },
  {
   "cell_type": "code",
   "execution_count": 30,
   "metadata": {},
   "outputs": [],
   "source": [
    "def remove_duplicating_rows(dataframe):\n",
    "    duplicated = dataframe[dataframe.duplicated()]\n",
    "    dataframe.drop(duplicated.index, axis=0, inplace=True)\n",
    "    return dataframe.reset_index(drop=True)"
   ]
  },
  {
   "cell_type": "markdown",
   "metadata": {},
   "source": [
    "We have our dates, types, content and headline and now is time to add them to dataframe."
   ]
  },
  {
   "cell_type": "markdown",
   "metadata": {},
   "source": [
    "Add cnn news to dataframe."
   ]
  },
  {
   "cell_type": "code",
   "execution_count": 31,
   "metadata": {},
   "outputs": [],
   "source": [
    "def add_cnn_news_to_dataframe(dataframe, domain, links, source='CNN'):\n",
    "    for l in links:\n",
    "        date = get_cnn_news_date_from_link(l)\n",
    "    \n",
    "        news_type = get_cnn_news_type_from_link(l)\n",
    "        \n",
    "        source_link = domain + l\n",
    "        page = get_page_content(source_link)\n",
    "        soup = create_soup(page)\n",
    "        headline = soup.find('h1').text\n",
    "        \n",
    "        content = \"\".join([l.text for l in soup.findAll('div', {\"class\": \"zn-body__paragraph\"})])\n",
    "        \n",
    "        dataframe.loc[len(dataframe)] = [headline, content, date, news_type, source]"
   ]
  },
  {
   "cell_type": "markdown",
   "metadata": {},
   "source": [
    "Add bbc news to dataframe."
   ]
  },
  {
   "cell_type": "code",
   "execution_count": 32,
   "metadata": {},
   "outputs": [],
   "source": [
    "def add_bbc_news_to_dataframe(dataframe, data, source='BBC'):\n",
    "    for i in range(0, len(data[0])):\n",
    "        dataframe.loc[len(dataframe)] = [data[0][i], data[1][i], data[2][i], data[3][i], source]"
   ]
  },
  {
   "cell_type": "markdown",
   "metadata": {},
   "source": [
    "###### 2.Text Analisys"
   ]
  },
  {
   "cell_type": "code",
   "execution_count": 33,
   "metadata": {},
   "outputs": [],
   "source": [
    "domain = 'https://edition.cnn.com'\n",
    "filename = 'news'\n",
    "path = 'data/'+filename\n",
    "text_data = get_dataframe_from_csv(path)\n",
    "add_cnn_news_to_dataframe(text_data, domain, cnn_extracted_links)\n",
    "add_bbc_news_to_dataframe(text_data, data)\n",
    "text_data['date'] = pd.to_datetime(text_data['date'])\n",
    "text_data = remove_duplicating_rows(text_data)\n",
    "text_data = remove_usless_news(text_data)"
   ]
  },
  {
   "cell_type": "markdown",
   "metadata": {},
   "source": [
    "Save changed DF to .csv file"
   ]
  },
  {
   "cell_type": "code",
   "execution_count": 34,
   "metadata": {},
   "outputs": [],
   "source": [
    "def save_dataframe_to_csv(dataframe, filename):\n",
    "    path = \"data/\" + filename\n",
    "    dataframe.to_csv(path, index=False)"
   ]
  },
  {
   "cell_type": "code",
   "execution_count": 35,
   "metadata": {},
   "outputs": [],
   "source": [
    "save_dataframe_to_csv(text_data, 'news')"
   ]
  },
  {
   "cell_type": "code",
   "execution_count": 36,
   "metadata": {},
   "outputs": [
    {
     "data": {
      "text/html": [
       "<div>\n",
       "<style scoped>\n",
       "    .dataframe tbody tr th:only-of-type {\n",
       "        vertical-align: middle;\n",
       "    }\n",
       "\n",
       "    .dataframe tbody tr th {\n",
       "        vertical-align: top;\n",
       "    }\n",
       "\n",
       "    .dataframe thead th {\n",
       "        text-align: right;\n",
       "    }\n",
       "</style>\n",
       "<table border=\"1\" class=\"dataframe\">\n",
       "  <thead>\n",
       "    <tr style=\"text-align: right;\">\n",
       "      <th></th>\n",
       "      <th>headline</th>\n",
       "      <th>content</th>\n",
       "      <th>date</th>\n",
       "      <th>news_type</th>\n",
       "      <th>source</th>\n",
       "    </tr>\n",
       "  </thead>\n",
       "  <tbody>\n",
       "    <tr>\n",
       "      <th>0</th>\n",
       "      <td>Alibaba fires employee accused of sexual assau...</td>\n",
       "      <td>The company on Monday said it has fired an emp...</td>\n",
       "      <td>2021-08-09</td>\n",
       "      <td>tech</td>\n",
       "      <td>CNN</td>\n",
       "    </tr>\n",
       "    <tr>\n",
       "      <th>1</th>\n",
       "      <td>Twitter suspends Marjorie Taylor Greene's acco...</td>\n",
       "      <td>Greene tweeted on Monday that the Food and Dru...</td>\n",
       "      <td>2021-08-10</td>\n",
       "      <td>tech</td>\n",
       "      <td>CNN</td>\n",
       "    </tr>\n",
       "    <tr>\n",
       "      <th>2</th>\n",
       "      <td>Why Silicon Valley is betting on making this d...</td>\n",
       "      <td>The metaverse was originally conceived as the ...</td>\n",
       "      <td>2021-08-08</td>\n",
       "      <td>tech</td>\n",
       "      <td>CNN</td>\n",
       "    </tr>\n",
       "    <tr>\n",
       "      <th>3</th>\n",
       "      <td>AMC is playing to the Reddit crowd</td>\n",
       "      <td>A version of this story first appeared in CNN ...</td>\n",
       "      <td>2021-08-10</td>\n",
       "      <td>investing</td>\n",
       "      <td>CNN</td>\n",
       "    </tr>\n",
       "    <tr>\n",
       "      <th>4</th>\n",
       "      <td>SoftBank's CEO went big on China. Now he's pul...</td>\n",
       "      <td>The Japanese billionaire said at an earnings p...</td>\n",
       "      <td>2021-08-10</td>\n",
       "      <td>investing</td>\n",
       "      <td>CNN</td>\n",
       "    </tr>\n",
       "    <tr>\n",
       "      <th>5</th>\n",
       "      <td>Warren Buffett is buying more of his own stock...</td>\n",
       "      <td>Berkshire (BRKB) reported strong second quarte...</td>\n",
       "      <td>2021-08-09</td>\n",
       "      <td>investing</td>\n",
       "      <td>CNN</td>\n",
       "    </tr>\n",
       "    <tr>\n",
       "      <th>6</th>\n",
       "      <td>You might be able to retire earlier than you t...</td>\n",
       "      <td>Financial Independence Retire Early -- or FIRE...</td>\n",
       "      <td>2021-08-09</td>\n",
       "      <td>business</td>\n",
       "      <td>CNN</td>\n",
       "    </tr>\n",
       "    <tr>\n",
       "      <th>7</th>\n",
       "      <td>Inflation wiped out America's pay raises</td>\n",
       "      <td>But those fatter paychecks aren't going as far...</td>\n",
       "      <td>2021-08-10</td>\n",
       "      <td>business</td>\n",
       "      <td>CNN</td>\n",
       "    </tr>\n",
       "    <tr>\n",
       "      <th>8</th>\n",
       "      <td>Why big chains aren't requiring vaccines for c...</td>\n",
       "      <td>Representatives for retailers and restaurants ...</td>\n",
       "      <td>2021-08-09</td>\n",
       "      <td>business</td>\n",
       "      <td>CNN</td>\n",
       "    </tr>\n",
       "    <tr>\n",
       "      <th>9</th>\n",
       "      <td>JetBlue to launch NY-UK flights despite pandemic</td>\n",
       "      <td>JetBlue has said the Covid pandemic will not s...</td>\n",
       "      <td>2021-08-10</td>\n",
       "      <td>business</td>\n",
       "      <td>BBC</td>\n",
       "    </tr>\n",
       "    <tr>\n",
       "      <th>10</th>\n",
       "      <td>China sues Tencent over WeChat Youth Mode</td>\n",
       "      <td>Beijing prosecutors have filed a civil legal a...</td>\n",
       "      <td>2021-08-09</td>\n",
       "      <td>tech</td>\n",
       "      <td>BBC</td>\n",
       "    </tr>\n",
       "    <tr>\n",
       "      <th>11</th>\n",
       "      <td>Sharing apps are booming but will the kindness...</td>\n",
       "      <td>The pandemic, and lockdown, made Adam Ellison ...</td>\n",
       "      <td>2021-08-09</td>\n",
       "      <td>business</td>\n",
       "      <td>BBC</td>\n",
       "    </tr>\n",
       "    <tr>\n",
       "      <th>12</th>\n",
       "      <td>TikTok named as the most downloaded app of 2020</td>\n",
       "      <td>TikTok was the world's most downloaded app in ...</td>\n",
       "      <td>2021-08-10</td>\n",
       "      <td>business</td>\n",
       "      <td>BBC</td>\n",
       "    </tr>\n",
       "    <tr>\n",
       "      <th>13</th>\n",
       "      <td>US job vacancies hit a record 10.1 million</td>\n",
       "      <td>US job openings hit a fresh record in June ami...</td>\n",
       "      <td>2021-08-09</td>\n",
       "      <td>business</td>\n",
       "      <td>BBC</td>\n",
       "    </tr>\n",
       "    <tr>\n",
       "      <th>14</th>\n",
       "      <td>Apple defends new photo scanning child protect...</td>\n",
       "      <td>Apple has defended its new system that scans u...</td>\n",
       "      <td>2021-08-09</td>\n",
       "      <td>tech</td>\n",
       "      <td>BBC</td>\n",
       "    </tr>\n",
       "    <tr>\n",
       "      <th>15</th>\n",
       "      <td>Paddy Power owner revenue soars amid online ga...</td>\n",
       "      <td>Paddy Power-owner Flutter has said its UK bett...</td>\n",
       "      <td>2021-08-10</td>\n",
       "      <td>business</td>\n",
       "      <td>BBC</td>\n",
       "    </tr>\n",
       "    <tr>\n",
       "      <th>16</th>\n",
       "      <td>Marlboro owner wants to buy a company that mak...</td>\n",
       "      <td>Marlboro maker Philip Morris International (PM...</td>\n",
       "      <td>2021-08-09</td>\n",
       "      <td>business</td>\n",
       "      <td>CNN</td>\n",
       "    </tr>\n",
       "    <tr>\n",
       "      <th>17</th>\n",
       "      <td>Paddy Power owner betting shop revenue rebounds</td>\n",
       "      <td>Paddy Power-owner Flutter has said its UK bett...</td>\n",
       "      <td>2021-08-10</td>\n",
       "      <td>business</td>\n",
       "      <td>BBC</td>\n",
       "    </tr>\n",
       "  </tbody>\n",
       "</table>\n",
       "</div>"
      ],
      "text/plain": [
       "                                             headline  \\\n",
       "0   Alibaba fires employee accused of sexual assau...   \n",
       "1   Twitter suspends Marjorie Taylor Greene's acco...   \n",
       "2   Why Silicon Valley is betting on making this d...   \n",
       "3                  AMC is playing to the Reddit crowd   \n",
       "4   SoftBank's CEO went big on China. Now he's pul...   \n",
       "5   Warren Buffett is buying more of his own stock...   \n",
       "6   You might be able to retire earlier than you t...   \n",
       "7            Inflation wiped out America's pay raises   \n",
       "8   Why big chains aren't requiring vaccines for c...   \n",
       "9    JetBlue to launch NY-UK flights despite pandemic   \n",
       "10          China sues Tencent over WeChat Youth Mode   \n",
       "11  Sharing apps are booming but will the kindness...   \n",
       "12    TikTok named as the most downloaded app of 2020   \n",
       "13         US job vacancies hit a record 10.1 million   \n",
       "14  Apple defends new photo scanning child protect...   \n",
       "15  Paddy Power owner revenue soars amid online ga...   \n",
       "16  Marlboro owner wants to buy a company that mak...   \n",
       "17    Paddy Power owner betting shop revenue rebounds   \n",
       "\n",
       "                                              content       date  news_type  \\\n",
       "0   The company on Monday said it has fired an emp... 2021-08-09       tech   \n",
       "1   Greene tweeted on Monday that the Food and Dru... 2021-08-10       tech   \n",
       "2   The metaverse was originally conceived as the ... 2021-08-08       tech   \n",
       "3   A version of this story first appeared in CNN ... 2021-08-10  investing   \n",
       "4   The Japanese billionaire said at an earnings p... 2021-08-10  investing   \n",
       "5   Berkshire (BRKB) reported strong second quarte... 2021-08-09  investing   \n",
       "6   Financial Independence Retire Early -- or FIRE... 2021-08-09   business   \n",
       "7   But those fatter paychecks aren't going as far... 2021-08-10   business   \n",
       "8   Representatives for retailers and restaurants ... 2021-08-09   business   \n",
       "9   JetBlue has said the Covid pandemic will not s... 2021-08-10   business   \n",
       "10  Beijing prosecutors have filed a civil legal a... 2021-08-09       tech   \n",
       "11  The pandemic, and lockdown, made Adam Ellison ... 2021-08-09   business   \n",
       "12  TikTok was the world's most downloaded app in ... 2021-08-10   business   \n",
       "13  US job openings hit a fresh record in June ami... 2021-08-09   business   \n",
       "14  Apple has defended its new system that scans u... 2021-08-09       tech   \n",
       "15  Paddy Power-owner Flutter has said its UK bett... 2021-08-10   business   \n",
       "16  Marlboro maker Philip Morris International (PM... 2021-08-09   business   \n",
       "17  Paddy Power-owner Flutter has said its UK bett... 2021-08-10   business   \n",
       "\n",
       "   source  \n",
       "0     CNN  \n",
       "1     CNN  \n",
       "2     CNN  \n",
       "3     CNN  \n",
       "4     CNN  \n",
       "5     CNN  \n",
       "6     CNN  \n",
       "7     CNN  \n",
       "8     CNN  \n",
       "9     BBC  \n",
       "10    BBC  \n",
       "11    BBC  \n",
       "12    BBC  \n",
       "13    BBC  \n",
       "14    BBC  \n",
       "15    BBC  \n",
       "16    CNN  \n",
       "17    BBC  "
      ]
     },
     "execution_count": 36,
     "metadata": {},
     "output_type": "execute_result"
    }
   ],
   "source": [
    "text_data"
   ]
  },
  {
   "cell_type": "markdown",
   "metadata": {},
   "source": [
    "Types of DataFrame are:"
   ]
  },
  {
   "cell_type": "code",
   "execution_count": 37,
   "metadata": {},
   "outputs": [
    {
     "data": {
      "text/plain": [
       "headline             object\n",
       "content              object\n",
       "date         datetime64[ns]\n",
       "news_type            object\n",
       "source               object\n",
       "dtype: object"
      ]
     },
     "execution_count": 37,
     "metadata": {},
     "output_type": "execute_result"
    }
   ],
   "source": [
    "text_data.dtypes"
   ]
  },
  {
   "cell_type": "markdown",
   "metadata": {},
   "source": [
    "Content from first article:"
   ]
  },
  {
   "cell_type": "code",
   "execution_count": 47,
   "metadata": {},
   "outputs": [
    {
     "name": "stdout",
     "output_type": "stream",
     "text": [
      "Alibaba fires employee accused of sexual assault as pressure mounts on Chinese tech\n"
     ]
    }
   ],
   "source": [
    "text = text_data.loc[0]['content']\n",
    "print(text_data.loc[0]['headline'])"
   ]
  },
  {
   "cell_type": "markdown",
   "metadata": {},
   "source": [
    "It our text there are stopwords - high-frequency words like the, to and also that we sometimes want to filter out of a document before further processing. Stopwords usually have little lexical content, and their presence in a text fails to distinguish it from other texts.\n",
    "\n",
    "So we  will remove them from article text."
   ]
  },
  {
   "cell_type": "markdown",
   "metadata": {},
   "source": [
    "Firstly let's see what english stopwords are. From NLTK library has a built-in module with stopwords."
   ]
  },
  {
   "cell_type": "code",
   "execution_count": 39,
   "metadata": {},
   "outputs": [
    {
     "data": {
      "text/plain": [
       "['i',\n",
       " 'me',\n",
       " 'my',\n",
       " 'myself',\n",
       " 'we',\n",
       " 'our',\n",
       " 'ours',\n",
       " 'ourselves',\n",
       " 'you',\n",
       " \"you're\",\n",
       " \"you've\",\n",
       " \"you'll\",\n",
       " \"you'd\",\n",
       " 'your',\n",
       " 'yours',\n",
       " 'yourself',\n",
       " 'yourselves',\n",
       " 'he',\n",
       " 'him',\n",
       " 'his',\n",
       " 'himself',\n",
       " 'she',\n",
       " \"she's\",\n",
       " 'her',\n",
       " 'hers',\n",
       " 'herself',\n",
       " 'it',\n",
       " \"it's\",\n",
       " 'its',\n",
       " 'itself',\n",
       " 'they',\n",
       " 'them',\n",
       " 'their',\n",
       " 'theirs',\n",
       " 'themselves',\n",
       " 'what',\n",
       " 'which',\n",
       " 'who',\n",
       " 'whom',\n",
       " 'this',\n",
       " 'that',\n",
       " \"that'll\",\n",
       " 'these',\n",
       " 'those',\n",
       " 'am',\n",
       " 'is',\n",
       " 'are',\n",
       " 'was',\n",
       " 'were',\n",
       " 'be',\n",
       " 'been',\n",
       " 'being',\n",
       " 'have',\n",
       " 'has',\n",
       " 'had',\n",
       " 'having',\n",
       " 'do',\n",
       " 'does',\n",
       " 'did',\n",
       " 'doing',\n",
       " 'a',\n",
       " 'an',\n",
       " 'the',\n",
       " 'and',\n",
       " 'but',\n",
       " 'if',\n",
       " 'or',\n",
       " 'because',\n",
       " 'as',\n",
       " 'until',\n",
       " 'while',\n",
       " 'of',\n",
       " 'at',\n",
       " 'by',\n",
       " 'for',\n",
       " 'with',\n",
       " 'about',\n",
       " 'against',\n",
       " 'between',\n",
       " 'into',\n",
       " 'through',\n",
       " 'during',\n",
       " 'before',\n",
       " 'after',\n",
       " 'above',\n",
       " 'below',\n",
       " 'to',\n",
       " 'from',\n",
       " 'up',\n",
       " 'down',\n",
       " 'in',\n",
       " 'out',\n",
       " 'on',\n",
       " 'off',\n",
       " 'over',\n",
       " 'under',\n",
       " 'again',\n",
       " 'further',\n",
       " 'then',\n",
       " 'once',\n",
       " 'here',\n",
       " 'there',\n",
       " 'when',\n",
       " 'where',\n",
       " 'why',\n",
       " 'how',\n",
       " 'all',\n",
       " 'any',\n",
       " 'both',\n",
       " 'each',\n",
       " 'few',\n",
       " 'more',\n",
       " 'most',\n",
       " 'other',\n",
       " 'some',\n",
       " 'such',\n",
       " 'no',\n",
       " 'nor',\n",
       " 'not',\n",
       " 'only',\n",
       " 'own',\n",
       " 'same',\n",
       " 'so',\n",
       " 'than',\n",
       " 'too',\n",
       " 'very',\n",
       " 's',\n",
       " 't',\n",
       " 'can',\n",
       " 'will',\n",
       " 'just',\n",
       " 'don',\n",
       " \"don't\",\n",
       " 'should',\n",
       " \"should've\",\n",
       " 'now',\n",
       " 'd',\n",
       " 'll',\n",
       " 'm',\n",
       " 'o',\n",
       " 're',\n",
       " 've',\n",
       " 'y',\n",
       " 'ain',\n",
       " 'aren',\n",
       " \"aren't\",\n",
       " 'couldn',\n",
       " \"couldn't\",\n",
       " 'didn',\n",
       " \"didn't\",\n",
       " 'doesn',\n",
       " \"doesn't\",\n",
       " 'hadn',\n",
       " \"hadn't\",\n",
       " 'hasn',\n",
       " \"hasn't\",\n",
       " 'haven',\n",
       " \"haven't\",\n",
       " 'isn',\n",
       " \"isn't\",\n",
       " 'ma',\n",
       " 'mightn',\n",
       " \"mightn't\",\n",
       " 'mustn',\n",
       " \"mustn't\",\n",
       " 'needn',\n",
       " \"needn't\",\n",
       " 'shan',\n",
       " \"shan't\",\n",
       " 'shouldn',\n",
       " \"shouldn't\",\n",
       " 'wasn',\n",
       " \"wasn't\",\n",
       " 'weren',\n",
       " \"weren't\",\n",
       " 'won',\n",
       " \"won't\",\n",
       " 'wouldn',\n",
       " \"wouldn't\"]"
      ]
     },
     "execution_count": 39,
     "metadata": {},
     "output_type": "execute_result"
    }
   ],
   "source": [
    "#stopwords.words('english')"
   ]
  },
  {
   "cell_type": "markdown",
   "metadata": {},
   "source": [
    "Tokenize our text into words. "
   ]
  },
  {
   "cell_type": "code",
   "execution_count": 48,
   "metadata": {},
   "outputs": [],
   "source": [
    "for i in range(len(text)):\n",
    "    if text[i] == '.':\n",
    "        if text[i+1] != ' ':\n",
    "            text = text[:i+1] + ' ' + text[i+1:]\n",
    "            \n",
    "text\n",
    "\n",
    "tokens = word_tokenize(text)"
   ]
  },
  {
   "cell_type": "markdown",
   "metadata": {},
   "source": [
    "Remove stopwords."
   ]
  },
  {
   "cell_type": "code",
   "execution_count": 41,
   "metadata": {},
   "outputs": [
    {
     "data": {
      "text/plain": [
       "['company',\n",
       " 'Monday',\n",
       " 'said',\n",
       " 'fired',\n",
       " 'employee',\n",
       " 'accused',\n",
       " 'sexually',\n",
       " 'assaulting',\n",
       " 'woman',\n",
       " 'also',\n",
       " 'works',\n",
       " 'Alibaba',\n",
       " 'BABA',\n",
       " 'man',\n",
       " 'confessed',\n",
       " 'actions',\n",
       " 'Alibaba',\n",
       " 'deemed',\n",
       " 'serious',\n",
       " 'violation',\n",
       " 'company',\n",
       " 'policy',\n",
       " 'according',\n",
       " 'memo',\n",
       " 'sent',\n",
       " 'Alibaba',\n",
       " 'Group',\n",
       " 'chairman',\n",
       " 'CEO',\n",
       " 'Daniel',\n",
       " 'Zhang',\n",
       " 'employees',\n",
       " 'Two',\n",
       " 'senior',\n",
       " 'employees',\n",
       " 'also',\n",
       " 'resigned',\n",
       " 'failed',\n",
       " 'prioritize',\n",
       " 'employee',\n",
       " 'protection',\n",
       " 'according',\n",
       " 'Zhang',\n",
       " 'memo',\n",
       " 'Alibaba',\n",
       " 'Group',\n",
       " 'policy',\n",
       " 'sexual',\n",
       " 'misconduct',\n",
       " 'ensuring',\n",
       " 'safe',\n",
       " 'workplace',\n",
       " 'employees',\n",
       " 'Alibaba',\n",
       " 'top',\n",
       " 'priority',\n",
       " 'company',\n",
       " 'spokesperson',\n",
       " 'said',\n",
       " 'statement',\n",
       " 'CNN',\n",
       " 'Business',\n",
       " 'allegations',\n",
       " 'widely',\n",
       " 'circulated',\n",
       " 'Chinese',\n",
       " 'social',\n",
       " 'media',\n",
       " 'weekend',\n",
       " 'rocked',\n",
       " 'Alibaba',\n",
       " 'time',\n",
       " 'Chinese',\n",
       " 'tech',\n",
       " 'companies',\n",
       " 'already',\n",
       " 'facing',\n",
       " 'incredible',\n",
       " 'scrutiny',\n",
       " 'Chinese',\n",
       " 'regulators',\n",
       " 'business',\n",
       " 'claims',\n",
       " 'triggered',\n",
       " 'public',\n",
       " 'outcry',\n",
       " 'many',\n",
       " 'criticized',\n",
       " 'company',\n",
       " 'handling',\n",
       " 'situation',\n",
       " 'controversy',\n",
       " 'started',\n",
       " 'post',\n",
       " 'allegedly',\n",
       " 'written',\n",
       " 'victim',\n",
       " 'identify',\n",
       " 'published',\n",
       " 'internal',\n",
       " 'Alibaba',\n",
       " 'website',\n",
       " 'circulated',\n",
       " 'Chinese',\n",
       " 'social',\n",
       " 'media',\n",
       " 'website',\n",
       " 'Weibo',\n",
       " 'According',\n",
       " 'screenshots',\n",
       " 'account',\n",
       " 'woman',\n",
       " 'claimed',\n",
       " 'assaulted',\n",
       " 'supervisor',\n",
       " 'business',\n",
       " 'trip',\n",
       " 'Jinan',\n",
       " 'city',\n",
       " 'eastern',\n",
       " 'China',\n",
       " 'says',\n",
       " 'drunk',\n",
       " 'male',\n",
       " 'leader',\n",
       " 'even',\n",
       " 'entered',\n",
       " 'hotel',\n",
       " 'room',\n",
       " 'four',\n",
       " 'times',\n",
       " 'night',\n",
       " 'condom',\n",
       " 'assaulted',\n",
       " 'typed',\n",
       " 'lines',\n",
       " 'could',\n",
       " 'control',\n",
       " 'broke',\n",
       " 'tears',\n",
       " 'never',\n",
       " 'thought',\n",
       " 'would',\n",
       " 'experience',\n",
       " 'wrote',\n",
       " 'think',\n",
       " 'feels',\n",
       " 'like',\n",
       " 'nightmare',\n",
       " 'one',\n",
       " 'makes',\n",
       " 'terrified',\n",
       " 'scared',\n",
       " 'helpless',\n",
       " 'helpless',\n",
       " 'nightmare',\n",
       " 'CNN',\n",
       " 'Business',\n",
       " 'confirm',\n",
       " 'authenticity',\n",
       " 'post',\n",
       " 'post',\n",
       " 'exploded',\n",
       " 'Chinese',\n",
       " 'social',\n",
       " 'media',\n",
       " 'Topics',\n",
       " 'related',\n",
       " 'incident',\n",
       " 'viewed',\n",
       " 'million',\n",
       " 'times',\n",
       " 'Weibo',\n",
       " 'generating',\n",
       " 'discussion',\n",
       " 'posts',\n",
       " 'commenters',\n",
       " 'accused',\n",
       " 'Alibaba',\n",
       " 'failing',\n",
       " 'protect',\n",
       " 'rights',\n",
       " 'employees',\n",
       " 'woman',\n",
       " 'allegedly',\n",
       " 'claimed',\n",
       " 'company',\n",
       " 'brushed',\n",
       " 'concerns',\n",
       " 'reported',\n",
       " 'come',\n",
       " 'still',\n",
       " 'female',\n",
       " 'employees',\n",
       " 'pushed',\n",
       " 'pressured',\n",
       " 'leaders',\n",
       " 'drink',\n",
       " 'violated',\n",
       " 'Alibaba',\n",
       " 'culture',\n",
       " 'wrote',\n",
       " 'one',\n",
       " 'Weibo',\n",
       " 'user',\n",
       " 'really',\n",
       " 'hope',\n",
       " 'results',\n",
       " 'investigation',\n",
       " 'become',\n",
       " 'clear',\n",
       " 'soon',\n",
       " 'possible',\n",
       " 'large',\n",
       " 'company',\n",
       " 'must',\n",
       " 'protect',\n",
       " 'employees',\n",
       " 'Sunday',\n",
       " 'police',\n",
       " 'Jinan',\n",
       " 'announced',\n",
       " 'Weibo',\n",
       " 'launched',\n",
       " 'probe',\n",
       " 'case',\n",
       " 'police',\n",
       " 'actively',\n",
       " 'investigating',\n",
       " 'matter',\n",
       " 'collecting',\n",
       " 'evidence',\n",
       " 'said',\n",
       " 'statement',\n",
       " 'accused',\n",
       " 'charged',\n",
       " 'crime',\n",
       " 'memo',\n",
       " 'employees',\n",
       " 'Monday',\n",
       " 'Zhang',\n",
       " 'said',\n",
       " 'employee',\n",
       " 'confessed',\n",
       " 'intimate',\n",
       " 'acts',\n",
       " 'woman',\n",
       " 'inebriated',\n",
       " 'violating',\n",
       " 'company',\n",
       " 'policy',\n",
       " 'Whether',\n",
       " 'committed',\n",
       " 'rape',\n",
       " 'indecency',\n",
       " 'violates',\n",
       " 'law',\n",
       " 'determined',\n",
       " 'law',\n",
       " 'enforcement',\n",
       " 'Zhang',\n",
       " 'added',\n",
       " 'memo',\n",
       " 'posted',\n",
       " 'publicly',\n",
       " 'company',\n",
       " 'news',\n",
       " 'website',\n",
       " 'fired',\n",
       " 'never',\n",
       " 'rehired',\n",
       " 'Zhang',\n",
       " 'wrote',\n",
       " 'Two',\n",
       " 'executives',\n",
       " 'including',\n",
       " 'president',\n",
       " 'Alibaba',\n",
       " 'Neighborhood',\n",
       " 'Retail',\n",
       " 'group',\n",
       " 'resigned',\n",
       " 'handling',\n",
       " 'incident',\n",
       " 'according',\n",
       " 'Zhang',\n",
       " 'added',\n",
       " 'woman',\n",
       " 'reported',\n",
       " 'incident',\n",
       " 'company',\n",
       " 'August',\n",
       " 'believe',\n",
       " 'head',\n",
       " 'business',\n",
       " 'owner',\n",
       " 'business',\n",
       " 'team',\n",
       " 'culture',\n",
       " 'Zhang',\n",
       " 'wrote',\n",
       " 'adding',\n",
       " 'woman',\n",
       " 'reported',\n",
       " 'horrendous',\n",
       " 'act',\n",
       " 'make',\n",
       " 'timely',\n",
       " 'decisions',\n",
       " 'took',\n",
       " 'appropriate',\n",
       " 'action',\n",
       " 'incident',\n",
       " 'caused',\n",
       " 'tremendous',\n",
       " 'harm',\n",
       " 'everything',\n",
       " 'take',\n",
       " 'care',\n",
       " 'Zhang',\n",
       " 'wrote',\n",
       " 'Zhang',\n",
       " 'added',\n",
       " 'company',\n",
       " 'chief',\n",
       " 'people',\n",
       " 'officer',\n",
       " 'also',\n",
       " 'reprimanded',\n",
       " 'said',\n",
       " 'company',\n",
       " 'establish',\n",
       " 'dedicated',\n",
       " 'reporting',\n",
       " 'channel',\n",
       " 'employees',\n",
       " 'well',\n",
       " 'create',\n",
       " 'harassment',\n",
       " 'policy',\n",
       " 'include',\n",
       " 'input',\n",
       " 'experts',\n",
       " 'employees',\n",
       " 'Zhang',\n",
       " 'also',\n",
       " 'acknowledged',\n",
       " 'incident',\n",
       " 'highlights',\n",
       " 'called',\n",
       " 'culture',\n",
       " 'forced',\n",
       " 'drinking',\n",
       " 'referring',\n",
       " 'events',\n",
       " 'popular',\n",
       " 'China',\n",
       " 'secure',\n",
       " 'business',\n",
       " 'deals',\n",
       " 'build',\n",
       " 'partnerships',\n",
       " 'Although',\n",
       " 'police',\n",
       " 'still',\n",
       " 'investigating',\n",
       " 'specific',\n",
       " 'circumstances',\n",
       " 'dinner',\n",
       " 'day',\n",
       " 'staunchly',\n",
       " 'opposed',\n",
       " 'ugly',\n",
       " 'forced',\n",
       " 'drinking',\n",
       " 'culture',\n",
       " 'wrote',\n",
       " 'Regardless',\n",
       " 'gender',\n",
       " 'whether',\n",
       " 'request',\n",
       " 'made',\n",
       " 'customer',\n",
       " 'supervisor',\n",
       " 'employees',\n",
       " 'empowered',\n",
       " 'reject',\n",
       " 'scandal',\n",
       " 'rapid',\n",
       " 'spread',\n",
       " 'social',\n",
       " 'media',\n",
       " 'along',\n",
       " 'public',\n",
       " 'outrage',\n",
       " 'ensued',\n",
       " 'comes',\n",
       " 'major',\n",
       " 'firms',\n",
       " 'including',\n",
       " 'Alibaba',\n",
       " 'faced',\n",
       " 'huge',\n",
       " 'regulatory',\n",
       " 'pressure',\n",
       " 'President',\n",
       " 'Xi',\n",
       " 'Jinping',\n",
       " 'increasingly',\n",
       " 'emphasizes',\n",
       " 'ruling',\n",
       " 'Communist',\n",
       " 'Party',\n",
       " 'dominant',\n",
       " 'role',\n",
       " 'every',\n",
       " 'aspect',\n",
       " 'China',\n",
       " 'economy',\n",
       " 'society',\n",
       " 'regulators',\n",
       " 'targeted',\n",
       " 'tech',\n",
       " 'education',\n",
       " 'businesses',\n",
       " 'fines',\n",
       " 'restrictions',\n",
       " 'Complaints',\n",
       " 'work',\n",
       " 'culture',\n",
       " 'play',\n",
       " 'scrutiny',\n",
       " 'Pinduoduo',\n",
       " 'firm',\n",
       " 'rival',\n",
       " 'Alibaba',\n",
       " 'faced',\n",
       " 'intense',\n",
       " 'public',\n",
       " 'backlash',\n",
       " 'earlier',\n",
       " 'year',\n",
       " 'accusations',\n",
       " 'overworks',\n",
       " 'employees',\n",
       " 'two',\n",
       " 'employees',\n",
       " 'died',\n",
       " 'unexpectedly',\n",
       " 'including',\n",
       " 'man',\n",
       " 'died',\n",
       " 'suicide',\n",
       " 'Chinese',\n",
       " 'social',\n",
       " 'media',\n",
       " 'users',\n",
       " 'started',\n",
       " 'calling',\n",
       " 'deaths',\n",
       " 'emblematic',\n",
       " 'troublesome',\n",
       " 'work',\n",
       " 'culture',\n",
       " 'former',\n",
       " 'software',\n",
       " 'engineer',\n",
       " 'company',\n",
       " 'escalated',\n",
       " 'criticisms',\n",
       " 'several',\n",
       " 'posts',\n",
       " 'accused',\n",
       " 'company',\n",
       " 'overworking',\n",
       " 'employees',\n",
       " 'company',\n",
       " 'respond',\n",
       " 'time',\n",
       " 'questions',\n",
       " 'allegations',\n",
       " 'made',\n",
       " 'work',\n",
       " 'culture',\n",
       " 'say',\n",
       " 'set',\n",
       " 'team',\n",
       " 'provide',\n",
       " 'psychological',\n",
       " 'counseling',\n",
       " 'following',\n",
       " 'suicide',\n",
       " 'worker']"
      ]
     },
     "execution_count": 41,
     "metadata": {},
     "output_type": "execute_result"
    }
   ],
   "source": [
    "words_from_text =[]\n",
    "for w in tokens:\n",
    "    if w.lower() not in stopwords.words('english') and w.lower().isalpha():\n",
    "        words_from_text.append(w)\n",
    "words_from_text"
   ]
  },
  {
   "cell_type": "code",
   "execution_count": 42,
   "metadata": {},
   "outputs": [],
   "source": [
    "freq_words = nltk.FreqDist(words_from_text)"
   ]
  },
  {
   "cell_type": "code",
   "execution_count": 43,
   "metadata": {},
   "outputs": [
    {
     "data": {
      "text/plain": [
       "FreqDist({'company': 14, 'employees': 13, 'Alibaba': 12, 'Zhang': 10, 'culture': 7, 'woman': 6, 'Chinese': 6, 'wrote': 6, 'said': 5, 'social': 5, ...})"
      ]
     },
     "execution_count": 43,
     "metadata": {},
     "output_type": "execute_result"
    }
   ],
   "source": [
    "freq_words"
   ]
  },
  {
   "cell_type": "code",
   "execution_count": 49,
   "metadata": {},
   "outputs": [],
   "source": [
    "sentences = sent_tokenize(text)"
   ]
  },
  {
   "cell_type": "markdown",
   "metadata": {},
   "source": [
    "###  Results"
   ]
  },
  {
   "cell_type": "markdown",
   "metadata": {},
   "source": [
    "### Limitations and Future Work  (Optional)"
   ]
  },
  {
   "cell_type": "markdown",
   "metadata": {},
   "source": [
    "### Conclusion"
   ]
  },
  {
   "cell_type": "markdown",
   "metadata": {},
   "source": [
    "### References\n",
    "\n",
    "https://arxiv.org/pdf/2107.14681.pdf\n",
    "\n",
    "\n",
    "https://ocw.mit.edu/courses/biological-engineering/20-109-laboratory-fundamentals-in-biological-engineering-fall-2007/assignments/sci_writing_guid.pdf\n",
    "\n",
    "https://tjzhifei.github.io/resources/NLTK.pdf"
   ]
  },
  {
   "cell_type": "code",
   "execution_count": 45,
   "metadata": {},
   "outputs": [],
   "source": [
    "# fdist1 = FreqDist(text1)\n",
    "\n",
    "# commons = fdist1.most_common(200)\n",
    "# commons = commons[-20:] \n",
    "# plt.figure(figsize=(20, 10))\n",
    "# plt.bar([word[0] for word in commons], [word[1] for word in commons])\n",
    "\n",
    "# plt.show()"
   ]
  }
 ],
 "metadata": {
  "kernelspec": {
   "display_name": "Python 3",
   "language": "python",
   "name": "python3"
  },
  "language_info": {
   "codemirror_mode": {
    "name": "ipython",
    "version": 3
   },
   "file_extension": ".py",
   "mimetype": "text/x-python",
   "name": "python",
   "nbconvert_exporter": "python",
   "pygments_lexer": "ipython3",
   "version": "3.8.5"
  }
 },
 "nbformat": 4,
 "nbformat_minor": 4
}
